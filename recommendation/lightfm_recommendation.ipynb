{
    "cells": [
        {
            "cell_type": "markdown",
            "metadata": {},
            "source": [
                "### 2.1 Import libraries"
            ]
        },
        {
            "cell_type": "code",
            "execution_count": 2,
            "metadata": {},
            "outputs": [],
            "source": [
                "import os\n",
                "import sys\n",
                "import itertools\n",
                "import pandas as pd\n",
                "import numpy as np\n",
                "import matplotlib.pyplot as plt\n",
                "import seaborn as sns\n",
                "\n",
                "import scipy\n",
                "import numpy as np\n",
                "import pandas as pd\n",
                "from lightfm import LightFM\n",
                "from lightfm.data import Dataset\n",
                "from lightfm.evaluation import precision_at_k, recall_at_k\n",
                "from lightfm.cross_validation import random_train_test_split\n",
                "from sklearn.metrics.pairwise import cosine_similarity\n",
                "from sklearn.feature_extraction.text import CountVectorizer\n",
                "from lightfm import cross_validation"
            ]
        },
        {
            "cell_type": "markdown",
            "metadata": {},
            "source": [
                "### 2.2 Defining variables"
            ]
        },
        {
            "cell_type": "code",
            "execution_count": 3,
            "metadata": {
                "tags": [
                    "parameters"
                ]
            },
            "outputs": [],
            "source": [
                "# Select MovieLens data size\n",
                "MOVIELENS_DATA_SIZE = '100k'\n",
                "\n",
                "# default number of recommendations\n",
                "K = 10\n",
                "# percentage of data used for testing\n",
                "TEST_PERCENTAGE = 0.25\n",
                "# model learning rate\n",
                "LEARNING_RATE = 0.25\n",
                "# no of latent factors\n",
                "NO_COMPONENTS = 20\n",
                "# no of epochs to fit model\n",
                "NO_EPOCHS = 20\n",
                "# no of threads to fit model\n",
                "NO_THREADS = 32\n",
                "# regularisation for both user and item features\n",
                "ITEM_ALPHA = 1e-6\n",
                "USER_ALPHA = 1e-6\n",
                "\n",
                "# seed for pseudonumber generations\n",
                "SEED = 42"
            ]
        },
        {
            "cell_type": "markdown",
            "metadata": {},
            "source": [
                "### 2.2 Retrieve data"
            ]
        },
        {
            "cell_type": "code",
            "execution_count": 4,
            "metadata": {},
            "outputs": [],
            "source": [
                "import pandas as pd\n",
                "# path config\n",
                "data_path = '/home/raiane/Documentos/Projetos/tech_challenge_5/data/training_data.csv'\n",
                "df_ratings = pd.read_csv(\n",
                "    data_path)"
            ]
        },
        {
            "cell_type": "code",
            "execution_count": 5,
            "metadata": {},
            "outputs": [
                {
                    "name": "stdout",
                    "output_type": "stream",
                    "text": [
                        "<class 'pandas.core.frame.DataFrame'>\n",
                        "RangeIndex: 1426291 entries, 0 to 1426290\n",
                        "Data columns (total 7 columns):\n",
                        " #   Column                   Non-Null Count    Dtype  \n",
                        "---  ------                   --------------    -----  \n",
                        " 0   Unnamed: 0               1426291 non-null  int64  \n",
                        " 1   userId                   1426291 non-null  int64  \n",
                        " 2   history                  1426291 non-null  object \n",
                        " 3   numberOfClicksHistory    1426291 non-null  int64  \n",
                        " 4   timeOnPageHistory        1426291 non-null  int64  \n",
                        " 5   scrollPercentageHistory  1426291 non-null  float64\n",
                        " 6   pageVisitsCountHistory   1426291 non-null  int64  \n",
                        "dtypes: float64(1), int64(5), object(1)\n",
                        "memory usage: 76.2+ MB\n"
                    ]
                }
            ],
            "source": [
                "df_ratings.info()"
            ]
        },
        {
            "cell_type": "code",
            "execution_count": 6,
            "metadata": {},
            "outputs": [],
            "source": [
                "#considerando apenas noticias com mais de 30 cliques\n",
                "clicks_counts = pd.DataFrame(df_ratings[\"history\"].value_counts())\n",
                "rare_news = clicks_counts[df_ratings[\"history\"].value_counts() <= 1000].index\n",
                "common_news = df_ratings[~df_ratings[\"history\"].isin(rare_news)]"
            ]
        },
        {
            "cell_type": "code",
            "execution_count": 7,
            "metadata": {},
            "outputs": [],
            "source": [
                "unique_historys = common_news.history.unique()"
            ]
        },
        {
            "cell_type": "code",
            "execution_count": 8,
            "metadata": {},
            "outputs": [],
            "source": [
                "import numpy as np\n",
                "\n",
                "hash_dict = dict(enumerate(unique_historys.flatten(), 1))"
            ]
        },
        {
            "cell_type": "code",
            "execution_count": 9,
            "metadata": {},
            "outputs": [
                {
                    "data": {
                        "text/plain": [
                            "{1: 'e3cdb277-ad80-4025-b5de-cd98cc67d23d',\n",
                            " 2: '29b6b142-4173-4ec4-832f-7d0a32255c10',\n",
                            " 3: '1f32787b-de2b-49be-8c20-ddaeae34cc22',\n",
                            " 4: 'a36c98b5-f159-48f8-9f5a-1fc6ea9956c8',\n",
                            " 5: '87b7c93a-809a-4709-8e59-c56b02fec7c2',\n",
                            " 6: '5dff8fb2-73e6-4c22-a34f-c367aa2677df',\n",
                            " 7: '7594da99-d606-4338-a373-710a7dec776a',\n",
                            " 8: 'f4ac3eb5-e145-4685-b9e9-b61f3551aa58',\n",
                            " 9: '9771b0d9-b14a-4908-8932-440b6fe33aeb',\n",
                            " 10: 'e1a89c3a-1649-486f-a964-ecfb33821e77',\n",
                            " 11: '4d89c4b6-6827-4935-9ba1-0502025af270',\n",
                            " 12: '8f28e4d1-c4ab-4ce6-8acf-27726b061aa3',\n",
                            " 13: 'b4a5680b-d0e1-4260-bc54-82fbe328d3a0',\n",
                            " 14: 'a6e7224d-da3e-468f-bc51-26331659e06a',\n",
                            " 15: '949a81ac-5df1-4e7b-9f4e-e364b5603e68',\n",
                            " 16: '57615619-0c1d-41fb-8640-ccec5b3add58',\n",
                            " 17: '750ec729-cd61-4227-85fe-a1e0ebbf7d50',\n",
                            " 18: '13f2cc37-f575-44d5-b33f-045d0b0a912b',\n",
                            " 19: '100ff71c-da18-4182-9672-369324a71bb5',\n",
                            " 20: '15281e10-e6bc-48bc-9b1b-94402f83699b',\n",
                            " 21: '83568c85-7264-4e45-8a2e-eeb246118465',\n",
                            " 22: 'cb324527-6a66-491d-b53c-6a6d7ece566f',\n",
                            " 23: '0b5caeed-ff6f-4b9d-8375-9ad25827a4ae',\n",
                            " 24: '8d477e04-3bab-4ad9-8fe3-799059238a9c',\n",
                            " 25: 'd2593c3d-2347-40d9-948c-b6065e8459a9',\n",
                            " 26: '106e6c31-5aa8-4d21-8d76-2fd90d35dba1',\n",
                            " 27: '6144af8d-bd8e-415b-9cc6-b463c6de4bed',\n",
                            " 28: '3a54bc78-a1f6-4a3c-a1f8-d541597eb6a0',\n",
                            " 29: '362d282e-5d9d-4691-86a6-21bcac0703d7',\n",
                            " 30: 'e5185368-70f8-4998-a738-ca22f300da7b',\n",
                            " 31: '38578b5c-4509-49df-ad79-c62cc914e4a5',\n",
                            " 32: '97ac6c4c-5b3d-4e36-9816-0791226573e5',\n",
                            " 33: '1f2b9c2f-a2d2-4192-b009-09065da8ec23',\n",
                            " 34: 'f0a78e58-ec7e-494c-9462-fbd6446a9a89',\n",
                            " 35: '4e9c2825-ff13-41ca-8e91-edd848060d19',\n",
                            " 36: '8c246d2b-81bd-4c1f-b563-2c905675f984',\n",
                            " 37: '7b056bf6-c232-46bd-8903-59145ff7ce46',\n",
                            " 38: 'ec7dbae8-2ef3-4fa0-8b70-22b425f09f5f',\n",
                            " 39: 'a2ef8430-00b6-49de-852d-2c72596c5917',\n",
                            " 40: 'b954a1b6-d613-4012-8bb5-d60ffb9e94e6',\n",
                            " 41: '7fe849c0-4a55-429d-b480-11ee216909dd',\n",
                            " 42: 'bf257382-74fb-4392-ad6a-143240e39f81',\n",
                            " 43: '426e9777-7ad8-4b0f-98f4-48e8ee96ace5',\n",
                            " 44: 'd173164f-dcfc-4e32-8006-64ab44a57c66',\n",
                            " 45: '598ed114-fd5a-4d82-90d8-f1e893cb0892',\n",
                            " 46: 'd7f17a3c-3885-4b47-95a8-c4204a3698f5',\n",
                            " 47: '68bc8994-ebef-4e48-8478-e7fe1619ae58',\n",
                            " 48: 'c31953bb-c126-47ad-9112-d82f8776db2e',\n",
                            " 49: '21532265-cfd0-4301-a58d-dd615d0189d6',\n",
                            " 50: '96d328b9-5da7-4389-a9ac-765e98971ab7',\n",
                            " 51: 'ecd63535-1875-4f84-b7c1-3aabcadd316f',\n",
                            " 52: 'e63ef205-d49a-4cd6-ac85-059535e3d68c',\n",
                            " 53: '882e7c95-935a-4eab-9ece-f85f5f7d0f4e',\n",
                            " 54: '5ecc4b24-ff5d-4f8c-8449-53de3b34d213',\n",
                            " 55: '6a83890a-d9e9-4f6b-a6c6-90d031785bbf',\n",
                            " 56: '1c27cf97-b20c-4e40-b1f1-288b721517b3',\n",
                            " 57: 'bfd7eaa8-9116-4382-b00e-afc35498dbf1',\n",
                            " 58: 'a6ab18ec-e32f-474b-964b-987309c61581',\n",
                            " 59: '5af379e6-1bd1-4cf8-a23c-03266fb77b2c',\n",
                            " 60: 'f6b5d170-48b9-4f8e-88d4-c84b6668f3bd',\n",
                            " 61: '6a64daa7-32ec-4d35-a7ec-f3df800f6d5e',\n",
                            " 62: '116fb46c-a297-4772-8de8-3609409599be',\n",
                            " 63: '229628a2-f8e0-43ca-bac9-f14a161f9124',\n",
                            " 64: '89fa73f0-4341-4de4-bb2a-e429ef96bd43',\n",
                            " 65: '0819b74d-b28a-4702-90a2-9d205dd9fc5e',\n",
                            " 66: 'ad2c51f7-26ff-4f7e-98c8-32462c62874e',\n",
                            " 67: '50028008-aa11-4519-9d75-452c84dd27fb',\n",
                            " 68: '3bd9f24b-cb02-4cc4-b6b7-da5c1389463d',\n",
                            " 69: 'ecc37a22-b730-4e3a-bc87-c3ba3403acbc',\n",
                            " 70: 'c85cb6f6-60e1-4a94-8f8f-6b436bb1d77c',\n",
                            " 71: '66a9efac-fd43-4fd1-9824-c404b08efa5d',\n",
                            " 72: 'bacab81b-4dd0-4047-8d51-a9cb03a8e18e',\n",
                            " 73: '8956c97a-6d85-4d4b-a6f7-6d42c6be97cc',\n",
                            " 74: '62c033c2-103d-4c76-8dbf-19c1cc869ddf',\n",
                            " 75: '3936f6c7-3f6c-4205-8cda-3178160b6cd4',\n",
                            " 76: '4700f517-5c5d-483c-81b7-d77aca04991c',\n",
                            " 77: '7ccdee1e-c91a-4c93-8bca-d671cab1ee1c',\n",
                            " 78: '788b88f5-d957-4152-8a8e-4c8656405b24',\n",
                            " 79: '5f2f1833-d203-486a-ac56-665fc3767018',\n",
                            " 80: '529a23e0-baa8-4824-9554-416ceba464ae',\n",
                            " 81: 'bd4e7054-4043-4acf-9a49-7d883152189d',\n",
                            " 82: 'fdab1161-53cc-433f-8c1f-636130bbaba1',\n",
                            " 83: '54cb252a-78b5-463d-b31f-f54f63d85a29',\n",
                            " 84: '458bf0ec-efb4-4bfd-9446-c80295e6aa87',\n",
                            " 85: 'a8f0cda0-6c9c-45f6-b72a-3c20ba9624ea',\n",
                            " 86: '11e99467-b34d-48e8-a24a-b12a1ff2aeef',\n",
                            " 87: 'c309c7aa-b438-416a-b3a2-bd433614c6ab',\n",
                            " 88: '8e0884e2-50ba-44c0-87b9-d64d913288af',\n",
                            " 89: '3e54b313-2fde-4180-9948-74e889dd9430',\n",
                            " 90: 'd57f0e9a-445b-465d-b757-be4f32e75fb9',\n",
                            " 91: '7f747187-72e4-4791-996b-4518742dc672',\n",
                            " 92: '9929eaae-7536-4dbb-a05d-8261c8df07e6',\n",
                            " 93: '7c076eda-5b41-4b0f-815f-0f6400148b0c',\n",
                            " 94: '4d16a079-ca73-4bb6-b6ce-872bdddf1aa4',\n",
                            " 95: '564f0976-781b-44e7-96c8-7377097d0101',\n",
                            " 96: 'b45d3be3-1172-4a62-8b29-a7c0faba7124',\n",
                            " 97: '9c8465e1-65d5-44d6-817e-a8657d38fd32',\n",
                            " 98: '1045a19a-a686-47b8-aa54-33c1063613d6',\n",
                            " 99: 'c4a64d0d-09b8-4f82-8e32-4d2ec6067226',\n",
                            " 100: '83ebda93-e1cf-422d-ae6b-18298c55ed8e',\n",
                            " 101: '69cdf5cb-1f8c-44aa-a28e-030d8dddca89',\n",
                            " 102: '914fe264-109c-4d4d-8f18-052785666a24',\n",
                            " 103: 'bd1bc41b-79a2-4b09-9ca1-b1e26805810c',\n",
                            " 104: '46726d44-b83a-4f34-bb8b-738f4205af48',\n",
                            " 105: '553fada2-1c79-48f2-9010-f5c751b63bb1',\n",
                            " 106: 'b0803304-62b4-4428-a333-e9bf623c8a98',\n",
                            " 107: 'e384ec29-136e-4241-9321-49b367b8cbd5',\n",
                            " 108: '7c3fbe06-7d31-49b6-986f-3be196b84687',\n",
                            " 109: '1c6341f3-ca86-4f0a-ba3c-5f2ecc924bc3',\n",
                            " 110: '5af99ef3-adff-464d-9976-5c5d6391b014',\n",
                            " 111: '4c63d7cd-4902-4ffb-9b94-578b1b2151f0',\n",
                            " 112: '855d20b7-53f2-4678-a10f-55402d085018',\n",
                            " 113: '2c8d0162-7a7c-420b-ac35-1f7f1e9f7ba4',\n",
                            " 114: 'e93f13f3-466e-4a34-8cb3-09460b909d29',\n",
                            " 115: '1a3641be-fa6a-4d72-a5eb-9069686a88ee',\n",
                            " 116: '82206221-05a0-4f89-aa10-e8c8dc0cc418',\n",
                            " 117: '60d611ba-5bdf-41f3-b1cf-0f712879397a',\n",
                            " 118: '0baa8cd7-1eef-4960-aeb4-4128e58efba3',\n",
                            " 119: '0305a46a-fe62-4666-9742-f5fe5db890ab',\n",
                            " 120: '6c04dc83-e523-4a23-9329-5499a899392c',\n",
                            " 121: '09092757-a6a5-49e6-b2b4-a59856c6ea81',\n",
                            " 122: 'e22473a3-7a8a-46cb-8c86-1bda7a5c70de',\n",
                            " 123: 'b79a9385-ab79-4949-a953-2320bfb28bc0',\n",
                            " 124: 'bf44b8ea-c737-4eec-a51b-01006202f303',\n",
                            " 125: '3137f551-87d2-48b6-82bf-48b2bf11e643',\n",
                            " 126: 'b2a21491-7576-4be0-a520-97ce9470efeb',\n",
                            " 127: '230d19cf-28f8-459a-ad3a-da60aa640639',\n",
                            " 128: '91dd61bf-7c49-4276-bba6-1db2804921a9',\n",
                            " 129: 'a9c454c8-9493-4622-a499-43d20c525f81',\n",
                            " 130: '06294fd4-5d1e-498f-9a46-b0631ebcb60e',\n",
                            " 131: '756f1fd7-703f-4ba3-ac49-a7c9bff1b1ec',\n",
                            " 132: 'ca35decb-6955-44b5-b2fa-eb4529c3cb5c',\n",
                            " 133: '84c68fc4-68d9-4987-b740-2e32d30f7069',\n",
                            " 134: 'dccce65b-8982-46e1-afcb-01db956e2cd6',\n",
                            " 135: 'ff3e8c61-d72a-42bf-a84a-ecf5409468dd',\n",
                            " 136: '07b5ae90-4161-4463-945e-41a48fdced21',\n",
                            " 137: 'c041f6d7-df78-40ee-8832-6772a0db14bb',\n",
                            " 138: 'b7f30490-0b67-4ccc-b032-1eeeb179b464',\n",
                            " 139: 'd57cd3fc-5185-4b29-8a85-c2f04bf6921c',\n",
                            " 140: '58c69cde-570a-4558-bca6-987480110522',\n",
                            " 141: '8ce81c16-71ad-4eb4-88dc-d6a85c49dbff',\n",
                            " 142: '61e07f64-cddf-46f2-b50c-ea0a39c22050',\n",
                            " 143: '286428b0-dd16-46e6-8189-2908a23967ea',\n",
                            " 144: '9c989bd5-2987-451b-a4af-1143e774f2a0',\n",
                            " 145: '5b90df37-0b8b-44d6-abdb-6fad31217c26',\n",
                            " 146: '62c75a44-c053-4f1f-8cd7-788df09ad65b',\n",
                            " 147: 'dcbcfc8d-6010-41df-a39d-008b0c7bc85d',\n",
                            " 148: '73151e02-dd2a-4509-968e-b9c16ec1c5db',\n",
                            " 149: '50f85bf5-c153-4611-bf35-2f781ae4e234',\n",
                            " 150: '037155f4-4db8-4f07-8d0a-3e559605b8ad',\n",
                            " 151: '4a108326-b19d-42ce-94f6-807abf6e4679',\n",
                            " 152: '4e73dd4e-0e2b-4a11-8f5b-658619b08027',\n",
                            " 153: '1a732119-0975-4bc2-8077-cb2ae8d249af',\n",
                            " 154: '91266575-23d3-4ce6-91b1-5d0ad7c3936d',\n",
                            " 155: 'feee3eb1-d625-4766-9da5-d855ac2f557c',\n",
                            " 156: '5c37a504-0ed8-49c1-a6a9-d237d90664e3',\n",
                            " 157: '8864af44-c4a2-4862-82de-be58579ac4f3',\n",
                            " 158: '279ccbff-f203-4c6d-aa48-83d97f085302',\n",
                            " 159: '9e1b4571-e55d-4a26-8c5a-1ddd6ecf53ba',\n",
                            " 160: '90c1930d-6795-4daf-8efb-635b7ac3dfae',\n",
                            " 161: 'd8e96969-c9d9-4c28-a9a8-403abc1e784a',\n",
                            " 162: '47874b53-ac2e-4ccc-ad5b-6b2669d59340',\n",
                            " 163: 'b3984824-9eea-4ad9-ae37-b07782ecc313',\n",
                            " 164: 'fd3c2179-09b0-4b2c-96a9-2d8822f28851',\n",
                            " 165: '9d598d19-d6be-4c7e-a963-b8fedfa8f24f',\n",
                            " 166: 'd6d7696e-9bd3-4cb4-9cbd-9e58b9656bd4',\n",
                            " 167: '2008f497-c05f-49e0-88dd-86aa1e395f15',\n",
                            " 168: '224d8516-f349-4d8a-9e73-e3ca1c47a992',\n",
                            " 169: 'd8b6f5a1-2f96-4d02-a78f-dbe1c87946f8',\n",
                            " 170: '33b8607c-f4aa-4379-a18d-f7dddd2dd52e',\n",
                            " 171: '4e163060-2488-4627-a8ba-bbfc54a4d57d',\n",
                            " 172: '78f442cc-1fb3-4bf0-a9c7-ab6cf5a73526',\n",
                            " 173: '83cf1546-5235-491f-ae0c-90949a2ab3c2',\n",
                            " 174: '7a01fdb1-c5c0-4833-a252-8593f91eed3d',\n",
                            " 175: 'ece7f38e-1744-4885-83d9-2ffb89e40b11',\n",
                            " 176: 'ae6ab95e-0c43-4be4-8748-3eef5711fd10'}"
                        ]
                    },
                    "execution_count": 9,
                    "metadata": {},
                    "output_type": "execute_result"
                }
            ],
            "source": [
                "hash_dict"
            ]
        },
        {
            "cell_type": "code",
            "execution_count": 10,
            "metadata": {},
            "outputs": [],
            "source": [
                "inv_map = {v: k for k, v in hash_dict.items()}"
            ]
        },
        {
            "cell_type": "code",
            "execution_count": 11,
            "metadata": {},
            "outputs": [
                {
                    "data": {
                        "text/plain": [
                            "{'e3cdb277-ad80-4025-b5de-cd98cc67d23d': 1,\n",
                            " '29b6b142-4173-4ec4-832f-7d0a32255c10': 2,\n",
                            " '1f32787b-de2b-49be-8c20-ddaeae34cc22': 3,\n",
                            " 'a36c98b5-f159-48f8-9f5a-1fc6ea9956c8': 4,\n",
                            " '87b7c93a-809a-4709-8e59-c56b02fec7c2': 5,\n",
                            " '5dff8fb2-73e6-4c22-a34f-c367aa2677df': 6,\n",
                            " '7594da99-d606-4338-a373-710a7dec776a': 7,\n",
                            " 'f4ac3eb5-e145-4685-b9e9-b61f3551aa58': 8,\n",
                            " '9771b0d9-b14a-4908-8932-440b6fe33aeb': 9,\n",
                            " 'e1a89c3a-1649-486f-a964-ecfb33821e77': 10,\n",
                            " '4d89c4b6-6827-4935-9ba1-0502025af270': 11,\n",
                            " '8f28e4d1-c4ab-4ce6-8acf-27726b061aa3': 12,\n",
                            " 'b4a5680b-d0e1-4260-bc54-82fbe328d3a0': 13,\n",
                            " 'a6e7224d-da3e-468f-bc51-26331659e06a': 14,\n",
                            " '949a81ac-5df1-4e7b-9f4e-e364b5603e68': 15,\n",
                            " '57615619-0c1d-41fb-8640-ccec5b3add58': 16,\n",
                            " '750ec729-cd61-4227-85fe-a1e0ebbf7d50': 17,\n",
                            " '13f2cc37-f575-44d5-b33f-045d0b0a912b': 18,\n",
                            " '100ff71c-da18-4182-9672-369324a71bb5': 19,\n",
                            " '15281e10-e6bc-48bc-9b1b-94402f83699b': 20,\n",
                            " '83568c85-7264-4e45-8a2e-eeb246118465': 21,\n",
                            " 'cb324527-6a66-491d-b53c-6a6d7ece566f': 22,\n",
                            " '0b5caeed-ff6f-4b9d-8375-9ad25827a4ae': 23,\n",
                            " '8d477e04-3bab-4ad9-8fe3-799059238a9c': 24,\n",
                            " 'd2593c3d-2347-40d9-948c-b6065e8459a9': 25,\n",
                            " '106e6c31-5aa8-4d21-8d76-2fd90d35dba1': 26,\n",
                            " '6144af8d-bd8e-415b-9cc6-b463c6de4bed': 27,\n",
                            " '3a54bc78-a1f6-4a3c-a1f8-d541597eb6a0': 28,\n",
                            " '362d282e-5d9d-4691-86a6-21bcac0703d7': 29,\n",
                            " 'e5185368-70f8-4998-a738-ca22f300da7b': 30,\n",
                            " '38578b5c-4509-49df-ad79-c62cc914e4a5': 31,\n",
                            " '97ac6c4c-5b3d-4e36-9816-0791226573e5': 32,\n",
                            " '1f2b9c2f-a2d2-4192-b009-09065da8ec23': 33,\n",
                            " 'f0a78e58-ec7e-494c-9462-fbd6446a9a89': 34,\n",
                            " '4e9c2825-ff13-41ca-8e91-edd848060d19': 35,\n",
                            " '8c246d2b-81bd-4c1f-b563-2c905675f984': 36,\n",
                            " '7b056bf6-c232-46bd-8903-59145ff7ce46': 37,\n",
                            " 'ec7dbae8-2ef3-4fa0-8b70-22b425f09f5f': 38,\n",
                            " 'a2ef8430-00b6-49de-852d-2c72596c5917': 39,\n",
                            " 'b954a1b6-d613-4012-8bb5-d60ffb9e94e6': 40,\n",
                            " '7fe849c0-4a55-429d-b480-11ee216909dd': 41,\n",
                            " 'bf257382-74fb-4392-ad6a-143240e39f81': 42,\n",
                            " '426e9777-7ad8-4b0f-98f4-48e8ee96ace5': 43,\n",
                            " 'd173164f-dcfc-4e32-8006-64ab44a57c66': 44,\n",
                            " '598ed114-fd5a-4d82-90d8-f1e893cb0892': 45,\n",
                            " 'd7f17a3c-3885-4b47-95a8-c4204a3698f5': 46,\n",
                            " '68bc8994-ebef-4e48-8478-e7fe1619ae58': 47,\n",
                            " 'c31953bb-c126-47ad-9112-d82f8776db2e': 48,\n",
                            " '21532265-cfd0-4301-a58d-dd615d0189d6': 49,\n",
                            " '96d328b9-5da7-4389-a9ac-765e98971ab7': 50,\n",
                            " 'ecd63535-1875-4f84-b7c1-3aabcadd316f': 51,\n",
                            " 'e63ef205-d49a-4cd6-ac85-059535e3d68c': 52,\n",
                            " '882e7c95-935a-4eab-9ece-f85f5f7d0f4e': 53,\n",
                            " '5ecc4b24-ff5d-4f8c-8449-53de3b34d213': 54,\n",
                            " '6a83890a-d9e9-4f6b-a6c6-90d031785bbf': 55,\n",
                            " '1c27cf97-b20c-4e40-b1f1-288b721517b3': 56,\n",
                            " 'bfd7eaa8-9116-4382-b00e-afc35498dbf1': 57,\n",
                            " 'a6ab18ec-e32f-474b-964b-987309c61581': 58,\n",
                            " '5af379e6-1bd1-4cf8-a23c-03266fb77b2c': 59,\n",
                            " 'f6b5d170-48b9-4f8e-88d4-c84b6668f3bd': 60,\n",
                            " '6a64daa7-32ec-4d35-a7ec-f3df800f6d5e': 61,\n",
                            " '116fb46c-a297-4772-8de8-3609409599be': 62,\n",
                            " '229628a2-f8e0-43ca-bac9-f14a161f9124': 63,\n",
                            " '89fa73f0-4341-4de4-bb2a-e429ef96bd43': 64,\n",
                            " '0819b74d-b28a-4702-90a2-9d205dd9fc5e': 65,\n",
                            " 'ad2c51f7-26ff-4f7e-98c8-32462c62874e': 66,\n",
                            " '50028008-aa11-4519-9d75-452c84dd27fb': 67,\n",
                            " '3bd9f24b-cb02-4cc4-b6b7-da5c1389463d': 68,\n",
                            " 'ecc37a22-b730-4e3a-bc87-c3ba3403acbc': 69,\n",
                            " 'c85cb6f6-60e1-4a94-8f8f-6b436bb1d77c': 70,\n",
                            " '66a9efac-fd43-4fd1-9824-c404b08efa5d': 71,\n",
                            " 'bacab81b-4dd0-4047-8d51-a9cb03a8e18e': 72,\n",
                            " '8956c97a-6d85-4d4b-a6f7-6d42c6be97cc': 73,\n",
                            " '62c033c2-103d-4c76-8dbf-19c1cc869ddf': 74,\n",
                            " '3936f6c7-3f6c-4205-8cda-3178160b6cd4': 75,\n",
                            " '4700f517-5c5d-483c-81b7-d77aca04991c': 76,\n",
                            " '7ccdee1e-c91a-4c93-8bca-d671cab1ee1c': 77,\n",
                            " '788b88f5-d957-4152-8a8e-4c8656405b24': 78,\n",
                            " '5f2f1833-d203-486a-ac56-665fc3767018': 79,\n",
                            " '529a23e0-baa8-4824-9554-416ceba464ae': 80,\n",
                            " 'bd4e7054-4043-4acf-9a49-7d883152189d': 81,\n",
                            " 'fdab1161-53cc-433f-8c1f-636130bbaba1': 82,\n",
                            " '54cb252a-78b5-463d-b31f-f54f63d85a29': 83,\n",
                            " '458bf0ec-efb4-4bfd-9446-c80295e6aa87': 84,\n",
                            " 'a8f0cda0-6c9c-45f6-b72a-3c20ba9624ea': 85,\n",
                            " '11e99467-b34d-48e8-a24a-b12a1ff2aeef': 86,\n",
                            " 'c309c7aa-b438-416a-b3a2-bd433614c6ab': 87,\n",
                            " '8e0884e2-50ba-44c0-87b9-d64d913288af': 88,\n",
                            " '3e54b313-2fde-4180-9948-74e889dd9430': 89,\n",
                            " 'd57f0e9a-445b-465d-b757-be4f32e75fb9': 90,\n",
                            " '7f747187-72e4-4791-996b-4518742dc672': 91,\n",
                            " '9929eaae-7536-4dbb-a05d-8261c8df07e6': 92,\n",
                            " '7c076eda-5b41-4b0f-815f-0f6400148b0c': 93,\n",
                            " '4d16a079-ca73-4bb6-b6ce-872bdddf1aa4': 94,\n",
                            " '564f0976-781b-44e7-96c8-7377097d0101': 95,\n",
                            " 'b45d3be3-1172-4a62-8b29-a7c0faba7124': 96,\n",
                            " '9c8465e1-65d5-44d6-817e-a8657d38fd32': 97,\n",
                            " '1045a19a-a686-47b8-aa54-33c1063613d6': 98,\n",
                            " 'c4a64d0d-09b8-4f82-8e32-4d2ec6067226': 99,\n",
                            " '83ebda93-e1cf-422d-ae6b-18298c55ed8e': 100,\n",
                            " '69cdf5cb-1f8c-44aa-a28e-030d8dddca89': 101,\n",
                            " '914fe264-109c-4d4d-8f18-052785666a24': 102,\n",
                            " 'bd1bc41b-79a2-4b09-9ca1-b1e26805810c': 103,\n",
                            " '46726d44-b83a-4f34-bb8b-738f4205af48': 104,\n",
                            " '553fada2-1c79-48f2-9010-f5c751b63bb1': 105,\n",
                            " 'b0803304-62b4-4428-a333-e9bf623c8a98': 106,\n",
                            " 'e384ec29-136e-4241-9321-49b367b8cbd5': 107,\n",
                            " '7c3fbe06-7d31-49b6-986f-3be196b84687': 108,\n",
                            " '1c6341f3-ca86-4f0a-ba3c-5f2ecc924bc3': 109,\n",
                            " '5af99ef3-adff-464d-9976-5c5d6391b014': 110,\n",
                            " '4c63d7cd-4902-4ffb-9b94-578b1b2151f0': 111,\n",
                            " '855d20b7-53f2-4678-a10f-55402d085018': 112,\n",
                            " '2c8d0162-7a7c-420b-ac35-1f7f1e9f7ba4': 113,\n",
                            " 'e93f13f3-466e-4a34-8cb3-09460b909d29': 114,\n",
                            " '1a3641be-fa6a-4d72-a5eb-9069686a88ee': 115,\n",
                            " '82206221-05a0-4f89-aa10-e8c8dc0cc418': 116,\n",
                            " '60d611ba-5bdf-41f3-b1cf-0f712879397a': 117,\n",
                            " '0baa8cd7-1eef-4960-aeb4-4128e58efba3': 118,\n",
                            " '0305a46a-fe62-4666-9742-f5fe5db890ab': 119,\n",
                            " '6c04dc83-e523-4a23-9329-5499a899392c': 120,\n",
                            " '09092757-a6a5-49e6-b2b4-a59856c6ea81': 121,\n",
                            " 'e22473a3-7a8a-46cb-8c86-1bda7a5c70de': 122,\n",
                            " 'b79a9385-ab79-4949-a953-2320bfb28bc0': 123,\n",
                            " 'bf44b8ea-c737-4eec-a51b-01006202f303': 124,\n",
                            " '3137f551-87d2-48b6-82bf-48b2bf11e643': 125,\n",
                            " 'b2a21491-7576-4be0-a520-97ce9470efeb': 126,\n",
                            " '230d19cf-28f8-459a-ad3a-da60aa640639': 127,\n",
                            " '91dd61bf-7c49-4276-bba6-1db2804921a9': 128,\n",
                            " 'a9c454c8-9493-4622-a499-43d20c525f81': 129,\n",
                            " '06294fd4-5d1e-498f-9a46-b0631ebcb60e': 130,\n",
                            " '756f1fd7-703f-4ba3-ac49-a7c9bff1b1ec': 131,\n",
                            " 'ca35decb-6955-44b5-b2fa-eb4529c3cb5c': 132,\n",
                            " '84c68fc4-68d9-4987-b740-2e32d30f7069': 133,\n",
                            " 'dccce65b-8982-46e1-afcb-01db956e2cd6': 134,\n",
                            " 'ff3e8c61-d72a-42bf-a84a-ecf5409468dd': 135,\n",
                            " '07b5ae90-4161-4463-945e-41a48fdced21': 136,\n",
                            " 'c041f6d7-df78-40ee-8832-6772a0db14bb': 137,\n",
                            " 'b7f30490-0b67-4ccc-b032-1eeeb179b464': 138,\n",
                            " 'd57cd3fc-5185-4b29-8a85-c2f04bf6921c': 139,\n",
                            " '58c69cde-570a-4558-bca6-987480110522': 140,\n",
                            " '8ce81c16-71ad-4eb4-88dc-d6a85c49dbff': 141,\n",
                            " '61e07f64-cddf-46f2-b50c-ea0a39c22050': 142,\n",
                            " '286428b0-dd16-46e6-8189-2908a23967ea': 143,\n",
                            " '9c989bd5-2987-451b-a4af-1143e774f2a0': 144,\n",
                            " '5b90df37-0b8b-44d6-abdb-6fad31217c26': 145,\n",
                            " '62c75a44-c053-4f1f-8cd7-788df09ad65b': 146,\n",
                            " 'dcbcfc8d-6010-41df-a39d-008b0c7bc85d': 147,\n",
                            " '73151e02-dd2a-4509-968e-b9c16ec1c5db': 148,\n",
                            " '50f85bf5-c153-4611-bf35-2f781ae4e234': 149,\n",
                            " '037155f4-4db8-4f07-8d0a-3e559605b8ad': 150,\n",
                            " '4a108326-b19d-42ce-94f6-807abf6e4679': 151,\n",
                            " '4e73dd4e-0e2b-4a11-8f5b-658619b08027': 152,\n",
                            " '1a732119-0975-4bc2-8077-cb2ae8d249af': 153,\n",
                            " '91266575-23d3-4ce6-91b1-5d0ad7c3936d': 154,\n",
                            " 'feee3eb1-d625-4766-9da5-d855ac2f557c': 155,\n",
                            " '5c37a504-0ed8-49c1-a6a9-d237d90664e3': 156,\n",
                            " '8864af44-c4a2-4862-82de-be58579ac4f3': 157,\n",
                            " '279ccbff-f203-4c6d-aa48-83d97f085302': 158,\n",
                            " '9e1b4571-e55d-4a26-8c5a-1ddd6ecf53ba': 159,\n",
                            " '90c1930d-6795-4daf-8efb-635b7ac3dfae': 160,\n",
                            " 'd8e96969-c9d9-4c28-a9a8-403abc1e784a': 161,\n",
                            " '47874b53-ac2e-4ccc-ad5b-6b2669d59340': 162,\n",
                            " 'b3984824-9eea-4ad9-ae37-b07782ecc313': 163,\n",
                            " 'fd3c2179-09b0-4b2c-96a9-2d8822f28851': 164,\n",
                            " '9d598d19-d6be-4c7e-a963-b8fedfa8f24f': 165,\n",
                            " 'd6d7696e-9bd3-4cb4-9cbd-9e58b9656bd4': 166,\n",
                            " '2008f497-c05f-49e0-88dd-86aa1e395f15': 167,\n",
                            " '224d8516-f349-4d8a-9e73-e3ca1c47a992': 168,\n",
                            " 'd8b6f5a1-2f96-4d02-a78f-dbe1c87946f8': 169,\n",
                            " '33b8607c-f4aa-4379-a18d-f7dddd2dd52e': 170,\n",
                            " '4e163060-2488-4627-a8ba-bbfc54a4d57d': 171,\n",
                            " '78f442cc-1fb3-4bf0-a9c7-ab6cf5a73526': 172,\n",
                            " '83cf1546-5235-491f-ae0c-90949a2ab3c2': 173,\n",
                            " '7a01fdb1-c5c0-4833-a252-8593f91eed3d': 174,\n",
                            " 'ece7f38e-1744-4885-83d9-2ffb89e40b11': 175,\n",
                            " 'ae6ab95e-0c43-4be4-8748-3eef5711fd10': 176}"
                        ]
                    },
                    "execution_count": 11,
                    "metadata": {},
                    "output_type": "execute_result"
                }
            ],
            "source": [
                "inv_map"
            ]
        },
        {
            "cell_type": "code",
            "execution_count": 12,
            "metadata": {},
            "outputs": [
                {
                    "name": "stderr",
                    "output_type": "stream",
                    "text": [
                        "/tmp/ipykernel_204827/901461704.py:1: SettingWithCopyWarning: \n",
                        "A value is trying to be set on a copy of a slice from a DataFrame.\n",
                        "Try using .loc[row_indexer,col_indexer] = value instead\n",
                        "\n",
                        "See the caveats in the documentation: https://pandas.pydata.org/pandas-docs/stable/user_guide/indexing.html#returning-a-view-versus-a-copy\n",
                        "  common_news[\"history_number\"] = common_news[\"history\"].map(inv_map)\n"
                    ]
                }
            ],
            "source": [
                "common_news[\"history_number\"] = common_news[\"history\"].map(inv_map)"
            ]
        },
        {
            "cell_type": "code",
            "execution_count": 13,
            "metadata": {},
            "outputs": [],
            "source": [
                "common_news = common_news[[\"userId\",\"history_number\",\"numberOfClicksHistory\"]]"
            ]
        },
        {
            "cell_type": "code",
            "execution_count": 14,
            "metadata": {},
            "outputs": [
                {
                    "data": {
                        "text/html": [
                            "<div>\n",
                            "<style scoped>\n",
                            "    .dataframe tbody tr th:only-of-type {\n",
                            "        vertical-align: middle;\n",
                            "    }\n",
                            "\n",
                            "    .dataframe tbody tr th {\n",
                            "        vertical-align: top;\n",
                            "    }\n",
                            "\n",
                            "    .dataframe thead th {\n",
                            "        text-align: right;\n",
                            "    }\n",
                            "</style>\n",
                            "<table border=\"1\" class=\"dataframe\">\n",
                            "  <thead>\n",
                            "    <tr style=\"text-align: right;\">\n",
                            "      <th></th>\n",
                            "      <th>userId</th>\n",
                            "      <th>history_number</th>\n",
                            "      <th>numberOfClicksHistory</th>\n",
                            "    </tr>\n",
                            "  </thead>\n",
                            "  <tbody>\n",
                            "    <tr>\n",
                            "      <th>33</th>\n",
                            "      <td>1</td>\n",
                            "      <td>1</td>\n",
                            "      <td>16</td>\n",
                            "    </tr>\n",
                            "    <tr>\n",
                            "      <th>64</th>\n",
                            "      <td>2</td>\n",
                            "      <td>2</td>\n",
                            "      <td>0</td>\n",
                            "    </tr>\n",
                            "    <tr>\n",
                            "      <th>66</th>\n",
                            "      <td>2</td>\n",
                            "      <td>3</td>\n",
                            "      <td>0</td>\n",
                            "    </tr>\n",
                            "    <tr>\n",
                            "      <th>71</th>\n",
                            "      <td>2</td>\n",
                            "      <td>4</td>\n",
                            "      <td>2</td>\n",
                            "    </tr>\n",
                            "    <tr>\n",
                            "      <th>75</th>\n",
                            "      <td>2</td>\n",
                            "      <td>5</td>\n",
                            "      <td>0</td>\n",
                            "    </tr>\n",
                            "  </tbody>\n",
                            "</table>\n",
                            "</div>"
                        ],
                        "text/plain": [
                            "    userId  history_number  numberOfClicksHistory\n",
                            "33       1               1                     16\n",
                            "64       2               2                      0\n",
                            "66       2               3                      0\n",
                            "71       2               4                      2\n",
                            "75       2               5                      0"
                        ]
                    },
                    "execution_count": 14,
                    "metadata": {},
                    "output_type": "execute_result"
                }
            ],
            "source": [
                "common_news.head()"
            ]
        },
        {
            "cell_type": "markdown",
            "metadata": {},
            "source": [
                "### 2.3 Prepare data"
            ]
        },
        {
            "cell_type": "markdown",
            "metadata": {},
            "source": [
                "Before fitting the LightFM model, we need to create an instance of `Dataset` which holds the interaction matrix."
            ]
        },
        {
            "cell_type": "code",
            "execution_count": 15,
            "metadata": {},
            "outputs": [],
            "source": [
                "dataset = Dataset()"
            ]
        },
        {
            "cell_type": "markdown",
            "metadata": {},
            "source": [
                "The `fit` method creates the user/item id mappings."
            ]
        },
        {
            "cell_type": "code",
            "execution_count": 16,
            "metadata": {},
            "outputs": [
                {
                    "name": "stdout",
                    "output_type": "stream",
                    "text": [
                        "Num users: 29063, num_topics: 176.\n"
                    ]
                }
            ],
            "source": [
                "dataset.fit(users=common_news['userId'], \n",
                "            items=common_news['history_number'])\n",
                "\n",
                "# quick check to determine the number of unique users and items in the data\n",
                "num_users, num_topics = dataset.interactions_shape()\n",
                "print(f'Num users: {num_users}, num_topics: {num_topics}.')"
            ]
        },
        {
            "cell_type": "markdown",
            "metadata": {},
            "source": [
                "Next is to build the interaction matrix. The `build_interactions` method returns 2 COO sparse matrices, namely the `interactions` and `weights` matrices."
            ]
        },
        {
            "cell_type": "code",
            "execution_count": 17,
            "metadata": {},
            "outputs": [],
            "source": [
                "(interactions, weights) = dataset.build_interactions(common_news.iloc[:, 0:3].values)"
            ]
        },
        {
            "cell_type": "markdown",
            "metadata": {},
            "source": [
                "LightLM works slightly differently compared to other packages as it expects the train and test sets to have same dimension. Therefore the conventional train test split will not work.\n",
                "\n",
                "The package has included the `cross_validation.random_train_test_split` method to split the interaction data and splits it into two disjoint training and test sets. \n",
                "\n",
                "However, note that **it does not validate the interactions in the test set to guarantee all items and users have historical interactions in the training set**. Therefore this may result into a partial cold-start problem in the test set."
            ]
        },
        {
            "cell_type": "code",
            "execution_count": 18,
            "metadata": {},
            "outputs": [],
            "source": [
                "train_interactions, test_interactions = cross_validation.random_train_test_split(\n",
                "    interactions, test_percentage=TEST_PERCENTAGE,\n",
                "    random_state=np.random.RandomState(SEED))"
            ]
        },
        {
            "cell_type": "markdown",
            "metadata": {},
            "source": [
                "Double check the size of both the train and test sets."
            ]
        },
        {
            "cell_type": "code",
            "execution_count": 19,
            "metadata": {},
            "outputs": [
                {
                    "name": "stdout",
                    "output_type": "stream",
                    "text": [
                        "Shape of train interactions: (29063, 176)\n",
                        "Shape of test interactions: (29063, 176)\n"
                    ]
                }
            ],
            "source": [
                "print(f\"Shape of train interactions: {train_interactions.shape}\")\n",
                "print(f\"Shape of test interactions: {test_interactions.shape}\")"
            ]
        },
        {
            "cell_type": "markdown",
            "metadata": {},
            "source": [
                "### 2.4 Fit the LightFM model"
            ]
        },
        {
            "cell_type": "markdown",
            "metadata": {},
            "source": [
                "In this notebook, the LightFM model will be using the weighted Approximate-Rank Pairwise (WARP) as the loss. Further explanation on the topic can be found [here](https://making.lyst.com/lightfm/docs/examples/warp_loss.html#learning-to-rank-using-the-warp-loss).\n",
                "\n",
                "\n",
                "In general, it maximises the rank of positive examples by repeatedly sampling negative examples until a rank violation has been located. This approach is recommended when only positive interactions are present."
            ]
        },
        {
            "cell_type": "code",
            "execution_count": 20,
            "metadata": {
                "scrolled": true
            },
            "outputs": [],
            "source": [
                "model = LightFM(loss='warp', no_components=NO_COMPONENTS, \n",
                "                 learning_rate=LEARNING_RATE,                 \n",
                "                 random_state=np.random.RandomState(SEED))"
            ]
        },
        {
            "cell_type": "markdown",
            "metadata": {},
            "source": [
                "The LightFM model can be fitted with the following code:"
            ]
        },
        {
            "cell_type": "code",
            "execution_count": 21,
            "metadata": {},
            "outputs": [],
            "source": [
                "model.fit(interactions=train_interactions,\n",
                "          epochs=NO_EPOCHS);"
            ]
        },
        {
            "cell_type": "markdown",
            "metadata": {},
            "source": [
                "### 2.4 Evaluate model"
            ]
        },
        {
            "cell_type": "code",
            "execution_count": 22,
            "metadata": {},
            "outputs": [
                {
                    "name": "stdout",
                    "output_type": "stream",
                    "text": [
                        "Collaborative filtering train AUC: 0.94510543\n"
                    ]
                }
            ],
            "source": [
                "# Import the evaluation routines\n",
                "from lightfm.evaluation import auc_score\n",
                "\n",
                "# Compute and print the AUC score\n",
                "train_auc = auc_score(model, train_interactions, num_threads=2).mean()\n",
                "print('Collaborative filtering train AUC: %s' % train_auc)"
            ]
        },
        {
            "cell_type": "code",
            "execution_count": 23,
            "metadata": {},
            "outputs": [
                {
                    "name": "stdout",
                    "output_type": "stream",
                    "text": [
                        "Collaborative filtering test AUC: 0.64607763\n"
                    ]
                }
            ],
            "source": [
                "test_auc = auc_score(model, test_interactions, train_interactions=train_interactions, num_threads=2).mean()\n",
                "print('Collaborative filtering test AUC: %s' % test_auc)"
            ]
        },
        {
            "cell_type": "code",
            "execution_count": 24,
            "metadata": {},
            "outputs": [
                {
                    "name": "stdout",
                    "output_type": "stream",
                    "text": [
                        "Train precision_at_k: 0.30\n",
                        "Test  precision_at_k: 0.03\n",
                        "Train recall_at_k: 0.73\n",
                        "Test  recall_at_k: 0.11\n"
                    ]
                }
            ],
            "source": [
                "# Measure how well it did in the Test period\n",
                "for metric in [precision_at_k, recall_at_k]:\n",
                "    # Get the precision and recall for Train and Test\n",
                "    for data, name in [(train_interactions, \"Train\"), (test_interactions, \"Test \")]:\n",
                "        print(f\"{name} {metric.__name__}: %.2f\" % \n",
                "              metric(model,\n",
                "                         data, \n",
                "                         k=10).mean())\n",
                "        \n",
                "    # # What about for just new-to-user purchases?\n",
                "    # print(f\"Test new {metric.__name__}: %.2f\" % \n",
                "    #       metric(model,\n",
                "    #                  test_new_interactions, \n",
                "    #                  train_interactions=train_interactions, # supress previously bought prods from being recommended\n",
                "    #                  k=10).mean())"
            ]
        },
        {
            "cell_type": "markdown",
            "metadata": {},
            "source": [
                "### 2.5 Make predictions"
            ]
        },
        {
            "cell_type": "code",
            "execution_count": 25,
            "metadata": {},
            "outputs": [
                {
                    "data": {
                        "text/html": [
                            "<div>\n",
                            "<style scoped>\n",
                            "    .dataframe tbody tr th:only-of-type {\n",
                            "        vertical-align: middle;\n",
                            "    }\n",
                            "\n",
                            "    .dataframe tbody tr th {\n",
                            "        vertical-align: top;\n",
                            "    }\n",
                            "\n",
                            "    .dataframe thead th {\n",
                            "        text-align: right;\n",
                            "    }\n",
                            "</style>\n",
                            "<table border=\"1\" class=\"dataframe\">\n",
                            "  <thead>\n",
                            "    <tr style=\"text-align: right;\">\n",
                            "      <th></th>\n",
                            "      <th>0</th>\n",
                            "      <th>1</th>\n",
                            "      <th>2</th>\n",
                            "      <th>3</th>\n",
                            "      <th>4</th>\n",
                            "    </tr>\n",
                            "  </thead>\n",
                            "  <tbody>\n",
                            "    <tr>\n",
                            "      <th>0</th>\n",
                            "      <td>1.894309</td>\n",
                            "      <td>-2.252751</td>\n",
                            "      <td>-2.010876</td>\n",
                            "      <td>-0.799899</td>\n",
                            "      <td>-0.874582</td>\n",
                            "    </tr>\n",
                            "    <tr>\n",
                            "      <th>1</th>\n",
                            "      <td>-12.991467</td>\n",
                            "      <td>-9.249822</td>\n",
                            "      <td>-7.527750</td>\n",
                            "      <td>-11.129276</td>\n",
                            "      <td>-10.997106</td>\n",
                            "    </tr>\n",
                            "    <tr>\n",
                            "      <th>2</th>\n",
                            "      <td>-7.337574</td>\n",
                            "      <td>-4.814159</td>\n",
                            "      <td>-2.835614</td>\n",
                            "      <td>-5.400973</td>\n",
                            "      <td>-6.209405</td>\n",
                            "    </tr>\n",
                            "    <tr>\n",
                            "      <th>3</th>\n",
                            "      <td>-1.952892</td>\n",
                            "      <td>-1.379185</td>\n",
                            "      <td>-0.166378</td>\n",
                            "      <td>-0.697236</td>\n",
                            "      <td>-1.639585</td>\n",
                            "    </tr>\n",
                            "    <tr>\n",
                            "      <th>4</th>\n",
                            "      <td>-1.399175</td>\n",
                            "      <td>-0.521738</td>\n",
                            "      <td>-0.030561</td>\n",
                            "      <td>-0.221206</td>\n",
                            "      <td>-1.033263</td>\n",
                            "    </tr>\n",
                            "  </tbody>\n",
                            "</table>\n",
                            "</div>"
                        ],
                        "text/plain": [
                            "           0         1         2          3          4\n",
                            "0   1.894309 -2.252751 -2.010876  -0.799899  -0.874582\n",
                            "1 -12.991467 -9.249822 -7.527750 -11.129276 -10.997106\n",
                            "2  -7.337574 -4.814159 -2.835614  -5.400973  -6.209405\n",
                            "3  -1.952892 -1.379185 -0.166378  -0.697236  -1.639585\n",
                            "4  -1.399175 -0.521738 -0.030561  -0.221206  -1.033263"
                        ]
                    },
                    "execution_count": 25,
                    "metadata": {},
                    "output_type": "execute_result"
                }
            ],
            "source": [
                "# Create all user and item matrix to get predictions for it\n",
                "n_users, n_items = train_interactions.shape\n",
                "\n",
                "# Force lightFM to create predictions for all users and all items\n",
                "scoring_user_ids = np.concatenate([np.full((n_items, ), i) for i in range(n_users)]) # repeat user ID for number of prods\n",
                "scoring_item_ids = np.concatenate([np.arange(n_items) for i in range(n_users)]) # repeat entire range of item IDs x number of user\n",
                "scores = model.predict(user_ids = scoring_user_ids, \n",
                "                                     item_ids = scoring_item_ids)\n",
                "scores = scores.reshape(-1, n_items) # get 1 row per user\n",
                "recommendations = pd.DataFrame(scores)\n",
                "recommendations.shape\n",
                "\n",
                "# Have a look at the predicted scores for the first 5 users and first 5 items\n",
                "recommendations.iloc[:5,:5] "
            ]
        },
        {
            "cell_type": "code",
            "execution_count": 26,
            "metadata": {},
            "outputs": [],
            "source": [
                "df_news = pd.read_csv(\"../data/noticias.csv\")"
            ]
        },
        {
            "cell_type": "code",
            "execution_count": 27,
            "metadata": {},
            "outputs": [],
            "source": [
                "df_news= df_news.drop(columns=[\"Unnamed: 0\"])"
            ]
        },
        {
            "cell_type": "code",
            "execution_count": 28,
            "metadata": {},
            "outputs": [
                {
                    "name": "stdout",
                    "output_type": "stream",
                    "text": [
                        "User 4\n",
                        "     Recommended:\n",
                        "        Exclusivo: vídeo mostra salto de aluno de paraquedismo que terminou em morte em Boituva\n",
                        "        Voo de Nancy Pelosi pousa em Taiwan, e China fala de 'infração severa' à sua soberania e anuncia ações militares\n",
                        "        Mulher dança no TikTok para comemorar processo trabalhista e leva multa\n",
                        "        Anestesista preso após estupro é réu por erro de diagnóstico; paciente ficou em coma e perdeu dedão\n",
                        "        Ex-assessor de Gabriel Monteiro revelou que vereador fazia sexo na frente da equipe durante o trabalho\n",
                        "User 25\n",
                        "     Recommended:\n",
                        "        Exclusivo: vídeo mostra salto de aluno de paraquedismo que terminou em morte em Boituva\n",
                        "        Flavia Soares, ex-mulher de Jô Soares, lamenta morte do apresentador: 'Amor eterno'\n",
                        "        Voo de Nancy Pelosi pousa em Taiwan, e China fala de 'infração severa' à sua soberania e anuncia ações militares\n",
                        "        Corpo de João Paulo Diniz é levado para São Paulo para ser velado e sepultado\n",
                        "        Vídeo mostra 'prédio de Neymar' balançar em Balneário Camboriú durante passagem de ciclone \n",
                        "User 450\n",
                        "     Recommended:\n",
                        "        \n",
                        "Golpe em idosa: ‘Mata essa velha!’, mandou Rosa para Sabine em ligação, diz delegado\n",
                        "        Esposa de ex-jogador do Corinthians morre após passar mal no velório do marido em Santa Bárbara d'Oeste\n",
                        "        Homem suspeito de manter mulher e os 2 filhos em cárcere privado tinha o apelido de ‘DJ’ por colocar som alto para abafar os gritos da família\n",
                        "        João Paulo Diniz morre aos 58 anos em Paraty\n",
                        "        Brasileiro agride comissária, e voo que ia de São Paulo a Nova York faz pouso não programado; veja imagens\n"
                    ]
                }
            ],
            "source": [
                "def sample_recommendation(model, df_news, user_ids):\n",
                "    \n",
                "\n",
                "    n_users, n_items = train_interactions.shape\n",
                "\n",
                "    for user_id in user_ids:\n",
                "        scores = model.predict(user_id, np.arange(n_items))\n",
                "        top_items = np.vectorize(hash_dict.get)(np.argsort(-scores))\n",
                "        \n",
                "        print(\"User %s\" % user_id)\n",
                "\n",
                "        print(\"     Recommended:\")\n",
                "        \n",
                "        for x in top_items[:5]:\n",
                "            row = df_news[df_news[\"page\"] == x]\n",
                "            print(\"        %s\" % row[\"title\"].values[0])\n",
                "        \n",
                "sample_recommendation(model, df_news, [4, 25, 450]) "
            ]
        },
        {
            "cell_type": "code",
            "execution_count": null,
            "metadata": {},
            "outputs": [],
            "source": [
                "# Predict scores for all users\n",
                "num_users = interactions.shape[0]\n",
                "item_ids = np.arange(interactions.shape[1])\n",
                "\n",
                "# Predict scores for all users and average them\n",
                "average_scores = np.zeros_like(item_ids, dtype=float)\n",
                "for user_id in range(num_users):\n",
                "    average_scores += model.predict(user_id, item_ids)\n",
                "\n",
                "average_scores /= num_users\n",
                "\n",
                "# Recommend top-N items with the highest average scores\n",
                "top_n = 5\n",
                "recommended_items = np.vectorize(hash_dict.get)(np.argsort(-scores))[:top_n]\n",
                "recommended_items_name = []\n",
                "print(recommended_items)\n",
                "for i in recommended_items:\n",
                "    recommended_items_name.append(df_news[df_news[\"page\"] == i][\"title\"].values[0])\n",
                "print(f\"Top {top_n} items for new users: {recommended_items_name}\")\n"
            ]
        },
        {
            "cell_type": "code",
            "execution_count": 31,
            "metadata": {},
            "outputs": [
                {
                    "name": "stdout",
                    "output_type": "stream",
                    "text": [
                        "Model saved to lightfm_model.pkl\n",
                        "Model loaded successfully\n",
                        "User 4\n",
                        "     Recommended:\n",
                        "        Exclusivo: vídeo mostra salto de aluno de paraquedismo que terminou em morte em Boituva\n",
                        "        Voo de Nancy Pelosi pousa em Taiwan, e China fala de 'infração severa' à sua soberania e anuncia ações militares\n",
                        "        Mulher dança no TikTok para comemorar processo trabalhista e leva multa\n",
                        "        Anestesista preso após estupro é réu por erro de diagnóstico; paciente ficou em coma e perdeu dedão\n",
                        "        Ex-assessor de Gabriel Monteiro revelou que vereador fazia sexo na frente da equipe durante o trabalho\n",
                        "User 25\n",
                        "     Recommended:\n",
                        "        Exclusivo: vídeo mostra salto de aluno de paraquedismo que terminou em morte em Boituva\n",
                        "        Flavia Soares, ex-mulher de Jô Soares, lamenta morte do apresentador: 'Amor eterno'\n",
                        "        Voo de Nancy Pelosi pousa em Taiwan, e China fala de 'infração severa' à sua soberania e anuncia ações militares\n",
                        "        Corpo de João Paulo Diniz é levado para São Paulo para ser velado e sepultado\n",
                        "        Vídeo mostra 'prédio de Neymar' balançar em Balneário Camboriú durante passagem de ciclone \n",
                        "User 450\n",
                        "     Recommended:\n",
                        "        \n",
                        "Golpe em idosa: ‘Mata essa velha!’, mandou Rosa para Sabine em ligação, diz delegado\n",
                        "        Esposa de ex-jogador do Corinthians morre após passar mal no velório do marido em Santa Bárbara d'Oeste\n",
                        "        Homem suspeito de manter mulher e os 2 filhos em cárcere privado tinha o apelido de ‘DJ’ por colocar som alto para abafar os gritos da família\n",
                        "        João Paulo Diniz morre aos 58 anos em Paraty\n",
                        "        Brasileiro agride comissária, e voo que ia de São Paulo a Nova York faz pouso não programado; veja imagens\n"
                    ]
                }
            ],
            "source": [
                "import pickle\n",
                "\n",
                "with open('lightfm_model.pkl', 'wb') as f:\n",
                "    pickle.dump(model, f)\n",
                "print(\"Model saved to lightfm_model.pkl\")\n",
                "\n",
                "# Step 2: Load the model\n",
                "with open('lightfm_model.pkl', 'rb') as f:\n",
                "    loaded_model = pickle.load(f)\n",
                "print(\"Model loaded successfully\")\n",
                "\n",
                "sample_recommendation(loaded_model, df_news, [4, 25, 450]) "
            ]
        }
    ],
    "metadata": {
        "kernelspec": {
            "display_name": ".venv",
            "language": "python",
            "name": "python3"
        },
        "language_info": {
            "codemirror_mode": {
                "name": "ipython",
                "version": 3
            },
            "file_extension": ".py",
            "mimetype": "text/x-python",
            "name": "python",
            "nbconvert_exporter": "python",
            "pygments_lexer": "ipython3",
            "version": "3.10.12"
        }
    },
    "nbformat": 4,
    "nbformat_minor": 4
}
