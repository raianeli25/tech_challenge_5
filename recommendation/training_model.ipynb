{
    "cells": [
        {
            "cell_type": "markdown",
            "metadata": {},
            "source": [
                "# Model recommendation with lighfm"
            ]
        },
        {
            "cell_type": "markdown",
            "metadata": {},
            "source": [
                "### Import libraries"
            ]
        },
        {
            "cell_type": "code",
            "execution_count": 1,
            "metadata": {},
            "outputs": [],
            "source": [
                "import os\n",
                "import sys\n",
                "import itertools\n",
                "import pandas as pd\n",
                "import numpy as np\n",
                "import matplotlib.pyplot as plt\n",
                "import seaborn as sns\n",
                "\n",
                "import scipy\n",
                "import numpy as np\n",
                "import pandas as pd\n",
                "from lightfm import LightFM\n",
                "from lightfm.data import Dataset\n",
                "from lightfm.evaluation import precision_at_k, recall_at_k\n",
                "from lightfm.cross_validation import random_train_test_split\n",
                "from sklearn.metrics.pairwise import cosine_similarity\n",
                "from sklearn.feature_extraction.text import CountVectorizer\n",
                "from lightfm import cross_validation\n",
                "import scipy.sparse as sp\n",
                "from scipy import sparse"
            ]
        },
        {
            "cell_type": "markdown",
            "metadata": {},
            "source": [
                "### Defining variables"
            ]
        },
        {
            "cell_type": "code",
            "execution_count": 2,
            "metadata": {},
            "outputs": [],
            "source": [
                "import json\n",
                "\n",
                "with open('config.json', 'r') as f:\n",
                "    config = json.load(f)"
            ]
        },
        {
            "cell_type": "code",
            "execution_count": 3,
            "metadata": {
                "tags": [
                    "parameters"
                ]
            },
            "outputs": [],
            "source": [
                "# percentage of data used for testing\n",
                "TEST_PERCENTAGE = 0.25\n",
                "# model learning rate\n",
                "LEARNING_RATE = 0.25\n",
                "# no of epochs to fit model\n",
                "NO_EPOCHS = 20\n",
                "\n",
                "# seed for pseudonumber generations\n",
                "SEED = 42"
            ]
        },
        {
            "cell_type": "markdown",
            "metadata": {},
            "source": [
                "### Retrieve data"
            ]
        },
        {
            "cell_type": "code",
            "execution_count": 4,
            "metadata": {},
            "outputs": [],
            "source": [
                "import pandas as pd\n",
                "# path config\n",
                "\n",
                "df_ratings = pd.read_csv(config[\"TREATED_TRAIN_CSV\"])"
            ]
        },
        {
            "cell_type": "code",
            "execution_count": 5,
            "metadata": {},
            "outputs": [
                {
                    "name": "stdout",
                    "output_type": "stream",
                    "text": [
                        "<class 'pandas.core.frame.DataFrame'>\n",
                        "RangeIndex: 428361 entries, 0 to 428360\n",
                        "Data columns (total 8 columns):\n",
                        " #   Column                   Non-Null Count   Dtype  \n",
                        "---  ------                   --------------   -----  \n",
                        " 0   Unnamed: 0               428361 non-null  int64  \n",
                        " 1   userId                   428361 non-null  object \n",
                        " 2   history                  428361 non-null  object \n",
                        " 3   numberOfClicksHistory    428361 non-null  int64  \n",
                        " 4   timeOnPageHistory        428361 non-null  int64  \n",
                        " 5   scrollPercentageHistory  428361 non-null  float64\n",
                        " 6   pageVisitsCountHistory   428361 non-null  int64  \n",
                        " 7   userType                 428361 non-null  object \n",
                        "dtypes: float64(1), int64(4), object(3)\n",
                        "memory usage: 26.1+ MB\n"
                    ]
                }
            ],
            "source": [
                "df_ratings.info()"
            ]
        },
        {
            "cell_type": "code",
            "execution_count": 6,
            "metadata": {},
            "outputs": [],
            "source": [
                "#filtrar por noticias\n",
                "clicks_counts = pd.DataFrame(df_ratings[\"history\"].value_counts())\n",
                "rare_news = clicks_counts[df_ratings[\"history\"].value_counts() <= 0].index\n",
                "common_news = df_ratings[~df_ratings[\"history\"].isin(rare_news)]"
            ]
        },
        {
            "cell_type": "code",
            "execution_count": 7,
            "metadata": {},
            "outputs": [
                {
                    "data": {
                        "text/html": [
                            "<div>\n",
                            "<style scoped>\n",
                            "    .dataframe tbody tr th:only-of-type {\n",
                            "        vertical-align: middle;\n",
                            "    }\n",
                            "\n",
                            "    .dataframe tbody tr th {\n",
                            "        vertical-align: top;\n",
                            "    }\n",
                            "\n",
                            "    .dataframe thead th {\n",
                            "        text-align: right;\n",
                            "    }\n",
                            "</style>\n",
                            "<table border=\"1\" class=\"dataframe\">\n",
                            "  <thead>\n",
                            "    <tr style=\"text-align: right;\">\n",
                            "      <th></th>\n",
                            "      <th>Unnamed: 0</th>\n",
                            "      <th>userId</th>\n",
                            "      <th>history</th>\n",
                            "      <th>numberOfClicksHistory</th>\n",
                            "      <th>timeOnPageHistory</th>\n",
                            "      <th>scrollPercentageHistory</th>\n",
                            "      <th>pageVisitsCountHistory</th>\n",
                            "      <th>userType</th>\n",
                            "    </tr>\n",
                            "  </thead>\n",
                            "  <tbody>\n",
                            "    <tr>\n",
                            "      <th>0</th>\n",
                            "      <td>0</td>\n",
                            "      <td>fbb963d61eb8149e7f43b1bd905457ba5e106a830ddc27...</td>\n",
                            "      <td>80aa7bb2-adce-4a55-9711-912c407927a1</td>\n",
                            "      <td>0</td>\n",
                            "      <td>71998</td>\n",
                            "      <td>81.58</td>\n",
                            "      <td>1</td>\n",
                            "      <td>Non-Logged</td>\n",
                            "    </tr>\n",
                            "    <tr>\n",
                            "      <th>1</th>\n",
                            "      <td>1</td>\n",
                            "      <td>fbb963d61eb8149e7f43b1bd905457ba5e106a830ddc27...</td>\n",
                            "      <td>d9e5f15d-b441-4d8b-bee4-462b106d3916</td>\n",
                            "      <td>0</td>\n",
                            "      <td>115232</td>\n",
                            "      <td>73.36</td>\n",
                            "      <td>1</td>\n",
                            "      <td>Non-Logged</td>\n",
                            "    </tr>\n",
                            "    <tr>\n",
                            "      <th>2</th>\n",
                            "      <td>2</td>\n",
                            "      <td>17f1083e6079b0f28f7820a6803583d1c1b405c0718b11...</td>\n",
                            "      <td>19ba89fc-1e06-4c5d-9c57-4a3088dc0511</td>\n",
                            "      <td>68</td>\n",
                            "      <td>131495</td>\n",
                            "      <td>51.74</td>\n",
                            "      <td>1</td>\n",
                            "      <td>Non-Logged</td>\n",
                            "    </tr>\n",
                            "    <tr>\n",
                            "      <th>3</th>\n",
                            "      <td>3</td>\n",
                            "      <td>17f1083e6079b0f28f7820a6803583d1c1b405c0718b11...</td>\n",
                            "      <td>e273dba4-136c-45fb-bdd6-0cc57b13aaf0</td>\n",
                            "      <td>12</td>\n",
                            "      <td>43733</td>\n",
                            "      <td>35.49</td>\n",
                            "      <td>1</td>\n",
                            "      <td>Non-Logged</td>\n",
                            "    </tr>\n",
                            "    <tr>\n",
                            "      <th>4</th>\n",
                            "      <td>4</td>\n",
                            "      <td>528a8d7a2af73101da8d6709c1ec875b449a5a58749a99...</td>\n",
                            "      <td>59a61a8a-cc52-453f-b1cd-2bd019e9d574</td>\n",
                            "      <td>55</td>\n",
                            "      <td>159042</td>\n",
                            "      <td>62.19</td>\n",
                            "      <td>1</td>\n",
                            "      <td>Non-Logged</td>\n",
                            "    </tr>\n",
                            "  </tbody>\n",
                            "</table>\n",
                            "</div>"
                        ],
                        "text/plain": [
                            "   Unnamed: 0                                             userId  \\\n",
                            "0           0  fbb963d61eb8149e7f43b1bd905457ba5e106a830ddc27...   \n",
                            "1           1  fbb963d61eb8149e7f43b1bd905457ba5e106a830ddc27...   \n",
                            "2           2  17f1083e6079b0f28f7820a6803583d1c1b405c0718b11...   \n",
                            "3           3  17f1083e6079b0f28f7820a6803583d1c1b405c0718b11...   \n",
                            "4           4  528a8d7a2af73101da8d6709c1ec875b449a5a58749a99...   \n",
                            "\n",
                            "                                history  numberOfClicksHistory  \\\n",
                            "0  80aa7bb2-adce-4a55-9711-912c407927a1                      0   \n",
                            "1  d9e5f15d-b441-4d8b-bee4-462b106d3916                      0   \n",
                            "2  19ba89fc-1e06-4c5d-9c57-4a3088dc0511                     68   \n",
                            "3  e273dba4-136c-45fb-bdd6-0cc57b13aaf0                     12   \n",
                            "4  59a61a8a-cc52-453f-b1cd-2bd019e9d574                     55   \n",
                            "\n",
                            "   timeOnPageHistory  scrollPercentageHistory  pageVisitsCountHistory  \\\n",
                            "0              71998                    81.58                       1   \n",
                            "1             115232                    73.36                       1   \n",
                            "2             131495                    51.74                       1   \n",
                            "3              43733                    35.49                       1   \n",
                            "4             159042                    62.19                       1   \n",
                            "\n",
                            "     userType  \n",
                            "0  Non-Logged  \n",
                            "1  Non-Logged  \n",
                            "2  Non-Logged  \n",
                            "3  Non-Logged  \n",
                            "4  Non-Logged  "
                        ]
                    },
                    "execution_count": 7,
                    "metadata": {},
                    "output_type": "execute_result"
                }
            ],
            "source": [
                "common_news.head()"
            ]
        },
        {
            "cell_type": "code",
            "execution_count": 8,
            "metadata": {},
            "outputs": [],
            "source": [
                "df_news = pd.read_csv(config[\"DF_ITEMS_CLUSTERED_FEATURES_ADJ\"])"
            ]
        },
        {
            "cell_type": "code",
            "execution_count": 9,
            "metadata": {},
            "outputs": [
                {
                    "data": {
                        "text/html": [
                            "<div>\n",
                            "<style scoped>\n",
                            "    .dataframe tbody tr th:only-of-type {\n",
                            "        vertical-align: middle;\n",
                            "    }\n",
                            "\n",
                            "    .dataframe tbody tr th {\n",
                            "        vertical-align: top;\n",
                            "    }\n",
                            "\n",
                            "    .dataframe thead th {\n",
                            "        text-align: right;\n",
                            "    }\n",
                            "</style>\n",
                            "<table border=\"1\" class=\"dataframe\">\n",
                            "  <thead>\n",
                            "    <tr style=\"text-align: right;\">\n",
                            "      <th></th>\n",
                            "      <th>Unnamed: 0.1</th>\n",
                            "      <th>Unnamed: 0</th>\n",
                            "      <th>page</th>\n",
                            "      <th>url</th>\n",
                            "      <th>issued</th>\n",
                            "      <th>modified</th>\n",
                            "      <th>title</th>\n",
                            "      <th>body</th>\n",
                            "      <th>caption</th>\n",
                            "      <th>cleaned_body</th>\n",
                            "      <th>cleaned_title</th>\n",
                            "      <th>cleaned_caption</th>\n",
                            "      <th>combined_text</th>\n",
                            "      <th>cluster</th>\n",
                            "      <th>word_count</th>\n",
                            "    </tr>\n",
                            "  </thead>\n",
                            "  <tbody>\n",
                            "    <tr>\n",
                            "      <th>0</th>\n",
                            "      <td>0</td>\n",
                            "      <td>0</td>\n",
                            "      <td>7371a9b5-5824-4c57-8704-00a74feebe79</td>\n",
                            "      <td>http://g1.globo.com/al/alagoas/noticia/2018/09...</td>\n",
                            "      <td>2018-09-13 14:52:55+00:00</td>\n",
                            "      <td>2018-09-14 16:14:49+00:00</td>\n",
                            "      <td>Corpo de motorista da Uber é encontrado em can...</td>\n",
                            "      <td>Corpo de motorista de aplicativo desaparecido ...</td>\n",
                            "      <td>Segundo a polícia, Antônio Vitor foi solicitad...</td>\n",
                            "      <td>corpo motorista aplicativo desaparecido encont...</td>\n",
                            "      <td>corpo motorista uber encontrado canavial rotei...</td>\n",
                            "      <td>polícia antônio vitor solicitado corridas desa...</td>\n",
                            "      <td>corpo motorista uber encontrado canavial rotei...</td>\n",
                            "      <td>0</td>\n",
                            "      <td>234</td>\n",
                            "    </tr>\n",
                            "    <tr>\n",
                            "      <th>1</th>\n",
                            "      <td>1</td>\n",
                            "      <td>1</td>\n",
                            "      <td>7a5ea08f-4583-49e2-ba52-a71999443f7b</td>\n",
                            "      <td>http://g1.globo.com/am/amazonas/noticia/detent...</td>\n",
                            "      <td>2018-05-20 20:42:40+00:00</td>\n",
                            "      <td>2018-05-20 20:42:40+00:00</td>\n",
                            "      <td>Detento recapturado após fuga por túnel volta ...</td>\n",
                            "      <td>Detento disse que passou nome falso ao dar ent...</td>\n",
                            "      <td>Ele tinha registro em presídio com nome falso....</td>\n",
                            "      <td>detento disse passou nome falso entrada presíd...</td>\n",
                            "      <td>detento recapturado fuga túnel volta cdpm manaus</td>\n",
                            "      <td>tinha registro presídio nome falso presos esca...</td>\n",
                            "      <td>detento recapturado fuga túnel volta cdpm mana...</td>\n",
                            "      <td>0</td>\n",
                            "      <td>345</td>\n",
                            "    </tr>\n",
                            "    <tr>\n",
                            "      <th>2</th>\n",
                            "      <td>2</td>\n",
                            "      <td>2</td>\n",
                            "      <td>6afc8bbb-4f36-43d5-8a44-a2917df5621a</td>\n",
                            "      <td>http://g1.globo.com/ap/amapa/noticia/audios-mo...</td>\n",
                            "      <td>2017-07-30 00:37:17+00:00</td>\n",
                            "      <td>2017-07-30 00:48:42+00:00</td>\n",
                            "      <td>Áudios mostram conversa entre bandidos durante...</td>\n",
                            "      <td>Áudios mostram possível conversa entre bandido...</td>\n",
                            "      <td>Revista realizada na sexta-feira (28) no Iapen...</td>\n",
                            "      <td>áudios mostram conversa bandidos tentativa fug...</td>\n",
                            "      <td>áudios mostram conversa bandidos durante tenta...</td>\n",
                            "      <td>revista realizada iapen apreendeu celulares dr...</td>\n",
                            "      <td>áudios mostram conversa bandidos durante tenta...</td>\n",
                            "      <td>0</td>\n",
                            "      <td>383</td>\n",
                            "    </tr>\n",
                            "    <tr>\n",
                            "      <th>3</th>\n",
                            "      <td>3</td>\n",
                            "      <td>3</td>\n",
                            "      <td>5cc3bd27-80c7-457d-a807-2e8e7fddf031</td>\n",
                            "      <td>http://g1.globo.com/ap/amapa/noticia/2020/11/0...</td>\n",
                            "      <td>2020-11-06 12:54:00+00:00</td>\n",
                            "      <td>2020-11-12 21:22:52+00:00</td>\n",
                            "      <td>FOTOS: Apagão no Amapá</td>\n",
                            "      <td>Moradores da capital do Amapá, em Macapá, faze...</td>\n",
                            "      <td>Incêndio em subestação de energia deixa 13 dos...</td>\n",
                            "      <td>moradores capital amapá macapá protestos maksu...</td>\n",
                            "      <td>fotos apagão amapá</td>\n",
                            "      <td>incêndio subestação energia deixa municípios e...</td>\n",
                            "      <td>fotos apagão amapá incêndio subestação energia...</td>\n",
                            "      <td>0</td>\n",
                            "      <td>470</td>\n",
                            "    </tr>\n",
                            "    <tr>\n",
                            "      <th>4</th>\n",
                            "      <td>4</td>\n",
                            "      <td>4</td>\n",
                            "      <td>d6956177-db96-42f5-9f68-dd0d6e930661</td>\n",
                            "      <td>http://g1.globo.com/ap/amapa/noticia/2019/05/2...</td>\n",
                            "      <td>2019-05-27 13:43:03+00:00</td>\n",
                            "      <td>2019-05-27 18:19:06+00:00</td>\n",
                            "      <td>Profissionais da educação no AP paralisam ativ...</td>\n",
                            "      <td>Profissionais da educação paralisam atividades...</td>\n",
                            "      <td>Ato comprometeu aulas em escolas nesta segunda...</td>\n",
                            "      <td>profissionais educação paralisam atividades re...</td>\n",
                            "      <td>profissionais educação ap paralisam atividades...</td>\n",
                            "      <td>ato comprometeu aulas escolas sinsepeap seed n...</td>\n",
                            "      <td>profissionais educação ap paralisam atividades...</td>\n",
                            "      <td>0</td>\n",
                            "      <td>609</td>\n",
                            "    </tr>\n",
                            "  </tbody>\n",
                            "</table>\n",
                            "</div>"
                        ],
                        "text/plain": [
                            "   Unnamed: 0.1  Unnamed: 0                                  page  \\\n",
                            "0             0           0  7371a9b5-5824-4c57-8704-00a74feebe79   \n",
                            "1             1           1  7a5ea08f-4583-49e2-ba52-a71999443f7b   \n",
                            "2             2           2  6afc8bbb-4f36-43d5-8a44-a2917df5621a   \n",
                            "3             3           3  5cc3bd27-80c7-457d-a807-2e8e7fddf031   \n",
                            "4             4           4  d6956177-db96-42f5-9f68-dd0d6e930661   \n",
                            "\n",
                            "                                                 url  \\\n",
                            "0  http://g1.globo.com/al/alagoas/noticia/2018/09...   \n",
                            "1  http://g1.globo.com/am/amazonas/noticia/detent...   \n",
                            "2  http://g1.globo.com/ap/amapa/noticia/audios-mo...   \n",
                            "3  http://g1.globo.com/ap/amapa/noticia/2020/11/0...   \n",
                            "4  http://g1.globo.com/ap/amapa/noticia/2019/05/2...   \n",
                            "\n",
                            "                      issued                   modified  \\\n",
                            "0  2018-09-13 14:52:55+00:00  2018-09-14 16:14:49+00:00   \n",
                            "1  2018-05-20 20:42:40+00:00  2018-05-20 20:42:40+00:00   \n",
                            "2  2017-07-30 00:37:17+00:00  2017-07-30 00:48:42+00:00   \n",
                            "3  2020-11-06 12:54:00+00:00  2020-11-12 21:22:52+00:00   \n",
                            "4  2019-05-27 13:43:03+00:00  2019-05-27 18:19:06+00:00   \n",
                            "\n",
                            "                                               title  \\\n",
                            "0  Corpo de motorista da Uber é encontrado em can...   \n",
                            "1  Detento recapturado após fuga por túnel volta ...   \n",
                            "2  Áudios mostram conversa entre bandidos durante...   \n",
                            "3                            FOTOS: Apagão no Amapá    \n",
                            "4  Profissionais da educação no AP paralisam ativ...   \n",
                            "\n",
                            "                                                body  \\\n",
                            "0  Corpo de motorista de aplicativo desaparecido ...   \n",
                            "1  Detento disse que passou nome falso ao dar ent...   \n",
                            "2  Áudios mostram possível conversa entre bandido...   \n",
                            "3  Moradores da capital do Amapá, em Macapá, faze...   \n",
                            "4  Profissionais da educação paralisam atividades...   \n",
                            "\n",
                            "                                             caption  \\\n",
                            "0  Segundo a polícia, Antônio Vitor foi solicitad...   \n",
                            "1  Ele tinha registro em presídio com nome falso....   \n",
                            "2  Revista realizada na sexta-feira (28) no Iapen...   \n",
                            "3  Incêndio em subestação de energia deixa 13 dos...   \n",
                            "4  Ato comprometeu aulas em escolas nesta segunda...   \n",
                            "\n",
                            "                                        cleaned_body  \\\n",
                            "0  corpo motorista aplicativo desaparecido encont...   \n",
                            "1  detento disse passou nome falso entrada presíd...   \n",
                            "2  áudios mostram conversa bandidos tentativa fug...   \n",
                            "3  moradores capital amapá macapá protestos maksu...   \n",
                            "4  profissionais educação paralisam atividades re...   \n",
                            "\n",
                            "                                       cleaned_title  \\\n",
                            "0  corpo motorista uber encontrado canavial rotei...   \n",
                            "1   detento recapturado fuga túnel volta cdpm manaus   \n",
                            "2  áudios mostram conversa bandidos durante tenta...   \n",
                            "3                                 fotos apagão amapá   \n",
                            "4  profissionais educação ap paralisam atividades...   \n",
                            "\n",
                            "                                     cleaned_caption  \\\n",
                            "0  polícia antônio vitor solicitado corridas desa...   \n",
                            "1  tinha registro presídio nome falso presos esca...   \n",
                            "2  revista realizada iapen apreendeu celulares dr...   \n",
                            "3  incêndio subestação energia deixa municípios e...   \n",
                            "4  ato comprometeu aulas escolas sinsepeap seed n...   \n",
                            "\n",
                            "                                       combined_text  cluster  word_count  \n",
                            "0  corpo motorista uber encontrado canavial rotei...        0         234  \n",
                            "1  detento recapturado fuga túnel volta cdpm mana...        0         345  \n",
                            "2  áudios mostram conversa bandidos durante tenta...        0         383  \n",
                            "3  fotos apagão amapá incêndio subestação energia...        0         470  \n",
                            "4  profissionais educação ap paralisam atividades...        0         609  "
                        ]
                    },
                    "execution_count": 9,
                    "metadata": {},
                    "output_type": "execute_result"
                }
            ],
            "source": [
                "df_news.head()"
            ]
        },
        {
            "cell_type": "code",
            "execution_count": 10,
            "metadata": {},
            "outputs": [],
            "source": [
                "df_merged = pd.merge(common_news,df_news, left_on='history', right_on='page', how='left')"
            ]
        },
        {
            "cell_type": "code",
            "execution_count": 11,
            "metadata": {},
            "outputs": [
                {
                    "data": {
                        "text/html": [
                            "<div>\n",
                            "<style scoped>\n",
                            "    .dataframe tbody tr th:only-of-type {\n",
                            "        vertical-align: middle;\n",
                            "    }\n",
                            "\n",
                            "    .dataframe tbody tr th {\n",
                            "        vertical-align: top;\n",
                            "    }\n",
                            "\n",
                            "    .dataframe thead th {\n",
                            "        text-align: right;\n",
                            "    }\n",
                            "</style>\n",
                            "<table border=\"1\" class=\"dataframe\">\n",
                            "  <thead>\n",
                            "    <tr style=\"text-align: right;\">\n",
                            "      <th></th>\n",
                            "      <th>Unnamed: 0_x</th>\n",
                            "      <th>userId</th>\n",
                            "      <th>history</th>\n",
                            "      <th>numberOfClicksHistory</th>\n",
                            "      <th>timeOnPageHistory</th>\n",
                            "      <th>scrollPercentageHistory</th>\n",
                            "      <th>pageVisitsCountHistory</th>\n",
                            "      <th>userType</th>\n",
                            "      <th>Unnamed: 0.1</th>\n",
                            "      <th>Unnamed: 0_y</th>\n",
                            "      <th>...</th>\n",
                            "      <th>modified</th>\n",
                            "      <th>title</th>\n",
                            "      <th>body</th>\n",
                            "      <th>caption</th>\n",
                            "      <th>cleaned_body</th>\n",
                            "      <th>cleaned_title</th>\n",
                            "      <th>cleaned_caption</th>\n",
                            "      <th>combined_text</th>\n",
                            "      <th>cluster</th>\n",
                            "      <th>word_count</th>\n",
                            "    </tr>\n",
                            "  </thead>\n",
                            "  <tbody>\n",
                            "    <tr>\n",
                            "      <th>0</th>\n",
                            "      <td>0</td>\n",
                            "      <td>fbb963d61eb8149e7f43b1bd905457ba5e106a830ddc27...</td>\n",
                            "      <td>80aa7bb2-adce-4a55-9711-912c407927a1</td>\n",
                            "      <td>0</td>\n",
                            "      <td>71998</td>\n",
                            "      <td>81.58</td>\n",
                            "      <td>1</td>\n",
                            "      <td>Non-Logged</td>\n",
                            "      <td>3118.0</td>\n",
                            "      <td>3118.0</td>\n",
                            "      <td>...</td>\n",
                            "      <td>2022-09-19 19:58:15+00:00</td>\n",
                            "      <td>Câmara aprova projeto que acaba com saída temp...</td>\n",
                            "      <td>A Câmara dos Deputados aprovou nesta quarta-fe...</td>\n",
                            "      <td>Relator defende que 'saidinhas' causam 'sentim...</td>\n",
                            "      <td>câmara deputados aprovou projeto lei acaba pos...</td>\n",
                            "      <td>câmara aprova projeto acaba saída temporária p...</td>\n",
                            "      <td>relator defende saidinhas causam sentimento im...</td>\n",
                            "      <td>câmara aprova projeto acaba saída temporária p...</td>\n",
                            "      <td>0.0</td>\n",
                            "      <td>949.0</td>\n",
                            "    </tr>\n",
                            "    <tr>\n",
                            "      <th>1</th>\n",
                            "      <td>1</td>\n",
                            "      <td>fbb963d61eb8149e7f43b1bd905457ba5e106a830ddc27...</td>\n",
                            "      <td>d9e5f15d-b441-4d8b-bee4-462b106d3916</td>\n",
                            "      <td>0</td>\n",
                            "      <td>115232</td>\n",
                            "      <td>73.36</td>\n",
                            "      <td>1</td>\n",
                            "      <td>Non-Logged</td>\n",
                            "      <td>NaN</td>\n",
                            "      <td>NaN</td>\n",
                            "      <td>...</td>\n",
                            "      <td>NaN</td>\n",
                            "      <td>NaN</td>\n",
                            "      <td>NaN</td>\n",
                            "      <td>NaN</td>\n",
                            "      <td>NaN</td>\n",
                            "      <td>NaN</td>\n",
                            "      <td>NaN</td>\n",
                            "      <td>NaN</td>\n",
                            "      <td>NaN</td>\n",
                            "      <td>NaN</td>\n",
                            "    </tr>\n",
                            "    <tr>\n",
                            "      <th>2</th>\n",
                            "      <td>2</td>\n",
                            "      <td>17f1083e6079b0f28f7820a6803583d1c1b405c0718b11...</td>\n",
                            "      <td>19ba89fc-1e06-4c5d-9c57-4a3088dc0511</td>\n",
                            "      <td>68</td>\n",
                            "      <td>131495</td>\n",
                            "      <td>51.74</td>\n",
                            "      <td>1</td>\n",
                            "      <td>Non-Logged</td>\n",
                            "      <td>NaN</td>\n",
                            "      <td>NaN</td>\n",
                            "      <td>...</td>\n",
                            "      <td>NaN</td>\n",
                            "      <td>NaN</td>\n",
                            "      <td>NaN</td>\n",
                            "      <td>NaN</td>\n",
                            "      <td>NaN</td>\n",
                            "      <td>NaN</td>\n",
                            "      <td>NaN</td>\n",
                            "      <td>NaN</td>\n",
                            "      <td>NaN</td>\n",
                            "      <td>NaN</td>\n",
                            "    </tr>\n",
                            "    <tr>\n",
                            "      <th>3</th>\n",
                            "      <td>3</td>\n",
                            "      <td>17f1083e6079b0f28f7820a6803583d1c1b405c0718b11...</td>\n",
                            "      <td>e273dba4-136c-45fb-bdd6-0cc57b13aaf0</td>\n",
                            "      <td>12</td>\n",
                            "      <td>43733</td>\n",
                            "      <td>35.49</td>\n",
                            "      <td>1</td>\n",
                            "      <td>Non-Logged</td>\n",
                            "      <td>NaN</td>\n",
                            "      <td>NaN</td>\n",
                            "      <td>...</td>\n",
                            "      <td>NaN</td>\n",
                            "      <td>NaN</td>\n",
                            "      <td>NaN</td>\n",
                            "      <td>NaN</td>\n",
                            "      <td>NaN</td>\n",
                            "      <td>NaN</td>\n",
                            "      <td>NaN</td>\n",
                            "      <td>NaN</td>\n",
                            "      <td>NaN</td>\n",
                            "      <td>NaN</td>\n",
                            "    </tr>\n",
                            "    <tr>\n",
                            "      <th>4</th>\n",
                            "      <td>4</td>\n",
                            "      <td>528a8d7a2af73101da8d6709c1ec875b449a5a58749a99...</td>\n",
                            "      <td>59a61a8a-cc52-453f-b1cd-2bd019e9d574</td>\n",
                            "      <td>55</td>\n",
                            "      <td>159042</td>\n",
                            "      <td>62.19</td>\n",
                            "      <td>1</td>\n",
                            "      <td>Non-Logged</td>\n",
                            "      <td>NaN</td>\n",
                            "      <td>NaN</td>\n",
                            "      <td>...</td>\n",
                            "      <td>NaN</td>\n",
                            "      <td>NaN</td>\n",
                            "      <td>NaN</td>\n",
                            "      <td>NaN</td>\n",
                            "      <td>NaN</td>\n",
                            "      <td>NaN</td>\n",
                            "      <td>NaN</td>\n",
                            "      <td>NaN</td>\n",
                            "      <td>NaN</td>\n",
                            "      <td>NaN</td>\n",
                            "    </tr>\n",
                            "  </tbody>\n",
                            "</table>\n",
                            "<p>5 rows × 23 columns</p>\n",
                            "</div>"
                        ],
                        "text/plain": [
                            "   Unnamed: 0_x                                             userId  \\\n",
                            "0             0  fbb963d61eb8149e7f43b1bd905457ba5e106a830ddc27...   \n",
                            "1             1  fbb963d61eb8149e7f43b1bd905457ba5e106a830ddc27...   \n",
                            "2             2  17f1083e6079b0f28f7820a6803583d1c1b405c0718b11...   \n",
                            "3             3  17f1083e6079b0f28f7820a6803583d1c1b405c0718b11...   \n",
                            "4             4  528a8d7a2af73101da8d6709c1ec875b449a5a58749a99...   \n",
                            "\n",
                            "                                history  numberOfClicksHistory  \\\n",
                            "0  80aa7bb2-adce-4a55-9711-912c407927a1                      0   \n",
                            "1  d9e5f15d-b441-4d8b-bee4-462b106d3916                      0   \n",
                            "2  19ba89fc-1e06-4c5d-9c57-4a3088dc0511                     68   \n",
                            "3  e273dba4-136c-45fb-bdd6-0cc57b13aaf0                     12   \n",
                            "4  59a61a8a-cc52-453f-b1cd-2bd019e9d574                     55   \n",
                            "\n",
                            "   timeOnPageHistory  scrollPercentageHistory  pageVisitsCountHistory  \\\n",
                            "0              71998                    81.58                       1   \n",
                            "1             115232                    73.36                       1   \n",
                            "2             131495                    51.74                       1   \n",
                            "3              43733                    35.49                       1   \n",
                            "4             159042                    62.19                       1   \n",
                            "\n",
                            "     userType  Unnamed: 0.1  Unnamed: 0_y  ...                   modified  \\\n",
                            "0  Non-Logged        3118.0        3118.0  ...  2022-09-19 19:58:15+00:00   \n",
                            "1  Non-Logged           NaN           NaN  ...                        NaN   \n",
                            "2  Non-Logged           NaN           NaN  ...                        NaN   \n",
                            "3  Non-Logged           NaN           NaN  ...                        NaN   \n",
                            "4  Non-Logged           NaN           NaN  ...                        NaN   \n",
                            "\n",
                            "                                               title  \\\n",
                            "0  Câmara aprova projeto que acaba com saída temp...   \n",
                            "1                                                NaN   \n",
                            "2                                                NaN   \n",
                            "3                                                NaN   \n",
                            "4                                                NaN   \n",
                            "\n",
                            "                                                body  \\\n",
                            "0  A Câmara dos Deputados aprovou nesta quarta-fe...   \n",
                            "1                                                NaN   \n",
                            "2                                                NaN   \n",
                            "3                                                NaN   \n",
                            "4                                                NaN   \n",
                            "\n",
                            "                                             caption  \\\n",
                            "0  Relator defende que 'saidinhas' causam 'sentim...   \n",
                            "1                                                NaN   \n",
                            "2                                                NaN   \n",
                            "3                                                NaN   \n",
                            "4                                                NaN   \n",
                            "\n",
                            "                                        cleaned_body  \\\n",
                            "0  câmara deputados aprovou projeto lei acaba pos...   \n",
                            "1                                                NaN   \n",
                            "2                                                NaN   \n",
                            "3                                                NaN   \n",
                            "4                                                NaN   \n",
                            "\n",
                            "                                       cleaned_title  \\\n",
                            "0  câmara aprova projeto acaba saída temporária p...   \n",
                            "1                                                NaN   \n",
                            "2                                                NaN   \n",
                            "3                                                NaN   \n",
                            "4                                                NaN   \n",
                            "\n",
                            "                                     cleaned_caption  \\\n",
                            "0  relator defende saidinhas causam sentimento im...   \n",
                            "1                                                NaN   \n",
                            "2                                                NaN   \n",
                            "3                                                NaN   \n",
                            "4                                                NaN   \n",
                            "\n",
                            "                                       combined_text cluster word_count  \n",
                            "0  câmara aprova projeto acaba saída temporária p...     0.0      949.0  \n",
                            "1                                                NaN     NaN        NaN  \n",
                            "2                                                NaN     NaN        NaN  \n",
                            "3                                                NaN     NaN        NaN  \n",
                            "4                                                NaN     NaN        NaN  \n",
                            "\n",
                            "[5 rows x 23 columns]"
                        ]
                    },
                    "execution_count": 11,
                    "metadata": {},
                    "output_type": "execute_result"
                }
            ],
            "source": [
                "df_merged.head()"
            ]
        },
        {
            "cell_type": "code",
            "execution_count": 12,
            "metadata": {},
            "outputs": [
                {
                    "ename": "KeyError",
                    "evalue": "\"['peso_ajustado'] not in index\"",
                    "output_type": "error",
                    "traceback": [
                        "\u001b[0;31m---------------------------------------------------------------------------\u001b[0m",
                        "\u001b[0;31mKeyError\u001b[0m                                  Traceback (most recent call last)",
                        "Cell \u001b[0;32mIn[12], line 1\u001b[0m\n\u001b[0;32m----> 1\u001b[0m df_merged \u001b[38;5;241m=\u001b[39m \u001b[43mdf_merged\u001b[49m\u001b[43m[\u001b[49m\u001b[43m[\u001b[49m\u001b[38;5;124;43m\"\u001b[39;49m\u001b[38;5;124;43muserId\u001b[39;49m\u001b[38;5;124;43m\"\u001b[39;49m\u001b[43m,\u001b[49m\u001b[38;5;124;43m\"\u001b[39;49m\u001b[38;5;124;43mhistory\u001b[39;49m\u001b[38;5;124;43m\"\u001b[39;49m\u001b[43m,\u001b[49m\u001b[38;5;124;43m\"\u001b[39;49m\u001b[38;5;124;43mnumberOfClicksHistory\u001b[39;49m\u001b[38;5;124;43m\"\u001b[39;49m\u001b[43m,\u001b[49m\u001b[38;5;124;43m\"\u001b[39;49m\u001b[38;5;124;43muserType\u001b[39;49m\u001b[38;5;124;43m\"\u001b[39;49m\u001b[43m,\u001b[49m\u001b[38;5;124;43m\"\u001b[39;49m\u001b[38;5;124;43mpeso_ajustado\u001b[39;49m\u001b[38;5;124;43m\"\u001b[39;49m\u001b[43m]\u001b[49m\u001b[43m]\u001b[49m\n",
                        "File \u001b[0;32m~/Documents/GitRepos/TC5/tech_challenge_5/.venv/lib/python3.10/site-packages/pandas/core/frame.py:4108\u001b[0m, in \u001b[0;36mDataFrame.__getitem__\u001b[0;34m(self, key)\u001b[0m\n\u001b[1;32m   4106\u001b[0m     \u001b[38;5;28;01mif\u001b[39;00m is_iterator(key):\n\u001b[1;32m   4107\u001b[0m         key \u001b[38;5;241m=\u001b[39m \u001b[38;5;28mlist\u001b[39m(key)\n\u001b[0;32m-> 4108\u001b[0m     indexer \u001b[38;5;241m=\u001b[39m \u001b[38;5;28;43mself\u001b[39;49m\u001b[38;5;241;43m.\u001b[39;49m\u001b[43mcolumns\u001b[49m\u001b[38;5;241;43m.\u001b[39;49m\u001b[43m_get_indexer_strict\u001b[49m\u001b[43m(\u001b[49m\u001b[43mkey\u001b[49m\u001b[43m,\u001b[49m\u001b[43m \u001b[49m\u001b[38;5;124;43m\"\u001b[39;49m\u001b[38;5;124;43mcolumns\u001b[39;49m\u001b[38;5;124;43m\"\u001b[39;49m\u001b[43m)\u001b[49m[\u001b[38;5;241m1\u001b[39m]\n\u001b[1;32m   4110\u001b[0m \u001b[38;5;66;03m# take() does not accept boolean indexers\u001b[39;00m\n\u001b[1;32m   4111\u001b[0m \u001b[38;5;28;01mif\u001b[39;00m \u001b[38;5;28mgetattr\u001b[39m(indexer, \u001b[38;5;124m\"\u001b[39m\u001b[38;5;124mdtype\u001b[39m\u001b[38;5;124m\"\u001b[39m, \u001b[38;5;28;01mNone\u001b[39;00m) \u001b[38;5;241m==\u001b[39m \u001b[38;5;28mbool\u001b[39m:\n",
                        "File \u001b[0;32m~/Documents/GitRepos/TC5/tech_challenge_5/.venv/lib/python3.10/site-packages/pandas/core/indexes/base.py:6200\u001b[0m, in \u001b[0;36mIndex._get_indexer_strict\u001b[0;34m(self, key, axis_name)\u001b[0m\n\u001b[1;32m   6197\u001b[0m \u001b[38;5;28;01melse\u001b[39;00m:\n\u001b[1;32m   6198\u001b[0m     keyarr, indexer, new_indexer \u001b[38;5;241m=\u001b[39m \u001b[38;5;28mself\u001b[39m\u001b[38;5;241m.\u001b[39m_reindex_non_unique(keyarr)\n\u001b[0;32m-> 6200\u001b[0m \u001b[38;5;28;43mself\u001b[39;49m\u001b[38;5;241;43m.\u001b[39;49m\u001b[43m_raise_if_missing\u001b[49m\u001b[43m(\u001b[49m\u001b[43mkeyarr\u001b[49m\u001b[43m,\u001b[49m\u001b[43m \u001b[49m\u001b[43mindexer\u001b[49m\u001b[43m,\u001b[49m\u001b[43m \u001b[49m\u001b[43maxis_name\u001b[49m\u001b[43m)\u001b[49m\n\u001b[1;32m   6202\u001b[0m keyarr \u001b[38;5;241m=\u001b[39m \u001b[38;5;28mself\u001b[39m\u001b[38;5;241m.\u001b[39mtake(indexer)\n\u001b[1;32m   6203\u001b[0m \u001b[38;5;28;01mif\u001b[39;00m \u001b[38;5;28misinstance\u001b[39m(key, Index):\n\u001b[1;32m   6204\u001b[0m     \u001b[38;5;66;03m# GH 42790 - Preserve name from an Index\u001b[39;00m\n",
                        "File \u001b[0;32m~/Documents/GitRepos/TC5/tech_challenge_5/.venv/lib/python3.10/site-packages/pandas/core/indexes/base.py:6252\u001b[0m, in \u001b[0;36mIndex._raise_if_missing\u001b[0;34m(self, key, indexer, axis_name)\u001b[0m\n\u001b[1;32m   6249\u001b[0m     \u001b[38;5;28;01mraise\u001b[39;00m \u001b[38;5;167;01mKeyError\u001b[39;00m(\u001b[38;5;124mf\u001b[39m\u001b[38;5;124m\"\u001b[39m\u001b[38;5;124mNone of [\u001b[39m\u001b[38;5;132;01m{\u001b[39;00mkey\u001b[38;5;132;01m}\u001b[39;00m\u001b[38;5;124m] are in the [\u001b[39m\u001b[38;5;132;01m{\u001b[39;00maxis_name\u001b[38;5;132;01m}\u001b[39;00m\u001b[38;5;124m]\u001b[39m\u001b[38;5;124m\"\u001b[39m)\n\u001b[1;32m   6251\u001b[0m not_found \u001b[38;5;241m=\u001b[39m \u001b[38;5;28mlist\u001b[39m(ensure_index(key)[missing_mask\u001b[38;5;241m.\u001b[39mnonzero()[\u001b[38;5;241m0\u001b[39m]]\u001b[38;5;241m.\u001b[39munique())\n\u001b[0;32m-> 6252\u001b[0m \u001b[38;5;28;01mraise\u001b[39;00m \u001b[38;5;167;01mKeyError\u001b[39;00m(\u001b[38;5;124mf\u001b[39m\u001b[38;5;124m\"\u001b[39m\u001b[38;5;132;01m{\u001b[39;00mnot_found\u001b[38;5;132;01m}\u001b[39;00m\u001b[38;5;124m not in index\u001b[39m\u001b[38;5;124m\"\u001b[39m)\n",
                        "\u001b[0;31mKeyError\u001b[0m: \"['peso_ajustado'] not in index\""
                    ]
                }
            ],
            "source": [
                "df_merged = df_merged[[\"userId\",\"history\",\"numberOfClicksHistory\",\"userType\",\"peso_ajustado\"]]"
            ]
        },
        {
            "cell_type": "code",
            "execution_count": 13,
            "metadata": {},
            "outputs": [
                {
                    "data": {
                        "text/html": [
                            "<div>\n",
                            "<style scoped>\n",
                            "    .dataframe tbody tr th:only-of-type {\n",
                            "        vertical-align: middle;\n",
                            "    }\n",
                            "\n",
                            "    .dataframe tbody tr th {\n",
                            "        vertical-align: top;\n",
                            "    }\n",
                            "\n",
                            "    .dataframe thead th {\n",
                            "        text-align: right;\n",
                            "    }\n",
                            "</style>\n",
                            "<table border=\"1\" class=\"dataframe\">\n",
                            "  <thead>\n",
                            "    <tr style=\"text-align: right;\">\n",
                            "      <th></th>\n",
                            "      <th>userId</th>\n",
                            "      <th>history</th>\n",
                            "      <th>numberOfClicksHistory</th>\n",
                            "      <th>userType</th>\n",
                            "      <th>peso_ajustado</th>\n",
                            "    </tr>\n",
                            "  </thead>\n",
                            "  <tbody>\n",
                            "    <tr>\n",
                            "      <th>0</th>\n",
                            "      <td>f98d1132f60d46883ce49583257104d15ce723b3bbda21...</td>\n",
                            "      <td>c8aab885-433d-4e46-8066-479f40ba7fb2</td>\n",
                            "      <td>76</td>\n",
                            "      <td>Non-Logged</td>\n",
                            "      <td>0.106482</td>\n",
                            "    </tr>\n",
                            "    <tr>\n",
                            "      <th>1</th>\n",
                            "      <td>f98d1132f60d46883ce49583257104d15ce723b3bbda21...</td>\n",
                            "      <td>68d2039c-c9aa-456c-ac33-9b2e8677fba7</td>\n",
                            "      <td>38</td>\n",
                            "      <td>Non-Logged</td>\n",
                            "      <td>0.100065</td>\n",
                            "    </tr>\n",
                            "    <tr>\n",
                            "      <th>2</th>\n",
                            "      <td>f98d1132f60d46883ce49583257104d15ce723b3bbda21...</td>\n",
                            "      <td>13e423ce-1d69-4c78-bc18-e8c8f7271964</td>\n",
                            "      <td>41</td>\n",
                            "      <td>Non-Logged</td>\n",
                            "      <td>0.101399</td>\n",
                            "    </tr>\n",
                            "    <tr>\n",
                            "      <th>3</th>\n",
                            "      <td>2c1080975e257ed630e26679edbe4d5c850c65f3e09f65...</td>\n",
                            "      <td>3325b5a1-979a-4cb3-82b6-63905c9edbe8</td>\n",
                            "      <td>7</td>\n",
                            "      <td>Non-Logged</td>\n",
                            "      <td>1.000000</td>\n",
                            "    </tr>\n",
                            "    <tr>\n",
                            "      <th>4</th>\n",
                            "      <td>2c1080975e257ed630e26679edbe4d5c850c65f3e09f65...</td>\n",
                            "      <td>fe856057-f97d-419f-ab1c-97c5c3e0719c</td>\n",
                            "      <td>80</td>\n",
                            "      <td>Non-Logged</td>\n",
                            "      <td>1.000000</td>\n",
                            "    </tr>\n",
                            "  </tbody>\n",
                            "</table>\n",
                            "</div>"
                        ],
                        "text/plain": [
                            "                                              userId  \\\n",
                            "0  f98d1132f60d46883ce49583257104d15ce723b3bbda21...   \n",
                            "1  f98d1132f60d46883ce49583257104d15ce723b3bbda21...   \n",
                            "2  f98d1132f60d46883ce49583257104d15ce723b3bbda21...   \n",
                            "3  2c1080975e257ed630e26679edbe4d5c850c65f3e09f65...   \n",
                            "4  2c1080975e257ed630e26679edbe4d5c850c65f3e09f65...   \n",
                            "\n",
                            "                                history  numberOfClicksHistory    userType  \\\n",
                            "0  c8aab885-433d-4e46-8066-479f40ba7fb2                     76  Non-Logged   \n",
                            "1  68d2039c-c9aa-456c-ac33-9b2e8677fba7                     38  Non-Logged   \n",
                            "2  13e423ce-1d69-4c78-bc18-e8c8f7271964                     41  Non-Logged   \n",
                            "3  3325b5a1-979a-4cb3-82b6-63905c9edbe8                      7  Non-Logged   \n",
                            "4  fe856057-f97d-419f-ab1c-97c5c3e0719c                     80  Non-Logged   \n",
                            "\n",
                            "   peso_ajustado  \n",
                            "0       0.106482  \n",
                            "1       0.100065  \n",
                            "2       0.101399  \n",
                            "3       1.000000  \n",
                            "4       1.000000  "
                        ]
                    },
                    "execution_count": 13,
                    "metadata": {},
                    "output_type": "execute_result"
                }
            ],
            "source": [
                "df_merged.head()"
            ]
        },
        {
            "cell_type": "markdown",
            "metadata": {},
            "source": [
                "### Prepare data"
            ]
        },
        {
            "cell_type": "markdown",
            "metadata": {},
            "source": [
                "Before fitting the LightFM model, we need to create an instance of `Dataset` which holds the interaction matrix."
            ]
        },
        {
            "cell_type": "code",
            "execution_count": 15,
            "metadata": {},
            "outputs": [],
            "source": [
                "dataset = Dataset()\n",
                "\n",
                "# Get unique values for users, items, and user features\n",
                "unique_users = df_merged[\"userId\"].unique()\n",
                "unique_items = df_merged[\"history\"].unique()\n",
                "unique_user_features = df_merged[\"userType\"].unique().tolist() \n",
                "\n",
                "# Fit dataset with users, items, and user feature names\n",
                "dataset.fit(\n",
                "    users=unique_users,\n",
                "    items=unique_items,\n",
                "    user_features=unique_user_features  # Register user features\n",
                ")\n"
            ]
        },
        {
            "cell_type": "code",
            "execution_count": 16,
            "metadata": {},
            "outputs": [],
            "source": [
                "(interactions, weights) = dataset.build_interactions([\n",
                "    (row.userId, row.history, row.peso_ajustado) \n",
                "    for _, row in df_merged.iterrows()\n",
                "])\n"
            ]
        },
        {
            "cell_type": "code",
            "execution_count": 17,
            "metadata": {},
            "outputs": [],
            "source": [
                "user_features_list = [\n",
                "    (row.userId, [row.userType])  \n",
                "    for _, row in df_merged.iterrows()\n",
                "]\n",
                "\n",
                "user_features = dataset.build_user_features(user_features_list)\n"
            ]
        },
        {
            "cell_type": "markdown",
            "metadata": {},
            "source": [
                "LightLM works slightly differently compared to other packages as it expects the train and test sets to have same dimension. Therefore the conventional train test split will not work.\n",
                "\n",
                "The package has included the `cross_validation.random_train_test_split` method to split the interaction data and splits it into two disjoint training and test sets. \n",
                "\n",
                "However, note that **it does not validate the interactions in the test set to guarantee all items and users have historical interactions in the training set**. Therefore this may result into a partial cold-start problem in the test set."
            ]
        },
        {
            "cell_type": "code",
            "execution_count": 18,
            "metadata": {},
            "outputs": [],
            "source": [
                "# Split train and test sets (80/20 split)\n",
                "train, test = cross_validation.random_train_test_split(interactions, test_percentage=0.2, random_state=SEED)\n",
                "train_weights, test_weights  = cross_validation.random_train_test_split(weights, test_percentage=0.2, random_state=SEED)\n"
            ]
        },
        {
            "cell_type": "markdown",
            "metadata": {},
            "source": [
                "Double check the size of both the train and test sets."
            ]
        },
        {
            "cell_type": "code",
            "execution_count": 19,
            "metadata": {},
            "outputs": [
                {
                    "name": "stdout",
                    "output_type": "stream",
                    "text": [
                        "Shape of train interactions: (100000, 108573)\n",
                        "Shape of test interactions: (100000, 108573)\n"
                    ]
                }
            ],
            "source": [
                "print(f\"Shape of train interactions: {train.shape}\")\n",
                "print(f\"Shape of test interactions: {test.shape}\")"
            ]
        },
        {
            "cell_type": "markdown",
            "metadata": {},
            "source": [
                "### Fit the LightFM model"
            ]
        },
        {
            "cell_type": "markdown",
            "metadata": {},
            "source": [
                "In this notebook, the LightFM model will be using the weighted Approximate-Rank Pairwise (WARP) as the loss. Further explanation on the topic can be found [here](https://making.lyst.com/lightfm/docs/examples/warp_loss.html#learning-to-rank-using-the-warp-loss).\n",
                "\n",
                "\n",
                "In general, it maximises the rank of positive examples by repeatedly sampling negative examples until a rank violation has been located. This approach is recommended when only positive interactions are present."
            ]
        },
        {
            "cell_type": "markdown",
            "metadata": {},
            "source": [
                "The LightFM model can be fitted with the following code:"
            ]
        },
        {
            "cell_type": "code",
            "execution_count": 20,
            "metadata": {
                "scrolled": true
            },
            "outputs": [
                {
                    "data": {
                        "text/plain": [
                            "<lightfm.lightfm.LightFM at 0x75919f187d30>"
                        ]
                    },
                    "execution_count": 20,
                    "metadata": {},
                    "output_type": "execute_result"
                }
            ],
            "source": [
                "model = LightFM(loss=\"warp\",learning_rate=LEARNING_RATE,random_state=np.random.RandomState(SEED))  # Weighted Approximate-Rank Pairwise (WARP) loss\n",
                "model.fit(train, sample_weight=train_weights, epochs=NO_EPOCHS, num_threads=4, user_features=user_features)\n"
            ]
        },
        {
            "cell_type": "markdown",
            "metadata": {},
            "source": [
                "### Evaluate model"
            ]
        },
        {
            "cell_type": "code",
            "execution_count": 21,
            "metadata": {},
            "outputs": [
                {
                    "name": "stdout",
                    "output_type": "stream",
                    "text": [
                        "AUC test Score: 0.7865\n",
                        "AUC train Score: 0.9370\n"
                    ]
                }
            ],
            "source": [
                "# Import the evaluation routines\n",
                "from lightfm.evaluation import auc_score\n",
                "\n",
                "# Compute evaluation metrics\n",
                "auc_test = auc_score(model, test, user_features=user_features).mean()\n",
                "auc_train = auc_score(model, train, user_features=user_features).mean()\n",
                "\n",
                "# Print evaluation results\n",
                "print(f\"AUC test Score: {auc_test:.4f}\")\n",
                "print(f\"AUC train Score: {auc_train:.4f}\")\n"
            ]
        },
        {
            "cell_type": "markdown",
            "metadata": {},
            "source": [
                "### Save pkls to serve model"
            ]
        },
        {
            "cell_type": "code",
            "execution_count": 22,
            "metadata": {},
            "outputs": [],
            "source": [
                "user_id_map, user_feature_map, item_id_map, item_feature_map = dataset.mapping()"
            ]
        },
        {
            "cell_type": "code",
            "execution_count": 23,
            "metadata": {},
            "outputs": [],
            "source": [
                "item_id_map_reverse = {v: k for k, v in item_id_map.items()}"
            ]
        },
        {
            "cell_type": "code",
            "execution_count": 24,
            "metadata": {},
            "outputs": [],
            "source": [
                "import pickle\n",
                "\n",
                "pickle.dump(model, open('artifacts/lightfm_model.pkl', 'wb'))\n",
                "pickle.dump(user_id_map, open('artifacts/user_id_map.pkl', 'wb'))\n",
                "pickle.dump(item_id_map_reverse, open('artifacts/item_id_map_reverse.pkl', 'wb'))\n",
                "pickle.dump(user_feature_map, open('artifacts/user_feature_map.pkl', 'wb'))"
            ]
        },
        {
            "cell_type": "code",
            "execution_count": 25,
            "metadata": {},
            "outputs": [],
            "source": [
                "loaded_model = pickle.load(open('artifacts/lightfm_model.pkl', 'rb'))\n",
                "loaded_user_id_map = pickle.load(open('artifacts/user_id_map.pkl', 'rb'))\n",
                "loaded_item_id_map_reverse = pickle.load(open('artifacts/item_id_map_reverse.pkl', 'rb'))\n",
                "loaded_user_feature_map = pickle.load(open('artifacts/user_feature_map.pkl', 'rb'))"
            ]
        },
        {
            "cell_type": "markdown",
            "metadata": {},
            "source": [
                "### Make predictions to known and unknowm on same recommendation function with pkls"
            ]
        },
        {
            "cell_type": "code",
            "execution_count": 26,
            "metadata": {},
            "outputs": [
                {
                    "data": {
                        "text/plain": [
                            "108573"
                        ]
                    },
                    "execution_count": 26,
                    "metadata": {},
                    "output_type": "execute_result"
                }
            ],
            "source": [
                "\n",
                "_, n_items = interactions.shape # no of users * no of items\n",
                "\n",
                "n_items"
            ]
        },
        {
            "cell_type": "code",
            "execution_count": 27,
            "metadata": {},
            "outputs": [],
            "source": [
                "def format_newuser_input(user_feature_map, user_feature_list):\n",
                "  normalised_val = 1.0 \n",
                "  target_indices = []\n",
                "  for feature in user_feature_list:\n",
                "    try:\n",
                "        target_indices.append(user_feature_map[feature])\n",
                "    except KeyError:\n",
                "        print(\"new user feature encountered '{}'\".format(feature))\n",
                "        pass\n",
                "  #print(\"target indices: {}\".format(target_indices))\n",
                "  new_user_features = np.zeros(len(user_feature_map.keys()))\n",
                "  for i in target_indices:\n",
                "    new_user_features[i] = normalised_val\n",
                "  new_user_features = sparse.csr_matrix(new_user_features)\n",
                "  return(new_user_features)"
            ]
        },
        {
            "cell_type": "code",
            "execution_count": 28,
            "metadata": {},
            "outputs": [],
            "source": [
                "def sample_recommendation(user_hash,df_news,user_feature_list,item_id_map_reverse,user_feature_map,user_id_map,model):\n",
                "    try:\n",
                "        user_x = user_id_map[user_hash]\n",
                "        scores = model.predict(user_x, np.arange(108573)) # means predict for all\n",
                "    except:\n",
                "        new_user_features = format_newuser_input(user_feature_map, user_feature_list)\n",
                "        scores = model.predict(0, np.arange(108573), user_features=new_user_features)\n",
                "    \n",
                "    top_5_indices = np.argsort(-scores)[:5]  # Sort scores in descending order and take the top 5\n",
                "    top_5_items = [item_id_map_reverse[i] for i in top_5_indices]\n",
                "\n",
                "    print(\"Top 5 recommended items:\")\n",
                "\n",
                "    for x in top_5_items:\n",
                "        row = df_news[df_news[\"page\"] == x]\n",
                "        print(\"        %s\" % row[\"title\"].values[0])\n"
            ]
        },
        {
            "cell_type": "code",
            "execution_count": 29,
            "metadata": {},
            "outputs": [
                {
                    "name": "stdout",
                    "output_type": "stream",
                    "text": [
                        "Top 5 recommended items:\n",
                        "        De Pombagira, Paolla Oliveira investe em look ousado para desfilar como rainha de bateria da Grande Rio\n",
                        "        Auxílio caminhoneiro: não recebeu as duas primeiras parcelas do benefício? Veja como fazer a autodeclaração\n",
                        "        Motorista é preso após ser flagrado com uma tonelada de maconha em rodovia do interior de SP\n",
                        "        Por que os bebês suam tanto na cabeça?\n",
                        "        Novo trecho da Avenida Mozart Pinheiro de Lucena, em Fortaleza, é bloqueado para obras; veja desvios\n"
                    ]
                }
            ],
            "source": [
                "# predict for known user\n",
                "user_feature_list = ['userType:Logged']\n",
                "user_hash = '5f5e17781fc2ec0ddcfb2e9356e61c5d3d4b0b3c8fabd20917feb9e807463856'\n",
                "sample_recommendation(user_hash,df_news,user_feature_list,loaded_item_id_map_reverse,loaded_user_feature_map,loaded_user_id_map,loaded_model)"
            ]
        },
        {
            "cell_type": "code",
            "execution_count": 30,
            "metadata": {},
            "outputs": [
                {
                    "name": "stdout",
                    "output_type": "stream",
                    "text": [
                        "new user feature encountered 'userType:Non-Logged'\n",
                        "Top 5 recommended items:\n",
                        "        Jô Soares, ícone do humor e da TV, morre em São Paulo aos 84 anos\n",
                        "        Campeão mundial de jiu-jítsu, Leandro Lo é baleado na cabeça durante show em clube da Zona Sul de SP\n",
                        "        Menina de 10 anos que estava desaparecida após ir a padaria na Grande BH é encontrada morta\n",
                        "        PM preso por matar lutador Leandro Lo em show em SP já foi condenado na Justiça Militar por agredir policiais em boate em 2017\n",
                        "        WhatsApp vai deixar você esconder que está 'online'; veja como fazer\n"
                    ]
                }
            ],
            "source": [
                "# predict for unknown user\n",
                "user_feature_list = ['userType:Non-Logged']\n",
                "user_hash = ''\n",
                "sample_recommendation(user_hash,df_news,user_feature_list,loaded_item_id_map_reverse,loaded_user_feature_map,loaded_user_id_map,loaded_model)"
            ]
        }
    ],
    "metadata": {
        "kernelspec": {
            "display_name": ".venv",
            "language": "python",
            "name": "python3"
        },
        "language_info": {
            "codemirror_mode": {
                "name": "ipython",
                "version": 3
            },
            "file_extension": ".py",
            "mimetype": "text/x-python",
            "name": "python",
            "nbconvert_exporter": "python",
            "pygments_lexer": "ipython3",
            "version": "3.10.16"
        }
    },
    "nbformat": 4,
    "nbformat_minor": 4
}
