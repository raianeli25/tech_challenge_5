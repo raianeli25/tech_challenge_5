{
 "cells": [
  {
   "cell_type": "code",
   "execution_count": 1,
   "metadata": {},
   "outputs": [],
   "source": [
    "import json\n",
    "\n",
    "with open('config.json', 'r') as f:\n",
    "    config = json.load(f)"
   ]
  },
  {
   "cell_type": "code",
   "execution_count": 2,
   "metadata": {},
   "outputs": [],
   "source": [
    "import pandas as pd"
   ]
  },
  {
   "cell_type": "code",
   "execution_count": 3,
   "metadata": {},
   "outputs": [],
   "source": [
    "dtype_df_train_cleaned_treated = {\n",
    "\"userId\" : 'string',\n",
    "\"history\" : 'string',\n",
    "\"numberOfClicksHistory\" : 'Float32',\n",
    "\"timeOnPageHistory\" : 'Float32',\n",
    "\"scrollPercentageHistory\" : 'Float32',\n",
    "\"userType\" : 'category'\n",
    "}"
   ]
  },
  {
   "cell_type": "code",
   "execution_count": 4,
   "metadata": {},
   "outputs": [
    {
     "data": {
      "text/html": [
       "<div>\n",
       "<style scoped>\n",
       "    .dataframe tbody tr th:only-of-type {\n",
       "        vertical-align: middle;\n",
       "    }\n",
       "\n",
       "    .dataframe tbody tr th {\n",
       "        vertical-align: top;\n",
       "    }\n",
       "\n",
       "    .dataframe thead th {\n",
       "        text-align: right;\n",
       "    }\n",
       "</style>\n",
       "<table border=\"1\" class=\"dataframe\">\n",
       "  <thead>\n",
       "    <tr style=\"text-align: right;\">\n",
       "      <th></th>\n",
       "      <th>userId</th>\n",
       "      <th>history</th>\n",
       "      <th>numberOfClicksHistory</th>\n",
       "      <th>timeOnPageHistory</th>\n",
       "      <th>scrollPercentageHistory</th>\n",
       "      <th>userType</th>\n",
       "    </tr>\n",
       "  </thead>\n",
       "  <tbody>\n",
       "    <tr>\n",
       "      <th>0</th>\n",
       "      <td>fbb963d61eb8149e7f43b1bd905457ba5e106a830ddc27...</td>\n",
       "      <td>80aa7bb2-adce-4a55-9711-912c407927a1</td>\n",
       "      <td>0.0</td>\n",
       "      <td>0.292439</td>\n",
       "      <td>0.8158</td>\n",
       "      <td>Non-Logged</td>\n",
       "    </tr>\n",
       "    <tr>\n",
       "      <th>1</th>\n",
       "      <td>fbb963d61eb8149e7f43b1bd905457ba5e106a830ddc27...</td>\n",
       "      <td>d9e5f15d-b441-4d8b-bee4-462b106d3916</td>\n",
       "      <td>0.0</td>\n",
       "      <td>0.48115</td>\n",
       "      <td>0.7336</td>\n",
       "      <td>Non-Logged</td>\n",
       "    </tr>\n",
       "  </tbody>\n",
       "</table>\n",
       "</div>"
      ],
      "text/plain": [
       "                                              userId  \\\n",
       "0  fbb963d61eb8149e7f43b1bd905457ba5e106a830ddc27...   \n",
       "1  fbb963d61eb8149e7f43b1bd905457ba5e106a830ddc27...   \n",
       "\n",
       "                                history  numberOfClicksHistory  \\\n",
       "0  80aa7bb2-adce-4a55-9711-912c407927a1                    0.0   \n",
       "1  d9e5f15d-b441-4d8b-bee4-462b106d3916                    0.0   \n",
       "\n",
       "   timeOnPageHistory  scrollPercentageHistory    userType  \n",
       "0           0.292439                   0.8158  Non-Logged  \n",
       "1            0.48115                   0.7336  Non-Logged  "
      ]
     },
     "execution_count": 4,
     "metadata": {},
     "output_type": "execute_result"
    }
   ],
   "source": [
    "df_train_cleaned = pd.read_csv(config[\"DF_TRAIN_FEATURES_CSV\"], dtype=dtype_df_train_cleaned_treated)\n",
    "# df_train_cleaned = pd.read_csv(config[\"DF_TRAIN_FEATURES_CSV\"], dtype=dtype_df_train_cleaned_treated, nrows=500000)\n",
    "df_train_cleaned.drop(columns=[\"Unnamed: 0\"],inplace=True)\n",
    "df_train_cleaned.head(2)"
   ]
  },
  {
   "cell_type": "code",
   "execution_count": 5,
   "metadata": {},
   "outputs": [
    {
     "name": "stdout",
     "output_type": "stream",
     "text": [
      "<class 'pandas.core.frame.DataFrame'>\n",
      "RangeIndex: 6349896 entries, 0 to 6349895\n",
      "Data columns (total 6 columns):\n",
      " #   Column                   Dtype   \n",
      "---  ------                   -----   \n",
      " 0   userId                   string  \n",
      " 1   history                  string  \n",
      " 2   numberOfClicksHistory    Float32 \n",
      " 3   timeOnPageHistory        Float32 \n",
      " 4   scrollPercentageHistory  Float32 \n",
      " 5   userType                 category\n",
      "dtypes: Float32(3), category(1), string(2)\n",
      "memory usage: 193.8 MB\n"
     ]
    }
   ],
   "source": [
    "df_train_cleaned.info()"
   ]
  },
  {
   "cell_type": "code",
   "execution_count": 6,
   "metadata": {},
   "outputs": [
    {
     "data": {
      "text/html": [
       "<div>\n",
       "<style scoped>\n",
       "    .dataframe tbody tr th:only-of-type {\n",
       "        vertical-align: middle;\n",
       "    }\n",
       "\n",
       "    .dataframe tbody tr th {\n",
       "        vertical-align: top;\n",
       "    }\n",
       "\n",
       "    .dataframe thead th {\n",
       "        text-align: right;\n",
       "    }\n",
       "</style>\n",
       "<table border=\"1\" class=\"dataframe\">\n",
       "  <thead>\n",
       "    <tr style=\"text-align: right;\">\n",
       "      <th></th>\n",
       "      <th>numberOfClicksHistory</th>\n",
       "      <th>timeOnPageHistory</th>\n",
       "      <th>scrollPercentageHistory</th>\n",
       "    </tr>\n",
       "  </thead>\n",
       "  <tbody>\n",
       "    <tr>\n",
       "      <th>count</th>\n",
       "      <td>6349896.0</td>\n",
       "      <td>6349896.0</td>\n",
       "      <td>6349896.0</td>\n",
       "    </tr>\n",
       "    <tr>\n",
       "      <th>mean</th>\n",
       "      <td>0.293805</td>\n",
       "      <td>0.242697</td>\n",
       "      <td>0.414767</td>\n",
       "    </tr>\n",
       "    <tr>\n",
       "      <th>std</th>\n",
       "      <td>0.336561</td>\n",
       "      <td>0.212787</td>\n",
       "      <td>0.218181</td>\n",
       "    </tr>\n",
       "    <tr>\n",
       "      <th>min</th>\n",
       "      <td>0.0</td>\n",
       "      <td>0.0</td>\n",
       "      <td>0.0002</td>\n",
       "    </tr>\n",
       "    <tr>\n",
       "      <th>25%</th>\n",
       "      <td>0.0</td>\n",
       "      <td>0.070864</td>\n",
       "      <td>0.2462</td>\n",
       "    </tr>\n",
       "    <tr>\n",
       "      <th>50%</th>\n",
       "      <td>0.201849</td>\n",
       "      <td>0.186062</td>\n",
       "      <td>0.4035</td>\n",
       "    </tr>\n",
       "    <tr>\n",
       "      <th>75%</th>\n",
       "      <td>0.566662</td>\n",
       "      <td>0.349793</td>\n",
       "      <td>0.5627</td>\n",
       "    </tr>\n",
       "    <tr>\n",
       "      <th>max</th>\n",
       "      <td>1.0</td>\n",
       "      <td>1.0</td>\n",
       "      <td>1.0</td>\n",
       "    </tr>\n",
       "  </tbody>\n",
       "</table>\n",
       "</div>"
      ],
      "text/plain": [
       "       numberOfClicksHistory  timeOnPageHistory  scrollPercentageHistory\n",
       "count              6349896.0          6349896.0                6349896.0\n",
       "mean                0.293805           0.242697                 0.414767\n",
       "std                 0.336561           0.212787                 0.218181\n",
       "min                      0.0                0.0                   0.0002\n",
       "25%                      0.0           0.070864                   0.2462\n",
       "50%                 0.201849           0.186062                   0.4035\n",
       "75%                 0.566662           0.349793                   0.5627\n",
       "max                      1.0                1.0                      1.0"
      ]
     },
     "execution_count": 6,
     "metadata": {},
     "output_type": "execute_result"
    }
   ],
   "source": [
    "df_train_cleaned.describe()"
   ]
  },
  {
   "cell_type": "code",
   "execution_count": 7,
   "metadata": {},
   "outputs": [
    {
     "data": {
      "text/html": [
       "<div>\n",
       "<style scoped>\n",
       "    .dataframe tbody tr th:only-of-type {\n",
       "        vertical-align: middle;\n",
       "    }\n",
       "\n",
       "    .dataframe tbody tr th {\n",
       "        vertical-align: top;\n",
       "    }\n",
       "\n",
       "    .dataframe thead th {\n",
       "        text-align: right;\n",
       "    }\n",
       "</style>\n",
       "<table border=\"1\" class=\"dataframe\">\n",
       "  <thead>\n",
       "    <tr style=\"text-align: right;\">\n",
       "      <th></th>\n",
       "      <th>numberOfClicksHistory</th>\n",
       "      <th>timeOnPageHistory</th>\n",
       "      <th>scrollPercentageHistory</th>\n",
       "      <th>score</th>\n",
       "    </tr>\n",
       "  </thead>\n",
       "  <tbody>\n",
       "    <tr>\n",
       "      <th>count</th>\n",
       "      <td>6349896.0</td>\n",
       "      <td>6349896.0</td>\n",
       "      <td>6349896.0</td>\n",
       "      <td>6349896.0</td>\n",
       "    </tr>\n",
       "    <tr>\n",
       "      <th>mean</th>\n",
       "      <td>0.293805</td>\n",
       "      <td>0.242697</td>\n",
       "      <td>0.414767</td>\n",
       "      <td>1.608734</td>\n",
       "    </tr>\n",
       "    <tr>\n",
       "      <th>std</th>\n",
       "      <td>0.336561</td>\n",
       "      <td>0.212787</td>\n",
       "      <td>0.218181</td>\n",
       "      <td>0.867295</td>\n",
       "    </tr>\n",
       "    <tr>\n",
       "      <th>min</th>\n",
       "      <td>0.0</td>\n",
       "      <td>0.0</td>\n",
       "      <td>0.0002</td>\n",
       "      <td>0.002373</td>\n",
       "    </tr>\n",
       "    <tr>\n",
       "      <th>25%</th>\n",
       "      <td>0.0</td>\n",
       "      <td>0.070864</td>\n",
       "      <td>0.2462</td>\n",
       "      <td>0.924991</td>\n",
       "    </tr>\n",
       "    <tr>\n",
       "      <th>50%</th>\n",
       "      <td>0.201849</td>\n",
       "      <td>0.186062</td>\n",
       "      <td>0.4035</td>\n",
       "      <td>1.56746</td>\n",
       "    </tr>\n",
       "    <tr>\n",
       "      <th>75%</th>\n",
       "      <td>0.566662</td>\n",
       "      <td>0.349793</td>\n",
       "      <td>0.5627</td>\n",
       "      <td>2.202917</td>\n",
       "    </tr>\n",
       "    <tr>\n",
       "      <th>max</th>\n",
       "      <td>1.0</td>\n",
       "      <td>1.0</td>\n",
       "      <td>1.0</td>\n",
       "      <td>4.990057</td>\n",
       "    </tr>\n",
       "  </tbody>\n",
       "</table>\n",
       "</div>"
      ],
      "text/plain": [
       "       numberOfClicksHistory  timeOnPageHistory  scrollPercentageHistory  \\\n",
       "count              6349896.0          6349896.0                6349896.0   \n",
       "mean                0.293805           0.242697                 0.414767   \n",
       "std                 0.336561           0.212787                 0.218181   \n",
       "min                      0.0                0.0                   0.0002   \n",
       "25%                      0.0           0.070864                   0.2462   \n",
       "50%                 0.201849           0.186062                   0.4035   \n",
       "75%                 0.566662           0.349793                   0.5627   \n",
       "max                      1.0                1.0                      1.0   \n",
       "\n",
       "           score  \n",
       "count  6349896.0  \n",
       "mean    1.608734  \n",
       "std     0.867295  \n",
       "min     0.002373  \n",
       "25%     0.924991  \n",
       "50%      1.56746  \n",
       "75%     2.202917  \n",
       "max     4.990057  "
      ]
     },
     "execution_count": 7,
     "metadata": {},
     "output_type": "execute_result"
    }
   ],
   "source": [
    "weight_n_clicks = 1\n",
    "weight_time_on_page = 2\n",
    "weight_scroll_percent = 2\n",
    "\n",
    "df_train_cleaned['score'] = weight_n_clicks*df_train_cleaned['numberOfClicksHistory'] + weight_time_on_page*df_train_cleaned['timeOnPageHistory'] + weight_scroll_percent*df_train_cleaned['scrollPercentageHistory']\n",
    "df_train_cleaned.describe()"
   ]
  },
  {
   "cell_type": "code",
   "execution_count": 8,
   "metadata": {},
   "outputs": [],
   "source": [
    "df_train_cleaned.drop(columns=[\"numberOfClicksHistory\", \"timeOnPageHistory\", \"scrollPercentageHistory\"],inplace=True)"
   ]
  },
  {
   "cell_type": "code",
   "execution_count": 9,
   "metadata": {},
   "outputs": [
    {
     "name": "stdout",
     "output_type": "stream",
     "text": [
      "<class 'pandas.core.frame.DataFrame'>\n",
      "RangeIndex: 6349896 entries, 0 to 6349895\n",
      "Data columns (total 4 columns):\n",
      " #   Column    Dtype   \n",
      "---  ------    -----   \n",
      " 0   userId    string  \n",
      " 1   history   string  \n",
      " 2   userType  category\n",
      " 3   score     Float32 \n",
      "dtypes: Float32(1), category(1), string(2)\n",
      "memory usage: 133.2 MB\n"
     ]
    }
   ],
   "source": [
    "df_train_cleaned.info()"
   ]
  },
  {
   "cell_type": "code",
   "execution_count": 10,
   "metadata": {},
   "outputs": [
    {
     "data": {
      "text/html": [
       "<div>\n",
       "<style scoped>\n",
       "    .dataframe tbody tr th:only-of-type {\n",
       "        vertical-align: middle;\n",
       "    }\n",
       "\n",
       "    .dataframe tbody tr th {\n",
       "        vertical-align: top;\n",
       "    }\n",
       "\n",
       "    .dataframe thead th {\n",
       "        text-align: right;\n",
       "    }\n",
       "</style>\n",
       "<table border=\"1\" class=\"dataframe\">\n",
       "  <thead>\n",
       "    <tr style=\"text-align: right;\">\n",
       "      <th></th>\n",
       "      <th>score</th>\n",
       "    </tr>\n",
       "  </thead>\n",
       "  <tbody>\n",
       "    <tr>\n",
       "      <th>count</th>\n",
       "      <td>6349896.0</td>\n",
       "    </tr>\n",
       "    <tr>\n",
       "      <th>mean</th>\n",
       "      <td>1.608734</td>\n",
       "    </tr>\n",
       "    <tr>\n",
       "      <th>std</th>\n",
       "      <td>0.867295</td>\n",
       "    </tr>\n",
       "    <tr>\n",
       "      <th>min</th>\n",
       "      <td>0.002373</td>\n",
       "    </tr>\n",
       "    <tr>\n",
       "      <th>25%</th>\n",
       "      <td>0.924991</td>\n",
       "    </tr>\n",
       "    <tr>\n",
       "      <th>50%</th>\n",
       "      <td>1.56746</td>\n",
       "    </tr>\n",
       "    <tr>\n",
       "      <th>75%</th>\n",
       "      <td>2.202917</td>\n",
       "    </tr>\n",
       "    <tr>\n",
       "      <th>max</th>\n",
       "      <td>4.990057</td>\n",
       "    </tr>\n",
       "  </tbody>\n",
       "</table>\n",
       "</div>"
      ],
      "text/plain": [
       "           score\n",
       "count  6349896.0\n",
       "mean    1.608734\n",
       "std     0.867295\n",
       "min     0.002373\n",
       "25%     0.924991\n",
       "50%      1.56746\n",
       "75%     2.202917\n",
       "max     4.990057"
      ]
     },
     "execution_count": 10,
     "metadata": {},
     "output_type": "execute_result"
    }
   ],
   "source": [
    "df_train_cleaned.describe()"
   ]
  },
  {
   "cell_type": "code",
   "execution_count": 11,
   "metadata": {},
   "outputs": [],
   "source": [
    "df_train_cleaned.to_csv(config[\"DF_TRAIN_SCORES\"])"
   ]
  }
 ],
 "metadata": {
  "kernelspec": {
   "display_name": ".venv",
   "language": "python",
   "name": "python3"
  },
  "language_info": {
   "codemirror_mode": {
    "name": "ipython",
    "version": 3
   },
   "file_extension": ".py",
   "mimetype": "text/x-python",
   "name": "python",
   "nbconvert_exporter": "python",
   "pygments_lexer": "ipython3",
   "version": "3.10.16"
  }
 },
 "nbformat": 4,
 "nbformat_minor": 2
}
