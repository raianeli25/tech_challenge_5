{
 "cells": [
  {
   "cell_type": "markdown",
   "metadata": {},
   "source": [
    "### Imports"
   ]
  },
  {
   "cell_type": "code",
   "execution_count": 1,
   "metadata": {},
   "outputs": [],
   "source": [
    "import json\n",
    "\n",
    "with open('config.json', 'r') as f:\n",
    "    config = json.load(f)"
   ]
  },
  {
   "cell_type": "code",
   "execution_count": 2,
   "metadata": {},
   "outputs": [],
   "source": [
    "import pandas as pd\n",
    "import numpy as np"
   ]
  },
  {
   "cell_type": "markdown",
   "metadata": {},
   "source": [
    "### Optimal Schema"
   ]
  },
  {
   "cell_type": "code",
   "execution_count": 3,
   "metadata": {},
   "outputs": [],
   "source": [
    "dtype_df_train_cleaned_treated = {\n",
    "\"userId\" : 'string',\n",
    "\"history\" : 'string',\n",
    "\"numberOfClicksHistory\" : 'UInt32',\n",
    "\"timeOnPageHistory\" : 'UInt64',\n",
    "\"scrollPercentageHistory\" : 'Float32',\n",
    "\"userType\" : 'category'\n",
    "}"
   ]
  },
  {
   "cell_type": "markdown",
   "metadata": {},
   "source": [
    "### Reading CSV with filtered outliers"
   ]
  },
  {
   "cell_type": "code",
   "execution_count": null,
   "metadata": {},
   "outputs": [
    {
     "data": {
      "text/html": [
       "<div>\n",
       "<style scoped>\n",
       "    .dataframe tbody tr th:only-of-type {\n",
       "        vertical-align: middle;\n",
       "    }\n",
       "\n",
       "    .dataframe tbody tr th {\n",
       "        vertical-align: top;\n",
       "    }\n",
       "\n",
       "    .dataframe thead th {\n",
       "        text-align: right;\n",
       "    }\n",
       "</style>\n",
       "<table border=\"1\" class=\"dataframe\">\n",
       "  <thead>\n",
       "    <tr style=\"text-align: right;\">\n",
       "      <th></th>\n",
       "      <th>userId</th>\n",
       "      <th>history</th>\n",
       "      <th>numberOfClicksHistory</th>\n",
       "      <th>timeOnPageHistory</th>\n",
       "      <th>scrollPercentageHistory</th>\n",
       "      <th>userType</th>\n",
       "    </tr>\n",
       "  </thead>\n",
       "  <tbody>\n",
       "    <tr>\n",
       "      <th>0</th>\n",
       "      <td>fbb963d61eb8149e7f43b1bd905457ba5e106a830ddc27...</td>\n",
       "      <td>80aa7bb2-adce-4a55-9711-912c407927a1</td>\n",
       "      <td>0</td>\n",
       "      <td>71998</td>\n",
       "      <td>81.580002</td>\n",
       "      <td>Non-Logged</td>\n",
       "    </tr>\n",
       "    <tr>\n",
       "      <th>1</th>\n",
       "      <td>fbb963d61eb8149e7f43b1bd905457ba5e106a830ddc27...</td>\n",
       "      <td>d9e5f15d-b441-4d8b-bee4-462b106d3916</td>\n",
       "      <td>0</td>\n",
       "      <td>115232</td>\n",
       "      <td>73.360001</td>\n",
       "      <td>Non-Logged</td>\n",
       "    </tr>\n",
       "  </tbody>\n",
       "</table>\n",
       "</div>"
      ],
      "text/plain": [
       "                                              userId  \\\n",
       "0  fbb963d61eb8149e7f43b1bd905457ba5e106a830ddc27...   \n",
       "1  fbb963d61eb8149e7f43b1bd905457ba5e106a830ddc27...   \n",
       "\n",
       "                                history  numberOfClicksHistory  \\\n",
       "0  80aa7bb2-adce-4a55-9711-912c407927a1                      0   \n",
       "1  d9e5f15d-b441-4d8b-bee4-462b106d3916                      0   \n",
       "\n",
       "   timeOnPageHistory  scrollPercentageHistory    userType  \n",
       "0              71998                81.580002  Non-Logged  \n",
       "1             115232                73.360001  Non-Logged  "
      ]
     },
     "execution_count": 4,
     "metadata": {},
     "output_type": "execute_result"
    }
   ],
   "source": [
    "df_train_cleaned = pd.read_csv(config[\"DF_TRAIN_CLEANED_CSV\"], dtype=dtype_df_train_cleaned_treated)\n",
    "df_train_cleaned.drop(columns=[\"Unnamed: 0\"],inplace=True)\n",
    "df_train_cleaned.head(2)"
   ]
  },
  {
   "cell_type": "code",
   "execution_count": 5,
   "metadata": {},
   "outputs": [
    {
     "name": "stdout",
     "output_type": "stream",
     "text": [
      "<class 'pandas.core.frame.DataFrame'>\n",
      "RangeIndex: 6349896 entries, 0 to 6349895\n",
      "Data columns (total 6 columns):\n",
      " #   Column                   Dtype   \n",
      "---  ------                   -----   \n",
      " 0   userId                   string  \n",
      " 1   history                  string  \n",
      " 2   numberOfClicksHistory    UInt32  \n",
      " 3   timeOnPageHistory        UInt64  \n",
      " 4   scrollPercentageHistory  Float32 \n",
      " 5   userType                 category\n",
      "dtypes: Float32(1), UInt32(1), UInt64(1), category(1), string(2)\n",
      "memory usage: 218.0 MB\n"
     ]
    }
   ],
   "source": [
    "df_train_cleaned.info()"
   ]
  },
  {
   "cell_type": "code",
   "execution_count": 6,
   "metadata": {},
   "outputs": [
    {
     "data": {
      "text/html": [
       "<div>\n",
       "<style scoped>\n",
       "    .dataframe tbody tr th:only-of-type {\n",
       "        vertical-align: middle;\n",
       "    }\n",
       "\n",
       "    .dataframe tbody tr th {\n",
       "        vertical-align: top;\n",
       "    }\n",
       "\n",
       "    .dataframe thead th {\n",
       "        text-align: right;\n",
       "    }\n",
       "</style>\n",
       "<table border=\"1\" class=\"dataframe\">\n",
       "  <thead>\n",
       "    <tr style=\"text-align: right;\">\n",
       "      <th></th>\n",
       "      <th>numberOfClicksHistory</th>\n",
       "      <th>timeOnPageHistory</th>\n",
       "      <th>scrollPercentageHistory</th>\n",
       "    </tr>\n",
       "  </thead>\n",
       "  <tbody>\n",
       "    <tr>\n",
       "      <th>count</th>\n",
       "      <td>6349896.0</td>\n",
       "      <td>6349896.0</td>\n",
       "      <td>6349896.0</td>\n",
       "    </tr>\n",
       "    <tr>\n",
       "      <th>mean</th>\n",
       "      <td>4.733215</td>\n",
       "      <td>60602.219329</td>\n",
       "      <td>41.4767</td>\n",
       "    </tr>\n",
       "    <tr>\n",
       "      <th>std</th>\n",
       "      <td>7.590275</td>\n",
       "      <td>48749.808355</td>\n",
       "      <td>21.818096</td>\n",
       "    </tr>\n",
       "    <tr>\n",
       "      <th>min</th>\n",
       "      <td>0.0</td>\n",
       "      <td>5000.0</td>\n",
       "      <td>0.02</td>\n",
       "    </tr>\n",
       "    <tr>\n",
       "      <th>25%</th>\n",
       "      <td>0.0</td>\n",
       "      <td>21235.0</td>\n",
       "      <td>24.620001</td>\n",
       "    </tr>\n",
       "    <tr>\n",
       "      <th>50%</th>\n",
       "      <td>1.0</td>\n",
       "      <td>47627.0</td>\n",
       "      <td>40.349998</td>\n",
       "    </tr>\n",
       "    <tr>\n",
       "      <th>75%</th>\n",
       "      <td>6.0</td>\n",
       "      <td>85138.0</td>\n",
       "      <td>56.27</td>\n",
       "    </tr>\n",
       "    <tr>\n",
       "      <th>max</th>\n",
       "      <td>30.0</td>\n",
       "      <td>234101.0</td>\n",
       "      <td>100.0</td>\n",
       "    </tr>\n",
       "  </tbody>\n",
       "</table>\n",
       "</div>"
      ],
      "text/plain": [
       "       numberOfClicksHistory  timeOnPageHistory  scrollPercentageHistory\n",
       "count              6349896.0          6349896.0                6349896.0\n",
       "mean                4.733215       60602.219329                  41.4767\n",
       "std                 7.590275       48749.808355                21.818096\n",
       "min                      0.0             5000.0                     0.02\n",
       "25%                      0.0            21235.0                24.620001\n",
       "50%                      1.0            47627.0                40.349998\n",
       "75%                      6.0            85138.0                    56.27\n",
       "max                     30.0           234101.0                    100.0"
      ]
     },
     "execution_count": 6,
     "metadata": {},
     "output_type": "execute_result"
    }
   ],
   "source": [
    "df_train_cleaned.describe()"
   ]
  },
  {
   "cell_type": "markdown",
   "metadata": {},
   "source": [
    "### Functions to normalize and linearize data"
   ]
  },
  {
   "cell_type": "code",
   "execution_count": 7,
   "metadata": {},
   "outputs": [],
   "source": [
    "def normalize_min_max(x, xmin, xmax):\n",
    "    return (x-xmin)/(xmax-xmin)\n",
    "\n",
    "def treat_number_of_clicks_history(x):\n",
    "    return np.log(x+1)"
   ]
  },
  {
   "cell_type": "markdown",
   "metadata": {},
   "source": [
    "### numberOfClicksHistory\n",
    "* First, we linearize it though a log transformation.\n",
    "* We then apply min-max to obtain normalized values form 0 to 1."
   ]
  },
  {
   "cell_type": "code",
   "execution_count": 8,
   "metadata": {},
   "outputs": [
    {
     "data": {
      "text/html": [
       "<div>\n",
       "<style scoped>\n",
       "    .dataframe tbody tr th:only-of-type {\n",
       "        vertical-align: middle;\n",
       "    }\n",
       "\n",
       "    .dataframe tbody tr th {\n",
       "        vertical-align: top;\n",
       "    }\n",
       "\n",
       "    .dataframe thead th {\n",
       "        text-align: right;\n",
       "    }\n",
       "</style>\n",
       "<table border=\"1\" class=\"dataframe\">\n",
       "  <thead>\n",
       "    <tr style=\"text-align: right;\">\n",
       "      <th></th>\n",
       "      <th>numberOfClicksHistory</th>\n",
       "      <th>timeOnPageHistory</th>\n",
       "      <th>scrollPercentageHistory</th>\n",
       "    </tr>\n",
       "  </thead>\n",
       "  <tbody>\n",
       "    <tr>\n",
       "      <th>count</th>\n",
       "      <td>6.349896e+06</td>\n",
       "      <td>6349896.0</td>\n",
       "      <td>6349896.0</td>\n",
       "    </tr>\n",
       "    <tr>\n",
       "      <th>mean</th>\n",
       "      <td>2.938048e-01</td>\n",
       "      <td>60602.219329</td>\n",
       "      <td>41.4767</td>\n",
       "    </tr>\n",
       "    <tr>\n",
       "      <th>std</th>\n",
       "      <td>3.365609e-01</td>\n",
       "      <td>48749.808355</td>\n",
       "      <td>21.818096</td>\n",
       "    </tr>\n",
       "    <tr>\n",
       "      <th>min</th>\n",
       "      <td>0.000000e+00</td>\n",
       "      <td>5000.0</td>\n",
       "      <td>0.02</td>\n",
       "    </tr>\n",
       "    <tr>\n",
       "      <th>25%</th>\n",
       "      <td>0.000000e+00</td>\n",
       "      <td>21235.0</td>\n",
       "      <td>24.620001</td>\n",
       "    </tr>\n",
       "    <tr>\n",
       "      <th>50%</th>\n",
       "      <td>2.018491e-01</td>\n",
       "      <td>47627.0</td>\n",
       "      <td>40.349998</td>\n",
       "    </tr>\n",
       "    <tr>\n",
       "      <th>75%</th>\n",
       "      <td>5.666620e-01</td>\n",
       "      <td>85138.0</td>\n",
       "      <td>56.27</td>\n",
       "    </tr>\n",
       "    <tr>\n",
       "      <th>max</th>\n",
       "      <td>1.000000e+00</td>\n",
       "      <td>234101.0</td>\n",
       "      <td>100.0</td>\n",
       "    </tr>\n",
       "  </tbody>\n",
       "</table>\n",
       "</div>"
      ],
      "text/plain": [
       "       numberOfClicksHistory  timeOnPageHistory  scrollPercentageHistory\n",
       "count           6.349896e+06          6349896.0                6349896.0\n",
       "mean            2.938048e-01       60602.219329                  41.4767\n",
       "std             3.365609e-01       48749.808355                21.818096\n",
       "min             0.000000e+00             5000.0                     0.02\n",
       "25%             0.000000e+00            21235.0                24.620001\n",
       "50%             2.018491e-01            47627.0                40.349998\n",
       "75%             5.666620e-01            85138.0                    56.27\n",
       "max             1.000000e+00           234101.0                    100.0"
      ]
     },
     "execution_count": 8,
     "metadata": {},
     "output_type": "execute_result"
    }
   ],
   "source": [
    "df_train_cleaned['numberOfClicksHistory'] = df_train_cleaned['numberOfClicksHistory'].apply(treat_number_of_clicks_history)\n",
    "min_num_of_clicks_history_log = df_train_cleaned.loc[:, 'numberOfClicksHistory'].min()\n",
    "max_num_of_clicks_history_log = df_train_cleaned.loc[:, 'numberOfClicksHistory'].max()\n",
    "df_train_cleaned['numberOfClicksHistory'] = df_train_cleaned['numberOfClicksHistory'].apply(normalize_min_max,xmin=min_num_of_clicks_history_log, xmax=max_num_of_clicks_history_log)\n",
    "\n",
    "df_train_cleaned.describe()"
   ]
  },
  {
   "cell_type": "markdown",
   "metadata": {},
   "source": [
    "### timeOnPageHistory\n",
    "* Apply min-max to obtain normalized values form 0 to 1."
   ]
  },
  {
   "cell_type": "code",
   "execution_count": 9,
   "metadata": {},
   "outputs": [
    {
     "data": {
      "text/html": [
       "<div>\n",
       "<style scoped>\n",
       "    .dataframe tbody tr th:only-of-type {\n",
       "        vertical-align: middle;\n",
       "    }\n",
       "\n",
       "    .dataframe tbody tr th {\n",
       "        vertical-align: top;\n",
       "    }\n",
       "\n",
       "    .dataframe thead th {\n",
       "        text-align: right;\n",
       "    }\n",
       "</style>\n",
       "<table border=\"1\" class=\"dataframe\">\n",
       "  <thead>\n",
       "    <tr style=\"text-align: right;\">\n",
       "      <th></th>\n",
       "      <th>numberOfClicksHistory</th>\n",
       "      <th>timeOnPageHistory</th>\n",
       "      <th>scrollPercentageHistory</th>\n",
       "    </tr>\n",
       "  </thead>\n",
       "  <tbody>\n",
       "    <tr>\n",
       "      <th>count</th>\n",
       "      <td>6.349896e+06</td>\n",
       "      <td>6.349896e+06</td>\n",
       "      <td>6349896.0</td>\n",
       "    </tr>\n",
       "    <tr>\n",
       "      <th>mean</th>\n",
       "      <td>2.938048e-01</td>\n",
       "      <td>2.426974e-01</td>\n",
       "      <td>41.4767</td>\n",
       "    </tr>\n",
       "    <tr>\n",
       "      <th>std</th>\n",
       "      <td>3.365609e-01</td>\n",
       "      <td>2.127874e-01</td>\n",
       "      <td>21.818096</td>\n",
       "    </tr>\n",
       "    <tr>\n",
       "      <th>min</th>\n",
       "      <td>0.000000e+00</td>\n",
       "      <td>0.000000e+00</td>\n",
       "      <td>0.02</td>\n",
       "    </tr>\n",
       "    <tr>\n",
       "      <th>25%</th>\n",
       "      <td>0.000000e+00</td>\n",
       "      <td>7.086394e-02</td>\n",
       "      <td>24.620001</td>\n",
       "    </tr>\n",
       "    <tr>\n",
       "      <th>50%</th>\n",
       "      <td>2.018491e-01</td>\n",
       "      <td>1.860620e-01</td>\n",
       "      <td>40.349998</td>\n",
       "    </tr>\n",
       "    <tr>\n",
       "      <th>75%</th>\n",
       "      <td>5.666620e-01</td>\n",
       "      <td>3.497933e-01</td>\n",
       "      <td>56.27</td>\n",
       "    </tr>\n",
       "    <tr>\n",
       "      <th>max</th>\n",
       "      <td>1.000000e+00</td>\n",
       "      <td>1.000000e+00</td>\n",
       "      <td>100.0</td>\n",
       "    </tr>\n",
       "  </tbody>\n",
       "</table>\n",
       "</div>"
      ],
      "text/plain": [
       "       numberOfClicksHistory  timeOnPageHistory  scrollPercentageHistory\n",
       "count           6.349896e+06       6.349896e+06                6349896.0\n",
       "mean            2.938048e-01       2.426974e-01                  41.4767\n",
       "std             3.365609e-01       2.127874e-01                21.818096\n",
       "min             0.000000e+00       0.000000e+00                     0.02\n",
       "25%             0.000000e+00       7.086394e-02                24.620001\n",
       "50%             2.018491e-01       1.860620e-01                40.349998\n",
       "75%             5.666620e-01       3.497933e-01                    56.27\n",
       "max             1.000000e+00       1.000000e+00                    100.0"
      ]
     },
     "execution_count": 9,
     "metadata": {},
     "output_type": "execute_result"
    }
   ],
   "source": [
    "min_time_on_page_history = df_train_cleaned.loc[:, 'timeOnPageHistory'].min()\n",
    "max_time_on_page_history = df_train_cleaned.loc[:, 'timeOnPageHistory'].max()\n",
    "df_train_cleaned['timeOnPageHistory'] = df_train_cleaned['timeOnPageHistory'].apply(normalize_min_max,xmin=min_time_on_page_history, xmax=max_time_on_page_history)\n",
    "\n",
    "df_train_cleaned.describe()"
   ]
  },
  {
   "cell_type": "markdown",
   "metadata": {},
   "source": [
    "### scrollPercentageHistory\n",
    "* Just divide the percentage value by 100 to obtain normalized from 0 to 1."
   ]
  },
  {
   "cell_type": "code",
   "execution_count": 10,
   "metadata": {},
   "outputs": [
    {
     "data": {
      "text/html": [
       "<div>\n",
       "<style scoped>\n",
       "    .dataframe tbody tr th:only-of-type {\n",
       "        vertical-align: middle;\n",
       "    }\n",
       "\n",
       "    .dataframe tbody tr th {\n",
       "        vertical-align: top;\n",
       "    }\n",
       "\n",
       "    .dataframe thead th {\n",
       "        text-align: right;\n",
       "    }\n",
       "</style>\n",
       "<table border=\"1\" class=\"dataframe\">\n",
       "  <thead>\n",
       "    <tr style=\"text-align: right;\">\n",
       "      <th></th>\n",
       "      <th>numberOfClicksHistory</th>\n",
       "      <th>timeOnPageHistory</th>\n",
       "      <th>scrollPercentageHistory</th>\n",
       "    </tr>\n",
       "  </thead>\n",
       "  <tbody>\n",
       "    <tr>\n",
       "      <th>count</th>\n",
       "      <td>6.349896e+06</td>\n",
       "      <td>6.349896e+06</td>\n",
       "      <td>6349896.0</td>\n",
       "    </tr>\n",
       "    <tr>\n",
       "      <th>mean</th>\n",
       "      <td>2.938048e-01</td>\n",
       "      <td>2.426974e-01</td>\n",
       "      <td>0.414767</td>\n",
       "    </tr>\n",
       "    <tr>\n",
       "      <th>std</th>\n",
       "      <td>3.365609e-01</td>\n",
       "      <td>2.127874e-01</td>\n",
       "      <td>0.218181</td>\n",
       "    </tr>\n",
       "    <tr>\n",
       "      <th>min</th>\n",
       "      <td>0.000000e+00</td>\n",
       "      <td>0.000000e+00</td>\n",
       "      <td>0.0002</td>\n",
       "    </tr>\n",
       "    <tr>\n",
       "      <th>25%</th>\n",
       "      <td>0.000000e+00</td>\n",
       "      <td>7.086394e-02</td>\n",
       "      <td>0.2462</td>\n",
       "    </tr>\n",
       "    <tr>\n",
       "      <th>50%</th>\n",
       "      <td>2.018491e-01</td>\n",
       "      <td>1.860620e-01</td>\n",
       "      <td>0.4035</td>\n",
       "    </tr>\n",
       "    <tr>\n",
       "      <th>75%</th>\n",
       "      <td>5.666620e-01</td>\n",
       "      <td>3.497933e-01</td>\n",
       "      <td>0.5627</td>\n",
       "    </tr>\n",
       "    <tr>\n",
       "      <th>max</th>\n",
       "      <td>1.000000e+00</td>\n",
       "      <td>1.000000e+00</td>\n",
       "      <td>1.0</td>\n",
       "    </tr>\n",
       "  </tbody>\n",
       "</table>\n",
       "</div>"
      ],
      "text/plain": [
       "       numberOfClicksHistory  timeOnPageHistory  scrollPercentageHistory\n",
       "count           6.349896e+06       6.349896e+06                6349896.0\n",
       "mean            2.938048e-01       2.426974e-01                 0.414767\n",
       "std             3.365609e-01       2.127874e-01                 0.218181\n",
       "min             0.000000e+00       0.000000e+00                   0.0002\n",
       "25%             0.000000e+00       7.086394e-02                   0.2462\n",
       "50%             2.018491e-01       1.860620e-01                   0.4035\n",
       "75%             5.666620e-01       3.497933e-01                   0.5627\n",
       "max             1.000000e+00       1.000000e+00                      1.0"
      ]
     },
     "execution_count": 10,
     "metadata": {},
     "output_type": "execute_result"
    }
   ],
   "source": [
    "df_train_cleaned['scrollPercentageHistory'] = df_train_cleaned['scrollPercentageHistory']/100\n",
    "\n",
    "df_train_cleaned.describe()"
   ]
  },
  {
   "cell_type": "markdown",
   "metadata": {},
   "source": [
    "### Save Results to CSV"
   ]
  },
  {
   "cell_type": "code",
   "execution_count": 11,
   "metadata": {},
   "outputs": [],
   "source": [
    "df_train_cleaned.to_csv(config[\"DF_TRAIN_FEATURES_CSV\"])"
   ]
  }
 ],
 "metadata": {
  "kernelspec": {
   "display_name": ".venv",
   "language": "python",
   "name": "python3"
  },
  "language_info": {
   "codemirror_mode": {
    "name": "ipython",
    "version": 3
   },
   "file_extension": ".py",
   "mimetype": "text/x-python",
   "name": "python",
   "nbconvert_exporter": "python",
   "pygments_lexer": "ipython3",
   "version": "3.10.16"
  }
 },
 "nbformat": 4,
 "nbformat_minor": 2
}
