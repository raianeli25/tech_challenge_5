{
    "cells": [
        {
            "cell_type": "markdown",
            "metadata": {},
            "source": [
                "# Model recommendation with lighfm"
            ]
        },
        {
            "cell_type": "markdown",
            "metadata": {},
            "source": [
                "### Import libraries"
            ]
        },
        {
            "cell_type": "code",
            "execution_count": null,
            "metadata": {},
            "outputs": [],
            "source": [
                "import numpy as np\n",
                "import pandas as pd\n",
                "from lightfm import LightFM\n",
                "from lightfm.data import Dataset\n",
                "from lightfm import cross_validation\n",
                "import json"
            ]
        },
        {
            "cell_type": "markdown",
            "metadata": {},
            "source": [
                "### Defining variables"
            ]
        },
        {
            "cell_type": "code",
            "execution_count": null,
            "metadata": {},
            "outputs": [],
            "source": [
                "with open('config.json', 'r') as f:\n",
                "    config = json.load(f)"
            ]
        },
        {
            "cell_type": "code",
            "execution_count": 3,
            "metadata": {
                "tags": [
                    "parameters"
                ]
            },
            "outputs": [],
            "source": [
                "\n",
                "TEST_PERCENTAGE = 0.20\n",
                "LEARNING_RATE = 0.1\n",
                "NUM_EPOCHS = 80\n",
                "NUM_COMPONENTS = 10\n",
                "NUM_THREADS = 3\n",
                "ALPHA_REG_L2 = 1e-3\n",
                "MAX_SAMPLED = 10\n",
                "SEED = 42"
            ]
        },
        {
            "cell_type": "markdown",
            "metadata": {},
            "source": [
                "### Retrieve data"
            ]
        },
        {
            "cell_type": "code",
            "execution_count": 4,
            "metadata": {},
            "outputs": [],
            "source": [
                "dtype_df_train_score = {\n",
                "\"userId\" : 'string',\n",
                "\"userType\" : 'category',\n",
                "\"history\" : 'string',\n",
                "\"score\" : 'Float32'\n",
                "}"
            ]
        },
        {
            "cell_type": "code",
            "execution_count": null,
            "metadata": {},
            "outputs": [
                {
                    "data": {
                        "text/html": [
                            "<div>\n",
                            "<style scoped>\n",
                            "    .dataframe tbody tr th:only-of-type {\n",
                            "        vertical-align: middle;\n",
                            "    }\n",
                            "\n",
                            "    .dataframe tbody tr th {\n",
                            "        vertical-align: top;\n",
                            "    }\n",
                            "\n",
                            "    .dataframe thead th {\n",
                            "        text-align: right;\n",
                            "    }\n",
                            "</style>\n",
                            "<table border=\"1\" class=\"dataframe\">\n",
                            "  <thead>\n",
                            "    <tr style=\"text-align: right;\">\n",
                            "      <th></th>\n",
                            "      <th>Unnamed: 0</th>\n",
                            "      <th>userId</th>\n",
                            "      <th>history</th>\n",
                            "      <th>userType</th>\n",
                            "      <th>score</th>\n",
                            "    </tr>\n",
                            "  </thead>\n",
                            "  <tbody>\n",
                            "    <tr>\n",
                            "      <th>0</th>\n",
                            "      <td>0</td>\n",
                            "      <td>fbb963d61eb8149e7f43b1bd905457ba5e106a830ddc27...</td>\n",
                            "      <td>80aa7bb2-adce-4a55-9711-912c407927a1</td>\n",
                            "      <td>Non-Logged</td>\n",
                            "      <td>2.216477</td>\n",
                            "    </tr>\n",
                            "    <tr>\n",
                            "      <th>1</th>\n",
                            "      <td>1</td>\n",
                            "      <td>fbb963d61eb8149e7f43b1bd905457ba5e106a830ddc27...</td>\n",
                            "      <td>d9e5f15d-b441-4d8b-bee4-462b106d3916</td>\n",
                            "      <td>Non-Logged</td>\n",
                            "      <td>2.429501</td>\n",
                            "    </tr>\n",
                            "    <tr>\n",
                            "      <th>2</th>\n",
                            "      <td>2</td>\n",
                            "      <td>17f1083e6079b0f28f7820a6803583d1c1b405c0718b11...</td>\n",
                            "      <td>e273dba4-136c-45fb-bdd6-0cc57b13aaf0</td>\n",
                            "      <td>Non-Logged</td>\n",
                            "      <td>1.794861</td>\n",
                            "    </tr>\n",
                            "    <tr>\n",
                            "      <th>3</th>\n",
                            "      <td>3</td>\n",
                            "      <td>528a8d7a2af73101da8d6709c1ec875b449a5a58749a99...</td>\n",
                            "      <td>a0562805-c7d1-4ffd-b622-87c50ae006f4</td>\n",
                            "      <td>Non-Logged</td>\n",
                            "      <td>1.68271</td>\n",
                            "    </tr>\n",
                            "    <tr>\n",
                            "      <th>4</th>\n",
                            "      <td>4</td>\n",
                            "      <td>2dd18b58a634a4e77181a202cf152df6169dfb3e4230ef...</td>\n",
                            "      <td>233f8238-2ce0-470f-a9d5-0e0ac530382a</td>\n",
                            "      <td>Non-Logged</td>\n",
                            "      <td>2.266852</td>\n",
                            "    </tr>\n",
                            "    <tr>\n",
                            "      <th>...</th>\n",
                            "      <td>...</td>\n",
                            "      <td>...</td>\n",
                            "      <td>...</td>\n",
                            "      <td>...</td>\n",
                            "      <td>...</td>\n",
                            "    </tr>\n",
                            "    <tr>\n",
                            "      <th>6349891</th>\n",
                            "      <td>6349891</td>\n",
                            "      <td>5889d6ebbf62e6c115e0a280063dc8189cca490cbfea56...</td>\n",
                            "      <td>7a349b09-badc-40a9-a194-83d959aeb50c</td>\n",
                            "      <td>Non-Logged</td>\n",
                            "      <td>1.94055</td>\n",
                            "    </tr>\n",
                            "    <tr>\n",
                            "      <th>6349892</th>\n",
                            "      <td>6349892</td>\n",
                            "      <td>5889d6ebbf62e6c115e0a280063dc8189cca490cbfea56...</td>\n",
                            "      <td>6f344c45-e731-41b4-8c65-9967ebc03096</td>\n",
                            "      <td>Non-Logged</td>\n",
                            "      <td>3.361101</td>\n",
                            "    </tr>\n",
                            "    <tr>\n",
                            "      <th>6349893</th>\n",
                            "      <td>6349893</td>\n",
                            "      <td>5889d6ebbf62e6c115e0a280063dc8189cca490cbfea56...</td>\n",
                            "      <td>4c586bb4-f71d-4b39-9df8-e38ac3f632a0</td>\n",
                            "      <td>Non-Logged</td>\n",
                            "      <td>0.919598</td>\n",
                            "    </tr>\n",
                            "    <tr>\n",
                            "      <th>6349894</th>\n",
                            "      <td>6349894</td>\n",
                            "      <td>5889d6ebbf62e6c115e0a280063dc8189cca490cbfea56...</td>\n",
                            "      <td>855d20b7-53f2-4678-a10f-55402d085018</td>\n",
                            "      <td>Non-Logged</td>\n",
                            "      <td>1.990197</td>\n",
                            "    </tr>\n",
                            "    <tr>\n",
                            "      <th>6349895</th>\n",
                            "      <td>6349895</td>\n",
                            "      <td>5889d6ebbf62e6c115e0a280063dc8189cca490cbfea56...</td>\n",
                            "      <td>a47114d6-cac9-45fa-a4b7-987383f4ec29</td>\n",
                            "      <td>Non-Logged</td>\n",
                            "      <td>2.676192</td>\n",
                            "    </tr>\n",
                            "  </tbody>\n",
                            "</table>\n",
                            "<p>6349896 rows × 5 columns</p>\n",
                            "</div>"
                        ],
                        "text/plain": [
                            "         Unnamed: 0                                             userId  \\\n",
                            "0                 0  fbb963d61eb8149e7f43b1bd905457ba5e106a830ddc27...   \n",
                            "1                 1  fbb963d61eb8149e7f43b1bd905457ba5e106a830ddc27...   \n",
                            "2                 2  17f1083e6079b0f28f7820a6803583d1c1b405c0718b11...   \n",
                            "3                 3  528a8d7a2af73101da8d6709c1ec875b449a5a58749a99...   \n",
                            "4                 4  2dd18b58a634a4e77181a202cf152df6169dfb3e4230ef...   \n",
                            "...             ...                                                ...   \n",
                            "6349891     6349891  5889d6ebbf62e6c115e0a280063dc8189cca490cbfea56...   \n",
                            "6349892     6349892  5889d6ebbf62e6c115e0a280063dc8189cca490cbfea56...   \n",
                            "6349893     6349893  5889d6ebbf62e6c115e0a280063dc8189cca490cbfea56...   \n",
                            "6349894     6349894  5889d6ebbf62e6c115e0a280063dc8189cca490cbfea56...   \n",
                            "6349895     6349895  5889d6ebbf62e6c115e0a280063dc8189cca490cbfea56...   \n",
                            "\n",
                            "                                      history    userType     score  \n",
                            "0        80aa7bb2-adce-4a55-9711-912c407927a1  Non-Logged  2.216477  \n",
                            "1        d9e5f15d-b441-4d8b-bee4-462b106d3916  Non-Logged  2.429501  \n",
                            "2        e273dba4-136c-45fb-bdd6-0cc57b13aaf0  Non-Logged  1.794861  \n",
                            "3        a0562805-c7d1-4ffd-b622-87c50ae006f4  Non-Logged   1.68271  \n",
                            "4        233f8238-2ce0-470f-a9d5-0e0ac530382a  Non-Logged  2.266852  \n",
                            "...                                       ...         ...       ...  \n",
                            "6349891  7a349b09-badc-40a9-a194-83d959aeb50c  Non-Logged   1.94055  \n",
                            "6349892  6f344c45-e731-41b4-8c65-9967ebc03096  Non-Logged  3.361101  \n",
                            "6349893  4c586bb4-f71d-4b39-9df8-e38ac3f632a0  Non-Logged  0.919598  \n",
                            "6349894  855d20b7-53f2-4678-a10f-55402d085018  Non-Logged  1.990197  \n",
                            "6349895  a47114d6-cac9-45fa-a4b7-987383f4ec29  Non-Logged  2.676192  \n",
                            "\n",
                            "[6349896 rows x 5 columns]"
                        ]
                    },
                    "execution_count": 5,
                    "metadata": {},
                    "output_type": "execute_result"
                }
            ],
            "source": [
                "df_merged = pd.read_csv(config[\"DF_TRAIN_SCORES\"], dtype=dtype_df_train_score)\n",
                "df_merged.drop(columns=[\"Unnamed: 0\"],inplace=True)\n",
                "df_merged"
            ]
        },
        {
            "cell_type": "markdown",
            "metadata": {},
            "source": [
                "### Prepare data"
            ]
        },
        {
            "cell_type": "markdown",
            "metadata": {},
            "source": [
                "Before fitting the LightFM model, we need to create an instance of `Dataset` which holds the interaction matrix."
            ]
        },
        {
            "cell_type": "code",
            "execution_count": null,
            "metadata": {},
            "outputs": [],
            "source": [
                "dataset = Dataset()\n",
                "\n",
                "# Get unique values for users, items, and user features\n",
                "unique_users = df_merged[\"userId\"].unique()\n",
                "unique_items = df_merged[\"history\"].unique()\n",
                "unique_user_features = df_merged[\"userType\"].unique().tolist()\n",
                "\n",
                "# Fit dataset with users, items, and user feature names\n",
                "dataset.fit(\n",
                "    users=unique_users,\n",
                "    items=unique_items,\n",
                "    user_features=unique_user_features  # Register user features\n",
                ")"
            ]
        },
        {
            "cell_type": "code",
            "execution_count": null,
            "metadata": {},
            "outputs": [],
            "source": [
                "(interactions, weights) = dataset.build_interactions([\n",
                "    (row.userId, row.history, row.score) \n",
                "    for _, row in df_merged.iterrows()\n",
                "])"
            ]
        },
        {
            "cell_type": "code",
            "execution_count": null,
            "metadata": {},
            "outputs": [],
            "source": [
                "user_features_list = [\n",
                "    (row.userId, [row.userType])  \n",
                "    for _, row in df_merged.iterrows()\n",
                "]\n",
                "\n",
                "user_features = dataset.build_user_features(user_features_list)"
            ]
        },
        {
            "cell_type": "markdown",
            "metadata": {},
            "source": [
                "LightLM works slightly differently compared to other packages as it expects the train and test sets to have same dimension. Therefore the conventional train test split will not work.\n",
                "\n",
                "The package has included the `cross_validation.random_train_test_split` method to split the interaction data and splits it into two disjoint training and test sets. \n",
                "\n",
                "However, note that **it does not validate the interactions in the test set to guarantee all items and users have historical interactions in the training set**. Therefore this may result into a partial cold-start problem in the test set."
            ]
        },
        {
            "cell_type": "code",
            "execution_count": 24,
            "metadata": {},
            "outputs": [],
            "source": [
                "# Split train and test sets (80/20 split)\n",
                "train, test = cross_validation.random_train_test_split(interactions, test_percentage=TEST_PERCENTAGE, random_state=SEED)\n",
                "train_weights, test_weights  = cross_validation.random_train_test_split(weights, test_percentage=TEST_PERCENTAGE, random_state=SEED)\n"
            ]
        },
        {
            "cell_type": "markdown",
            "metadata": {},
            "source": [
                "Double check the size of both the train and test sets."
            ]
        },
        {
            "cell_type": "code",
            "execution_count": 25,
            "metadata": {},
            "outputs": [
                {
                    "name": "stdout",
                    "output_type": "stream",
                    "text": [
                        "Shape of train interactions: (530491, 230722)\n",
                        "Shape of test interactions: (530491, 230722)\n"
                    ]
                }
            ],
            "source": [
                "print(f\"Shape of train interactions: {train.shape}\")\n",
                "print(f\"Shape of test interactions: {test.shape}\")"
            ]
        },
        {
            "cell_type": "code",
            "execution_count": 26,
            "metadata": {},
            "outputs": [
                {
                    "name": "stdout",
                    "output_type": "stream",
                    "text": [
                        "Shape of train interactions: (530491, 230722)\n",
                        "Shape of test interactions: (530491, 230722)\n"
                    ]
                }
            ],
            "source": [
                "print(f\"Shape of train interactions: {train_weights.shape}\")\n",
                "print(f\"Shape of test interactions: {test_weights.shape}\")"
            ]
        },
        {
            "cell_type": "markdown",
            "metadata": {},
            "source": [
                "### Fit the LightFM model"
            ]
        },
        {
            "cell_type": "markdown",
            "metadata": {},
            "source": [
                "In this notebook, the LightFM model will be using the weighted Approximate-Rank Pairwise (WARP) as the loss. Further explanation on the topic can be found [here](https://making.lyst.com/lightfm/docs/examples/warp_loss.html#learning-to-rank-using-the-warp-loss).\n",
                "\n",
                "\n",
                "In general, it maximises the rank of positive examples by repeatedly sampling negative examples until a rank violation has been located. This approach is recommended when only positive interactions are present."
            ]
        },
        {
            "cell_type": "markdown",
            "metadata": {},
            "source": [
                "The LightFM model can be fitted with the following code:"
            ]
        },
        {
            "cell_type": "code",
            "execution_count": 27,
            "metadata": {
                "scrolled": true
            },
            "outputs": [
                {
                    "data": {
                        "text/plain": [
                            "<lightfm.lightfm.LightFM at 0x71ccd8b745e0>"
                        ]
                    },
                    "execution_count": 27,
                    "metadata": {},
                    "output_type": "execute_result"
                }
            ],
            "source": [
                "model = LightFM(no_components=NUM_COMPONENTS,loss=\"warp\",learning_rate=LEARNING_RATE,user_alpha=ALPHA_REG_L2,max_sampled=MAX_SAMPLED,random_state=np.random.RandomState(SEED))  # Weighted Approximate-Rank Pairwise (WARP) loss\n",
                "model.fit(train, sample_weight=train_weights, epochs=NUM_EPOCHS, num_threads=NUM_THREADS, user_features=user_features)\n"
            ]
        },
        {
            "cell_type": "markdown",
            "metadata": {},
            "source": [
                "### Evaluate model"
            ]
        },
        {
            "cell_type": "code",
            "execution_count": 28,
            "metadata": {},
            "outputs": [
                {
                    "name": "stdout",
                    "output_type": "stream",
                    "text": [
                        "AUC test Score: 0.8649\n",
                        "AUC train Score: 0.8549\n"
                    ]
                }
            ],
            "source": [
                "# Import the evaluation routines\n",
                "from lightfm.evaluation import auc_score\n",
                "\n",
                "# Compute evaluation metrics\n",
                "auc_train = auc_score(model, train, user_features=user_features, num_threads=NUM_THREADS).mean()\n",
                "auc_test = auc_score(model, test, train_interactions=train, user_features=user_features, num_threads=NUM_THREADS).mean()\n",
                "\n",
                "# Print evaluation results\n",
                "print(f\"AUC test Score: {auc_test:.4f}\")\n",
                "print(f\"AUC train Score: {auc_train:.4f}\")"
            ]
        },
        {
            "cell_type": "markdown",
            "metadata": {},
            "source": [
                "### Save pkls to serve model"
            ]
        },
        {
            "cell_type": "code",
            "execution_count": null,
            "metadata": {},
            "outputs": [],
            "source": [
                "user_id_map, user_feature_map, item_id_map, item_feature_map = dataset.mapping()\n",
                "item_id_map_reverse = {v: k for k, v in item_id_map.items()}\n",
                "interactions_shape = interactions.shape"
            ]
        },
        {
            "cell_type": "code",
            "execution_count": null,
            "metadata": {},
            "outputs": [],
            "source": [
                "from utils.custom_data_structs import UserItemData\n",
                "\n",
                "user_item_data = UserItemData(\n",
                "    user_id_map = user_id_map, \n",
                "    item_id_map = item_id_map, \n",
                "    user_id_map_reverse = None, \n",
                "    item_id_map_reverse = item_id_map_reverse, \n",
                "    user_feature_map = user_feature_map, \n",
                "    item_feature_map = item_feature_map, \n",
                "    interactions_shape = interactions_shape\n",
                "    )"
            ]
        },
        {
            "cell_type": "markdown",
            "metadata": {},
            "source": [
                "### Import Pkls to Test Serving Model"
            ]
        },
        {
            "cell_type": "code",
            "execution_count": null,
            "metadata": {},
            "outputs": [],
            "source": [
                "import pickle\n",
                "\n",
                "pickle.dump(model, open('artifacts/lightfm_model.pkl', 'wb'))\n",
                "pickle.dump(user_item_data, open('artifacts/user_item_data.pkl', 'wb'))"
            ]
        },
        {
            "cell_type": "code",
            "execution_count": 3,
            "metadata": {},
            "outputs": [],
            "source": [
                "import pickle\n",
                "from utils.custom_data_structs import UserItemData\n",
                "from utils.model_funcs import recommend_by_model_scores"
            ]
        },
        {
            "cell_type": "code",
            "execution_count": null,
            "metadata": {},
            "outputs": [],
            "source": [
                "loaded_model = pickle.load(open('artifacts/lightfm_model.pkl', 'rb'))\n",
                "loaded_user_item_data:UserItemData = pickle.load(open('artifacts/user_item_data.pkl', 'rb'))"
            ]
        },
        {
            "cell_type": "markdown",
            "metadata": {},
            "source": [
                "### Make predictions to known and unknowm on same recommendation function with pkls"
            ]
        },
        {
            "cell_type": "code",
            "execution_count": 6,
            "metadata": {},
            "outputs": [
                {
                    "name": "stdout",
                    "output_type": "stream",
                    "text": [
                        "['50392ead-f267-4b08-ab03-7f7c4440a8b5', 'c022aa46-74d5-4d9f-a880-6a885459d692', 'a203c57c-8693-45c8-a4bb-31f73bae4a8d', '1b31e22a-64a0-4bcd-ade2-b1bf2896c604', '25611826-eba1-49bd-b4bc-b582c9385763', 'e96714d4-00bf-4003-a27c-22fa1ccf7af4']\n"
                    ]
                }
            ],
            "source": [
                "# predict for known user\n",
                "user_feature_list = ['userType:Logged']\n",
                "user_hash = '5f5e17781fc2ec0ddcfb2e9356e61c5d3d4b0b3c8fabd20917feb9e807463856'\n",
                "recommendation_list = recommend_by_model_scores(user_hash,user_feature_list,loaded_user_item_data,loaded_model)\n",
                "print(recommendation_list)"
            ]
        },
        {
            "cell_type": "code",
            "execution_count": 7,
            "metadata": {},
            "outputs": [
                {
                    "name": "stdout",
                    "output_type": "stream",
                    "text": [
                        "new user feature encountered 'userType:Non-Logged'\n",
                        "['d2593c3d-2347-40d9-948c-b6065e8459a9', 'f6b5d170-48b9-4f8e-88d4-c84b6668f3bd', '1f32787b-de2b-49be-8c20-ddaeae34cc22', '6a83890a-d9e9-4f6b-a6c6-90d031785bbf', 'f0a78e58-ec7e-494c-9462-fbd6446a9a89', '4c63d7cd-4902-4ffb-9b94-578b1b2151f0']\n"
                    ]
                }
            ],
            "source": [
                "# predict for unknown user\n",
                "user_feature_list = ['userType:Non-Logged']\n",
                "user_hash = ''\n",
                "recommendation_list = recommend_by_model_scores(user_hash,user_feature_list,loaded_user_item_data,loaded_model)\n",
                "print(recommendation_list)"
            ]
        }
    ],
    "metadata": {
        "kernelspec": {
            "display_name": ".venv",
            "language": "python",
            "name": "python3"
        },
        "language_info": {
            "codemirror_mode": {
                "name": "ipython",
                "version": 3
            },
            "file_extension": ".py",
            "mimetype": "text/x-python",
            "name": "python",
            "nbconvert_exporter": "python",
            "pygments_lexer": "ipython3",
            "version": "3.10.16"
        }
    },
    "nbformat": 4,
    "nbformat_minor": 4
}
