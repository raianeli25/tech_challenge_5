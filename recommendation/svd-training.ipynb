{
 "cells": [
  {
   "cell_type": "markdown",
   "metadata": {},
   "source": [
    "# Modelo SVD\n",
    "- Métrica de avaliação: número de cliques na notícia\n",
    "- Pega mais \"populares\" para usuários não conhecidos"
   ]
  },
  {
   "cell_type": "code",
   "execution_count": 11,
   "metadata": {},
   "outputs": [
    {
     "name": "stdout",
     "output_type": "stream",
     "text": [
      "Requirement already satisfied: numpy in /home/raiane/Documentos/Projetos/.venv/lib/python3.10/site-packages (2.2.1)\n"
     ]
    }
   ],
   "source": [
    "!pip install -U numpy"
   ]
  },
  {
   "cell_type": "code",
   "execution_count": 9,
   "metadata": {},
   "outputs": [
    {
     "name": "stdout",
     "output_type": "stream",
     "text": [
      "Collecting scikit-surprise\n",
      "  Downloading scikit_surprise-1.1.4.tar.gz (154 kB)\n",
      "  Installing build dependencies ... \u001b[?25ldone\n",
      "\u001b[?25h  Getting requirements to build wheel ... \u001b[?25ldone\n",
      "\u001b[?25h  Preparing metadata (pyproject.toml) ... \u001b[?25ldone\n",
      "\u001b[?25hCollecting joblib>=1.2.0 (from scikit-surprise)\n",
      "  Using cached joblib-1.4.2-py3-none-any.whl.metadata (5.4 kB)\n",
      "Requirement already satisfied: numpy>=1.19.5 in /home/raiane/Documentos/Projetos/.venv/lib/python3.10/site-packages (from scikit-surprise) (2.2.1)\n",
      "Collecting scipy>=1.6.0 (from scikit-surprise)\n",
      "  Downloading scipy-1.14.1-cp310-cp310-manylinux_2_17_x86_64.manylinux2014_x86_64.whl.metadata (60 kB)\n",
      "Using cached joblib-1.4.2-py3-none-any.whl (301 kB)\n",
      "Downloading scipy-1.14.1-cp310-cp310-manylinux_2_17_x86_64.manylinux2014_x86_64.whl (41.2 MB)\n",
      "\u001b[2K   \u001b[90m━━━━━━━━━━━━━━━━━━━━━━━━━━━━━━━━━━━━━━━━\u001b[0m \u001b[32m41.2/41.2 MB\u001b[0m \u001b[31m18.6 MB/s\u001b[0m eta \u001b[36m0:00:00\u001b[0m00:01\u001b[0m00:01\u001b[0m\n",
      "\u001b[?25hBuilding wheels for collected packages: scikit-surprise\n",
      "  Building wheel for scikit-surprise (pyproject.toml) ... \u001b[?25ldone\n",
      "\u001b[?25h  Created wheel for scikit-surprise: filename=scikit_surprise-1.1.4-cp310-cp310-linux_x86_64.whl size=2357264 sha256=0e7fa347dd51cd0fa3d0d1bcd1f4214dee3ce29271ca848ce99f7b765cd6d189\n",
      "  Stored in directory: /home/raiane/.cache/pip/wheels/4b/3f/df/6acbf0a40397d9bf3ff97f582cc22fb9ce66adde75bc71fd54\n",
      "Successfully built scikit-surprise\n",
      "Installing collected packages: scipy, joblib, scikit-surprise\n",
      "Successfully installed joblib-1.4.2 scikit-surprise-1.1.4 scipy-1.14.1\n"
     ]
    }
   ],
   "source": [
    "!pip install scikit-surprise"
   ]
  },
  {
   "cell_type": "code",
   "execution_count": 17,
   "metadata": {},
   "outputs": [
    {
     "name": "stderr",
     "output_type": "stream",
     "text": [
      "\n",
      "A module that was compiled using NumPy 1.x cannot be run in\n",
      "NumPy 2.2.1 as it may crash. To support both 1.x and 2.x\n",
      "versions of NumPy, modules must be compiled with NumPy 2.0.\n",
      "Some module may need to rebuild instead e.g. with 'pybind11>=2.12'.\n",
      "\n",
      "If you are a user of the module, the easiest solution will be to\n",
      "downgrade to 'numpy<2' or try to upgrade the affected module.\n",
      "We expect that some modules will need time to support NumPy 2.\n",
      "\n",
      "Traceback (most recent call last):  File \"/usr/lib/python3.10/runpy.py\", line 196, in _run_module_as_main\n",
      "    return _run_code(code, main_globals, None,\n",
      "  File \"/usr/lib/python3.10/runpy.py\", line 86, in _run_code\n",
      "    exec(code, run_globals)\n",
      "  File \"/home/raiane/Documentos/Projetos/.venv/lib/python3.10/site-packages/ipykernel_launcher.py\", line 18, in <module>\n",
      "    app.launch_new_instance()\n",
      "  File \"/home/raiane/Documentos/Projetos/.venv/lib/python3.10/site-packages/traitlets/config/application.py\", line 1075, in launch_instance\n",
      "    app.start()\n",
      "  File \"/home/raiane/Documentos/Projetos/.venv/lib/python3.10/site-packages/ipykernel/kernelapp.py\", line 739, in start\n",
      "    self.io_loop.start()\n",
      "  File \"/home/raiane/Documentos/Projetos/.venv/lib/python3.10/site-packages/tornado/platform/asyncio.py\", line 205, in start\n",
      "    self.asyncio_loop.run_forever()\n",
      "  File \"/usr/lib/python3.10/asyncio/base_events.py\", line 603, in run_forever\n",
      "    self._run_once()\n",
      "  File \"/usr/lib/python3.10/asyncio/base_events.py\", line 1909, in _run_once\n",
      "    handle._run()\n",
      "  File \"/usr/lib/python3.10/asyncio/events.py\", line 80, in _run\n",
      "    self._context.run(self._callback, *self._args)\n",
      "  File \"/home/raiane/Documentos/Projetos/.venv/lib/python3.10/site-packages/ipykernel/kernelbase.py\", line 545, in dispatch_queue\n",
      "    await self.process_one()\n",
      "  File \"/home/raiane/Documentos/Projetos/.venv/lib/python3.10/site-packages/ipykernel/kernelbase.py\", line 534, in process_one\n",
      "    await dispatch(*args)\n",
      "  File \"/home/raiane/Documentos/Projetos/.venv/lib/python3.10/site-packages/ipykernel/kernelbase.py\", line 437, in dispatch_shell\n",
      "    await result\n",
      "  File \"/home/raiane/Documentos/Projetos/.venv/lib/python3.10/site-packages/ipykernel/ipkernel.py\", line 362, in execute_request\n",
      "    await super().execute_request(stream, ident, parent)\n",
      "  File \"/home/raiane/Documentos/Projetos/.venv/lib/python3.10/site-packages/ipykernel/kernelbase.py\", line 778, in execute_request\n",
      "    reply_content = await reply_content\n",
      "  File \"/home/raiane/Documentos/Projetos/.venv/lib/python3.10/site-packages/ipykernel/ipkernel.py\", line 449, in do_execute\n",
      "    res = shell.run_cell(\n",
      "  File \"/home/raiane/Documentos/Projetos/.venv/lib/python3.10/site-packages/ipykernel/zmqshell.py\", line 549, in run_cell\n",
      "    return super().run_cell(*args, **kwargs)\n",
      "  File \"/home/raiane/Documentos/Projetos/.venv/lib/python3.10/site-packages/IPython/core/interactiveshell.py\", line 3075, in run_cell\n",
      "    result = self._run_cell(\n",
      "  File \"/home/raiane/Documentos/Projetos/.venv/lib/python3.10/site-packages/IPython/core/interactiveshell.py\", line 3130, in _run_cell\n",
      "    result = runner(coro)\n",
      "  File \"/home/raiane/Documentos/Projetos/.venv/lib/python3.10/site-packages/IPython/core/async_helpers.py\", line 128, in _pseudo_sync_runner\n",
      "    coro.send(None)\n",
      "  File \"/home/raiane/Documentos/Projetos/.venv/lib/python3.10/site-packages/IPython/core/interactiveshell.py\", line 3334, in run_cell_async\n",
      "    has_raised = await self.run_ast_nodes(code_ast.body, cell_name,\n",
      "  File \"/home/raiane/Documentos/Projetos/.venv/lib/python3.10/site-packages/IPython/core/interactiveshell.py\", line 3517, in run_ast_nodes\n",
      "    if await self.run_code(code, result, async_=asy):\n",
      "  File \"/home/raiane/Documentos/Projetos/.venv/lib/python3.10/site-packages/IPython/core/interactiveshell.py\", line 3577, in run_code\n",
      "    exec(code_obj, self.user_global_ns, self.user_ns)\n",
      "  File \"/tmp/ipykernel_26794/1533238789.py\", line 1, in <module>\n",
      "    from surprise import Dataset, SVD\n",
      "  File \"/home/raiane/Documentos/Projetos/.venv/lib/python3.10/site-packages/surprise/__init__.py\", line 6, in <module>\n",
      "    from .prediction_algorithms import (\n",
      "  File \"/home/raiane/Documentos/Projetos/.venv/lib/python3.10/site-packages/surprise/prediction_algorithms/__init__.py\", line 23, in <module>\n",
      "    from .algo_base import AlgoBase\n",
      "  File \"/home/raiane/Documentos/Projetos/.venv/lib/python3.10/site-packages/surprise/prediction_algorithms/algo_base.py\", line 8, in <module>\n",
      "    from .. import similarities as sims\n"
     ]
    },
    {
     "ename": "ImportError",
     "evalue": "numpy.core.multiarray failed to import (auto-generated because you didn't call 'numpy.import_array()' after cimporting numpy; use '<void>numpy._import_array' to disable if you are certain you don't need it).",
     "output_type": "error",
     "traceback": [
      "\u001b[0;31m---------------------------------------------------------------------------\u001b[0m",
      "\u001b[0;31mImportError\u001b[0m                               Traceback (most recent call last)",
      "Cell \u001b[0;32mIn[17], line 1\u001b[0m\n\u001b[0;32m----> 1\u001b[0m \u001b[38;5;28;01mfrom\u001b[39;00m \u001b[38;5;21;01msurprise\u001b[39;00m \u001b[38;5;28;01mimport\u001b[39;00m Dataset, SVD\n\u001b[1;32m      2\u001b[0m \u001b[38;5;28;01mfrom\u001b[39;00m \u001b[38;5;21;01msurprise\u001b[39;00m\u001b[38;5;21;01m.\u001b[39;00m\u001b[38;5;21;01mmodel_selection\u001b[39;00m \u001b[38;5;28;01mimport\u001b[39;00m cross_validate\n",
      "File \u001b[0;32m~/Documentos/Projetos/.venv/lib/python3.10/site-packages/surprise/__init__.py:6\u001b[0m\n\u001b[1;32m      2\u001b[0m \u001b[38;5;28;01mfrom\u001b[39;00m \u001b[38;5;21;01m.\u001b[39;00m\u001b[38;5;21;01mbuiltin_datasets\u001b[39;00m \u001b[38;5;28;01mimport\u001b[39;00m get_dataset_dir\n\u001b[1;32m      4\u001b[0m \u001b[38;5;28;01mfrom\u001b[39;00m \u001b[38;5;21;01m.\u001b[39;00m\u001b[38;5;21;01mdataset\u001b[39;00m \u001b[38;5;28;01mimport\u001b[39;00m Dataset\n\u001b[0;32m----> 6\u001b[0m \u001b[38;5;28;01mfrom\u001b[39;00m \u001b[38;5;21;01m.\u001b[39;00m\u001b[38;5;21;01mprediction_algorithms\u001b[39;00m \u001b[38;5;28;01mimport\u001b[39;00m (\n\u001b[1;32m      7\u001b[0m     AlgoBase,\n\u001b[1;32m      8\u001b[0m     BaselineOnly,\n\u001b[1;32m      9\u001b[0m     CoClustering,\n\u001b[1;32m     10\u001b[0m     KNNBaseline,\n\u001b[1;32m     11\u001b[0m     KNNBasic,\n\u001b[1;32m     12\u001b[0m     KNNWithMeans,\n\u001b[1;32m     13\u001b[0m     KNNWithZScore,\n\u001b[1;32m     14\u001b[0m     NMF,\n\u001b[1;32m     15\u001b[0m     NormalPredictor,\n\u001b[1;32m     16\u001b[0m     Prediction,\n\u001b[1;32m     17\u001b[0m     PredictionImpossible,\n\u001b[1;32m     18\u001b[0m     SlopeOne,\n\u001b[1;32m     19\u001b[0m     SVD,\n\u001b[1;32m     20\u001b[0m     SVDpp,\n\u001b[1;32m     21\u001b[0m )\n\u001b[1;32m     22\u001b[0m \u001b[38;5;28;01mfrom\u001b[39;00m \u001b[38;5;21;01m.\u001b[39;00m\u001b[38;5;21;01mreader\u001b[39;00m \u001b[38;5;28;01mimport\u001b[39;00m Reader\n\u001b[1;32m     23\u001b[0m \u001b[38;5;28;01mfrom\u001b[39;00m \u001b[38;5;21;01m.\u001b[39;00m\u001b[38;5;21;01mtrainset\u001b[39;00m \u001b[38;5;28;01mimport\u001b[39;00m Trainset\n",
      "File \u001b[0;32m~/Documentos/Projetos/.venv/lib/python3.10/site-packages/surprise/prediction_algorithms/__init__.py:23\u001b[0m\n\u001b[1;32m      1\u001b[0m \u001b[38;5;124;03m\"\"\"\u001b[39;00m\n\u001b[1;32m      2\u001b[0m \u001b[38;5;124;03mThe :mod:`prediction_algorithms` package includes the prediction algorithms\u001b[39;00m\n\u001b[1;32m      3\u001b[0m \u001b[38;5;124;03mavailable for recommendation.\u001b[39;00m\n\u001b[0;32m   (...)\u001b[0m\n\u001b[1;32m     20\u001b[0m \u001b[38;5;124;03m    co_clustering.CoClustering\u001b[39;00m\n\u001b[1;32m     21\u001b[0m \u001b[38;5;124;03m\"\"\"\u001b[39;00m\n\u001b[0;32m---> 23\u001b[0m \u001b[38;5;28;01mfrom\u001b[39;00m \u001b[38;5;21;01m.\u001b[39;00m\u001b[38;5;21;01malgo_base\u001b[39;00m \u001b[38;5;28;01mimport\u001b[39;00m AlgoBase\n\u001b[1;32m     24\u001b[0m \u001b[38;5;28;01mfrom\u001b[39;00m \u001b[38;5;21;01m.\u001b[39;00m\u001b[38;5;21;01mbaseline_only\u001b[39;00m \u001b[38;5;28;01mimport\u001b[39;00m BaselineOnly\n\u001b[1;32m     25\u001b[0m \u001b[38;5;28;01mfrom\u001b[39;00m \u001b[38;5;21;01m.\u001b[39;00m\u001b[38;5;21;01mco_clustering\u001b[39;00m \u001b[38;5;28;01mimport\u001b[39;00m CoClustering\n",
      "File \u001b[0;32m~/Documentos/Projetos/.venv/lib/python3.10/site-packages/surprise/prediction_algorithms/algo_base.py:8\u001b[0m\n\u001b[1;32m      1\u001b[0m \u001b[38;5;124;03m\"\"\"\u001b[39;00m\n\u001b[1;32m      2\u001b[0m \u001b[38;5;124;03mThe :mod:`surprise.prediction_algorithms.algo_base` module defines the base\u001b[39;00m\n\u001b[1;32m      3\u001b[0m \u001b[38;5;124;03mclass :class:`AlgoBase` from which every single prediction algorithm has to\u001b[39;00m\n\u001b[1;32m      4\u001b[0m \u001b[38;5;124;03minherit.\u001b[39;00m\n\u001b[1;32m      5\u001b[0m \u001b[38;5;124;03m\"\"\"\u001b[39;00m\n\u001b[1;32m      6\u001b[0m \u001b[38;5;28;01mimport\u001b[39;00m \u001b[38;5;21;01mheapq\u001b[39;00m\n\u001b[0;32m----> 8\u001b[0m \u001b[38;5;28;01mfrom\u001b[39;00m \u001b[38;5;21;01m.\u001b[39;00m\u001b[38;5;21;01m.\u001b[39;00m \u001b[38;5;28;01mimport\u001b[39;00m similarities \u001b[38;5;28;01mas\u001b[39;00m sims\n\u001b[1;32m      9\u001b[0m \u001b[38;5;28;01mfrom\u001b[39;00m \u001b[38;5;21;01m.\u001b[39;00m\u001b[38;5;21;01moptimize_baselines\u001b[39;00m \u001b[38;5;28;01mimport\u001b[39;00m baseline_als, baseline_sgd\n\u001b[1;32m     10\u001b[0m \u001b[38;5;28;01mfrom\u001b[39;00m \u001b[38;5;21;01m.\u001b[39;00m\u001b[38;5;21;01mpredictions\u001b[39;00m \u001b[38;5;28;01mimport\u001b[39;00m Prediction, PredictionImpossible\n",
      "File \u001b[0;32m~/Documentos/Projetos/.venv/lib/python3.10/site-packages/surprise/similarities.pyx:1\u001b[0m, in \u001b[0;36minit surprise.similarities\u001b[0;34m()\u001b[0m\n",
      "\u001b[0;31mImportError\u001b[0m: numpy.core.multiarray failed to import (auto-generated because you didn't call 'numpy.import_array()' after cimporting numpy; use '<void>numpy._import_array' to disable if you are certain you don't need it)."
     ]
    }
   ],
   "source": [
    "from surprise import Dataset, SVD\n",
    "from surprise.model_selection import cross_validate"
   ]
  },
  {
   "cell_type": "code",
   "execution_count": 22,
   "metadata": {},
   "outputs": [
    {
     "name": "stdout",
     "output_type": "stream",
     "text": [
      "scikit-surprise==1.1.4\n"
     ]
    }
   ],
   "source": [
    "!pip freeze | grep surprise"
   ]
  },
  {
   "cell_type": "code",
   "execution_count": null,
   "metadata": {},
   "outputs": [
    {
     "name": "stderr",
     "output_type": "stream",
     "text": [
      "\n",
      "A module that was compiled using NumPy 1.x cannot be run in\n",
      "NumPy 2.2.1 as it may crash. To support both 1.x and 2.x\n",
      "versions of NumPy, modules must be compiled with NumPy 2.0.\n",
      "Some module may need to rebuild instead e.g. with 'pybind11>=2.12'.\n",
      "\n",
      "If you are a user of the module, the easiest solution will be to\n",
      "downgrade to 'numpy<2' or try to upgrade the affected module.\n",
      "We expect that some modules will need time to support NumPy 2.\n",
      "\n",
      "Traceback (most recent call last):  File \"/usr/lib/python3.10/runpy.py\", line 196, in _run_module_as_main\n",
      "    return _run_code(code, main_globals, None,\n",
      "  File \"/usr/lib/python3.10/runpy.py\", line 86, in _run_code\n",
      "    exec(code, run_globals)\n",
      "  File \"/home/raiane/Documentos/Projetos/.venv/lib/python3.10/site-packages/ipykernel_launcher.py\", line 18, in <module>\n",
      "    app.launch_new_instance()\n",
      "  File \"/home/raiane/Documentos/Projetos/.venv/lib/python3.10/site-packages/traitlets/config/application.py\", line 1075, in launch_instance\n",
      "    app.start()\n",
      "  File \"/home/raiane/Documentos/Projetos/.venv/lib/python3.10/site-packages/ipykernel/kernelapp.py\", line 739, in start\n",
      "    self.io_loop.start()\n",
      "  File \"/home/raiane/Documentos/Projetos/.venv/lib/python3.10/site-packages/tornado/platform/asyncio.py\", line 205, in start\n",
      "    self.asyncio_loop.run_forever()\n",
      "  File \"/usr/lib/python3.10/asyncio/base_events.py\", line 603, in run_forever\n",
      "    self._run_once()\n",
      "  File \"/usr/lib/python3.10/asyncio/base_events.py\", line 1909, in _run_once\n",
      "    handle._run()\n",
      "  File \"/usr/lib/python3.10/asyncio/events.py\", line 80, in _run\n",
      "    self._context.run(self._callback, *self._args)\n",
      "  File \"/home/raiane/Documentos/Projetos/.venv/lib/python3.10/site-packages/ipykernel/kernelbase.py\", line 545, in dispatch_queue\n",
      "    await self.process_one()\n",
      "  File \"/home/raiane/Documentos/Projetos/.venv/lib/python3.10/site-packages/ipykernel/kernelbase.py\", line 534, in process_one\n",
      "    await dispatch(*args)\n",
      "  File \"/home/raiane/Documentos/Projetos/.venv/lib/python3.10/site-packages/ipykernel/kernelbase.py\", line 437, in dispatch_shell\n",
      "    await result\n",
      "  File \"/home/raiane/Documentos/Projetos/.venv/lib/python3.10/site-packages/ipykernel/ipkernel.py\", line 362, in execute_request\n",
      "    await super().execute_request(stream, ident, parent)\n",
      "  File \"/home/raiane/Documentos/Projetos/.venv/lib/python3.10/site-packages/ipykernel/kernelbase.py\", line 778, in execute_request\n",
      "    reply_content = await reply_content\n",
      "  File \"/home/raiane/Documentos/Projetos/.venv/lib/python3.10/site-packages/ipykernel/ipkernel.py\", line 449, in do_execute\n",
      "    res = shell.run_cell(\n",
      "  File \"/home/raiane/Documentos/Projetos/.venv/lib/python3.10/site-packages/ipykernel/zmqshell.py\", line 549, in run_cell\n",
      "    return super().run_cell(*args, **kwargs)\n",
      "  File \"/home/raiane/Documentos/Projetos/.venv/lib/python3.10/site-packages/IPython/core/interactiveshell.py\", line 3075, in run_cell\n",
      "    result = self._run_cell(\n",
      "  File \"/home/raiane/Documentos/Projetos/.venv/lib/python3.10/site-packages/IPython/core/interactiveshell.py\", line 3130, in _run_cell\n",
      "    result = runner(coro)\n",
      "  File \"/home/raiane/Documentos/Projetos/.venv/lib/python3.10/site-packages/IPython/core/async_helpers.py\", line 128, in _pseudo_sync_runner\n",
      "    coro.send(None)\n",
      "  File \"/home/raiane/Documentos/Projetos/.venv/lib/python3.10/site-packages/IPython/core/interactiveshell.py\", line 3334, in run_cell_async\n",
      "    has_raised = await self.run_ast_nodes(code_ast.body, cell_name,\n",
      "  File \"/home/raiane/Documentos/Projetos/.venv/lib/python3.10/site-packages/IPython/core/interactiveshell.py\", line 3517, in run_ast_nodes\n",
      "    if await self.run_code(code, result, async_=asy):\n",
      "  File \"/home/raiane/Documentos/Projetos/.venv/lib/python3.10/site-packages/IPython/core/interactiveshell.py\", line 3577, in run_code\n",
      "    exec(code_obj, self.user_global_ns, self.user_ns)\n",
      "  File \"/tmp/ipykernel_26794/435604805.py\", line 2, in <module>\n",
      "    import surprise\n",
      "  File \"/home/raiane/Documentos/Projetos/.venv/lib/python3.10/site-packages/surprise/__init__.py\", line 6, in <module>\n",
      "    from .prediction_algorithms import (\n",
      "  File \"/home/raiane/Documentos/Projetos/.venv/lib/python3.10/site-packages/surprise/prediction_algorithms/__init__.py\", line 23, in <module>\n",
      "    from .algo_base import AlgoBase\n",
      "  File \"/home/raiane/Documentos/Projetos/.venv/lib/python3.10/site-packages/surprise/prediction_algorithms/algo_base.py\", line 8, in <module>\n",
      "    from .. import similarities as sims\n"
     ]
    },
    {
     "ename": "ImportError",
     "evalue": "numpy.core.multiarray failed to import (auto-generated because you didn't call 'numpy.import_array()' after cimporting numpy; use '<void>numpy._import_array' to disable if you are certain you don't need it).",
     "output_type": "error",
     "traceback": [
      "\u001b[0;31m---------------------------------------------------------------------------\u001b[0m",
      "\u001b[0;31mImportError\u001b[0m                               Traceback (most recent call last)",
      "Cell \u001b[0;32mIn[13], line 2\u001b[0m\n\u001b[1;32m      1\u001b[0m \u001b[38;5;28;01mimport\u001b[39;00m \u001b[38;5;21;01msys\u001b[39;00m\n\u001b[0;32m----> 2\u001b[0m \u001b[38;5;28;01mimport\u001b[39;00m \u001b[38;5;21;01msurprise\u001b[39;00m\n",
      "File \u001b[0;32m~/Documentos/Projetos/.venv/lib/python3.10/site-packages/surprise/__init__.py:6\u001b[0m\n\u001b[1;32m      2\u001b[0m \u001b[38;5;28;01mfrom\u001b[39;00m \u001b[38;5;21;01m.\u001b[39;00m\u001b[38;5;21;01mbuiltin_datasets\u001b[39;00m \u001b[38;5;28;01mimport\u001b[39;00m get_dataset_dir\n\u001b[1;32m      4\u001b[0m \u001b[38;5;28;01mfrom\u001b[39;00m \u001b[38;5;21;01m.\u001b[39;00m\u001b[38;5;21;01mdataset\u001b[39;00m \u001b[38;5;28;01mimport\u001b[39;00m Dataset\n\u001b[0;32m----> 6\u001b[0m \u001b[38;5;28;01mfrom\u001b[39;00m \u001b[38;5;21;01m.\u001b[39;00m\u001b[38;5;21;01mprediction_algorithms\u001b[39;00m \u001b[38;5;28;01mimport\u001b[39;00m (\n\u001b[1;32m      7\u001b[0m     AlgoBase,\n\u001b[1;32m      8\u001b[0m     BaselineOnly,\n\u001b[1;32m      9\u001b[0m     CoClustering,\n\u001b[1;32m     10\u001b[0m     KNNBaseline,\n\u001b[1;32m     11\u001b[0m     KNNBasic,\n\u001b[1;32m     12\u001b[0m     KNNWithMeans,\n\u001b[1;32m     13\u001b[0m     KNNWithZScore,\n\u001b[1;32m     14\u001b[0m     NMF,\n\u001b[1;32m     15\u001b[0m     NormalPredictor,\n\u001b[1;32m     16\u001b[0m     Prediction,\n\u001b[1;32m     17\u001b[0m     PredictionImpossible,\n\u001b[1;32m     18\u001b[0m     SlopeOne,\n\u001b[1;32m     19\u001b[0m     SVD,\n\u001b[1;32m     20\u001b[0m     SVDpp,\n\u001b[1;32m     21\u001b[0m )\n\u001b[1;32m     22\u001b[0m \u001b[38;5;28;01mfrom\u001b[39;00m \u001b[38;5;21;01m.\u001b[39;00m\u001b[38;5;21;01mreader\u001b[39;00m \u001b[38;5;28;01mimport\u001b[39;00m Reader\n\u001b[1;32m     23\u001b[0m \u001b[38;5;28;01mfrom\u001b[39;00m \u001b[38;5;21;01m.\u001b[39;00m\u001b[38;5;21;01mtrainset\u001b[39;00m \u001b[38;5;28;01mimport\u001b[39;00m Trainset\n",
      "File \u001b[0;32m~/Documentos/Projetos/.venv/lib/python3.10/site-packages/surprise/prediction_algorithms/__init__.py:23\u001b[0m\n\u001b[1;32m      1\u001b[0m \u001b[38;5;124;03m\"\"\"\u001b[39;00m\n\u001b[1;32m      2\u001b[0m \u001b[38;5;124;03mThe :mod:`prediction_algorithms` package includes the prediction algorithms\u001b[39;00m\n\u001b[1;32m      3\u001b[0m \u001b[38;5;124;03mavailable for recommendation.\u001b[39;00m\n\u001b[0;32m   (...)\u001b[0m\n\u001b[1;32m     20\u001b[0m \u001b[38;5;124;03m    co_clustering.CoClustering\u001b[39;00m\n\u001b[1;32m     21\u001b[0m \u001b[38;5;124;03m\"\"\"\u001b[39;00m\n\u001b[0;32m---> 23\u001b[0m \u001b[38;5;28;01mfrom\u001b[39;00m \u001b[38;5;21;01m.\u001b[39;00m\u001b[38;5;21;01malgo_base\u001b[39;00m \u001b[38;5;28;01mimport\u001b[39;00m AlgoBase\n\u001b[1;32m     24\u001b[0m \u001b[38;5;28;01mfrom\u001b[39;00m \u001b[38;5;21;01m.\u001b[39;00m\u001b[38;5;21;01mbaseline_only\u001b[39;00m \u001b[38;5;28;01mimport\u001b[39;00m BaselineOnly\n\u001b[1;32m     25\u001b[0m \u001b[38;5;28;01mfrom\u001b[39;00m \u001b[38;5;21;01m.\u001b[39;00m\u001b[38;5;21;01mco_clustering\u001b[39;00m \u001b[38;5;28;01mimport\u001b[39;00m CoClustering\n",
      "File \u001b[0;32m~/Documentos/Projetos/.venv/lib/python3.10/site-packages/surprise/prediction_algorithms/algo_base.py:8\u001b[0m\n\u001b[1;32m      1\u001b[0m \u001b[38;5;124;03m\"\"\"\u001b[39;00m\n\u001b[1;32m      2\u001b[0m \u001b[38;5;124;03mThe :mod:`surprise.prediction_algorithms.algo_base` module defines the base\u001b[39;00m\n\u001b[1;32m      3\u001b[0m \u001b[38;5;124;03mclass :class:`AlgoBase` from which every single prediction algorithm has to\u001b[39;00m\n\u001b[1;32m      4\u001b[0m \u001b[38;5;124;03minherit.\u001b[39;00m\n\u001b[1;32m      5\u001b[0m \u001b[38;5;124;03m\"\"\"\u001b[39;00m\n\u001b[1;32m      6\u001b[0m \u001b[38;5;28;01mimport\u001b[39;00m \u001b[38;5;21;01mheapq\u001b[39;00m\n\u001b[0;32m----> 8\u001b[0m \u001b[38;5;28;01mfrom\u001b[39;00m \u001b[38;5;21;01m.\u001b[39;00m\u001b[38;5;21;01m.\u001b[39;00m \u001b[38;5;28;01mimport\u001b[39;00m similarities \u001b[38;5;28;01mas\u001b[39;00m sims\n\u001b[1;32m      9\u001b[0m \u001b[38;5;28;01mfrom\u001b[39;00m \u001b[38;5;21;01m.\u001b[39;00m\u001b[38;5;21;01moptimize_baselines\u001b[39;00m \u001b[38;5;28;01mimport\u001b[39;00m baseline_als, baseline_sgd\n\u001b[1;32m     10\u001b[0m \u001b[38;5;28;01mfrom\u001b[39;00m \u001b[38;5;21;01m.\u001b[39;00m\u001b[38;5;21;01mpredictions\u001b[39;00m \u001b[38;5;28;01mimport\u001b[39;00m Prediction, PredictionImpossible\n",
      "File \u001b[0;32m~/Documentos/Projetos/.venv/lib/python3.10/site-packages/surprise/similarities.pyx:1\u001b[0m, in \u001b[0;36minit surprise.similarities\u001b[0;34m()\u001b[0m\n",
      "\u001b[0;31mImportError\u001b[0m: numpy.core.multiarray failed to import (auto-generated because you didn't call 'numpy.import_array()' after cimporting numpy; use '<void>numpy._import_array' to disable if you are certain you don't need it)."
     ]
    }
   ],
   "source": [
    "import sys\n",
    "import surprise\n",
    "\n",
    "from recommenders.utils.timer import Timer\n",
    "from recommenders.datasets import movielens\n",
    "from recommenders.datasets.python_splitters import python_random_split\n",
    "from recommenders.evaluation.python_evaluation import (\n",
    "    rmse,\n",
    "    mae,\n",
    "    rsquared,\n",
    "    exp_var,\n",
    "    map_at_k,\n",
    "    ndcg_at_k,\n",
    "    precision_at_k,\n",
    "    recall_at_k,\n",
    "    get_top_k_items,\n",
    ")\n",
    "from recommenders.models.surprise.surprise_utils import (\n",
    "    predict,\n",
    "    compute_ranking_predictions,\n",
    ")\n",
    "from recommenders.utils.notebook_utils import store_metadata\n",
    "\n",
    "\n",
    "print(f\"System version: {sys.version}\")\n",
    "print(f\"Surprise version: {surprise.__version__}\")"
   ]
  },
  {
   "cell_type": "code",
   "execution_count": 2,
   "metadata": {},
   "outputs": [],
   "source": [
    "import pandas as pd\n",
    "\n",
    "df_training = pd.read_csv(\"../data/training_data.csv\")\n",
    "df_news = pd.read_csv(\"../data/noticias.csv\")"
   ]
  },
  {
   "cell_type": "code",
   "execution_count": 3,
   "metadata": {},
   "outputs": [],
   "source": [
    "df_training = df_training.drop(columns=[\"Unnamed: 0\",\"timeOnPageHistory\",\"scrollPercentageHistory\",\"pageVisitsCountHistory\"])\n",
    "df_news= df_news.drop(columns=[\"Unnamed: 0\"])"
   ]
  },
  {
   "cell_type": "code",
   "execution_count": 4,
   "metadata": {},
   "outputs": [
    {
     "data": {
      "text/html": [
       "<div>\n",
       "<style scoped>\n",
       "    .dataframe tbody tr th:only-of-type {\n",
       "        vertical-align: middle;\n",
       "    }\n",
       "\n",
       "    .dataframe tbody tr th {\n",
       "        vertical-align: top;\n",
       "    }\n",
       "\n",
       "    .dataframe thead th {\n",
       "        text-align: right;\n",
       "    }\n",
       "</style>\n",
       "<table border=\"1\" class=\"dataframe\">\n",
       "  <thead>\n",
       "    <tr style=\"text-align: right;\">\n",
       "      <th></th>\n",
       "      <th>userId</th>\n",
       "      <th>history</th>\n",
       "      <th>numberOfClicksHistory</th>\n",
       "    </tr>\n",
       "  </thead>\n",
       "  <tbody>\n",
       "    <tr>\n",
       "      <th>0</th>\n",
       "      <td>0</td>\n",
       "      <td>c8aab885-433d-4e46-8066-479f40ba7fb2</td>\n",
       "      <td>76</td>\n",
       "    </tr>\n",
       "    <tr>\n",
       "      <th>1</th>\n",
       "      <td>0</td>\n",
       "      <td>68d2039c-c9aa-456c-ac33-9b2e8677fba7</td>\n",
       "      <td>38</td>\n",
       "    </tr>\n",
       "    <tr>\n",
       "      <th>2</th>\n",
       "      <td>0</td>\n",
       "      <td>13e423ce-1d69-4c78-bc18-e8c8f7271964</td>\n",
       "      <td>41</td>\n",
       "    </tr>\n",
       "    <tr>\n",
       "      <th>3</th>\n",
       "      <td>1</td>\n",
       "      <td>3325b5a1-979a-4cb3-82b6-63905c9edbe8</td>\n",
       "      <td>7</td>\n",
       "    </tr>\n",
       "    <tr>\n",
       "      <th>4</th>\n",
       "      <td>1</td>\n",
       "      <td>fe856057-f97d-419f-ab1c-97c5c3e0719c</td>\n",
       "      <td>80</td>\n",
       "    </tr>\n",
       "  </tbody>\n",
       "</table>\n",
       "</div>"
      ],
      "text/plain": [
       "   userId                               history  numberOfClicksHistory\n",
       "0       0  c8aab885-433d-4e46-8066-479f40ba7fb2                     76\n",
       "1       0  68d2039c-c9aa-456c-ac33-9b2e8677fba7                     38\n",
       "2       0  13e423ce-1d69-4c78-bc18-e8c8f7271964                     41\n",
       "3       1  3325b5a1-979a-4cb3-82b6-63905c9edbe8                      7\n",
       "4       1  fe856057-f97d-419f-ab1c-97c5c3e0719c                     80"
      ]
     },
     "execution_count": 4,
     "metadata": {},
     "output_type": "execute_result"
    }
   ],
   "source": [
    "df_training.head()"
   ]
  },
  {
   "cell_type": "code",
   "execution_count": 5,
   "metadata": {},
   "outputs": [
    {
     "data": {
      "text/html": [
       "<div>\n",
       "<style scoped>\n",
       "    .dataframe tbody tr th:only-of-type {\n",
       "        vertical-align: middle;\n",
       "    }\n",
       "\n",
       "    .dataframe tbody tr th {\n",
       "        vertical-align: top;\n",
       "    }\n",
       "\n",
       "    .dataframe thead th {\n",
       "        text-align: right;\n",
       "    }\n",
       "</style>\n",
       "<table border=\"1\" class=\"dataframe\">\n",
       "  <thead>\n",
       "    <tr style=\"text-align: right;\">\n",
       "      <th></th>\n",
       "      <th>page</th>\n",
       "      <th>url</th>\n",
       "      <th>issued</th>\n",
       "      <th>modified</th>\n",
       "      <th>title</th>\n",
       "      <th>body</th>\n",
       "      <th>caption</th>\n",
       "    </tr>\n",
       "  </thead>\n",
       "  <tbody>\n",
       "    <tr>\n",
       "      <th>0</th>\n",
       "      <td>13db0ab1-eea2-4603-84c4-f40a876c7400</td>\n",
       "      <td>http://g1.globo.com/am/amazonas/noticia/2022/0...</td>\n",
       "      <td>2022-06-18 20:37:45+00:00</td>\n",
       "      <td>2023-04-15 00:02:08+00:00</td>\n",
       "      <td>Caso Bruno e Dom: 3º suspeito tem prisão tempo...</td>\n",
       "      <td>Após audiência de custódia, a Justiça do Amazo...</td>\n",
       "      <td>Jeferson da Silva Lima foi escoltado por agent...</td>\n",
       "    </tr>\n",
       "    <tr>\n",
       "      <th>1</th>\n",
       "      <td>92907b73-5cd3-4184-8d8c-e206aed2bf1c</td>\n",
       "      <td>http://g1.globo.com/pa/santarem-regiao/noticia...</td>\n",
       "      <td>2019-06-20 17:19:52+00:00</td>\n",
       "      <td>2023-06-16 20:19:15+00:00</td>\n",
       "      <td>Linguajar dos santarenos é diferenciado e chei...</td>\n",
       "      <td>Vista aérea de Santarém\\nÁdrio Denner/ AD Prod...</td>\n",
       "      <td>As expressões santarenas não significam apenas...</td>\n",
       "    </tr>\n",
       "    <tr>\n",
       "      <th>2</th>\n",
       "      <td>61e07f64-cddf-46f2-b50c-ea0a39c22050</td>\n",
       "      <td>http://g1.globo.com/mundo/noticia/2022/07/08/e...</td>\n",
       "      <td>2022-07-08 08:55:52+00:00</td>\n",
       "      <td>2023-04-15 04:25:39+00:00</td>\n",
       "      <td>Ex-premiê Shinzo Abe morre após ser baleado no...</td>\n",
       "      <td>Novo vídeo mostra que assassino de Shinzo Abe ...</td>\n",
       "      <td>Ex-primeiro-ministro foi atingido por tiros de...</td>\n",
       "    </tr>\n",
       "    <tr>\n",
       "      <th>3</th>\n",
       "      <td>30e2e6c5-554a-48ed-a35f-6c6691c8ac9b</td>\n",
       "      <td>http://g1.globo.com/politica/noticia/2021/09/0...</td>\n",
       "      <td>2021-09-09 19:06:46+00:00</td>\n",
       "      <td>2023-06-07 17:44:54+00:00</td>\n",
       "      <td>Relator no STF, Fachin vota contra marco tempo...</td>\n",
       "      <td>Relator no STF, Fachin vota contra marco tempo...</td>\n",
       "      <td>Ministro defendeu que posse indígena é diferen...</td>\n",
       "    </tr>\n",
       "    <tr>\n",
       "      <th>4</th>\n",
       "      <td>9dff71eb-b681-40c7-ac8d-68017ac36675</td>\n",
       "      <td>http://g1.globo.com/politica/noticia/2021/09/1...</td>\n",
       "      <td>2021-09-15 19:16:13+00:00</td>\n",
       "      <td>2023-06-07 17:43:39+00:00</td>\n",
       "      <td>\\nApós 2 votos, pedido de vista suspende julga...</td>\n",
       "      <td>Após um pedido de vista (mais tempo para análi...</td>\n",
       "      <td>Pelo marco temporal, índios só podem reivindic...</td>\n",
       "    </tr>\n",
       "  </tbody>\n",
       "</table>\n",
       "</div>"
      ],
      "text/plain": [
       "                                   page  \\\n",
       "0  13db0ab1-eea2-4603-84c4-f40a876c7400   \n",
       "1  92907b73-5cd3-4184-8d8c-e206aed2bf1c   \n",
       "2  61e07f64-cddf-46f2-b50c-ea0a39c22050   \n",
       "3  30e2e6c5-554a-48ed-a35f-6c6691c8ac9b   \n",
       "4  9dff71eb-b681-40c7-ac8d-68017ac36675   \n",
       "\n",
       "                                                 url  \\\n",
       "0  http://g1.globo.com/am/amazonas/noticia/2022/0...   \n",
       "1  http://g1.globo.com/pa/santarem-regiao/noticia...   \n",
       "2  http://g1.globo.com/mundo/noticia/2022/07/08/e...   \n",
       "3  http://g1.globo.com/politica/noticia/2021/09/0...   \n",
       "4  http://g1.globo.com/politica/noticia/2021/09/1...   \n",
       "\n",
       "                      issued                   modified  \\\n",
       "0  2022-06-18 20:37:45+00:00  2023-04-15 00:02:08+00:00   \n",
       "1  2019-06-20 17:19:52+00:00  2023-06-16 20:19:15+00:00   \n",
       "2  2022-07-08 08:55:52+00:00  2023-04-15 04:25:39+00:00   \n",
       "3  2021-09-09 19:06:46+00:00  2023-06-07 17:44:54+00:00   \n",
       "4  2021-09-15 19:16:13+00:00  2023-06-07 17:43:39+00:00   \n",
       "\n",
       "                                               title  \\\n",
       "0  Caso Bruno e Dom: 3º suspeito tem prisão tempo...   \n",
       "1  Linguajar dos santarenos é diferenciado e chei...   \n",
       "2  Ex-premiê Shinzo Abe morre após ser baleado no...   \n",
       "3  Relator no STF, Fachin vota contra marco tempo...   \n",
       "4  \\nApós 2 votos, pedido de vista suspende julga...   \n",
       "\n",
       "                                                body  \\\n",
       "0  Após audiência de custódia, a Justiça do Amazo...   \n",
       "1  Vista aérea de Santarém\\nÁdrio Denner/ AD Prod...   \n",
       "2  Novo vídeo mostra que assassino de Shinzo Abe ...   \n",
       "3  Relator no STF, Fachin vota contra marco tempo...   \n",
       "4  Após um pedido de vista (mais tempo para análi...   \n",
       "\n",
       "                                             caption  \n",
       "0  Jeferson da Silva Lima foi escoltado por agent...  \n",
       "1  As expressões santarenas não significam apenas...  \n",
       "2  Ex-primeiro-ministro foi atingido por tiros de...  \n",
       "3  Ministro defendeu que posse indígena é diferen...  \n",
       "4  Pelo marco temporal, índios só podem reivindic...  "
      ]
     },
     "execution_count": 5,
     "metadata": {},
     "output_type": "execute_result"
    }
   ],
   "source": [
    "df_news.head()"
   ]
  },
  {
   "cell_type": "code",
   "execution_count": 6,
   "metadata": {},
   "outputs": [
    {
     "data": {
      "text/plain": [
       "(1426291, 3)"
      ]
     },
     "execution_count": 6,
     "metadata": {},
     "output_type": "execute_result"
    }
   ],
   "source": [
    "df_training.shape"
   ]
  },
  {
   "cell_type": "code",
   "execution_count": 7,
   "metadata": {},
   "outputs": [
    {
     "data": {
      "text/plain": [
       "(255603, 7)"
      ]
     },
     "execution_count": 7,
     "metadata": {},
     "output_type": "execute_result"
    }
   ],
   "source": [
    "df_news.shape"
   ]
  }
 ],
 "metadata": {
  "kernelspec": {
   "display_name": ".venv",
   "language": "python",
   "name": "python3"
  },
  "language_info": {
   "codemirror_mode": {
    "name": "ipython",
    "version": 3
   },
   "file_extension": ".py",
   "mimetype": "text/x-python",
   "name": "python",
   "nbconvert_exporter": "python",
   "pygments_lexer": "ipython3",
   "version": "3.10.12"
  }
 },
 "nbformat": 4,
 "nbformat_minor": 2
}
