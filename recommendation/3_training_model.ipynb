{
    "cells": [
        {
            "cell_type": "markdown",
            "metadata": {},
            "source": [
                "# Model recommendation with lighfm"
            ]
        },
        {
            "cell_type": "markdown",
            "metadata": {},
            "source": [
                "### Import libraries"
            ]
        },
        {
            "cell_type": "code",
            "execution_count": 1,
            "metadata": {},
            "outputs": [],
            "source": [
                "import os\n",
                "import sys\n",
                "import itertools\n",
                "import pandas as pd\n",
                "import numpy as np\n",
                "import matplotlib.pyplot as plt\n",
                "import seaborn as sns\n",
                "\n",
                "import scipy\n",
                "import numpy as np\n",
                "import pandas as pd\n",
                "from lightfm import LightFM\n",
                "from lightfm.data import Dataset\n",
                "from lightfm.evaluation import precision_at_k, recall_at_k\n",
                "from lightfm.cross_validation import random_train_test_split\n",
                "from sklearn.metrics.pairwise import cosine_similarity\n",
                "from sklearn.feature_extraction.text import CountVectorizer\n",
                "from lightfm import cross_validation\n",
                "import scipy.sparse as sp\n",
                "from scipy import sparse"
            ]
        },
        {
            "cell_type": "markdown",
            "metadata": {},
            "source": [
                "### Defining variables"
            ]
        },
        {
            "cell_type": "code",
            "execution_count": 2,
            "metadata": {},
            "outputs": [],
            "source": [
                "import json\n",
                "\n",
                "with open('config.json', 'r') as f:\n",
                "    config = json.load(f)"
            ]
        },
        {
            "cell_type": "code",
            "execution_count": 3,
            "metadata": {
                "tags": [
                    "parameters"
                ]
            },
            "outputs": [],
            "source": [
                "# percentage of data used for testing\n",
                "TEST_PERCENTAGE = 0.20\n",
                "# model learning rate\n",
                "LEARNING_RATE = 0.1\n",
                "# no of epochs to fit model\n",
                "NO_EPOCHS = 80\n",
                "\n",
                "NUM_COMPONENTS = 30\n",
                "\n",
                "NUM_THREADS = 4\n",
                "\n",
                "ALPHA = 1e-3\n",
                "\n",
                "MAX_SAMPLED = 10\n",
                "\n",
                "# seed for pseudonumber generations\n",
                "SEED = 42"
            ]
        },
        {
            "cell_type": "markdown",
            "metadata": {},
            "source": [
                "### Retrieve data"
            ]
        },
        {
            "cell_type": "code",
            "execution_count": 4,
            "metadata": {},
            "outputs": [],
            "source": [
                "dtype_df_train_score = {\n",
                "\"userId\" : 'string',\n",
                "\"userType\" : 'category',\n",
                "\"history\" : 'string',\n",
                "\"score\" : 'Float32'\n",
                "}"
            ]
        },
        {
            "cell_type": "code",
            "execution_count": 5,
            "metadata": {},
            "outputs": [
                {
                    "data": {
                        "text/html": [
                            "<div>\n",
                            "<style scoped>\n",
                            "    .dataframe tbody tr th:only-of-type {\n",
                            "        vertical-align: middle;\n",
                            "    }\n",
                            "\n",
                            "    .dataframe tbody tr th {\n",
                            "        vertical-align: top;\n",
                            "    }\n",
                            "\n",
                            "    .dataframe thead th {\n",
                            "        text-align: right;\n",
                            "    }\n",
                            "</style>\n",
                            "<table border=\"1\" class=\"dataframe\">\n",
                            "  <thead>\n",
                            "    <tr style=\"text-align: right;\">\n",
                            "      <th></th>\n",
                            "      <th>Unnamed: 0</th>\n",
                            "      <th>userId</th>\n",
                            "      <th>history</th>\n",
                            "      <th>userType</th>\n",
                            "      <th>score</th>\n",
                            "    </tr>\n",
                            "  </thead>\n",
                            "  <tbody>\n",
                            "    <tr>\n",
                            "      <th>0</th>\n",
                            "      <td>0</td>\n",
                            "      <td>fbb963d61eb8149e7f43b1bd905457ba5e106a830ddc27...</td>\n",
                            "      <td>80aa7bb2-adce-4a55-9711-912c407927a1</td>\n",
                            "      <td>Non-Logged</td>\n",
                            "      <td>2.216477</td>\n",
                            "    </tr>\n",
                            "    <tr>\n",
                            "      <th>1</th>\n",
                            "      <td>1</td>\n",
                            "      <td>fbb963d61eb8149e7f43b1bd905457ba5e106a830ddc27...</td>\n",
                            "      <td>d9e5f15d-b441-4d8b-bee4-462b106d3916</td>\n",
                            "      <td>Non-Logged</td>\n",
                            "      <td>2.429501</td>\n",
                            "    </tr>\n",
                            "    <tr>\n",
                            "      <th>2</th>\n",
                            "      <td>2</td>\n",
                            "      <td>17f1083e6079b0f28f7820a6803583d1c1b405c0718b11...</td>\n",
                            "      <td>e273dba4-136c-45fb-bdd6-0cc57b13aaf0</td>\n",
                            "      <td>Non-Logged</td>\n",
                            "      <td>1.794861</td>\n",
                            "    </tr>\n",
                            "    <tr>\n",
                            "      <th>3</th>\n",
                            "      <td>3</td>\n",
                            "      <td>528a8d7a2af73101da8d6709c1ec875b449a5a58749a99...</td>\n",
                            "      <td>a0562805-c7d1-4ffd-b622-87c50ae006f4</td>\n",
                            "      <td>Non-Logged</td>\n",
                            "      <td>1.68271</td>\n",
                            "    </tr>\n",
                            "    <tr>\n",
                            "      <th>4</th>\n",
                            "      <td>4</td>\n",
                            "      <td>2dd18b58a634a4e77181a202cf152df6169dfb3e4230ef...</td>\n",
                            "      <td>233f8238-2ce0-470f-a9d5-0e0ac530382a</td>\n",
                            "      <td>Non-Logged</td>\n",
                            "      <td>2.266852</td>\n",
                            "    </tr>\n",
                            "    <tr>\n",
                            "      <th>...</th>\n",
                            "      <td>...</td>\n",
                            "      <td>...</td>\n",
                            "      <td>...</td>\n",
                            "      <td>...</td>\n",
                            "      <td>...</td>\n",
                            "    </tr>\n",
                            "    <tr>\n",
                            "      <th>6349891</th>\n",
                            "      <td>6349891</td>\n",
                            "      <td>5889d6ebbf62e6c115e0a280063dc8189cca490cbfea56...</td>\n",
                            "      <td>7a349b09-badc-40a9-a194-83d959aeb50c</td>\n",
                            "      <td>Non-Logged</td>\n",
                            "      <td>1.94055</td>\n",
                            "    </tr>\n",
                            "    <tr>\n",
                            "      <th>6349892</th>\n",
                            "      <td>6349892</td>\n",
                            "      <td>5889d6ebbf62e6c115e0a280063dc8189cca490cbfea56...</td>\n",
                            "      <td>6f344c45-e731-41b4-8c65-9967ebc03096</td>\n",
                            "      <td>Non-Logged</td>\n",
                            "      <td>3.361101</td>\n",
                            "    </tr>\n",
                            "    <tr>\n",
                            "      <th>6349893</th>\n",
                            "      <td>6349893</td>\n",
                            "      <td>5889d6ebbf62e6c115e0a280063dc8189cca490cbfea56...</td>\n",
                            "      <td>4c586bb4-f71d-4b39-9df8-e38ac3f632a0</td>\n",
                            "      <td>Non-Logged</td>\n",
                            "      <td>0.919598</td>\n",
                            "    </tr>\n",
                            "    <tr>\n",
                            "      <th>6349894</th>\n",
                            "      <td>6349894</td>\n",
                            "      <td>5889d6ebbf62e6c115e0a280063dc8189cca490cbfea56...</td>\n",
                            "      <td>855d20b7-53f2-4678-a10f-55402d085018</td>\n",
                            "      <td>Non-Logged</td>\n",
                            "      <td>1.990197</td>\n",
                            "    </tr>\n",
                            "    <tr>\n",
                            "      <th>6349895</th>\n",
                            "      <td>6349895</td>\n",
                            "      <td>5889d6ebbf62e6c115e0a280063dc8189cca490cbfea56...</td>\n",
                            "      <td>a47114d6-cac9-45fa-a4b7-987383f4ec29</td>\n",
                            "      <td>Non-Logged</td>\n",
                            "      <td>2.676192</td>\n",
                            "    </tr>\n",
                            "  </tbody>\n",
                            "</table>\n",
                            "<p>6349896 rows × 5 columns</p>\n",
                            "</div>"
                        ],
                        "text/plain": [
                            "         Unnamed: 0                                             userId  \\\n",
                            "0                 0  fbb963d61eb8149e7f43b1bd905457ba5e106a830ddc27...   \n",
                            "1                 1  fbb963d61eb8149e7f43b1bd905457ba5e106a830ddc27...   \n",
                            "2                 2  17f1083e6079b0f28f7820a6803583d1c1b405c0718b11...   \n",
                            "3                 3  528a8d7a2af73101da8d6709c1ec875b449a5a58749a99...   \n",
                            "4                 4  2dd18b58a634a4e77181a202cf152df6169dfb3e4230ef...   \n",
                            "...             ...                                                ...   \n",
                            "6349891     6349891  5889d6ebbf62e6c115e0a280063dc8189cca490cbfea56...   \n",
                            "6349892     6349892  5889d6ebbf62e6c115e0a280063dc8189cca490cbfea56...   \n",
                            "6349893     6349893  5889d6ebbf62e6c115e0a280063dc8189cca490cbfea56...   \n",
                            "6349894     6349894  5889d6ebbf62e6c115e0a280063dc8189cca490cbfea56...   \n",
                            "6349895     6349895  5889d6ebbf62e6c115e0a280063dc8189cca490cbfea56...   \n",
                            "\n",
                            "                                      history    userType     score  \n",
                            "0        80aa7bb2-adce-4a55-9711-912c407927a1  Non-Logged  2.216477  \n",
                            "1        d9e5f15d-b441-4d8b-bee4-462b106d3916  Non-Logged  2.429501  \n",
                            "2        e273dba4-136c-45fb-bdd6-0cc57b13aaf0  Non-Logged  1.794861  \n",
                            "3        a0562805-c7d1-4ffd-b622-87c50ae006f4  Non-Logged   1.68271  \n",
                            "4        233f8238-2ce0-470f-a9d5-0e0ac530382a  Non-Logged  2.266852  \n",
                            "...                                       ...         ...       ...  \n",
                            "6349891  7a349b09-badc-40a9-a194-83d959aeb50c  Non-Logged   1.94055  \n",
                            "6349892  6f344c45-e731-41b4-8c65-9967ebc03096  Non-Logged  3.361101  \n",
                            "6349893  4c586bb4-f71d-4b39-9df8-e38ac3f632a0  Non-Logged  0.919598  \n",
                            "6349894  855d20b7-53f2-4678-a10f-55402d085018  Non-Logged  1.990197  \n",
                            "6349895  a47114d6-cac9-45fa-a4b7-987383f4ec29  Non-Logged  2.676192  \n",
                            "\n",
                            "[6349896 rows x 5 columns]"
                        ]
                    },
                    "execution_count": 5,
                    "metadata": {},
                    "output_type": "execute_result"
                }
            ],
            "source": [
                "import pandas as pd\n",
                "\n",
                "df_ratings = pd.read_csv(config[\"DF_TRAIN_SCORES\"], dtype=dtype_df_train_score)\n",
                "# df_ratings = pd.read_csv(config[\"DF_TRAIN_SCORES\"], dtype=dtype_df_train_score, nrows=500000)\n",
                "df_ratings"
            ]
        },
        {
            "cell_type": "code",
            "execution_count": 6,
            "metadata": {},
            "outputs": [
                {
                    "name": "stdout",
                    "output_type": "stream",
                    "text": [
                        "<class 'pandas.core.frame.DataFrame'>\n",
                        "RangeIndex: 6349896 entries, 0 to 6349895\n",
                        "Data columns (total 4 columns):\n",
                        " #   Column    Dtype   \n",
                        "---  ------    -----   \n",
                        " 0   userId    string  \n",
                        " 1   history   string  \n",
                        " 2   userType  category\n",
                        " 3   score     Float32 \n",
                        "dtypes: Float32(1), category(1), string(2)\n",
                        "memory usage: 133.2 MB\n"
                    ]
                }
            ],
            "source": [
                "df_ratings.drop(columns=[\"Unnamed: 0\"],inplace=True)\n",
                "df_ratings.info()"
            ]
        },
        {
            "cell_type": "code",
            "execution_count": 7,
            "metadata": {},
            "outputs": [
                {
                    "data": {
                        "text/html": [
                            "<div>\n",
                            "<style scoped>\n",
                            "    .dataframe tbody tr th:only-of-type {\n",
                            "        vertical-align: middle;\n",
                            "    }\n",
                            "\n",
                            "    .dataframe tbody tr th {\n",
                            "        vertical-align: top;\n",
                            "    }\n",
                            "\n",
                            "    .dataframe thead th {\n",
                            "        text-align: right;\n",
                            "    }\n",
                            "</style>\n",
                            "<table border=\"1\" class=\"dataframe\">\n",
                            "  <thead>\n",
                            "    <tr style=\"text-align: right;\">\n",
                            "      <th></th>\n",
                            "      <th>score</th>\n",
                            "    </tr>\n",
                            "  </thead>\n",
                            "  <tbody>\n",
                            "    <tr>\n",
                            "      <th>count</th>\n",
                            "      <td>6349896.0</td>\n",
                            "    </tr>\n",
                            "    <tr>\n",
                            "      <th>mean</th>\n",
                            "      <td>1.608734</td>\n",
                            "    </tr>\n",
                            "    <tr>\n",
                            "      <th>std</th>\n",
                            "      <td>0.867295</td>\n",
                            "    </tr>\n",
                            "    <tr>\n",
                            "      <th>min</th>\n",
                            "      <td>0.002373</td>\n",
                            "    </tr>\n",
                            "    <tr>\n",
                            "      <th>25%</th>\n",
                            "      <td>0.924991</td>\n",
                            "    </tr>\n",
                            "    <tr>\n",
                            "      <th>50%</th>\n",
                            "      <td>1.56746</td>\n",
                            "    </tr>\n",
                            "    <tr>\n",
                            "      <th>75%</th>\n",
                            "      <td>2.202917</td>\n",
                            "    </tr>\n",
                            "    <tr>\n",
                            "      <th>max</th>\n",
                            "      <td>4.990057</td>\n",
                            "    </tr>\n",
                            "  </tbody>\n",
                            "</table>\n",
                            "</div>"
                        ],
                        "text/plain": [
                            "           score\n",
                            "count  6349896.0\n",
                            "mean    1.608734\n",
                            "std     0.867295\n",
                            "min     0.002373\n",
                            "25%     0.924991\n",
                            "50%      1.56746\n",
                            "75%     2.202917\n",
                            "max     4.990057"
                        ]
                    },
                    "execution_count": 7,
                    "metadata": {},
                    "output_type": "execute_result"
                }
            ],
            "source": [
                "df_ratings.describe()"
            ]
        },
        {
            "cell_type": "code",
            "execution_count": 8,
            "metadata": {},
            "outputs": [],
            "source": [
                "dtype_df_items = {\n",
                "\"page\" : 'string',\n",
                "\"url\" : 'string',\n",
                "\"issued\" : 'string',\n",
                "\"modified\" : 'string',\n",
                "\"title\" : 'string',\n",
                "\"body\" : 'string',\n",
                "\"caption\" : 'string',\n",
                "\"age_in_days\" : 'UInt32',\n",
                "\"age_exp\" : 'Float32',\n",
                "\"age_exp_normalized\" : 'Float32',\n",
                "\"ageCategories\" : 'category'\n",
                "}"
            ]
        },
        {
            "cell_type": "code",
            "execution_count": 9,
            "metadata": {},
            "outputs": [],
            "source": [
                "df_news = pd.read_csv(config[\"DF_ITEMS_FEATURE\"], dtype=dtype_df_items)\n",
                "df_news.drop(columns=[\"Unnamed: 0\"],inplace=True)"
            ]
        },
        {
            "cell_type": "code",
            "execution_count": 10,
            "metadata": {},
            "outputs": [
                {
                    "data": {
                        "text/html": [
                            "<div>\n",
                            "<style scoped>\n",
                            "    .dataframe tbody tr th:only-of-type {\n",
                            "        vertical-align: middle;\n",
                            "    }\n",
                            "\n",
                            "    .dataframe tbody tr th {\n",
                            "        vertical-align: top;\n",
                            "    }\n",
                            "\n",
                            "    .dataframe thead th {\n",
                            "        text-align: right;\n",
                            "    }\n",
                            "</style>\n",
                            "<table border=\"1\" class=\"dataframe\">\n",
                            "  <thead>\n",
                            "    <tr style=\"text-align: right;\">\n",
                            "      <th></th>\n",
                            "      <th>page</th>\n",
                            "      <th>age_exp_normalized</th>\n",
                            "      <th>ageCategories</th>\n",
                            "    </tr>\n",
                            "  </thead>\n",
                            "  <tbody>\n",
                            "    <tr>\n",
                            "      <th>0</th>\n",
                            "      <td>7371a9b5-5824-4c57-8704-00a74feebe79</td>\n",
                            "      <td>0.151439</td>\n",
                            "      <td>very-old</td>\n",
                            "    </tr>\n",
                            "    <tr>\n",
                            "      <th>1</th>\n",
                            "      <td>7a5ea08f-4583-49e2-ba52-a71999443f7b</td>\n",
                            "      <td>0.140788</td>\n",
                            "      <td>very-old</td>\n",
                            "    </tr>\n",
                            "    <tr>\n",
                            "      <th>2</th>\n",
                            "      <td>6afc8bbb-4f36-43d5-8a44-a2917df5621a</td>\n",
                            "      <td>0.12261</td>\n",
                            "      <td>very-old</td>\n",
                            "    </tr>\n",
                            "  </tbody>\n",
                            "</table>\n",
                            "</div>"
                        ],
                        "text/plain": [
                            "                                   page  age_exp_normalized ageCategories\n",
                            "0  7371a9b5-5824-4c57-8704-00a74feebe79            0.151439      very-old\n",
                            "1  7a5ea08f-4583-49e2-ba52-a71999443f7b            0.140788      very-old\n",
                            "2  6afc8bbb-4f36-43d5-8a44-a2917df5621a             0.12261      very-old"
                        ]
                    },
                    "execution_count": 10,
                    "metadata": {},
                    "output_type": "execute_result"
                }
            ],
            "source": [
                "df_news.head(3)"
            ]
        },
        {
            "cell_type": "code",
            "execution_count": 11,
            "metadata": {},
            "outputs": [
                {
                    "name": "stdout",
                    "output_type": "stream",
                    "text": [
                        "<class 'pandas.core.frame.DataFrame'>\n",
                        "RangeIndex: 255603 entries, 0 to 255602\n",
                        "Data columns (total 3 columns):\n",
                        " #   Column              Non-Null Count   Dtype   \n",
                        "---  ------              --------------   -----   \n",
                        " 0   page                255603 non-null  string  \n",
                        " 1   age_exp_normalized  255603 non-null  Float32 \n",
                        " 2   ageCategories       255603 non-null  category\n",
                        "dtypes: Float32(1), category(1), string(1)\n",
                        "memory usage: 3.4 MB\n"
                    ]
                }
            ],
            "source": [
                "df_news.info()"
            ]
        },
        {
            "cell_type": "code",
            "execution_count": 12,
            "metadata": {},
            "outputs": [],
            "source": [
                "df_merged = pd.merge(df_ratings, df_news, left_on='history', right_on='page', how='left')\n",
                "df_merged.drop(columns=[\"page\"],inplace=True) # 'page' is the same as 'history'"
            ]
        },
        {
            "cell_type": "code",
            "execution_count": 13,
            "metadata": {},
            "outputs": [
                {
                    "name": "stdout",
                    "output_type": "stream",
                    "text": [
                        "<class 'pandas.core.frame.DataFrame'>\n",
                        "RangeIndex: 6349896 entries, 0 to 6349895\n",
                        "Data columns (total 6 columns):\n",
                        " #   Column              Dtype   \n",
                        "---  ------              -----   \n",
                        " 0   userId              string  \n",
                        " 1   history             string  \n",
                        " 2   userType            category\n",
                        " 3   score               Float32 \n",
                        " 4   age_exp_normalized  Float32 \n",
                        " 5   ageCategories       category\n",
                        "dtypes: Float32(2), category(2), string(2)\n",
                        "memory usage: 169.6 MB\n"
                    ]
                }
            ],
            "source": [
                "df_merged.info()"
            ]
        },
        {
            "cell_type": "code",
            "execution_count": 14,
            "metadata": {},
            "outputs": [
                {
                    "data": {
                        "text/html": [
                            "<div>\n",
                            "<style scoped>\n",
                            "    .dataframe tbody tr th:only-of-type {\n",
                            "        vertical-align: middle;\n",
                            "    }\n",
                            "\n",
                            "    .dataframe tbody tr th {\n",
                            "        vertical-align: top;\n",
                            "    }\n",
                            "\n",
                            "    .dataframe thead th {\n",
                            "        text-align: right;\n",
                            "    }\n",
                            "</style>\n",
                            "<table border=\"1\" class=\"dataframe\">\n",
                            "  <thead>\n",
                            "    <tr style=\"text-align: right;\">\n",
                            "      <th></th>\n",
                            "      <th>userId</th>\n",
                            "      <th>history</th>\n",
                            "      <th>userType</th>\n",
                            "      <th>score</th>\n",
                            "      <th>age_exp_normalized</th>\n",
                            "      <th>ageCategories</th>\n",
                            "    </tr>\n",
                            "  </thead>\n",
                            "  <tbody>\n",
                            "    <tr>\n",
                            "      <th>0</th>\n",
                            "      <td>fbb963d61eb8149e7f43b1bd905457ba5e106a830ddc27...</td>\n",
                            "      <td>80aa7bb2-adce-4a55-9711-912c407927a1</td>\n",
                            "      <td>Non-Logged</td>\n",
                            "      <td>2.216477</td>\n",
                            "      <td>0.980416</td>\n",
                            "      <td>recent</td>\n",
                            "    </tr>\n",
                            "    <tr>\n",
                            "      <th>1</th>\n",
                            "      <td>fbb963d61eb8149e7f43b1bd905457ba5e106a830ddc27...</td>\n",
                            "      <td>d9e5f15d-b441-4d8b-bee4-462b106d3916</td>\n",
                            "      <td>Non-Logged</td>\n",
                            "      <td>2.429501</td>\n",
                            "      <td>0.613061</td>\n",
                            "      <td>mid</td>\n",
                            "    </tr>\n",
                            "    <tr>\n",
                            "      <th>2</th>\n",
                            "      <td>17f1083e6079b0f28f7820a6803583d1c1b405c0718b11...</td>\n",
                            "      <td>e273dba4-136c-45fb-bdd6-0cc57b13aaf0</td>\n",
                            "      <td>Non-Logged</td>\n",
                            "      <td>1.794861</td>\n",
                            "      <td>0.880859</td>\n",
                            "      <td>recent</td>\n",
                            "    </tr>\n",
                            "    <tr>\n",
                            "      <th>3</th>\n",
                            "      <td>528a8d7a2af73101da8d6709c1ec875b449a5a58749a99...</td>\n",
                            "      <td>a0562805-c7d1-4ffd-b622-87c50ae006f4</td>\n",
                            "      <td>Non-Logged</td>\n",
                            "      <td>1.68271</td>\n",
                            "      <td>0.945895</td>\n",
                            "      <td>recent</td>\n",
                            "    </tr>\n",
                            "    <tr>\n",
                            "      <th>4</th>\n",
                            "      <td>2dd18b58a634a4e77181a202cf152df6169dfb3e4230ef...</td>\n",
                            "      <td>233f8238-2ce0-470f-a9d5-0e0ac530382a</td>\n",
                            "      <td>Non-Logged</td>\n",
                            "      <td>2.266852</td>\n",
                            "      <td>0.13293</td>\n",
                            "      <td>very-old</td>\n",
                            "    </tr>\n",
                            "  </tbody>\n",
                            "</table>\n",
                            "</div>"
                        ],
                        "text/plain": [
                            "                                              userId  \\\n",
                            "0  fbb963d61eb8149e7f43b1bd905457ba5e106a830ddc27...   \n",
                            "1  fbb963d61eb8149e7f43b1bd905457ba5e106a830ddc27...   \n",
                            "2  17f1083e6079b0f28f7820a6803583d1c1b405c0718b11...   \n",
                            "3  528a8d7a2af73101da8d6709c1ec875b449a5a58749a99...   \n",
                            "4  2dd18b58a634a4e77181a202cf152df6169dfb3e4230ef...   \n",
                            "\n",
                            "                                history    userType     score  \\\n",
                            "0  80aa7bb2-adce-4a55-9711-912c407927a1  Non-Logged  2.216477   \n",
                            "1  d9e5f15d-b441-4d8b-bee4-462b106d3916  Non-Logged  2.429501   \n",
                            "2  e273dba4-136c-45fb-bdd6-0cc57b13aaf0  Non-Logged  1.794861   \n",
                            "3  a0562805-c7d1-4ffd-b622-87c50ae006f4  Non-Logged   1.68271   \n",
                            "4  233f8238-2ce0-470f-a9d5-0e0ac530382a  Non-Logged  2.266852   \n",
                            "\n",
                            "   age_exp_normalized ageCategories  \n",
                            "0            0.980416        recent  \n",
                            "1            0.613061           mid  \n",
                            "2            0.880859        recent  \n",
                            "3            0.945895        recent  \n",
                            "4             0.13293      very-old  "
                        ]
                    },
                    "execution_count": 14,
                    "metadata": {},
                    "output_type": "execute_result"
                }
            ],
            "source": [
                "df_merged.head()"
            ]
        },
        {
            "cell_type": "code",
            "execution_count": 15,
            "metadata": {},
            "outputs": [
                {
                    "data": {
                        "text/html": [
                            "<div>\n",
                            "<style scoped>\n",
                            "    .dataframe tbody tr th:only-of-type {\n",
                            "        vertical-align: middle;\n",
                            "    }\n",
                            "\n",
                            "    .dataframe tbody tr th {\n",
                            "        vertical-align: top;\n",
                            "    }\n",
                            "\n",
                            "    .dataframe thead th {\n",
                            "        text-align: right;\n",
                            "    }\n",
                            "</style>\n",
                            "<table border=\"1\" class=\"dataframe\">\n",
                            "  <thead>\n",
                            "    <tr style=\"text-align: right;\">\n",
                            "      <th></th>\n",
                            "      <th>score</th>\n",
                            "      <th>age_exp_normalized</th>\n",
                            "    </tr>\n",
                            "  </thead>\n",
                            "  <tbody>\n",
                            "    <tr>\n",
                            "      <th>count</th>\n",
                            "      <td>6349896.0</td>\n",
                            "      <td>6349896.0</td>\n",
                            "    </tr>\n",
                            "    <tr>\n",
                            "      <th>mean</th>\n",
                            "      <td>0.342372</td>\n",
                            "      <td>0.900751</td>\n",
                            "    </tr>\n",
                            "    <tr>\n",
                            "      <th>std</th>\n",
                            "      <td>0.168628</td>\n",
                            "      <td>0.183626</td>\n",
                            "    </tr>\n",
                            "    <tr>\n",
                            "      <th>min</th>\n",
                            "      <td>0.01394</td>\n",
                            "      <td>0.102536</td>\n",
                            "    </tr>\n",
                            "    <tr>\n",
                            "      <th>25%</th>\n",
                            "      <td>0.209248</td>\n",
                            "      <td>0.934135</td>\n",
                            "    </tr>\n",
                            "    <tr>\n",
                            "      <th>50%</th>\n",
                            "      <td>0.334428</td>\n",
                            "      <td>0.956106</td>\n",
                            "    </tr>\n",
                            "    <tr>\n",
                            "      <th>75%</th>\n",
                            "      <td>0.457999</td>\n",
                            "      <td>0.978657</td>\n",
                            "    </tr>\n",
                            "    <tr>\n",
                            "      <th>max</th>\n",
                            "      <td>1.0</td>\n",
                            "      <td>1.0</td>\n",
                            "    </tr>\n",
                            "  </tbody>\n",
                            "</table>\n",
                            "</div>"
                        ],
                        "text/plain": [
                            "           score  age_exp_normalized\n",
                            "count  6349896.0           6349896.0\n",
                            "mean    0.342372            0.900751\n",
                            "std     0.168628            0.183626\n",
                            "min      0.01394            0.102536\n",
                            "25%     0.209248            0.934135\n",
                            "50%     0.334428            0.956106\n",
                            "75%     0.457999            0.978657\n",
                            "max          1.0                 1.0"
                        ]
                    },
                    "execution_count": 15,
                    "metadata": {},
                    "output_type": "execute_result"
                }
            ],
            "source": [
                "w_initial_score = 0.85\n",
                "w_age_norm = 1-w_initial_score\n",
                "df_merged[\"score\"] = df_merged[\"score\"]*w_initial_score + df_merged[\"age_exp_normalized\"]*w_age_norm\n",
                "df_merged[\"score\"] = df_merged[\"score\"]/df_merged[\"score\"].max()\n",
                "df_merged.describe()"
            ]
        },
        {
            "cell_type": "code",
            "execution_count": 16,
            "metadata": {},
            "outputs": [
                {
                    "data": {
                        "text/html": [
                            "<div>\n",
                            "<style scoped>\n",
                            "    .dataframe tbody tr th:only-of-type {\n",
                            "        vertical-align: middle;\n",
                            "    }\n",
                            "\n",
                            "    .dataframe tbody tr th {\n",
                            "        vertical-align: top;\n",
                            "    }\n",
                            "\n",
                            "    .dataframe thead th {\n",
                            "        text-align: right;\n",
                            "    }\n",
                            "</style>\n",
                            "<table border=\"1\" class=\"dataframe\">\n",
                            "  <thead>\n",
                            "    <tr style=\"text-align: right;\">\n",
                            "      <th></th>\n",
                            "      <th>score</th>\n",
                            "    </tr>\n",
                            "  </thead>\n",
                            "  <tbody>\n",
                            "    <tr>\n",
                            "      <th>count</th>\n",
                            "      <td>6349896.0</td>\n",
                            "    </tr>\n",
                            "    <tr>\n",
                            "      <th>mean</th>\n",
                            "      <td>0.342372</td>\n",
                            "    </tr>\n",
                            "    <tr>\n",
                            "      <th>std</th>\n",
                            "      <td>0.168628</td>\n",
                            "    </tr>\n",
                            "    <tr>\n",
                            "      <th>min</th>\n",
                            "      <td>0.01394</td>\n",
                            "    </tr>\n",
                            "    <tr>\n",
                            "      <th>25%</th>\n",
                            "      <td>0.209248</td>\n",
                            "    </tr>\n",
                            "    <tr>\n",
                            "      <th>50%</th>\n",
                            "      <td>0.334428</td>\n",
                            "    </tr>\n",
                            "    <tr>\n",
                            "      <th>75%</th>\n",
                            "      <td>0.457999</td>\n",
                            "    </tr>\n",
                            "    <tr>\n",
                            "      <th>max</th>\n",
                            "      <td>1.0</td>\n",
                            "    </tr>\n",
                            "  </tbody>\n",
                            "</table>\n",
                            "</div>"
                        ],
                        "text/plain": [
                            "           score\n",
                            "count  6349896.0\n",
                            "mean    0.342372\n",
                            "std     0.168628\n",
                            "min      0.01394\n",
                            "25%     0.209248\n",
                            "50%     0.334428\n",
                            "75%     0.457999\n",
                            "max          1.0"
                        ]
                    },
                    "execution_count": 16,
                    "metadata": {},
                    "output_type": "execute_result"
                }
            ],
            "source": [
                "df_merged = df_merged[[\"userId\",\"history\",\"userType\",\"score\"]]\n",
                "\n",
                "df_merged.rename(columns={\"ageCategories\" : \"historyFreshnessNormalized\"},inplace=True)\n",
                "df_merged.describe()"
            ]
        },
        {
            "cell_type": "code",
            "execution_count": 17,
            "metadata": {},
            "outputs": [
                {
                    "data": {
                        "text/html": [
                            "<div>\n",
                            "<style scoped>\n",
                            "    .dataframe tbody tr th:only-of-type {\n",
                            "        vertical-align: middle;\n",
                            "    }\n",
                            "\n",
                            "    .dataframe tbody tr th {\n",
                            "        vertical-align: top;\n",
                            "    }\n",
                            "\n",
                            "    .dataframe thead th {\n",
                            "        text-align: right;\n",
                            "    }\n",
                            "</style>\n",
                            "<table border=\"1\" class=\"dataframe\">\n",
                            "  <thead>\n",
                            "    <tr style=\"text-align: right;\">\n",
                            "      <th></th>\n",
                            "      <th>userId</th>\n",
                            "      <th>history</th>\n",
                            "      <th>userType</th>\n",
                            "      <th>score</th>\n",
                            "    </tr>\n",
                            "  </thead>\n",
                            "  <tbody>\n",
                            "    <tr>\n",
                            "      <th>0</th>\n",
                            "      <td>fbb963d61eb8149e7f43b1bd905457ba5e106a830ddc27...</td>\n",
                            "      <td>80aa7bb2-adce-4a55-9711-912c407927a1</td>\n",
                            "      <td>Non-Logged</td>\n",
                            "      <td>0.462804</td>\n",
                            "    </tr>\n",
                            "    <tr>\n",
                            "      <th>1</th>\n",
                            "      <td>fbb963d61eb8149e7f43b1bd905457ba5e106a830ddc27...</td>\n",
                            "      <td>d9e5f15d-b441-4d8b-bee4-462b106d3916</td>\n",
                            "      <td>Non-Logged</td>\n",
                            "      <td>0.491507</td>\n",
                            "    </tr>\n",
                            "    <tr>\n",
                            "      <th>2</th>\n",
                            "      <td>17f1083e6079b0f28f7820a6803583d1c1b405c0718b11...</td>\n",
                            "      <td>e273dba4-136c-45fb-bdd6-0cc57b13aaf0</td>\n",
                            "      <td>Non-Logged</td>\n",
                            "      <td>0.377742</td>\n",
                            "    </tr>\n",
                            "    <tr>\n",
                            "      <th>3</th>\n",
                            "      <td>528a8d7a2af73101da8d6709c1ec875b449a5a58749a99...</td>\n",
                            "      <td>a0562805-c7d1-4ffd-b622-87c50ae006f4</td>\n",
                            "      <td>Non-Logged</td>\n",
                            "      <td>0.358243</td>\n",
                            "    </tr>\n",
                            "    <tr>\n",
                            "      <th>4</th>\n",
                            "      <td>2dd18b58a634a4e77181a202cf152df6169dfb3e4230ef...</td>\n",
                            "      <td>233f8238-2ce0-470f-a9d5-0e0ac530382a</td>\n",
                            "      <td>Non-Logged</td>\n",
                            "      <td>0.443595</td>\n",
                            "    </tr>\n",
                            "  </tbody>\n",
                            "</table>\n",
                            "</div>"
                        ],
                        "text/plain": [
                            "                                              userId  \\\n",
                            "0  fbb963d61eb8149e7f43b1bd905457ba5e106a830ddc27...   \n",
                            "1  fbb963d61eb8149e7f43b1bd905457ba5e106a830ddc27...   \n",
                            "2  17f1083e6079b0f28f7820a6803583d1c1b405c0718b11...   \n",
                            "3  528a8d7a2af73101da8d6709c1ec875b449a5a58749a99...   \n",
                            "4  2dd18b58a634a4e77181a202cf152df6169dfb3e4230ef...   \n",
                            "\n",
                            "                                history    userType     score  \n",
                            "0  80aa7bb2-adce-4a55-9711-912c407927a1  Non-Logged  0.462804  \n",
                            "1  d9e5f15d-b441-4d8b-bee4-462b106d3916  Non-Logged  0.491507  \n",
                            "2  e273dba4-136c-45fb-bdd6-0cc57b13aaf0  Non-Logged  0.377742  \n",
                            "3  a0562805-c7d1-4ffd-b622-87c50ae006f4  Non-Logged  0.358243  \n",
                            "4  233f8238-2ce0-470f-a9d5-0e0ac530382a  Non-Logged  0.443595  "
                        ]
                    },
                    "execution_count": 17,
                    "metadata": {},
                    "output_type": "execute_result"
                }
            ],
            "source": [
                "# df_merged.head()\n",
                "df_merged.head()"
            ]
        },
        {
            "cell_type": "code",
            "execution_count": 18,
            "metadata": {},
            "outputs": [
                {
                    "name": "stdout",
                    "output_type": "stream",
                    "text": [
                        "<class 'pandas.core.frame.DataFrame'>\n",
                        "RangeIndex: 6349896 entries, 0 to 6349895\n",
                        "Data columns (total 4 columns):\n",
                        " #   Column    Dtype   \n",
                        "---  ------    -----   \n",
                        " 0   userId    string  \n",
                        " 1   history   string  \n",
                        " 2   userType  category\n",
                        " 3   score     Float32 \n",
                        "dtypes: Float32(1), category(1), string(2)\n",
                        "memory usage: 133.2 MB\n"
                    ]
                }
            ],
            "source": [
                "df_merged.info()"
            ]
        },
        {
            "cell_type": "markdown",
            "metadata": {},
            "source": [
                "### Prepare data"
            ]
        },
        {
            "cell_type": "markdown",
            "metadata": {},
            "source": [
                "Before fitting the LightFM model, we need to create an instance of `Dataset` which holds the interaction matrix."
            ]
        },
        {
            "cell_type": "code",
            "execution_count": 19,
            "metadata": {},
            "outputs": [],
            "source": [
                "dataset = Dataset()\n",
                "\n",
                "# Get unique values for users, items, and user features\n",
                "unique_users = df_merged[\"userId\"].unique()\n",
                "unique_items = df_merged[\"history\"].unique()\n",
                "unique_user_features = df_merged[\"userType\"].unique().tolist()\n",
                "\n",
                "# Fit dataset with users, items, and user feature names\n",
                "dataset.fit(\n",
                "    users=unique_users,\n",
                "    items=unique_items,\n",
                "    user_features=unique_user_features  # Register user features\n",
                ")\n"
            ]
        },
        {
            "cell_type": "code",
            "execution_count": 20,
            "metadata": {},
            "outputs": [],
            "source": [
                "(interactions, weights) = dataset.build_interactions([\n",
                "    (row.userId, row.history, row.score) \n",
                "    for _, row in df_merged.iterrows()\n",
                "])\n"
            ]
        },
        {
            "cell_type": "code",
            "execution_count": 21,
            "metadata": {},
            "outputs": [],
            "source": [
                "user_features_list = [\n",
                "    (row.userId, [row.userType])  \n",
                "    for _, row in df_merged.iterrows()\n",
                "]\n",
                "\n",
                "user_features = dataset.build_user_features(user_features_list)\n"
            ]
        },
        {
            "cell_type": "markdown",
            "metadata": {},
            "source": [
                "LightLM works slightly differently compared to other packages as it expects the train and test sets to have same dimension. Therefore the conventional train test split will not work.\n",
                "\n",
                "The package has included the `cross_validation.random_train_test_split` method to split the interaction data and splits it into two disjoint training and test sets. \n",
                "\n",
                "However, note that **it does not validate the interactions in the test set to guarantee all items and users have historical interactions in the training set**. Therefore this may result into a partial cold-start problem in the test set."
            ]
        },
        {
            "cell_type": "code",
            "execution_count": 22,
            "metadata": {},
            "outputs": [],
            "source": [
                "# Split train and test sets (80/20 split)\n",
                "train, test = cross_validation.random_train_test_split(interactions, test_percentage=TEST_PERCENTAGE, random_state=SEED)\n",
                "train_weights, test_weights  = cross_validation.random_train_test_split(weights, test_percentage=TEST_PERCENTAGE, random_state=SEED)\n"
            ]
        },
        {
            "cell_type": "markdown",
            "metadata": {},
            "source": [
                "Double check the size of both the train and test sets."
            ]
        },
        {
            "cell_type": "code",
            "execution_count": 23,
            "metadata": {},
            "outputs": [
                {
                    "name": "stdout",
                    "output_type": "stream",
                    "text": [
                        "Shape of train interactions: (532037, 231305)\n",
                        "Shape of test interactions: (532037, 231305)\n"
                    ]
                }
            ],
            "source": [
                "print(f\"Shape of train interactions: {train.shape}\")\n",
                "print(f\"Shape of test interactions: {test.shape}\")"
            ]
        },
        {
            "cell_type": "code",
            "execution_count": 24,
            "metadata": {},
            "outputs": [
                {
                    "name": "stdout",
                    "output_type": "stream",
                    "text": [
                        "Shape of train interactions: (532037, 231305)\n",
                        "Shape of test interactions: (532037, 231305)\n"
                    ]
                }
            ],
            "source": [
                "print(f\"Shape of train interactions: {train_weights.shape}\")\n",
                "print(f\"Shape of test interactions: {test_weights.shape}\")"
            ]
        },
        {
            "cell_type": "markdown",
            "metadata": {},
            "source": [
                "### Fit the LightFM model"
            ]
        },
        {
            "cell_type": "markdown",
            "metadata": {},
            "source": [
                "In this notebook, the LightFM model will be using the weighted Approximate-Rank Pairwise (WARP) as the loss. Further explanation on the topic can be found [here](https://making.lyst.com/lightfm/docs/examples/warp_loss.html#learning-to-rank-using-the-warp-loss).\n",
                "\n",
                "\n",
                "In general, it maximises the rank of positive examples by repeatedly sampling negative examples until a rank violation has been located. This approach is recommended when only positive interactions are present."
            ]
        },
        {
            "cell_type": "markdown",
            "metadata": {},
            "source": [
                "The LightFM model can be fitted with the following code:"
            ]
        },
        {
            "cell_type": "code",
            "execution_count": null,
            "metadata": {
                "scrolled": true
            },
            "outputs": [
                {
                    "data": {
                        "text/plain": [
                            "<lightfm.lightfm.LightFM at 0x7105ebc63fa0>"
                        ]
                    },
                    "execution_count": 25,
                    "metadata": {},
                    "output_type": "execute_result"
                }
            ],
            "source": [
                "model = LightFM(no_components=NUM_COMPONENTS,loss=\"warp\",learning_rate=LEARNING_RATE,user_alpha=ALPHA,max_sampled=MAX_SAMPLED,random_state=np.random.RandomState(SEED))  # Weighted Approximate-Rank Pairwise (WARP) loss\n",
                "model.fit(train, sample_weight=train_weights, epochs=NO_EPOCHS, num_threads=NUM_THREADS, user_features=user_features)\n",
                "# model.fit(train, epochs=NO_EPOCHS, num_threads=NUM_THREADS, user_features=user_features)\n",
                "# model.fit(interactions, sample_weight=weights, epochs=NO_EPOCHS, num_threads=NUM_THREADS, user_features=user_features)\n"
            ]
        },
        {
            "cell_type": "markdown",
            "metadata": {},
            "source": [
                "### Evaluate model"
            ]
        },
        {
            "cell_type": "code",
            "execution_count": 26,
            "metadata": {},
            "outputs": [
                {
                    "name": "stdout",
                    "output_type": "stream",
                    "text": [
                        "AUC test Score: 0.8595\n",
                        "AUC train Score: 0.8418\n"
                    ]
                }
            ],
            "source": [
                "# Import the evaluation routines\n",
                "from lightfm.evaluation import auc_score\n",
                "\n",
                "# Compute evaluation metrics\n",
                "auc_train = auc_score(model, train, user_features=user_features, num_threads=NUM_THREADS).mean()\n",
                "auc_test = auc_score(model, test, train_interactions=train, user_features=user_features, num_threads=NUM_THREADS).mean()\n",
                "\n",
                "# Print evaluation results\n",
                "print(f\"AUC test Score: {auc_test:.4f}\")\n",
                "print(f\"AUC train Score: {auc_train:.4f}\")"
            ]
        },
        {
            "cell_type": "markdown",
            "metadata": {},
            "source": [
                "### Save pkls to serve model"
            ]
        },
        {
            "cell_type": "code",
            "execution_count": 27,
            "metadata": {},
            "outputs": [],
            "source": [
                "user_id_map, user_feature_map, item_id_map, item_feature_map = dataset.mapping()"
            ]
        },
        {
            "cell_type": "code",
            "execution_count": 28,
            "metadata": {},
            "outputs": [],
            "source": [
                "item_id_map_reverse = {v: k for k, v in item_id_map.items()}"
            ]
        },
        {
            "cell_type": "code",
            "execution_count": 29,
            "metadata": {},
            "outputs": [],
            "source": [
                "import pickle\n",
                "\n",
                "pickle.dump(model, open('artifacts/lightfm_model.pkl', 'wb'))\n",
                "pickle.dump(user_id_map, open('artifacts/user_id_map.pkl', 'wb'))\n",
                "pickle.dump(item_id_map_reverse, open('artifacts/item_id_map_reverse.pkl', 'wb'))\n",
                "pickle.dump(user_feature_map, open('artifacts/user_feature_map.pkl', 'wb'))"
            ]
        },
        {
            "cell_type": "code",
            "execution_count": 30,
            "metadata": {},
            "outputs": [],
            "source": [
                "loaded_model = pickle.load(open('artifacts/lightfm_model.pkl', 'rb'))\n",
                "loaded_user_id_map = pickle.load(open('artifacts/user_id_map.pkl', 'rb'))\n",
                "loaded_item_id_map_reverse = pickle.load(open('artifacts/item_id_map_reverse.pkl', 'rb'))\n",
                "loaded_user_feature_map = pickle.load(open('artifacts/user_feature_map.pkl', 'rb'))"
            ]
        },
        {
            "cell_type": "markdown",
            "metadata": {},
            "source": [
                "### Make predictions to known and unknowm on same recommendation function with pkls"
            ]
        },
        {
            "cell_type": "code",
            "execution_count": 31,
            "metadata": {},
            "outputs": [
                {
                    "data": {
                        "text/plain": [
                            "231305"
                        ]
                    },
                    "execution_count": 31,
                    "metadata": {},
                    "output_type": "execute_result"
                }
            ],
            "source": [
                "\n",
                "_, n_items = interactions.shape # no of users * no of items\n",
                "\n",
                "n_items"
            ]
        },
        {
            "cell_type": "code",
            "execution_count": 32,
            "metadata": {},
            "outputs": [],
            "source": [
                "def format_newuser_input(user_feature_map, user_feature_list):\n",
                "  normalised_val = 1.0 \n",
                "  target_indices = []\n",
                "  for feature in user_feature_list:\n",
                "    try:\n",
                "        target_indices.append(user_feature_map[feature])\n",
                "    except KeyError:\n",
                "        print(\"new user feature encountered '{}'\".format(feature))\n",
                "        pass\n",
                "  #print(\"target indices: {}\".format(target_indices))\n",
                "  new_user_features = np.zeros(len(user_feature_map.keys()))\n",
                "  for i in target_indices:\n",
                "    new_user_features[i] = normalised_val\n",
                "  new_user_features = sparse.csr_matrix(new_user_features)\n",
                "  return(new_user_features)"
            ]
        },
        {
            "cell_type": "code",
            "execution_count": 33,
            "metadata": {},
            "outputs": [],
            "source": [
                "def sample_recommendation(user_hash,df_news,user_feature_list,item_id_map_reverse,user_feature_map,user_id_map,model):\n",
                "    try:\n",
                "        user_x = user_id_map[user_hash]\n",
                "        scores = model.predict(user_x, np.arange(n_items)) # means predict for all\n",
                "    except:\n",
                "        new_user_features = format_newuser_input(user_feature_map, user_feature_list)\n",
                "        scores = model.predict(0, np.arange(n_items), user_features=new_user_features)\n",
                "    \n",
                "    top_5_indices = np.argsort(-scores)[:5]  # Sort scores in descending order and take the top 5\n",
                "    top_5_items = [item_id_map_reverse[i] for i in top_5_indices]\n",
                "\n",
                "    print(\"Top 5 recommended items:\")\n",
                "\n",
                "    for x in top_5_items:\n",
                "        row = df_news[df_news[\"page\"] == x]\n",
                "        print(\"        %s\" % row[\"page\"].values[0])\n"
            ]
        },
        {
            "cell_type": "code",
            "execution_count": 34,
            "metadata": {},
            "outputs": [],
            "source": [
                "# # predict for known user\n",
                "# user_feature_list = ['userType:Logged']\n",
                "# user_hash = '5f5e17781fc2ec0ddcfb2e9356e61c5d3d4b0b3c8fabd20917feb9e807463856'\n",
                "# sample_recommendation(user_hash,df_news,user_feature_list,loaded_item_id_map_reverse,loaded_user_feature_map,loaded_user_id_map,loaded_model)"
            ]
        },
        {
            "cell_type": "code",
            "execution_count": 35,
            "metadata": {},
            "outputs": [
                {
                    "name": "stdout",
                    "output_type": "stream",
                    "text": [
                        "new user feature encountered 'userType:Non-Logged'\n",
                        "Top 5 recommended items:\n",
                        "        d2593c3d-2347-40d9-948c-b6065e8459a9\n",
                        "        f6b5d170-48b9-4f8e-88d4-c84b6668f3bd\n",
                        "        1f32787b-de2b-49be-8c20-ddaeae34cc22\n",
                        "        6a83890a-d9e9-4f6b-a6c6-90d031785bbf\n",
                        "        4c63d7cd-4902-4ffb-9b94-578b1b2151f0\n"
                    ]
                }
            ],
            "source": [
                "# predict for unknown user\n",
                "user_feature_list = ['userType:Non-Logged']\n",
                "user_hash = ''\n",
                "sample_recommendation(user_hash,df_news,user_feature_list,loaded_item_id_map_reverse,loaded_user_feature_map,loaded_user_id_map,loaded_model)"
            ]
        }
    ],
    "metadata": {
        "kernelspec": {
            "display_name": ".venv",
            "language": "python",
            "name": "python3"
        },
        "language_info": {
            "codemirror_mode": {
                "name": "ipython",
                "version": 3
            },
            "file_extension": ".py",
            "mimetype": "text/x-python",
            "name": "python",
            "nbconvert_exporter": "python",
            "pygments_lexer": "ipython3",
            "version": "3.10.16"
        }
    },
    "nbformat": 4,
    "nbformat_minor": 4
}
