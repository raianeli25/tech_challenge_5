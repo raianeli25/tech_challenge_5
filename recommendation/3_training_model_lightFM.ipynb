{
    "cells": [
        {
            "cell_type": "markdown",
            "metadata": {},
            "source": [
                "### Overview"
            ]
        },
        {
            "cell_type": "markdown",
            "metadata": {},
            "source": [
                "![3a_train](../docs/nbs/Model_Training-training_3a.jpg)"
            ]
        },
        {
            "cell_type": "markdown",
            "metadata": {},
            "source": [
                "# Model recommendation with lighfm"
            ]
        },
        {
            "cell_type": "markdown",
            "metadata": {},
            "source": [
                "### Import libraries"
            ]
        },
        {
            "cell_type": "code",
            "execution_count": 1,
            "metadata": {},
            "outputs": [],
            "source": [
                "import numpy as np\n",
                "import pandas as pd\n",
                "from lightfm import LightFM\n",
                "from lightfm.data import Dataset\n",
                "from lightfm import cross_validation\n",
                "import json\n",
                "import mlflow"
            ]
        },
        {
            "cell_type": "markdown",
            "metadata": {},
            "source": [
                "### Defining variables"
            ]
        },
        {
            "cell_type": "code",
            "execution_count": 2,
            "metadata": {},
            "outputs": [],
            "source": [
                "with open('config.json', 'r') as f:\n",
                "    config = json.load(f)"
            ]
        },
        {
            "cell_type": "code",
            "execution_count": 3,
            "metadata": {},
            "outputs": [],
            "source": [
                "try:\n",
                "    mlflow.end_run()\n",
                "except:\n",
                "    pass"
            ]
        },
        {
            "cell_type": "code",
            "execution_count": 4,
            "metadata": {},
            "outputs": [
                {
                    "data": {
                        "text/plain": [
                            "<ActiveRun: >"
                        ]
                    },
                    "execution_count": 4,
                    "metadata": {},
                    "output_type": "execute_result"
                }
            ],
            "source": [
                "mlflow.set_experiment(\"LightFM Grid Search\")\n",
                "\n",
                "mlflow.start_run()"
            ]
        },
        {
            "cell_type": "code",
            "execution_count": 5,
            "metadata": {
                "tags": [
                    "parameters"
                ]
            },
            "outputs": [
                {
                    "data": {
                        "text/plain": [
                            "10"
                        ]
                    },
                    "execution_count": 5,
                    "metadata": {},
                    "output_type": "execute_result"
                }
            ],
            "source": [
                "\n",
                "TEST_PERCENTAGE = 0.20\n",
                "LEARNING_RATE = 0.1\n",
                "NUM_EPOCHS = 80\n",
                "NUM_COMPONENTS = 10\n",
                "NUM_THREADS = 3\n",
                "ALPHA_REG_L2 = 1e-3\n",
                "MAX_SAMPLED = 10\n",
                "SEED = 42\n",
                "\n",
                "mlflow.log_param(\"test_percentage\", TEST_PERCENTAGE)\n",
                "mlflow.log_param(\"learning_rate\", LEARNING_RATE)\n",
                "mlflow.log_param(\"num_epochs\", NUM_EPOCHS)\n",
                "mlflow.log_param(\"num_components\", NUM_COMPONENTS)\n",
                "mlflow.log_param(\"alpha_reg_l2\", ALPHA_REG_L2)\n",
                "mlflow.log_param(\"max_sampled\", MAX_SAMPLED)"
            ]
        },
        {
            "cell_type": "markdown",
            "metadata": {},
            "source": [
                "### Retrieve data"
            ]
        },
        {
            "cell_type": "code",
            "execution_count": 6,
            "metadata": {},
            "outputs": [],
            "source": [
                "dtype_df_train_score = {\n",
                "\"userId\" : 'string',\n",
                "\"userType\" : 'category',\n",
                "\"history\" : 'string',\n",
                "\"score\" : 'Float32',\n",
                "\"historyFreshnessNormalized\" : 'Float32'\n",
                "}"
            ]
        },
        {
            "cell_type": "code",
            "execution_count": 7,
            "metadata": {},
            "outputs": [
                {
                    "data": {
                        "text/html": [
                            "<div>\n",
                            "<style scoped>\n",
                            "    .dataframe tbody tr th:only-of-type {\n",
                            "        vertical-align: middle;\n",
                            "    }\n",
                            "\n",
                            "    .dataframe tbody tr th {\n",
                            "        vertical-align: top;\n",
                            "    }\n",
                            "\n",
                            "    .dataframe thead th {\n",
                            "        text-align: right;\n",
                            "    }\n",
                            "</style>\n",
                            "<table border=\"1\" class=\"dataframe\">\n",
                            "  <thead>\n",
                            "    <tr style=\"text-align: right;\">\n",
                            "      <th></th>\n",
                            "      <th>userId</th>\n",
                            "      <th>history</th>\n",
                            "      <th>userType</th>\n",
                            "      <th>historyFreshnessNormalized</th>\n",
                            "      <th>score</th>\n",
                            "    </tr>\n",
                            "  </thead>\n",
                            "  <tbody>\n",
                            "    <tr>\n",
                            "      <th>0</th>\n",
                            "      <td>fbb963d61eb8149e7f43b1bd905457ba5e106a830ddc27...</td>\n",
                            "      <td>80aa7bb2-adce-4a55-9711-912c407927a1</td>\n",
                            "      <td>Non-Logged</td>\n",
                            "      <td>0.980416</td>\n",
                            "      <td>0.704604</td>\n",
                            "    </tr>\n",
                            "    <tr>\n",
                            "      <th>1</th>\n",
                            "      <td>fbb963d61eb8149e7f43b1bd905457ba5e106a830ddc27...</td>\n",
                            "      <td>d9e5f15d-b441-4d8b-bee4-462b106d3916</td>\n",
                            "      <td>Non-Logged</td>\n",
                            "      <td>0.613061</td>\n",
                            "      <td>0.721303</td>\n",
                            "    </tr>\n",
                            "    <tr>\n",
                            "      <th>2</th>\n",
                            "      <td>17f1083e6079b0f28f7820a6803583d1c1b405c0718b11...</td>\n",
                            "      <td>e273dba4-136c-45fb-bdd6-0cc57b13aaf0</td>\n",
                            "      <td>Non-Logged</td>\n",
                            "      <td>0.880859</td>\n",
                            "      <td>0.637834</td>\n",
                            "    </tr>\n",
                            "    <tr>\n",
                            "      <th>3</th>\n",
                            "      <td>528a8d7a2af73101da8d6709c1ec875b449a5a58749a99...</td>\n",
                            "      <td>a0562805-c7d1-4ffd-b622-87c50ae006f4</td>\n",
                            "      <td>Non-Logged</td>\n",
                            "      <td>0.945895</td>\n",
                            "      <td>0.622225</td>\n",
                            "    </tr>\n",
                            "    <tr>\n",
                            "      <th>4</th>\n",
                            "      <td>2dd18b58a634a4e77181a202cf152df6169dfb3e4230ef...</td>\n",
                            "      <td>233f8238-2ce0-470f-a9d5-0e0ac530382a</td>\n",
                            "      <td>Non-Logged</td>\n",
                            "      <td>0.13293</td>\n",
                            "      <td>0.68147</td>\n",
                            "    </tr>\n",
                            "    <tr>\n",
                            "      <th>...</th>\n",
                            "      <td>...</td>\n",
                            "      <td>...</td>\n",
                            "      <td>...</td>\n",
                            "      <td>...</td>\n",
                            "      <td>...</td>\n",
                            "    </tr>\n",
                            "    <tr>\n",
                            "      <th>6335310</th>\n",
                            "      <td>5889d6ebbf62e6c115e0a280063dc8189cca490cbfea56...</td>\n",
                            "      <td>7a349b09-badc-40a9-a194-83d959aeb50c</td>\n",
                            "      <td>Non-Logged</td>\n",
                            "      <td>0.966442</td>\n",
                            "      <td>0.663881</td>\n",
                            "    </tr>\n",
                            "    <tr>\n",
                            "      <th>6335311</th>\n",
                            "      <td>5889d6ebbf62e6c115e0a280063dc8189cca490cbfea56...</td>\n",
                            "      <td>6f344c45-e731-41b4-8c65-9967ebc03096</td>\n",
                            "      <td>Non-Logged</td>\n",
                            "      <td>0.937478</td>\n",
                            "      <td>0.843734</td>\n",
                            "    </tr>\n",
                            "    <tr>\n",
                            "      <th>6335312</th>\n",
                            "      <td>5889d6ebbf62e6c115e0a280063dc8189cca490cbfea56...</td>\n",
                            "      <td>4c586bb4-f71d-4b39-9df8-e38ac3f632a0</td>\n",
                            "      <td>Non-Logged</td>\n",
                            "      <td>0.939154</td>\n",
                            "      <td>0.473613</td>\n",
                            "    </tr>\n",
                            "    <tr>\n",
                            "      <th>6335313</th>\n",
                            "      <td>5889d6ebbf62e6c115e0a280063dc8189cca490cbfea56...</td>\n",
                            "      <td>855d20b7-53f2-4678-a10f-55402d085018</td>\n",
                            "      <td>Non-Logged</td>\n",
                            "      <td>0.929145</td>\n",
                            "      <td>0.669966</td>\n",
                            "    </tr>\n",
                            "    <tr>\n",
                            "      <th>6335314</th>\n",
                            "      <td>5889d6ebbf62e6c115e0a280063dc8189cca490cbfea56...</td>\n",
                            "      <td>a47114d6-cac9-45fa-a4b7-987383f4ec29</td>\n",
                            "      <td>Non-Logged</td>\n",
                            "      <td>0.927488</td>\n",
                            "      <td>0.763677</td>\n",
                            "    </tr>\n",
                            "  </tbody>\n",
                            "</table>\n",
                            "<p>6335315 rows × 5 columns</p>\n",
                            "</div>"
                        ],
                        "text/plain": [
                            "                                                    userId  \\\n",
                            "0        fbb963d61eb8149e7f43b1bd905457ba5e106a830ddc27...   \n",
                            "1        fbb963d61eb8149e7f43b1bd905457ba5e106a830ddc27...   \n",
                            "2        17f1083e6079b0f28f7820a6803583d1c1b405c0718b11...   \n",
                            "3        528a8d7a2af73101da8d6709c1ec875b449a5a58749a99...   \n",
                            "4        2dd18b58a634a4e77181a202cf152df6169dfb3e4230ef...   \n",
                            "...                                                    ...   \n",
                            "6335310  5889d6ebbf62e6c115e0a280063dc8189cca490cbfea56...   \n",
                            "6335311  5889d6ebbf62e6c115e0a280063dc8189cca490cbfea56...   \n",
                            "6335312  5889d6ebbf62e6c115e0a280063dc8189cca490cbfea56...   \n",
                            "6335313  5889d6ebbf62e6c115e0a280063dc8189cca490cbfea56...   \n",
                            "6335314  5889d6ebbf62e6c115e0a280063dc8189cca490cbfea56...   \n",
                            "\n",
                            "                                      history    userType  \\\n",
                            "0        80aa7bb2-adce-4a55-9711-912c407927a1  Non-Logged   \n",
                            "1        d9e5f15d-b441-4d8b-bee4-462b106d3916  Non-Logged   \n",
                            "2        e273dba4-136c-45fb-bdd6-0cc57b13aaf0  Non-Logged   \n",
                            "3        a0562805-c7d1-4ffd-b622-87c50ae006f4  Non-Logged   \n",
                            "4        233f8238-2ce0-470f-a9d5-0e0ac530382a  Non-Logged   \n",
                            "...                                       ...         ...   \n",
                            "6335310  7a349b09-badc-40a9-a194-83d959aeb50c  Non-Logged   \n",
                            "6335311  6f344c45-e731-41b4-8c65-9967ebc03096  Non-Logged   \n",
                            "6335312  4c586bb4-f71d-4b39-9df8-e38ac3f632a0  Non-Logged   \n",
                            "6335313  855d20b7-53f2-4678-a10f-55402d085018  Non-Logged   \n",
                            "6335314  a47114d6-cac9-45fa-a4b7-987383f4ec29  Non-Logged   \n",
                            "\n",
                            "         historyFreshnessNormalized     score  \n",
                            "0                          0.980416  0.704604  \n",
                            "1                          0.613061  0.721303  \n",
                            "2                          0.880859  0.637834  \n",
                            "3                          0.945895  0.622225  \n",
                            "4                           0.13293   0.68147  \n",
                            "...                             ...       ...  \n",
                            "6335310                    0.966442  0.663881  \n",
                            "6335311                    0.937478  0.843734  \n",
                            "6335312                    0.939154  0.473613  \n",
                            "6335313                    0.929145  0.669966  \n",
                            "6335314                    0.927488  0.763677  \n",
                            "\n",
                            "[6335315 rows x 5 columns]"
                        ]
                    },
                    "execution_count": 7,
                    "metadata": {},
                    "output_type": "execute_result"
                }
            ],
            "source": [
                "df_merged = pd.read_csv(config[\"DF_TRAIN_SCORES\"], dtype=dtype_df_train_score)\n",
                "df_merged.drop(columns=[\"Unnamed: 0\"],inplace=True)\n",
                "df_merged"
            ]
        },
        {
            "cell_type": "markdown",
            "metadata": {},
            "source": [
                "### Prepare data"
            ]
        },
        {
            "cell_type": "markdown",
            "metadata": {},
            "source": [
                "Before fitting the LightFM model, we need to create an instance of `Dataset` which holds the interaction matrix."
            ]
        },
        {
            "cell_type": "code",
            "execution_count": 8,
            "metadata": {},
            "outputs": [],
            "source": [
                "dataset = Dataset()\n",
                "\n",
                "# Get unique values for users, items, and user features\n",
                "unique_users = df_merged[\"userId\"].unique()\n",
                "unique_items = df_merged[\"history\"].unique()\n",
                "unique_user_features = df_merged[\"userType\"].unique().tolist()\n",
                "\n",
                "# Fit dataset with users, items, and user feature names\n",
                "dataset.fit(\n",
                "    users=unique_users,\n",
                "    items=unique_items,\n",
                "    user_features=unique_user_features  # Register user features\n",
                ")"
            ]
        },
        {
            "cell_type": "code",
            "execution_count": 9,
            "metadata": {},
            "outputs": [],
            "source": [
                "(interactions, weights) = dataset.build_interactions([\n",
                "    (row.userId, row.history, row.score) \n",
                "    for _, row in df_merged.iterrows()\n",
                "])"
            ]
        },
        {
            "cell_type": "code",
            "execution_count": 10,
            "metadata": {},
            "outputs": [],
            "source": [
                "user_features_list = [\n",
                "    (row.userId, [row.userType])  \n",
                "    for _, row in df_merged.iterrows()\n",
                "]\n",
                "\n",
                "user_features = dataset.build_user_features(user_features_list)"
            ]
        },
        {
            "cell_type": "markdown",
            "metadata": {},
            "source": [
                "LightLM works slightly differently compared to other packages as it expects the train and test sets to have same dimension. Therefore the conventional train test split will not work.\n",
                "\n",
                "The package has included the `cross_validation.random_train_test_split` method to split the interaction data and splits it into two disjoint training and test sets. \n",
                "\n",
                "However, note that **it does not validate the interactions in the test set to guarantee all items and users have historical interactions in the training set**. Therefore this may result into a partial cold-start problem in the test set."
            ]
        },
        {
            "cell_type": "code",
            "execution_count": 11,
            "metadata": {},
            "outputs": [],
            "source": [
                "# Split train and test sets (80/20 split)\n",
                "train, test = cross_validation.random_train_test_split(interactions, test_percentage=TEST_PERCENTAGE, random_state=SEED)\n",
                "train_weights, test_weights  = cross_validation.random_train_test_split(weights, test_percentage=TEST_PERCENTAGE, random_state=SEED)\n"
            ]
        },
        {
            "cell_type": "markdown",
            "metadata": {},
            "source": [
                "Double check the size of both the train and test sets."
            ]
        },
        {
            "cell_type": "code",
            "execution_count": 12,
            "metadata": {},
            "outputs": [
                {
                    "name": "stdout",
                    "output_type": "stream",
                    "text": [
                        "Shape of train interactions: (530491, 230722)\n",
                        "Shape of test interactions: (530491, 230722)\n"
                    ]
                }
            ],
            "source": [
                "print(f\"Shape of train interactions: {train.shape}\")\n",
                "print(f\"Shape of test interactions: {test.shape}\")"
            ]
        },
        {
            "cell_type": "code",
            "execution_count": 13,
            "metadata": {},
            "outputs": [
                {
                    "name": "stdout",
                    "output_type": "stream",
                    "text": [
                        "Shape of train interactions: (530491, 230722)\n",
                        "Shape of test interactions: (530491, 230722)\n"
                    ]
                }
            ],
            "source": [
                "print(f\"Shape of train interactions: {train_weights.shape}\")\n",
                "print(f\"Shape of test interactions: {test_weights.shape}\")"
            ]
        },
        {
            "cell_type": "markdown",
            "metadata": {},
            "source": [
                "### Fit the LightFM model"
            ]
        },
        {
            "cell_type": "markdown",
            "metadata": {},
            "source": [
                "In this notebook, the LightFM model will be using the weighted Approximate-Rank Pairwise (WARP) as the loss. Further explanation on the topic can be found [here](https://making.lyst.com/lightfm/docs/examples/warp_loss.html#learning-to-rank-using-the-warp-loss).\n",
                "\n",
                "\n",
                "In general, it maximises the rank of positive examples by repeatedly sampling negative examples until a rank violation has been located. This approach is recommended when only positive interactions are present."
            ]
        },
        {
            "cell_type": "markdown",
            "metadata": {},
            "source": [
                "The LightFM model can be fitted with the following code:"
            ]
        },
        {
            "cell_type": "code",
            "execution_count": 14,
            "metadata": {
                "scrolled": true
            },
            "outputs": [
                {
                    "data": {
                        "text/plain": [
                            "<lightfm.lightfm.LightFM at 0x7190318d56c0>"
                        ]
                    },
                    "execution_count": 14,
                    "metadata": {},
                    "output_type": "execute_result"
                }
            ],
            "source": [
                "model = LightFM(no_components=NUM_COMPONENTS,loss=\"warp\",learning_rate=LEARNING_RATE,user_alpha=ALPHA_REG_L2,max_sampled=MAX_SAMPLED,random_state=np.random.RandomState(SEED))  # Weighted Approximate-Rank Pairwise (WARP) loss\n",
                "model.fit(train, sample_weight=train_weights, epochs=NUM_EPOCHS, num_threads=NUM_THREADS, user_features=user_features)\n"
            ]
        },
        {
            "cell_type": "markdown",
            "metadata": {},
            "source": [
                "### Evaluate model"
            ]
        },
        {
            "cell_type": "code",
            "execution_count": 15,
            "metadata": {},
            "outputs": [
                {
                    "name": "stdout",
                    "output_type": "stream",
                    "text": [
                        "AUC test Score: 0.8772\n",
                        "AUC train Score: 0.8725\n"
                    ]
                }
            ],
            "source": [
                "# Import the evaluation routines\n",
                "from lightfm.evaluation import auc_score\n",
                "\n",
                "# Compute evaluation metrics\n",
                "auc_train = auc_score(model, train, user_features=user_features, num_threads=NUM_THREADS).mean()\n",
                "auc_test = auc_score(model, test, train_interactions=train, user_features=user_features, num_threads=NUM_THREADS).mean()\n",
                "\n",
                "# Print evaluation results\n",
                "print(f\"AUC test Score: {auc_test:.4f}\")\n",
                "print(f\"AUC train Score: {auc_train:.4f}\")"
            ]
        },
        {
            "cell_type": "code",
            "execution_count": 16,
            "metadata": {},
            "outputs": [],
            "source": [
                "mlflow.log_metric(\"auc_train\", auc_train)\n",
                "mlflow.log_metric(\"auc_test\", auc_test)\n",
                "\n",
                "mlflow.end_run()"
            ]
        },
        {
            "cell_type": "markdown",
            "metadata": {},
            "source": [
                "### Save pkls to serve model"
            ]
        },
        {
            "cell_type": "code",
            "execution_count": 17,
            "metadata": {},
            "outputs": [],
            "source": [
                "user_id_map, user_feature_map, item_id_map, item_feature_map = dataset.mapping()\n",
                "item_id_map_reverse = {v: k for k, v in item_id_map.items()}\n",
                "interactions_shape = interactions.shape"
            ]
        },
        {
            "cell_type": "code",
            "execution_count": 18,
            "metadata": {},
            "outputs": [],
            "source": [
                "from utils.custom_data_structs import UserItemData\n",
                "\n",
                "user_item_data = UserItemData(\n",
                "    user_id_map = user_id_map, \n",
                "    item_id_map = item_id_map, \n",
                "    user_id_map_reverse = None, \n",
                "    item_id_map_reverse = item_id_map_reverse, \n",
                "    user_feature_map = user_feature_map, \n",
                "    item_feature_map = item_feature_map, \n",
                "    interactions_shape = interactions_shape\n",
                "    )"
            ]
        },
        {
            "cell_type": "markdown",
            "metadata": {},
            "source": [
                "### Import Pkls to Test Serving Model"
            ]
        },
        {
            "cell_type": "code",
            "execution_count": 19,
            "metadata": {},
            "outputs": [],
            "source": [
                "import pickle\n",
                "\n",
                "pickle.dump(model, open('artifacts/lightfm_model.pkl', 'wb'))\n",
                "pickle.dump(user_item_data, open('artifacts/user_item_data.pkl', 'wb'))"
            ]
        },
        {
            "cell_type": "code",
            "execution_count": 20,
            "metadata": {},
            "outputs": [],
            "source": [
                "import pickle\n",
                "from utils.custom_data_structs import UserItemData\n",
                "from utils.model_funcs import recommend_by_model_scores"
            ]
        },
        {
            "cell_type": "code",
            "execution_count": 21,
            "metadata": {},
            "outputs": [],
            "source": [
                "loaded_model = pickle.load(open('artifacts/lightfm_model.pkl', 'rb'))\n",
                "loaded_user_item_data:UserItemData = pickle.load(open('artifacts/user_item_data.pkl', 'rb'))"
            ]
        },
        {
            "cell_type": "markdown",
            "metadata": {},
            "source": [
                "### Make predictions to known and unknowm on same recommendation function with pkls"
            ]
        },
        {
            "cell_type": "code",
            "execution_count": 22,
            "metadata": {},
            "outputs": [
                {
                    "name": "stdout",
                    "output_type": "stream",
                    "text": [
                        "['64a10a17-b54e-42f9-b4f8-8653ac8d3dfa', 'cb0d3637-f60b-4c74-bffe-46bbbd3317da', '180c9fda-9dac-4527-92c0-311cf61792cd', '5170d432-dc98-4921-b7f1-9f3745147028', '95afd4ba-3f07-4705-aff0-7a77c60859d6', '149ace4e-8454-4b6b-8acd-f3210314c5d4', 'd544624c-1f1c-4143-9b8c-2d9ec40f14ca']\n"
                    ]
                }
            ],
            "source": [
                "# predict for known user\n",
                "user_hash = '5f5e17781fc2ec0ddcfb2e9356e61c5d3d4b0b3c8fabd20917feb9e807463856'\n",
                "recommendation_list = recommend_by_model_scores(user_hash,loaded_user_item_data,loaded_model)\n",
                "print(recommendation_list)"
            ]
        },
        {
            "cell_type": "code",
            "execution_count": 23,
            "metadata": {},
            "outputs": [
                {
                    "name": "stdout",
                    "output_type": "stream",
                    "text": [
                        "['a0836cb2-4c51-4964-a4dc-2f47d647ef5b', 'cbe29bac-065d-412b-9e4f-dc0f70341daa', 'e2597c82-3c22-419c-9e38-9f72ce7edc3c', '40610df4-da21-452c-8f01-8cf07eb1afa1', '180c9fda-9dac-4527-92c0-311cf61792cd', 'cb0d3637-f60b-4c74-bffe-46bbbd3317da', '9c28556b-937b-4a94-b66a-c22214b69a48']\n"
                    ]
                }
            ],
            "source": [
                "# predict for unknown user\n",
                "user_hash = ''\n",
                "recommendation_list = recommend_by_model_scores(user_hash,loaded_user_item_data,loaded_model)\n",
                "print(recommendation_list)"
            ]
        }
    ],
    "metadata": {
        "kernelspec": {
            "display_name": ".venv",
            "language": "python",
            "name": "python3"
        },
        "language_info": {
            "codemirror_mode": {
                "name": "ipython",
                "version": 3
            },
            "file_extension": ".py",
            "mimetype": "text/x-python",
            "name": "python",
            "nbconvert_exporter": "python",
            "pygments_lexer": "ipython3",
            "version": "3.10.16"
        }
    },
    "nbformat": 4,
    "nbformat_minor": 4
}
