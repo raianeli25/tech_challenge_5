{
 "cells": [
  {
   "cell_type": "code",
   "execution_count": 1,
   "metadata": {},
   "outputs": [],
   "source": [
    "import numpy as np\n",
    "\n",
    "# Function to generate synthetic user-item interaction matrices\n",
    "def generate_interaction_matrix(feedback_type='implicit', num_users=100, num_items=50, interaction_density=0.1, rating_scale=(1, 5)):\n",
    "    np.random.seed(42)  # Ensure reproducible results\n",
    "    \n",
    "    # Generate implicit feedback matrix\n",
    "    if feedback_type == 'implicit':\n",
    "        # Create a random matrix with values in [0, 1)\n",
    "        random_matrix = np.random.rand(num_users, num_items)\n",
    "        # Create a binary interaction matrix based on the defined density\n",
    "        interaction_matrix = (random_matrix < interaction_density).astype(int)\n",
    "    # Generate explicit feedback matrix\n",
    "    elif feedback_type == 'explicit':\n",
    "        # Start with a matrix of zeros\n",
    "        interaction_matrix = np.zeros((num_users, num_items))\n",
    "        # Populate the matrix with random ratings within the specified scale\n",
    "        for i in range(num_users):\n",
    "            for j in range(num_items):\n",
    "                if np.random.rand() < interaction_density:  # Apply density to decide on filling a cell\n",
    "                    interaction_matrix[i, j] = np.random.randint(rating_scale[0], rating_scale[1] + 1)\n",
    "    \n",
    "    return interaction_matrix"
   ]
  },
  {
   "cell_type": "code",
   "execution_count": 2,
   "metadata": {},
   "outputs": [
    {
     "name": "stdout",
     "output_type": "stream",
     "text": [
      "Generated Implicit Feedback Matrix Sample:\n",
      "[[0 0 0 0 0]\n",
      " [0 0 0 0 0]\n",
      " [1 0 0 0 0]\n",
      " [0 0 0 0 0]\n",
      " [0 1 0 0 0]]\n",
      "Generated Explicit Feedback Matrix Sample:\n",
      "[[0. 0. 0. 0. 0.]\n",
      " [0. 0. 4. 5. 0.]\n",
      " [0. 0. 0. 0. 0.]\n",
      " [0. 0. 0. 0. 0.]\n",
      " [0. 0. 0. 0. 0.]]\n"
     ]
    }
   ],
   "source": [
    "# Generate synthetic matrices\n",
    "implicit_matrix = generate_interaction_matrix(feedback_type='implicit', num_users=100, num_items=50, interaction_density=0.1)\n",
    "explicit_matrix = generate_interaction_matrix(feedback_type='explicit', num_users=100, num_items=50, interaction_density=0.1)\n",
    "\n",
    "# Display samples from the generated matrices\n",
    "print(\"Generated Implicit Feedback Matrix Sample:\")\n",
    "print(implicit_matrix[:5, :5])  # Display a 5x5 sample of the implicit matrix\n",
    "\n",
    "print(\"Generated Explicit Feedback Matrix Sample:\")\n",
    "print(explicit_matrix[:5, :5])  # Display a 5x5 sample of the explicit matrix"
   ]
  },
  {
   "cell_type": "code",
   "execution_count": 3,
   "metadata": {},
   "outputs": [],
   "source": [
    "# Example of a manually created user-item interaction matrix with explicit feedback\n",
    "user_item_matrix = np.array([\n",
    "    [3, 0, 2, 0, 0],\n",
    "    [0, 0, 4, 5, 2],\n",
    "    [1, 2, 0, 0, 0],\n",
    "    [1, 0, 0, 4, 1],\n",
    "    [0, 2, 3, 0, 0]\n",
    "])"
   ]
  },
  {
   "cell_type": "code",
   "execution_count": 4,
   "metadata": {},
   "outputs": [],
   "source": [
    "import numpy as np\n",
    "\n",
    "def sgd_als(user_item_matrix, num_factors, learning_rate, regularization, iterations):\n",
    "    # num_factors: Number of latent factors to use. Higher values can capture more nuanced patterns but risk overfitting.\n",
    "    # learning_rate: Controls the step size during optimization. Too high can cause overshooting, too low can lead to slow convergence.\n",
    "    # regularization: Helps prevent overfitting by penalizing large parameter values.\n",
    "    num_users, num_items = user_item_matrix.shape\n",
    "    errors = []  # To store RMSE after each iteration\n",
    "    \n",
    "    # Initialize user and item latent factor matrices with small random values\n",
    "    print(\"init user and item latent factors\")\n",
    "    user_factors = np.random.normal(scale=1./num_factors, size=(num_users, num_factors))\n",
    "    item_factors = np.random.normal(scale=1./num_factors, size=(num_items, num_factors))\n",
    "    \n",
    "    # Iterate over the specified number of iterations\n",
    "    for iteration in range(iterations):\n",
    "        total_error = 0\n",
    "        # Loop through all user-item pairs\n",
    "        for u in range(num_users):\n",
    "            # print(f'user = {u}')\n",
    "            for i in range(num_items):\n",
    "                #  print(f'item = {i}')\n",
    "                # Only update factors for user-item pairs with interaction\n",
    "                if user_item_matrix[u, i] > 0:\n",
    "                    # Compute the prediction error\n",
    "                    error = user_item_matrix[u, i] - np.dot(user_factors[u, :], item_factors[i, :].T)\n",
    "                    total_error += error**2\n",
    "                    # Update rules for user and item factors\n",
    "                    user_factors[u, :] += learning_rate * (error * item_factors[i, :] - regularization * user_factors[u, :])\n",
    "                    item_factors[i, :] += learning_rate * (error * user_factors[u, :] - regularization * item_factors[i, :])\n",
    "        # Calculate RMSE for current iteration\n",
    "        rmse = np.sqrt(total_error / np.count_nonzero(user_item_matrix))\n",
    "        errors.append(rmse)\n",
    "\n",
    "    return user_factors, item_factors, errors\n",
    "\n",
    "def predict(user_factors, item_factors):\n",
    "    \"\"\"Predict the user-item interactions.\"\"\"\n",
    "    return np.dot(user_factors, item_factors.T)"
   ]
  },
  {
   "cell_type": "code",
   "execution_count": 5,
   "metadata": {},
   "outputs": [
    {
     "name": "stdout",
     "output_type": "stream",
     "text": [
      "init user and item latent factors\n",
      "Predictions:\n",
      "[[2.751451   1.11286459 2.01391176 2.12328014 1.3543752 ]\n",
      " [2.17070876 2.08920653 3.83414642 4.9177779  1.85324007]\n",
      " [0.98936107 1.82105859 1.93081102 1.53343248 0.91175759]\n",
      " [0.99661501 0.91562097 2.45322376 3.7857576  1.09137982]\n",
      " [1.51150269 1.96518922 2.85363483 3.17031289 1.35631854]]\n"
     ]
    }
   ],
   "source": [
    "# Example usage parameters\n",
    "num_factors = 3  # Number of latent factors\n",
    "learning_rate = 0.001  # Learning rate for SGD\n",
    "regularization = 0.1  # Regularization parameter\n",
    "iterations = 10000  # Number of iterations\n",
    "\n",
    "# Apply SGD ALS\n",
    "# user_factors, item_factors, errors = sgd_als(user_item_matrix, num_factors, learning_rate, regularization, iterations)\n",
    "user_factors, item_factors, errors = sgd_als(user_item_matrix, num_factors, learning_rate, regularization, iterations)\n",
    "# Predict interactions\n",
    "predictions = predict(user_factors, item_factors)\n",
    "\n",
    "print(\"Predictions:\")\n",
    "print(predictions)\n",
    "# init user and item latent factors\n",
    "# Predictions:\n",
    "# [[2.74673304 1.67873889 2.02095291 1.81543743 1.40078986]\n",
    "#  [2.19166299 1.95915441 3.82886553 4.92874692 1.83125884]\n",
    "#  [1.01791858 1.81996846 1.30796385 1.05506906 0.69961991]\n",
    "#  [0.9771647  0.94682205 2.6555658  3.77808443 1.12173388]\n",
    "#  [1.75792289 1.94502747 2.86182183 3.41910276 1.40167863]]"
   ]
  },
  {
   "cell_type": "code",
   "execution_count": 6,
   "metadata": {},
   "outputs": [
    {
     "data": {
      "text/plain": [
       "array([[ 0.5275021 , -1.32424303,  1.0975428 ],\n",
       "       [-0.70427385, -1.9675353 ,  0.17288093],\n",
       "       [-0.92081488, -0.5753097 ,  0.7232044 ],\n",
       "       [-0.39355645, -1.40317741, -0.5144479 ],\n",
       "       [-0.85366911, -1.23365982,  0.43804708]])"
      ]
     },
     "execution_count": 6,
     "metadata": {},
     "output_type": "execute_result"
    }
   ],
   "source": [
    "user_factors"
   ]
  },
  {
   "cell_type": "code",
   "execution_count": 7,
   "metadata": {},
   "outputs": [
    {
     "data": {
      "text/plain": [
       "array([[ 0.37819939, -1.15699491,  0.9291734 ],\n",
       "       [-1.00695755, -0.6373535 ,  0.72892455],\n",
       "       [-0.85493544, -1.61675116,  0.2951325 ],\n",
       "       [-0.6485705 , -2.31540191, -0.54736125],\n",
       "       [-0.21154469, -0.83762758,  0.32503788]])"
      ]
     },
     "execution_count": 7,
     "metadata": {},
     "output_type": "execute_result"
    }
   ],
   "source": [
    "item_factors"
   ]
  },
  {
   "cell_type": "code",
   "execution_count": 8,
   "metadata": {},
   "outputs": [
    {
     "data": {
      "text/plain": [
       "((5, 3), (5, 3))"
      ]
     },
     "execution_count": 8,
     "metadata": {},
     "output_type": "execute_result"
    }
   ],
   "source": [
    "(user_factors.shape, item_factors.shape)"
   ]
  },
  {
   "cell_type": "code",
   "execution_count": 9,
   "metadata": {},
   "outputs": [
    {
     "data": {
      "text/plain": [
       "array([[2.751451  , 1.11286459, 2.01391176, 2.12328014, 1.3543752 ],\n",
       "       [2.17070876, 2.08920653, 3.83414642, 4.9177779 , 1.85324007],\n",
       "       [0.98936107, 1.82105859, 1.93081102, 1.53343248, 0.91175759],\n",
       "       [0.99661501, 0.91562097, 2.45322376, 3.7857576 , 1.09137982],\n",
       "       [1.51150269, 1.96518922, 2.85363483, 3.17031289, 1.35631854]])"
      ]
     },
     "execution_count": 9,
     "metadata": {},
     "output_type": "execute_result"
    }
   ],
   "source": [
    "np.matmul(user_factors,item_factors.T)"
   ]
  },
  {
   "cell_type": "code",
   "execution_count": 10,
   "metadata": {},
   "outputs": [
    {
     "data": {
      "text/plain": [
       "array([[3, 0, 2, 0, 0],\n",
       "       [0, 0, 4, 5, 2],\n",
       "       [1, 2, 0, 0, 0],\n",
       "       [1, 0, 0, 4, 1],\n",
       "       [0, 2, 3, 0, 0]])"
      ]
     },
     "execution_count": 10,
     "metadata": {},
     "output_type": "execute_result"
    }
   ],
   "source": [
    "user_item_matrix"
   ]
  },
  {
   "cell_type": "code",
   "execution_count": 11,
   "metadata": {},
   "outputs": [
    {
     "data": {
      "image/png": "[encoded data removed]",
      "text/plain": [
       "<Figure size 640x480 with 1 Axes>"
      ]
     },
     "metadata": {},
     "output_type": "display_data"
    }
   ],
   "source": [
    "import matplotlib.pyplot as plt\n",
    "plt.plot(errors)\n",
    "plt.title('SGD ALS Learning Process')\n",
    "plt.xlabel('Iteration')\n",
    "plt.ylabel('RMSE')\n",
    "plt.show()"
   ]
  }
 ],
 "metadata": {
  "kernelspec": {
   "display_name": ".venv",
   "language": "python",
   "name": "python3"
  },
  "language_info": {
   "codemirror_mode": {
    "name": "ipython",
    "version": 3
   },
   "file_extension": ".py",
   "mimetype": "text/x-python",
   "name": "python",
   "nbconvert_exporter": "python",
   "pygments_lexer": "ipython3",
   "version": "3.12.2"
  }
 },
 "nbformat": 4,
 "nbformat_minor": 2
}
