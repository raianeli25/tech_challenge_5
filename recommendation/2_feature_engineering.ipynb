{
 "cells": [
  {
   "cell_type": "code",
   "execution_count": 1,
   "metadata": {},
   "outputs": [],
   "source": [
    "import json\n",
    "\n",
    "with open('config.json', 'r') as f:\n",
    "    config = json.load(f)"
   ]
  },
  {
   "cell_type": "code",
   "execution_count": 2,
   "metadata": {},
   "outputs": [],
   "source": [
    "import pandas as pd\n",
    "from sklearn.feature_extraction.text import TfidfVectorizer\n",
    "from sklearn.cluster import KMeans\n",
    "from sklearn.metrics import silhouette_score\n",
    "\n",
    "import matplotlib.pyplot as plt\n",
    "import numpy as np\n",
    "from sklearn.decomposition import PCA"
   ]
  },
  {
   "cell_type": "code",
   "execution_count": 3,
   "metadata": {},
   "outputs": [],
   "source": [
    "df_news_clusterizada = pd.read_csv(config[\"TREATED_ITEMS_CSV\"])\n",
    "# df_news_clusterizada.drop(columns=[\"Unnamed: 0\",\"Unnamed: 0.1\"],inplace=True)"
   ]
  },
  {
   "cell_type": "code",
   "execution_count": 4,
   "metadata": {},
   "outputs": [
    {
     "data": {
      "text/html": [
       "<div>\n",
       "<style scoped>\n",
       "    .dataframe tbody tr th:only-of-type {\n",
       "        vertical-align: middle;\n",
       "    }\n",
       "\n",
       "    .dataframe tbody tr th {\n",
       "        vertical-align: top;\n",
       "    }\n",
       "\n",
       "    .dataframe thead th {\n",
       "        text-align: right;\n",
       "    }\n",
       "</style>\n",
       "<table border=\"1\" class=\"dataframe\">\n",
       "  <thead>\n",
       "    <tr style=\"text-align: right;\">\n",
       "      <th></th>\n",
       "      <th>Unnamed: 0</th>\n",
       "      <th>page</th>\n",
       "      <th>url</th>\n",
       "      <th>issued</th>\n",
       "      <th>modified</th>\n",
       "      <th>title</th>\n",
       "      <th>body</th>\n",
       "      <th>caption</th>\n",
       "    </tr>\n",
       "  </thead>\n",
       "  <tbody>\n",
       "    <tr>\n",
       "      <th>0</th>\n",
       "      <td>0</td>\n",
       "      <td>7371a9b5-5824-4c57-8704-00a74feebe79</td>\n",
       "      <td>http://g1.globo.com/al/alagoas/noticia/2018/09...</td>\n",
       "      <td>2018-09-13 14:52:55+00:00</td>\n",
       "      <td>2018-09-14 16:14:49+00:00</td>\n",
       "      <td>Corpo de motorista da Uber é encontrado em can...</td>\n",
       "      <td>Corpo de motorista de aplicativo desaparecido ...</td>\n",
       "      <td>Segundo a polícia, Antônio Vitor foi solicitad...</td>\n",
       "    </tr>\n",
       "    <tr>\n",
       "      <th>1</th>\n",
       "      <td>1</td>\n",
       "      <td>7a5ea08f-4583-49e2-ba52-a71999443f7b</td>\n",
       "      <td>http://g1.globo.com/am/amazonas/noticia/detent...</td>\n",
       "      <td>2018-05-20 20:42:40+00:00</td>\n",
       "      <td>2018-05-20 20:42:40+00:00</td>\n",
       "      <td>Detento recapturado após fuga por túnel volta ...</td>\n",
       "      <td>Detento disse que passou nome falso ao dar ent...</td>\n",
       "      <td>Ele tinha registro em presídio com nome falso....</td>\n",
       "    </tr>\n",
       "  </tbody>\n",
       "</table>\n",
       "</div>"
      ],
      "text/plain": [
       "   Unnamed: 0                                  page  \\\n",
       "0           0  7371a9b5-5824-4c57-8704-00a74feebe79   \n",
       "1           1  7a5ea08f-4583-49e2-ba52-a71999443f7b   \n",
       "\n",
       "                                                 url  \\\n",
       "0  http://g1.globo.com/al/alagoas/noticia/2018/09...   \n",
       "1  http://g1.globo.com/am/amazonas/noticia/detent...   \n",
       "\n",
       "                      issued                   modified  \\\n",
       "0  2018-09-13 14:52:55+00:00  2018-09-14 16:14:49+00:00   \n",
       "1  2018-05-20 20:42:40+00:00  2018-05-20 20:42:40+00:00   \n",
       "\n",
       "                                               title  \\\n",
       "0  Corpo de motorista da Uber é encontrado em can...   \n",
       "1  Detento recapturado após fuga por túnel volta ...   \n",
       "\n",
       "                                                body  \\\n",
       "0  Corpo de motorista de aplicativo desaparecido ...   \n",
       "1  Detento disse que passou nome falso ao dar ent...   \n",
       "\n",
       "                                             caption  \n",
       "0  Segundo a polícia, Antônio Vitor foi solicitad...  \n",
       "1  Ele tinha registro em presídio com nome falso....  "
      ]
     },
     "execution_count": 4,
     "metadata": {},
     "output_type": "execute_result"
    }
   ],
   "source": [
    "df_news_clusterizada.head(2)"
   ]
  },
  {
   "cell_type": "code",
   "execution_count": 5,
   "metadata": {},
   "outputs": [],
   "source": [
    "import numpy as np\n",
    "\n",
    "# Convert the string column to datetime\n",
    "df_news_clusterizada[\"data\"] = pd.to_datetime(df_news_clusterizada[\"issued\"])"
   ]
  },
  {
   "cell_type": "code",
   "execution_count": 6,
   "metadata": {},
   "outputs": [
    {
     "data": {
      "text/html": [
       "<div>\n",
       "<style scoped>\n",
       "    .dataframe tbody tr th:only-of-type {\n",
       "        vertical-align: middle;\n",
       "    }\n",
       "\n",
       "    .dataframe tbody tr th {\n",
       "        vertical-align: top;\n",
       "    }\n",
       "\n",
       "    .dataframe thead th {\n",
       "        text-align: right;\n",
       "    }\n",
       "</style>\n",
       "<table border=\"1\" class=\"dataframe\">\n",
       "  <thead>\n",
       "    <tr style=\"text-align: right;\">\n",
       "      <th></th>\n",
       "      <th>Unnamed: 0</th>\n",
       "      <th>page</th>\n",
       "      <th>url</th>\n",
       "      <th>issued</th>\n",
       "      <th>modified</th>\n",
       "      <th>title</th>\n",
       "      <th>body</th>\n",
       "      <th>caption</th>\n",
       "      <th>data</th>\n",
       "    </tr>\n",
       "  </thead>\n",
       "  <tbody>\n",
       "    <tr>\n",
       "      <th>0</th>\n",
       "      <td>0</td>\n",
       "      <td>7371a9b5-5824-4c57-8704-00a74feebe79</td>\n",
       "      <td>http://g1.globo.com/al/alagoas/noticia/2018/09...</td>\n",
       "      <td>2018-09-13 14:52:55+00:00</td>\n",
       "      <td>2018-09-14 16:14:49+00:00</td>\n",
       "      <td>Corpo de motorista da Uber é encontrado em can...</td>\n",
       "      <td>Corpo de motorista de aplicativo desaparecido ...</td>\n",
       "      <td>Segundo a polícia, Antônio Vitor foi solicitad...</td>\n",
       "      <td>2018-09-13 14:52:55+00:00</td>\n",
       "    </tr>\n",
       "    <tr>\n",
       "      <th>1</th>\n",
       "      <td>1</td>\n",
       "      <td>7a5ea08f-4583-49e2-ba52-a71999443f7b</td>\n",
       "      <td>http://g1.globo.com/am/amazonas/noticia/detent...</td>\n",
       "      <td>2018-05-20 20:42:40+00:00</td>\n",
       "      <td>2018-05-20 20:42:40+00:00</td>\n",
       "      <td>Detento recapturado após fuga por túnel volta ...</td>\n",
       "      <td>Detento disse que passou nome falso ao dar ent...</td>\n",
       "      <td>Ele tinha registro em presídio com nome falso....</td>\n",
       "      <td>2018-05-20 20:42:40+00:00</td>\n",
       "    </tr>\n",
       "  </tbody>\n",
       "</table>\n",
       "</div>"
      ],
      "text/plain": [
       "   Unnamed: 0                                  page  \\\n",
       "0           0  7371a9b5-5824-4c57-8704-00a74feebe79   \n",
       "1           1  7a5ea08f-4583-49e2-ba52-a71999443f7b   \n",
       "\n",
       "                                                 url  \\\n",
       "0  http://g1.globo.com/al/alagoas/noticia/2018/09...   \n",
       "1  http://g1.globo.com/am/amazonas/noticia/detent...   \n",
       "\n",
       "                      issued                   modified  \\\n",
       "0  2018-09-13 14:52:55+00:00  2018-09-14 16:14:49+00:00   \n",
       "1  2018-05-20 20:42:40+00:00  2018-05-20 20:42:40+00:00   \n",
       "\n",
       "                                               title  \\\n",
       "0  Corpo de motorista da Uber é encontrado em can...   \n",
       "1  Detento recapturado após fuga por túnel volta ...   \n",
       "\n",
       "                                                body  \\\n",
       "0  Corpo de motorista de aplicativo desaparecido ...   \n",
       "1  Detento disse que passou nome falso ao dar ent...   \n",
       "\n",
       "                                             caption                      data  \n",
       "0  Segundo a polícia, Antônio Vitor foi solicitad... 2018-09-13 14:52:55+00:00  \n",
       "1  Ele tinha registro em presídio com nome falso.... 2018-05-20 20:42:40+00:00  "
      ]
     },
     "execution_count": 6,
     "metadata": {},
     "output_type": "execute_result"
    }
   ],
   "source": [
    "df_news_clusterizada.head(2)"
   ]
  },
  {
   "cell_type": "code",
   "execution_count": 7,
   "metadata": {},
   "outputs": [],
   "source": [
    "# Find the most recent date\n",
    "most_recent_date = df_news_clusterizada[\"data\"].max()\n",
    "\n",
    "# Calculate the difference in days\n",
    "df_news_clusterizada[\"idade_em_dias\"] = (most_recent_date - df_news_clusterizada[\"data\"]).dt.days"
   ]
  },
  {
   "cell_type": "code",
   "execution_count": 8,
   "metadata": {},
   "outputs": [
    {
     "data": {
      "text/plain": [
       "Timestamp('2022-08-15 02:57:16+0000', tz='UTC')"
      ]
     },
     "execution_count": 8,
     "metadata": {},
     "output_type": "execute_result"
    }
   ],
   "source": [
    "most_recent_date"
   ]
  },
  {
   "cell_type": "code",
   "execution_count": 9,
   "metadata": {},
   "outputs": [
    {
     "data": {
      "text/plain": [
       "count    255603.000000\n",
       "mean        559.549724\n",
       "std         546.845411\n",
       "min           0.000000\n",
       "25%         104.000000\n",
       "50%         358.000000\n",
       "75%         909.000000\n",
       "max        2936.000000\n",
       "Name: idade_em_dias, dtype: float64"
      ]
     },
     "execution_count": 9,
     "metadata": {},
     "output_type": "execute_result"
    }
   ],
   "source": [
    "df_news_clusterizada[\"idade_em_dias\"].describe()"
   ]
  },
  {
   "cell_type": "code",
   "execution_count": 10,
   "metadata": {},
   "outputs": [
    {
     "name": "stdout",
     "output_type": "stream",
     "text": [
      "3000 500.0\n"
     ]
    }
   ],
   "source": [
    "# max_news_age = df_news_clusterizada[\"idade_em_dias\"].max()\n",
    "max_news_age = 3000\n",
    "settling_time_taus_factor = 6\n",
    "time_constant = max_news_age/settling_time_taus_factor\n",
    "print(max_news_age, time_constant)"
   ]
  },
  {
   "cell_type": "code",
   "execution_count": 11,
   "metadata": {},
   "outputs": [],
   "source": [
    "# Assign weights using exponential decay (you can adjust the base for scaling)\n",
    "df_news_clusterizada[\"peso\"] = np.exp(-df_news_clusterizada[\"idade_em_dias\"] / time_constant) "
   ]
  },
  {
   "cell_type": "code",
   "execution_count": 12,
   "metadata": {},
   "outputs": [],
   "source": [
    "# Adjust range to [0.5, 1]\n",
    "new_min = 0.1\n",
    "new_max = 1\n",
    "df_news_clusterizada[\"peso_ajustado\"] = df_news_clusterizada[\"peso\"] * (new_max - new_min) + new_min\n"
   ]
  },
  {
   "cell_type": "code",
   "execution_count": 13,
   "metadata": {},
   "outputs": [
    {
     "data": {
      "text/html": [
       "<div>\n",
       "<style scoped>\n",
       "    .dataframe tbody tr th:only-of-type {\n",
       "        vertical-align: middle;\n",
       "    }\n",
       "\n",
       "    .dataframe tbody tr th {\n",
       "        vertical-align: top;\n",
       "    }\n",
       "\n",
       "    .dataframe thead th {\n",
       "        text-align: right;\n",
       "    }\n",
       "</style>\n",
       "<table border=\"1\" class=\"dataframe\">\n",
       "  <thead>\n",
       "    <tr style=\"text-align: right;\">\n",
       "      <th></th>\n",
       "      <th>Unnamed: 0</th>\n",
       "      <th>page</th>\n",
       "      <th>url</th>\n",
       "      <th>issued</th>\n",
       "      <th>modified</th>\n",
       "      <th>title</th>\n",
       "      <th>body</th>\n",
       "      <th>caption</th>\n",
       "      <th>data</th>\n",
       "      <th>idade_em_dias</th>\n",
       "      <th>peso</th>\n",
       "      <th>peso_ajustado</th>\n",
       "    </tr>\n",
       "  </thead>\n",
       "  <tbody>\n",
       "    <tr>\n",
       "      <th>0</th>\n",
       "      <td>0</td>\n",
       "      <td>7371a9b5-5824-4c57-8704-00a74feebe79</td>\n",
       "      <td>http://g1.globo.com/al/alagoas/noticia/2018/09...</td>\n",
       "      <td>2018-09-13 14:52:55+00:00</td>\n",
       "      <td>2018-09-14 16:14:49+00:00</td>\n",
       "      <td>Corpo de motorista da Uber é encontrado em can...</td>\n",
       "      <td>Corpo de motorista de aplicativo desaparecido ...</td>\n",
       "      <td>Segundo a polícia, Antônio Vitor foi solicitad...</td>\n",
       "      <td>2018-09-13 14:52:55+00:00</td>\n",
       "      <td>1431</td>\n",
       "      <td>0.057154</td>\n",
       "      <td>0.151439</td>\n",
       "    </tr>\n",
       "    <tr>\n",
       "      <th>1</th>\n",
       "      <td>1</td>\n",
       "      <td>7a5ea08f-4583-49e2-ba52-a71999443f7b</td>\n",
       "      <td>http://g1.globo.com/am/amazonas/noticia/detent...</td>\n",
       "      <td>2018-05-20 20:42:40+00:00</td>\n",
       "      <td>2018-05-20 20:42:40+00:00</td>\n",
       "      <td>Detento recapturado após fuga por túnel volta ...</td>\n",
       "      <td>Detento disse que passou nome falso ao dar ent...</td>\n",
       "      <td>Ele tinha registro em presídio com nome falso....</td>\n",
       "      <td>2018-05-20 20:42:40+00:00</td>\n",
       "      <td>1547</td>\n",
       "      <td>0.045320</td>\n",
       "      <td>0.140788</td>\n",
       "    </tr>\n",
       "  </tbody>\n",
       "</table>\n",
       "</div>"
      ],
      "text/plain": [
       "   Unnamed: 0                                  page  \\\n",
       "0           0  7371a9b5-5824-4c57-8704-00a74feebe79   \n",
       "1           1  7a5ea08f-4583-49e2-ba52-a71999443f7b   \n",
       "\n",
       "                                                 url  \\\n",
       "0  http://g1.globo.com/al/alagoas/noticia/2018/09...   \n",
       "1  http://g1.globo.com/am/amazonas/noticia/detent...   \n",
       "\n",
       "                      issued                   modified  \\\n",
       "0  2018-09-13 14:52:55+00:00  2018-09-14 16:14:49+00:00   \n",
       "1  2018-05-20 20:42:40+00:00  2018-05-20 20:42:40+00:00   \n",
       "\n",
       "                                               title  \\\n",
       "0  Corpo de motorista da Uber é encontrado em can...   \n",
       "1  Detento recapturado após fuga por túnel volta ...   \n",
       "\n",
       "                                                body  \\\n",
       "0  Corpo de motorista de aplicativo desaparecido ...   \n",
       "1  Detento disse que passou nome falso ao dar ent...   \n",
       "\n",
       "                                             caption  \\\n",
       "0  Segundo a polícia, Antônio Vitor foi solicitad...   \n",
       "1  Ele tinha registro em presídio com nome falso....   \n",
       "\n",
       "                       data  idade_em_dias      peso  peso_ajustado  \n",
       "0 2018-09-13 14:52:55+00:00           1431  0.057154       0.151439  \n",
       "1 2018-05-20 20:42:40+00:00           1547  0.045320       0.140788  "
      ]
     },
     "execution_count": 13,
     "metadata": {},
     "output_type": "execute_result"
    }
   ],
   "source": [
    "df_news_clusterizada.head(2)"
   ]
  },
  {
   "cell_type": "code",
   "execution_count": 14,
   "metadata": {},
   "outputs": [
    {
     "data": {
      "text/html": [
       "<div>\n",
       "<style scoped>\n",
       "    .dataframe tbody tr th:only-of-type {\n",
       "        vertical-align: middle;\n",
       "    }\n",
       "\n",
       "    .dataframe tbody tr th {\n",
       "        vertical-align: top;\n",
       "    }\n",
       "\n",
       "    .dataframe thead th {\n",
       "        text-align: right;\n",
       "    }\n",
       "</style>\n",
       "<table border=\"1\" class=\"dataframe\">\n",
       "  <thead>\n",
       "    <tr style=\"text-align: right;\">\n",
       "      <th></th>\n",
       "      <th>Unnamed: 0</th>\n",
       "      <th>idade_em_dias</th>\n",
       "      <th>peso</th>\n",
       "      <th>peso_ajustado</th>\n",
       "    </tr>\n",
       "  </thead>\n",
       "  <tbody>\n",
       "    <tr>\n",
       "      <th>count</th>\n",
       "      <td>255603.000000</td>\n",
       "      <td>255603.000000</td>\n",
       "      <td>255603.000000</td>\n",
       "      <td>255603.000000</td>\n",
       "    </tr>\n",
       "    <tr>\n",
       "      <th>mean</th>\n",
       "      <td>127801.000000</td>\n",
       "      <td>559.549724</td>\n",
       "      <td>0.492212</td>\n",
       "      <td>0.542991</td>\n",
       "    </tr>\n",
       "    <tr>\n",
       "      <th>std</th>\n",
       "      <td>73786.374765</td>\n",
       "      <td>546.845411</td>\n",
       "      <td>0.329121</td>\n",
       "      <td>0.296209</td>\n",
       "    </tr>\n",
       "    <tr>\n",
       "      <th>min</th>\n",
       "      <td>0.000000</td>\n",
       "      <td>0.000000</td>\n",
       "      <td>0.002817</td>\n",
       "      <td>0.102536</td>\n",
       "    </tr>\n",
       "    <tr>\n",
       "      <th>25%</th>\n",
       "      <td>63900.500000</td>\n",
       "      <td>104.000000</td>\n",
       "      <td>0.162350</td>\n",
       "      <td>0.246115</td>\n",
       "    </tr>\n",
       "    <tr>\n",
       "      <th>50%</th>\n",
       "      <td>127801.000000</td>\n",
       "      <td>358.000000</td>\n",
       "      <td>0.488703</td>\n",
       "      <td>0.539833</td>\n",
       "    </tr>\n",
       "    <tr>\n",
       "      <th>75%</th>\n",
       "      <td>191701.500000</td>\n",
       "      <td>909.000000</td>\n",
       "      <td>0.812207</td>\n",
       "      <td>0.830986</td>\n",
       "    </tr>\n",
       "    <tr>\n",
       "      <th>max</th>\n",
       "      <td>255602.000000</td>\n",
       "      <td>2936.000000</td>\n",
       "      <td>1.000000</td>\n",
       "      <td>1.000000</td>\n",
       "    </tr>\n",
       "  </tbody>\n",
       "</table>\n",
       "</div>"
      ],
      "text/plain": [
       "          Unnamed: 0  idade_em_dias           peso  peso_ajustado\n",
       "count  255603.000000  255603.000000  255603.000000  255603.000000\n",
       "mean   127801.000000     559.549724       0.492212       0.542991\n",
       "std     73786.374765     546.845411       0.329121       0.296209\n",
       "min         0.000000       0.000000       0.002817       0.102536\n",
       "25%     63900.500000     104.000000       0.162350       0.246115\n",
       "50%    127801.000000     358.000000       0.488703       0.539833\n",
       "75%    191701.500000     909.000000       0.812207       0.830986\n",
       "max    255602.000000    2936.000000       1.000000       1.000000"
      ]
     },
     "execution_count": 14,
     "metadata": {},
     "output_type": "execute_result"
    }
   ],
   "source": [
    "df_news_clusterizada.describe()"
   ]
  },
  {
   "cell_type": "code",
   "execution_count": 15,
   "metadata": {},
   "outputs": [],
   "source": [
    "df_news_clusterizada.to_csv(config[\"DF_ITEMS_CLUSTERED_FEATURES_ADJ\"])"
   ]
  }
 ],
 "metadata": {
  "kernelspec": {
   "display_name": ".venv",
   "language": "python",
   "name": "python3"
  },
  "language_info": {
   "codemirror_mode": {
    "name": "ipython",
    "version": 3
   },
   "file_extension": ".py",
   "mimetype": "text/x-python",
   "name": "python",
   "nbconvert_exporter": "python",
   "pygments_lexer": "ipython3",
   "version": "3.10.16"
  }
 },
 "nbformat": 4,
 "nbformat_minor": 2
}
