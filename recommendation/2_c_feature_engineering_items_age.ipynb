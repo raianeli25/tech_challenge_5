{
 "cells": [
  {
   "cell_type": "markdown",
   "metadata": {},
   "source": [
    "### Imports"
   ]
  },
  {
   "cell_type": "code",
   "execution_count": 1,
   "metadata": {},
   "outputs": [],
   "source": [
    "import json\n",
    "\n",
    "with open('config.json', 'r') as f:\n",
    "    config = json.load(f)"
   ]
  },
  {
   "cell_type": "code",
   "execution_count": 2,
   "metadata": {},
   "outputs": [],
   "source": [
    "import pandas as pd"
   ]
  },
  {
   "cell_type": "markdown",
   "metadata": {},
   "source": [
    "### Optimized Schema for Reading CSV"
   ]
  },
  {
   "cell_type": "code",
   "execution_count": 3,
   "metadata": {},
   "outputs": [],
   "source": [
    "dtype_df_items = {\n",
    "\"page\" : 'string',\n",
    "\"url\" : 'string',\n",
    "\"issued\" : 'string',\n",
    "\"modified\" : 'string',\n",
    "\"title\" : 'string',\n",
    "\"body\" : 'string',\n",
    "\"caption\" : 'string'\n",
    "}"
   ]
  },
  {
   "cell_type": "markdown",
   "metadata": {},
   "source": [
    "### Reading News (Items) DataFrame from CSV"
   ]
  },
  {
   "cell_type": "code",
   "execution_count": 4,
   "metadata": {},
   "outputs": [],
   "source": [
    "df_news = pd.read_csv(config[\"TREATED_ITEMS_CSV\"], dtype=dtype_df_items)\n",
    "df_news.drop(columns=[\"Unnamed: 0\"],inplace=True)"
   ]
  },
  {
   "cell_type": "code",
   "execution_count": 5,
   "metadata": {},
   "outputs": [
    {
     "data": {
      "text/html": [
       "<div>\n",
       "<style scoped>\n",
       "    .dataframe tbody tr th:only-of-type {\n",
       "        vertical-align: middle;\n",
       "    }\n",
       "\n",
       "    .dataframe tbody tr th {\n",
       "        vertical-align: top;\n",
       "    }\n",
       "\n",
       "    .dataframe thead th {\n",
       "        text-align: right;\n",
       "    }\n",
       "</style>\n",
       "<table border=\"1\" class=\"dataframe\">\n",
       "  <thead>\n",
       "    <tr style=\"text-align: right;\">\n",
       "      <th></th>\n",
       "      <th>page</th>\n",
       "      <th>url</th>\n",
       "      <th>issued</th>\n",
       "      <th>modified</th>\n",
       "      <th>title</th>\n",
       "      <th>body</th>\n",
       "      <th>caption</th>\n",
       "    </tr>\n",
       "  </thead>\n",
       "  <tbody>\n",
       "    <tr>\n",
       "      <th>0</th>\n",
       "      <td>7371a9b5-5824-4c57-8704-00a74feebe79</td>\n",
       "      <td>http://g1.globo.com/al/alagoas/noticia/2018/09...</td>\n",
       "      <td>2018-09-13 14:52:55+00:00</td>\n",
       "      <td>2018-09-14 16:14:49+00:00</td>\n",
       "      <td>Corpo de motorista da Uber é encontrado em can...</td>\n",
       "      <td>Corpo de motorista de aplicativo desaparecido ...</td>\n",
       "      <td>Segundo a polícia, Antônio Vitor foi solicitad...</td>\n",
       "    </tr>\n",
       "    <tr>\n",
       "      <th>1</th>\n",
       "      <td>7a5ea08f-4583-49e2-ba52-a71999443f7b</td>\n",
       "      <td>http://g1.globo.com/am/amazonas/noticia/detent...</td>\n",
       "      <td>2018-05-20 20:42:40+00:00</td>\n",
       "      <td>2018-05-20 20:42:40+00:00</td>\n",
       "      <td>Detento recapturado após fuga por túnel volta ...</td>\n",
       "      <td>Detento disse que passou nome falso ao dar ent...</td>\n",
       "      <td>Ele tinha registro em presídio com nome falso....</td>\n",
       "    </tr>\n",
       "  </tbody>\n",
       "</table>\n",
       "</div>"
      ],
      "text/plain": [
       "                                   page  \\\n",
       "0  7371a9b5-5824-4c57-8704-00a74feebe79   \n",
       "1  7a5ea08f-4583-49e2-ba52-a71999443f7b   \n",
       "\n",
       "                                                 url  \\\n",
       "0  http://g1.globo.com/al/alagoas/noticia/2018/09...   \n",
       "1  http://g1.globo.com/am/amazonas/noticia/detent...   \n",
       "\n",
       "                      issued                   modified  \\\n",
       "0  2018-09-13 14:52:55+00:00  2018-09-14 16:14:49+00:00   \n",
       "1  2018-05-20 20:42:40+00:00  2018-05-20 20:42:40+00:00   \n",
       "\n",
       "                                               title  \\\n",
       "0  Corpo de motorista da Uber é encontrado em can...   \n",
       "1  Detento recapturado após fuga por túnel volta ...   \n",
       "\n",
       "                                                body  \\\n",
       "0  Corpo de motorista de aplicativo desaparecido ...   \n",
       "1  Detento disse que passou nome falso ao dar ent...   \n",
       "\n",
       "                                             caption  \n",
       "0  Segundo a polícia, Antônio Vitor foi solicitad...  \n",
       "1  Ele tinha registro em presídio com nome falso....  "
      ]
     },
     "execution_count": 5,
     "metadata": {},
     "output_type": "execute_result"
    }
   ],
   "source": [
    "df_news.head(2)"
   ]
  },
  {
   "cell_type": "markdown",
   "metadata": {},
   "source": [
    "### Get datetime \"data\" column from \"issued\""
   ]
  },
  {
   "cell_type": "code",
   "execution_count": 6,
   "metadata": {},
   "outputs": [],
   "source": [
    "import numpy as np\n",
    "\n",
    "# Convert the string column to datetime\n",
    "df_news[\"data\"] = pd.to_datetime(df_news[\"issued\"])"
   ]
  },
  {
   "cell_type": "code",
   "execution_count": 7,
   "metadata": {},
   "outputs": [
    {
     "data": {
      "text/html": [
       "<div>\n",
       "<style scoped>\n",
       "    .dataframe tbody tr th:only-of-type {\n",
       "        vertical-align: middle;\n",
       "    }\n",
       "\n",
       "    .dataframe tbody tr th {\n",
       "        vertical-align: top;\n",
       "    }\n",
       "\n",
       "    .dataframe thead th {\n",
       "        text-align: right;\n",
       "    }\n",
       "</style>\n",
       "<table border=\"1\" class=\"dataframe\">\n",
       "  <thead>\n",
       "    <tr style=\"text-align: right;\">\n",
       "      <th></th>\n",
       "      <th>page</th>\n",
       "      <th>url</th>\n",
       "      <th>issued</th>\n",
       "      <th>modified</th>\n",
       "      <th>title</th>\n",
       "      <th>body</th>\n",
       "      <th>caption</th>\n",
       "      <th>data</th>\n",
       "    </tr>\n",
       "  </thead>\n",
       "  <tbody>\n",
       "    <tr>\n",
       "      <th>0</th>\n",
       "      <td>7371a9b5-5824-4c57-8704-00a74feebe79</td>\n",
       "      <td>http://g1.globo.com/al/alagoas/noticia/2018/09...</td>\n",
       "      <td>2018-09-13 14:52:55+00:00</td>\n",
       "      <td>2018-09-14 16:14:49+00:00</td>\n",
       "      <td>Corpo de motorista da Uber é encontrado em can...</td>\n",
       "      <td>Corpo de motorista de aplicativo desaparecido ...</td>\n",
       "      <td>Segundo a polícia, Antônio Vitor foi solicitad...</td>\n",
       "      <td>2018-09-13 14:52:55+00:00</td>\n",
       "    </tr>\n",
       "    <tr>\n",
       "      <th>1</th>\n",
       "      <td>7a5ea08f-4583-49e2-ba52-a71999443f7b</td>\n",
       "      <td>http://g1.globo.com/am/amazonas/noticia/detent...</td>\n",
       "      <td>2018-05-20 20:42:40+00:00</td>\n",
       "      <td>2018-05-20 20:42:40+00:00</td>\n",
       "      <td>Detento recapturado após fuga por túnel volta ...</td>\n",
       "      <td>Detento disse que passou nome falso ao dar ent...</td>\n",
       "      <td>Ele tinha registro em presídio com nome falso....</td>\n",
       "      <td>2018-05-20 20:42:40+00:00</td>\n",
       "    </tr>\n",
       "  </tbody>\n",
       "</table>\n",
       "</div>"
      ],
      "text/plain": [
       "                                   page  \\\n",
       "0  7371a9b5-5824-4c57-8704-00a74feebe79   \n",
       "1  7a5ea08f-4583-49e2-ba52-a71999443f7b   \n",
       "\n",
       "                                                 url  \\\n",
       "0  http://g1.globo.com/al/alagoas/noticia/2018/09...   \n",
       "1  http://g1.globo.com/am/amazonas/noticia/detent...   \n",
       "\n",
       "                      issued                   modified  \\\n",
       "0  2018-09-13 14:52:55+00:00  2018-09-14 16:14:49+00:00   \n",
       "1  2018-05-20 20:42:40+00:00  2018-05-20 20:42:40+00:00   \n",
       "\n",
       "                                               title  \\\n",
       "0  Corpo de motorista da Uber é encontrado em can...   \n",
       "1  Detento recapturado após fuga por túnel volta ...   \n",
       "\n",
       "                                                body  \\\n",
       "0  Corpo de motorista de aplicativo desaparecido ...   \n",
       "1  Detento disse que passou nome falso ao dar ent...   \n",
       "\n",
       "                                             caption                      data  \n",
       "0  Segundo a polícia, Antônio Vitor foi solicitad... 2018-09-13 14:52:55+00:00  \n",
       "1  Ele tinha registro em presídio com nome falso.... 2018-05-20 20:42:40+00:00  "
      ]
     },
     "execution_count": 7,
     "metadata": {},
     "output_type": "execute_result"
    }
   ],
   "source": [
    "df_news.head(2)"
   ]
  },
  {
   "cell_type": "markdown",
   "metadata": {},
   "source": [
    "### Check the oldest history, in days"
   ]
  },
  {
   "cell_type": "code",
   "execution_count": 8,
   "metadata": {},
   "outputs": [],
   "source": [
    "# Find the most recent date\n",
    "most_recent_date = df_news[\"data\"].max()\n",
    "\n",
    "# Calculate the difference in days\n",
    "df_news[\"age_in_days\"] = (most_recent_date - df_news[\"data\"]).dt.days"
   ]
  },
  {
   "cell_type": "code",
   "execution_count": 9,
   "metadata": {},
   "outputs": [
    {
     "data": {
      "text/plain": [
       "Timestamp('2022-08-15 02:57:16+0000', tz='UTC')"
      ]
     },
     "execution_count": 9,
     "metadata": {},
     "output_type": "execute_result"
    }
   ],
   "source": [
    "most_recent_date"
   ]
  },
  {
   "cell_type": "code",
   "execution_count": 10,
   "metadata": {},
   "outputs": [
    {
     "data": {
      "text/plain": [
       "count    255603.000000\n",
       "mean        559.549724\n",
       "std         546.845411\n",
       "min           0.000000\n",
       "25%         104.000000\n",
       "50%         358.000000\n",
       "75%         909.000000\n",
       "max        2936.000000\n",
       "Name: age_in_days, dtype: float64"
      ]
     },
     "execution_count": 10,
     "metadata": {},
     "output_type": "execute_result"
    }
   ],
   "source": [
    "df_news[\"age_in_days\"].describe()"
   ]
  },
  {
   "cell_type": "markdown",
   "metadata": {},
   "source": [
    "### Defining a Time Constant for caracterizing exponential behavior\n",
    "* We consider news having a decaing exponential behavior (for people attention): `age_exp = exp(-age/time_constant)`\n",
    "* The `time_constant` is defined such that at `max(age_in_days)` we have approximatly `6*time_constants` (99,9% of decay)\n",
    "* Assuming that `max(age_in_days) \\approx 3000`, then we reach `time_constant = 500`.\n"
   ]
  },
  {
   "cell_type": "code",
   "execution_count": 11,
   "metadata": {},
   "outputs": [
    {
     "name": "stdout",
     "output_type": "stream",
     "text": [
      "3000 500.0\n"
     ]
    }
   ],
   "source": [
    "# max_news_age = df_news_clusterizada[\"age_in_days\"].max()\n",
    "max_news_age = 3000\n",
    "settling_time_taus_factor = 6\n",
    "time_constant = max_news_age/settling_time_taus_factor\n",
    "print(max_news_age, time_constant)"
   ]
  },
  {
   "cell_type": "markdown",
   "metadata": {},
   "source": [
    "### Apply exponential transformation to obtain `age_exp`"
   ]
  },
  {
   "cell_type": "code",
   "execution_count": 12,
   "metadata": {},
   "outputs": [],
   "source": [
    "# Assign weights using exponential decay (you can adjust the base for scaling)\n",
    "df_news[\"age_exp\"] = np.exp(-df_news[\"age_in_days\"] / time_constant).astype('Float32')"
   ]
  },
  {
   "cell_type": "markdown",
   "metadata": {},
   "source": [
    "### Apply normalization to range from 0.1 to 1, obtaining `age_exp_normalized`"
   ]
  },
  {
   "cell_type": "code",
   "execution_count": 13,
   "metadata": {},
   "outputs": [],
   "source": [
    "# Adjust range to [0.5, 1]\n",
    "new_min = 0.1\n",
    "new_max = 1\n",
    "df_news[\"age_exp_normalized\"] = (df_news[\"age_exp\"] * (new_max - new_min) + new_min).astype('Float32')\n"
   ]
  },
  {
   "cell_type": "code",
   "execution_count": 14,
   "metadata": {},
   "outputs": [
    {
     "data": {
      "text/html": [
       "<div>\n",
       "<style scoped>\n",
       "    .dataframe tbody tr th:only-of-type {\n",
       "        vertical-align: middle;\n",
       "    }\n",
       "\n",
       "    .dataframe tbody tr th {\n",
       "        vertical-align: top;\n",
       "    }\n",
       "\n",
       "    .dataframe thead th {\n",
       "        text-align: right;\n",
       "    }\n",
       "</style>\n",
       "<table border=\"1\" class=\"dataframe\">\n",
       "  <thead>\n",
       "    <tr style=\"text-align: right;\">\n",
       "      <th></th>\n",
       "      <th>page</th>\n",
       "      <th>url</th>\n",
       "      <th>issued</th>\n",
       "      <th>modified</th>\n",
       "      <th>title</th>\n",
       "      <th>body</th>\n",
       "      <th>caption</th>\n",
       "      <th>data</th>\n",
       "      <th>age_in_days</th>\n",
       "      <th>age_exp</th>\n",
       "      <th>age_exp_normalized</th>\n",
       "    </tr>\n",
       "  </thead>\n",
       "  <tbody>\n",
       "    <tr>\n",
       "      <th>0</th>\n",
       "      <td>7371a9b5-5824-4c57-8704-00a74feebe79</td>\n",
       "      <td>http://g1.globo.com/al/alagoas/noticia/2018/09...</td>\n",
       "      <td>2018-09-13 14:52:55+00:00</td>\n",
       "      <td>2018-09-14 16:14:49+00:00</td>\n",
       "      <td>Corpo de motorista da Uber é encontrado em can...</td>\n",
       "      <td>Corpo de motorista de aplicativo desaparecido ...</td>\n",
       "      <td>Segundo a polícia, Antônio Vitor foi solicitad...</td>\n",
       "      <td>2018-09-13 14:52:55+00:00</td>\n",
       "      <td>1431</td>\n",
       "      <td>0.057154</td>\n",
       "      <td>0.151439</td>\n",
       "    </tr>\n",
       "    <tr>\n",
       "      <th>1</th>\n",
       "      <td>7a5ea08f-4583-49e2-ba52-a71999443f7b</td>\n",
       "      <td>http://g1.globo.com/am/amazonas/noticia/detent...</td>\n",
       "      <td>2018-05-20 20:42:40+00:00</td>\n",
       "      <td>2018-05-20 20:42:40+00:00</td>\n",
       "      <td>Detento recapturado após fuga por túnel volta ...</td>\n",
       "      <td>Detento disse que passou nome falso ao dar ent...</td>\n",
       "      <td>Ele tinha registro em presídio com nome falso....</td>\n",
       "      <td>2018-05-20 20:42:40+00:00</td>\n",
       "      <td>1547</td>\n",
       "      <td>0.04532</td>\n",
       "      <td>0.140788</td>\n",
       "    </tr>\n",
       "    <tr>\n",
       "      <th>2</th>\n",
       "      <td>6afc8bbb-4f36-43d5-8a44-a2917df5621a</td>\n",
       "      <td>http://g1.globo.com/ap/amapa/noticia/audios-mo...</td>\n",
       "      <td>2017-07-30 00:37:17+00:00</td>\n",
       "      <td>2017-07-30 00:48:42+00:00</td>\n",
       "      <td>Áudios mostram conversa entre bandidos durante...</td>\n",
       "      <td>Áudios mostram possível conversa entre bandido...</td>\n",
       "      <td>Revista realizada na sexta-feira (28) no Iapen...</td>\n",
       "      <td>2017-07-30 00:37:17+00:00</td>\n",
       "      <td>1842</td>\n",
       "      <td>0.025122</td>\n",
       "      <td>0.12261</td>\n",
       "    </tr>\n",
       "    <tr>\n",
       "      <th>3</th>\n",
       "      <td>5cc3bd27-80c7-457d-a807-2e8e7fddf031</td>\n",
       "      <td>http://g1.globo.com/ap/amapa/noticia/2020/11/0...</td>\n",
       "      <td>2020-11-06 12:54:00+00:00</td>\n",
       "      <td>2020-11-12 21:22:52+00:00</td>\n",
       "      <td>FOTOS: Apagão no Amapá</td>\n",
       "      <td>Moradores da capital do Amapá, em Macapá, faze...</td>\n",
       "      <td>Incêndio em subestação de energia deixa 13 dos...</td>\n",
       "      <td>2020-11-06 12:54:00+00:00</td>\n",
       "      <td>646</td>\n",
       "      <td>0.274721</td>\n",
       "      <td>0.347249</td>\n",
       "    </tr>\n",
       "    <tr>\n",
       "      <th>4</th>\n",
       "      <td>d6956177-db96-42f5-9f68-dd0d6e930661</td>\n",
       "      <td>http://g1.globo.com/ap/amapa/noticia/2019/05/2...</td>\n",
       "      <td>2019-05-27 13:43:03+00:00</td>\n",
       "      <td>2019-05-27 18:19:06+00:00</td>\n",
       "      <td>Profissionais da educação no AP paralisam ativ...</td>\n",
       "      <td>Profissionais da educação paralisam atividades...</td>\n",
       "      <td>Ato comprometeu aulas em escolas nesta segunda...</td>\n",
       "      <td>2019-05-27 13:43:03+00:00</td>\n",
       "      <td>1175</td>\n",
       "      <td>0.095369</td>\n",
       "      <td>0.185832</td>\n",
       "    </tr>\n",
       "  </tbody>\n",
       "</table>\n",
       "</div>"
      ],
      "text/plain": [
       "                                   page  \\\n",
       "0  7371a9b5-5824-4c57-8704-00a74feebe79   \n",
       "1  7a5ea08f-4583-49e2-ba52-a71999443f7b   \n",
       "2  6afc8bbb-4f36-43d5-8a44-a2917df5621a   \n",
       "3  5cc3bd27-80c7-457d-a807-2e8e7fddf031   \n",
       "4  d6956177-db96-42f5-9f68-dd0d6e930661   \n",
       "\n",
       "                                                 url  \\\n",
       "0  http://g1.globo.com/al/alagoas/noticia/2018/09...   \n",
       "1  http://g1.globo.com/am/amazonas/noticia/detent...   \n",
       "2  http://g1.globo.com/ap/amapa/noticia/audios-mo...   \n",
       "3  http://g1.globo.com/ap/amapa/noticia/2020/11/0...   \n",
       "4  http://g1.globo.com/ap/amapa/noticia/2019/05/2...   \n",
       "\n",
       "                      issued                   modified  \\\n",
       "0  2018-09-13 14:52:55+00:00  2018-09-14 16:14:49+00:00   \n",
       "1  2018-05-20 20:42:40+00:00  2018-05-20 20:42:40+00:00   \n",
       "2  2017-07-30 00:37:17+00:00  2017-07-30 00:48:42+00:00   \n",
       "3  2020-11-06 12:54:00+00:00  2020-11-12 21:22:52+00:00   \n",
       "4  2019-05-27 13:43:03+00:00  2019-05-27 18:19:06+00:00   \n",
       "\n",
       "                                               title  \\\n",
       "0  Corpo de motorista da Uber é encontrado em can...   \n",
       "1  Detento recapturado após fuga por túnel volta ...   \n",
       "2  Áudios mostram conversa entre bandidos durante...   \n",
       "3                            FOTOS: Apagão no Amapá    \n",
       "4  Profissionais da educação no AP paralisam ativ...   \n",
       "\n",
       "                                                body  \\\n",
       "0  Corpo de motorista de aplicativo desaparecido ...   \n",
       "1  Detento disse que passou nome falso ao dar ent...   \n",
       "2  Áudios mostram possível conversa entre bandido...   \n",
       "3  Moradores da capital do Amapá, em Macapá, faze...   \n",
       "4  Profissionais da educação paralisam atividades...   \n",
       "\n",
       "                                             caption  \\\n",
       "0  Segundo a polícia, Antônio Vitor foi solicitad...   \n",
       "1  Ele tinha registro em presídio com nome falso....   \n",
       "2  Revista realizada na sexta-feira (28) no Iapen...   \n",
       "3  Incêndio em subestação de energia deixa 13 dos...   \n",
       "4  Ato comprometeu aulas em escolas nesta segunda...   \n",
       "\n",
       "                       data  age_in_days   age_exp  age_exp_normalized  \n",
       "0 2018-09-13 14:52:55+00:00         1431  0.057154            0.151439  \n",
       "1 2018-05-20 20:42:40+00:00         1547   0.04532            0.140788  \n",
       "2 2017-07-30 00:37:17+00:00         1842  0.025122             0.12261  \n",
       "3 2020-11-06 12:54:00+00:00          646  0.274721            0.347249  \n",
       "4 2019-05-27 13:43:03+00:00         1175  0.095369            0.185832  "
      ]
     },
     "execution_count": 14,
     "metadata": {},
     "output_type": "execute_result"
    }
   ],
   "source": [
    "df_news.head(5)"
   ]
  },
  {
   "cell_type": "code",
   "execution_count": 15,
   "metadata": {},
   "outputs": [],
   "source": [
    "df_news[\"age_in_days\"] = df_news[\"age_in_days\"].astype(\"UInt32\")"
   ]
  },
  {
   "cell_type": "code",
   "execution_count": 16,
   "metadata": {},
   "outputs": [],
   "source": [
    "df_news[\"ageCategories\"] = pd.cut(df_news['age_exp_normalized'], bins=[0, 0.25, 0.5, 0.8, 1.1], include_lowest=True, labels=['very-old', 'old', 'mid', 'recent'])"
   ]
  },
  {
   "cell_type": "code",
   "execution_count": 17,
   "metadata": {},
   "outputs": [
    {
     "data": {
      "text/html": [
       "<div>\n",
       "<style scoped>\n",
       "    .dataframe tbody tr th:only-of-type {\n",
       "        vertical-align: middle;\n",
       "    }\n",
       "\n",
       "    .dataframe tbody tr th {\n",
       "        vertical-align: top;\n",
       "    }\n",
       "\n",
       "    .dataframe thead th {\n",
       "        text-align: right;\n",
       "    }\n",
       "</style>\n",
       "<table border=\"1\" class=\"dataframe\">\n",
       "  <thead>\n",
       "    <tr style=\"text-align: right;\">\n",
       "      <th></th>\n",
       "      <th>page</th>\n",
       "      <th>url</th>\n",
       "      <th>issued</th>\n",
       "      <th>modified</th>\n",
       "      <th>title</th>\n",
       "      <th>body</th>\n",
       "      <th>caption</th>\n",
       "      <th>data</th>\n",
       "      <th>age_in_days</th>\n",
       "      <th>age_exp</th>\n",
       "      <th>age_exp_normalized</th>\n",
       "      <th>ageCategories</th>\n",
       "    </tr>\n",
       "  </thead>\n",
       "  <tbody>\n",
       "    <tr>\n",
       "      <th>0</th>\n",
       "      <td>7371a9b5-5824-4c57-8704-00a74feebe79</td>\n",
       "      <td>http://g1.globo.com/al/alagoas/noticia/2018/09...</td>\n",
       "      <td>2018-09-13 14:52:55+00:00</td>\n",
       "      <td>2018-09-14 16:14:49+00:00</td>\n",
       "      <td>Corpo de motorista da Uber é encontrado em can...</td>\n",
       "      <td>Corpo de motorista de aplicativo desaparecido ...</td>\n",
       "      <td>Segundo a polícia, Antônio Vitor foi solicitad...</td>\n",
       "      <td>2018-09-13 14:52:55+00:00</td>\n",
       "      <td>1431</td>\n",
       "      <td>0.057154</td>\n",
       "      <td>0.151439</td>\n",
       "      <td>very-old</td>\n",
       "    </tr>\n",
       "    <tr>\n",
       "      <th>1</th>\n",
       "      <td>7a5ea08f-4583-49e2-ba52-a71999443f7b</td>\n",
       "      <td>http://g1.globo.com/am/amazonas/noticia/detent...</td>\n",
       "      <td>2018-05-20 20:42:40+00:00</td>\n",
       "      <td>2018-05-20 20:42:40+00:00</td>\n",
       "      <td>Detento recapturado após fuga por túnel volta ...</td>\n",
       "      <td>Detento disse que passou nome falso ao dar ent...</td>\n",
       "      <td>Ele tinha registro em presídio com nome falso....</td>\n",
       "      <td>2018-05-20 20:42:40+00:00</td>\n",
       "      <td>1547</td>\n",
       "      <td>0.04532</td>\n",
       "      <td>0.140788</td>\n",
       "      <td>very-old</td>\n",
       "    </tr>\n",
       "    <tr>\n",
       "      <th>2</th>\n",
       "      <td>6afc8bbb-4f36-43d5-8a44-a2917df5621a</td>\n",
       "      <td>http://g1.globo.com/ap/amapa/noticia/audios-mo...</td>\n",
       "      <td>2017-07-30 00:37:17+00:00</td>\n",
       "      <td>2017-07-30 00:48:42+00:00</td>\n",
       "      <td>Áudios mostram conversa entre bandidos durante...</td>\n",
       "      <td>Áudios mostram possível conversa entre bandido...</td>\n",
       "      <td>Revista realizada na sexta-feira (28) no Iapen...</td>\n",
       "      <td>2017-07-30 00:37:17+00:00</td>\n",
       "      <td>1842</td>\n",
       "      <td>0.025122</td>\n",
       "      <td>0.12261</td>\n",
       "      <td>very-old</td>\n",
       "    </tr>\n",
       "    <tr>\n",
       "      <th>3</th>\n",
       "      <td>5cc3bd27-80c7-457d-a807-2e8e7fddf031</td>\n",
       "      <td>http://g1.globo.com/ap/amapa/noticia/2020/11/0...</td>\n",
       "      <td>2020-11-06 12:54:00+00:00</td>\n",
       "      <td>2020-11-12 21:22:52+00:00</td>\n",
       "      <td>FOTOS: Apagão no Amapá</td>\n",
       "      <td>Moradores da capital do Amapá, em Macapá, faze...</td>\n",
       "      <td>Incêndio em subestação de energia deixa 13 dos...</td>\n",
       "      <td>2020-11-06 12:54:00+00:00</td>\n",
       "      <td>646</td>\n",
       "      <td>0.274721</td>\n",
       "      <td>0.347249</td>\n",
       "      <td>old</td>\n",
       "    </tr>\n",
       "    <tr>\n",
       "      <th>4</th>\n",
       "      <td>d6956177-db96-42f5-9f68-dd0d6e930661</td>\n",
       "      <td>http://g1.globo.com/ap/amapa/noticia/2019/05/2...</td>\n",
       "      <td>2019-05-27 13:43:03+00:00</td>\n",
       "      <td>2019-05-27 18:19:06+00:00</td>\n",
       "      <td>Profissionais da educação no AP paralisam ativ...</td>\n",
       "      <td>Profissionais da educação paralisam atividades...</td>\n",
       "      <td>Ato comprometeu aulas em escolas nesta segunda...</td>\n",
       "      <td>2019-05-27 13:43:03+00:00</td>\n",
       "      <td>1175</td>\n",
       "      <td>0.095369</td>\n",
       "      <td>0.185832</td>\n",
       "      <td>very-old</td>\n",
       "    </tr>\n",
       "  </tbody>\n",
       "</table>\n",
       "</div>"
      ],
      "text/plain": [
       "                                   page  \\\n",
       "0  7371a9b5-5824-4c57-8704-00a74feebe79   \n",
       "1  7a5ea08f-4583-49e2-ba52-a71999443f7b   \n",
       "2  6afc8bbb-4f36-43d5-8a44-a2917df5621a   \n",
       "3  5cc3bd27-80c7-457d-a807-2e8e7fddf031   \n",
       "4  d6956177-db96-42f5-9f68-dd0d6e930661   \n",
       "\n",
       "                                                 url  \\\n",
       "0  http://g1.globo.com/al/alagoas/noticia/2018/09...   \n",
       "1  http://g1.globo.com/am/amazonas/noticia/detent...   \n",
       "2  http://g1.globo.com/ap/amapa/noticia/audios-mo...   \n",
       "3  http://g1.globo.com/ap/amapa/noticia/2020/11/0...   \n",
       "4  http://g1.globo.com/ap/amapa/noticia/2019/05/2...   \n",
       "\n",
       "                      issued                   modified  \\\n",
       "0  2018-09-13 14:52:55+00:00  2018-09-14 16:14:49+00:00   \n",
       "1  2018-05-20 20:42:40+00:00  2018-05-20 20:42:40+00:00   \n",
       "2  2017-07-30 00:37:17+00:00  2017-07-30 00:48:42+00:00   \n",
       "3  2020-11-06 12:54:00+00:00  2020-11-12 21:22:52+00:00   \n",
       "4  2019-05-27 13:43:03+00:00  2019-05-27 18:19:06+00:00   \n",
       "\n",
       "                                               title  \\\n",
       "0  Corpo de motorista da Uber é encontrado em can...   \n",
       "1  Detento recapturado após fuga por túnel volta ...   \n",
       "2  Áudios mostram conversa entre bandidos durante...   \n",
       "3                            FOTOS: Apagão no Amapá    \n",
       "4  Profissionais da educação no AP paralisam ativ...   \n",
       "\n",
       "                                                body  \\\n",
       "0  Corpo de motorista de aplicativo desaparecido ...   \n",
       "1  Detento disse que passou nome falso ao dar ent...   \n",
       "2  Áudios mostram possível conversa entre bandido...   \n",
       "3  Moradores da capital do Amapá, em Macapá, faze...   \n",
       "4  Profissionais da educação paralisam atividades...   \n",
       "\n",
       "                                             caption  \\\n",
       "0  Segundo a polícia, Antônio Vitor foi solicitad...   \n",
       "1  Ele tinha registro em presídio com nome falso....   \n",
       "2  Revista realizada na sexta-feira (28) no Iapen...   \n",
       "3  Incêndio em subestação de energia deixa 13 dos...   \n",
       "4  Ato comprometeu aulas em escolas nesta segunda...   \n",
       "\n",
       "                       data  age_in_days   age_exp  age_exp_normalized  \\\n",
       "0 2018-09-13 14:52:55+00:00         1431  0.057154            0.151439   \n",
       "1 2018-05-20 20:42:40+00:00         1547   0.04532            0.140788   \n",
       "2 2017-07-30 00:37:17+00:00         1842  0.025122             0.12261   \n",
       "3 2020-11-06 12:54:00+00:00          646  0.274721            0.347249   \n",
       "4 2019-05-27 13:43:03+00:00         1175  0.095369            0.185832   \n",
       "\n",
       "  ageCategories  \n",
       "0      very-old  \n",
       "1      very-old  \n",
       "2      very-old  \n",
       "3           old  \n",
       "4      very-old  "
      ]
     },
     "execution_count": 17,
     "metadata": {},
     "output_type": "execute_result"
    }
   ],
   "source": [
    "df_news.head(5)"
   ]
  },
  {
   "cell_type": "code",
   "execution_count": 18,
   "metadata": {},
   "outputs": [
    {
     "data": {
      "text/html": [
       "<div>\n",
       "<style scoped>\n",
       "    .dataframe tbody tr th:only-of-type {\n",
       "        vertical-align: middle;\n",
       "    }\n",
       "\n",
       "    .dataframe tbody tr th {\n",
       "        vertical-align: top;\n",
       "    }\n",
       "\n",
       "    .dataframe thead th {\n",
       "        text-align: right;\n",
       "    }\n",
       "</style>\n",
       "<table border=\"1\" class=\"dataframe\">\n",
       "  <thead>\n",
       "    <tr style=\"text-align: right;\">\n",
       "      <th></th>\n",
       "      <th>age_in_days</th>\n",
       "      <th>age_exp</th>\n",
       "      <th>age_exp_normalized</th>\n",
       "    </tr>\n",
       "  </thead>\n",
       "  <tbody>\n",
       "    <tr>\n",
       "      <th>count</th>\n",
       "      <td>255603.0</td>\n",
       "      <td>255603.0</td>\n",
       "      <td>255603.0</td>\n",
       "    </tr>\n",
       "    <tr>\n",
       "      <th>mean</th>\n",
       "      <td>559.549724</td>\n",
       "      <td>0.492212</td>\n",
       "      <td>0.542991</td>\n",
       "    </tr>\n",
       "    <tr>\n",
       "      <th>std</th>\n",
       "      <td>546.845411</td>\n",
       "      <td>0.329121</td>\n",
       "      <td>0.296209</td>\n",
       "    </tr>\n",
       "    <tr>\n",
       "      <th>min</th>\n",
       "      <td>0.0</td>\n",
       "      <td>0.002817</td>\n",
       "      <td>0.102536</td>\n",
       "    </tr>\n",
       "    <tr>\n",
       "      <th>25%</th>\n",
       "      <td>104.0</td>\n",
       "      <td>0.16235</td>\n",
       "      <td>0.246115</td>\n",
       "    </tr>\n",
       "    <tr>\n",
       "      <th>50%</th>\n",
       "      <td>358.0</td>\n",
       "      <td>0.488703</td>\n",
       "      <td>0.539833</td>\n",
       "    </tr>\n",
       "    <tr>\n",
       "      <th>75%</th>\n",
       "      <td>909.0</td>\n",
       "      <td>0.812207</td>\n",
       "      <td>0.830986</td>\n",
       "    </tr>\n",
       "    <tr>\n",
       "      <th>max</th>\n",
       "      <td>2936.0</td>\n",
       "      <td>1.0</td>\n",
       "      <td>1.0</td>\n",
       "    </tr>\n",
       "  </tbody>\n",
       "</table>\n",
       "</div>"
      ],
      "text/plain": [
       "       age_in_days   age_exp  age_exp_normalized\n",
       "count     255603.0  255603.0            255603.0\n",
       "mean    559.549724  0.492212            0.542991\n",
       "std     546.845411  0.329121            0.296209\n",
       "min            0.0  0.002817            0.102536\n",
       "25%          104.0   0.16235            0.246115\n",
       "50%          358.0  0.488703            0.539833\n",
       "75%          909.0  0.812207            0.830986\n",
       "max         2936.0       1.0                 1.0"
      ]
     },
     "execution_count": 18,
     "metadata": {},
     "output_type": "execute_result"
    }
   ],
   "source": [
    "df_news.describe()"
   ]
  },
  {
   "cell_type": "code",
   "execution_count": 19,
   "metadata": {},
   "outputs": [
    {
     "name": "stdout",
     "output_type": "stream",
     "text": [
      "<class 'pandas.core.frame.DataFrame'>\n",
      "RangeIndex: 255603 entries, 0 to 255602\n",
      "Data columns (total 12 columns):\n",
      " #   Column              Non-Null Count   Dtype              \n",
      "---  ------              --------------   -----              \n",
      " 0   page                255603 non-null  string             \n",
      " 1   url                 255603 non-null  string             \n",
      " 2   issued              255603 non-null  string             \n",
      " 3   modified            255603 non-null  string             \n",
      " 4   title               255603 non-null  string             \n",
      " 5   body                255603 non-null  string             \n",
      " 6   caption             255603 non-null  string             \n",
      " 7   data                255603 non-null  datetime64[ns, UTC]\n",
      " 8   age_in_days         255603 non-null  UInt32             \n",
      " 9   age_exp             255603 non-null  Float32            \n",
      " 10  age_exp_normalized  255603 non-null  Float32            \n",
      " 11  ageCategories       255603 non-null  category           \n",
      "dtypes: Float32(2), UInt32(1), category(1), datetime64[ns, UTC](1), string(7)\n",
      "memory usage: 19.5 MB\n"
     ]
    }
   ],
   "source": [
    "df_news.info()"
   ]
  },
  {
   "cell_type": "code",
   "execution_count": 20,
   "metadata": {},
   "outputs": [],
   "source": [
    "unused_items_columns = [\"url\", \"issued\", \"modified\", \"title\", \"body\", \"caption\", \"data\", \"age_in_days\", \"age_exp\"]\n",
    "df_news.drop(columns=unused_items_columns,inplace=True)"
   ]
  },
  {
   "cell_type": "code",
   "execution_count": 21,
   "metadata": {},
   "outputs": [
    {
     "data": {
      "text/html": [
       "<div>\n",
       "<style scoped>\n",
       "    .dataframe tbody tr th:only-of-type {\n",
       "        vertical-align: middle;\n",
       "    }\n",
       "\n",
       "    .dataframe tbody tr th {\n",
       "        vertical-align: top;\n",
       "    }\n",
       "\n",
       "    .dataframe thead th {\n",
       "        text-align: right;\n",
       "    }\n",
       "</style>\n",
       "<table border=\"1\" class=\"dataframe\">\n",
       "  <thead>\n",
       "    <tr style=\"text-align: right;\">\n",
       "      <th></th>\n",
       "      <th>page</th>\n",
       "      <th>age_exp_normalized</th>\n",
       "      <th>ageCategories</th>\n",
       "    </tr>\n",
       "  </thead>\n",
       "  <tbody>\n",
       "    <tr>\n",
       "      <th>0</th>\n",
       "      <td>7371a9b5-5824-4c57-8704-00a74feebe79</td>\n",
       "      <td>0.151439</td>\n",
       "      <td>very-old</td>\n",
       "    </tr>\n",
       "    <tr>\n",
       "      <th>1</th>\n",
       "      <td>7a5ea08f-4583-49e2-ba52-a71999443f7b</td>\n",
       "      <td>0.140788</td>\n",
       "      <td>very-old</td>\n",
       "    </tr>\n",
       "    <tr>\n",
       "      <th>2</th>\n",
       "      <td>6afc8bbb-4f36-43d5-8a44-a2917df5621a</td>\n",
       "      <td>0.12261</td>\n",
       "      <td>very-old</td>\n",
       "    </tr>\n",
       "    <tr>\n",
       "      <th>3</th>\n",
       "      <td>5cc3bd27-80c7-457d-a807-2e8e7fddf031</td>\n",
       "      <td>0.347249</td>\n",
       "      <td>old</td>\n",
       "    </tr>\n",
       "    <tr>\n",
       "      <th>4</th>\n",
       "      <td>d6956177-db96-42f5-9f68-dd0d6e930661</td>\n",
       "      <td>0.185832</td>\n",
       "      <td>very-old</td>\n",
       "    </tr>\n",
       "    <tr>\n",
       "      <th>...</th>\n",
       "      <td>...</td>\n",
       "      <td>...</td>\n",
       "      <td>...</td>\n",
       "    </tr>\n",
       "    <tr>\n",
       "      <th>255598</th>\n",
       "      <td>943d6ee8-9daa-4a26-9e42-763339bedba6</td>\n",
       "      <td>0.841292</td>\n",
       "      <td>recent</td>\n",
       "    </tr>\n",
       "    <tr>\n",
       "      <th>255599</th>\n",
       "      <td>d21c1bfc-6a90-4e2d-8c4c-ff1daee1b4f2</td>\n",
       "      <td>0.21939</td>\n",
       "      <td>very-old</td>\n",
       "    </tr>\n",
       "    <tr>\n",
       "      <th>255600</th>\n",
       "      <td>abc5ecd9-81e1-40cf-b706-0b5fa7bea3be</td>\n",
       "      <td>0.145168</td>\n",
       "      <td>very-old</td>\n",
       "    </tr>\n",
       "    <tr>\n",
       "      <th>255601</th>\n",
       "      <td>a7cf134e-0bb0-4363-9224-4d68cf8c7a53</td>\n",
       "      <td>0.145897</td>\n",
       "      <td>very-old</td>\n",
       "    </tr>\n",
       "    <tr>\n",
       "      <th>255602</th>\n",
       "      <td>80d741db-6009-490d-b844-79d15408da9d</td>\n",
       "      <td>0.145349</td>\n",
       "      <td>very-old</td>\n",
       "    </tr>\n",
       "  </tbody>\n",
       "</table>\n",
       "<p>255603 rows × 3 columns</p>\n",
       "</div>"
      ],
      "text/plain": [
       "                                        page  age_exp_normalized ageCategories\n",
       "0       7371a9b5-5824-4c57-8704-00a74feebe79            0.151439      very-old\n",
       "1       7a5ea08f-4583-49e2-ba52-a71999443f7b            0.140788      very-old\n",
       "2       6afc8bbb-4f36-43d5-8a44-a2917df5621a             0.12261      very-old\n",
       "3       5cc3bd27-80c7-457d-a807-2e8e7fddf031            0.347249           old\n",
       "4       d6956177-db96-42f5-9f68-dd0d6e930661            0.185832      very-old\n",
       "...                                      ...                 ...           ...\n",
       "255598  943d6ee8-9daa-4a26-9e42-763339bedba6            0.841292        recent\n",
       "255599  d21c1bfc-6a90-4e2d-8c4c-ff1daee1b4f2             0.21939      very-old\n",
       "255600  abc5ecd9-81e1-40cf-b706-0b5fa7bea3be            0.145168      very-old\n",
       "255601  a7cf134e-0bb0-4363-9224-4d68cf8c7a53            0.145897      very-old\n",
       "255602  80d741db-6009-490d-b844-79d15408da9d            0.145349      very-old\n",
       "\n",
       "[255603 rows x 3 columns]"
      ]
     },
     "execution_count": 21,
     "metadata": {},
     "output_type": "execute_result"
    }
   ],
   "source": [
    "df_news"
   ]
  },
  {
   "cell_type": "markdown",
   "metadata": {},
   "source": [
    "### Save to CSV"
   ]
  },
  {
   "cell_type": "code",
   "execution_count": 22,
   "metadata": {},
   "outputs": [],
   "source": [
    "df_news.to_csv(config[\"DF_ITEMS_FEATURE\"])"
   ]
  }
 ],
 "metadata": {
  "kernelspec": {
   "display_name": ".venv",
   "language": "python",
   "name": "python3"
  },
  "language_info": {
   "codemirror_mode": {
    "name": "ipython",
    "version": 3
   },
   "file_extension": ".py",
   "mimetype": "text/x-python",
   "name": "python",
   "nbconvert_exporter": "python",
   "pygments_lexer": "ipython3",
   "version": "3.10.16"
  }
 },
 "nbformat": 4,
 "nbformat_minor": 2
}
