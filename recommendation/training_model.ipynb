{
    "cells": [
        {
            "cell_type": "markdown",
            "metadata": {},
            "source": [
                "# Model recommendation with lighfm"
            ]
        },
        {
            "cell_type": "markdown",
            "metadata": {},
            "source": [
                "### Import libraries"
            ]
        },
        {
            "cell_type": "code",
            "execution_count": 1,
            "metadata": {},
            "outputs": [],
            "source": [
                "import os\n",
                "import sys\n",
                "import itertools\n",
                "import pandas as pd\n",
                "import numpy as np\n",
                "import matplotlib.pyplot as plt\n",
                "import seaborn as sns\n",
                "\n",
                "import scipy\n",
                "import numpy as np\n",
                "import pandas as pd\n",
                "from lightfm import LightFM\n",
                "from lightfm.data import Dataset\n",
                "from lightfm.evaluation import precision_at_k, recall_at_k\n",
                "from lightfm.cross_validation import random_train_test_split\n",
                "from sklearn.metrics.pairwise import cosine_similarity\n",
                "from sklearn.feature_extraction.text import CountVectorizer\n",
                "from lightfm import cross_validation\n",
                "import scipy.sparse as sp\n",
                "from scipy import sparse"
            ]
        },
        {
            "cell_type": "markdown",
            "metadata": {},
            "source": [
                "### Defining variables"
            ]
        },
        {
            "cell_type": "code",
            "execution_count": 2,
            "metadata": {
                "tags": [
                    "parameters"
                ]
            },
            "outputs": [],
            "source": [
                "# percentage of data used for testing\n",
                "TEST_PERCENTAGE = 0.25\n",
                "# model learning rate\n",
                "LEARNING_RATE = 0.25\n",
                "# no of epochs to fit model\n",
                "NO_EPOCHS = 20\n",
                "\n",
                "# seed for pseudonumber generations\n",
                "SEED = 42"
            ]
        },
        {
            "cell_type": "markdown",
            "metadata": {},
            "source": [
                "### Retrieve data"
            ]
        },
        {
            "cell_type": "code",
            "execution_count": 3,
            "metadata": {},
            "outputs": [],
            "source": [
                "import pandas as pd\n",
                "# path config\n",
                "data_path = '/home/raiane/Documentos/Projetos/tech_challenge_5/data/training_data_v3.csv'\n",
                "df_ratings = pd.read_csv(\n",
                "    data_path)"
            ]
        },
        {
            "cell_type": "code",
            "execution_count": 4,
            "metadata": {},
            "outputs": [
                {
                    "name": "stdout",
                    "output_type": "stream",
                    "text": [
                        "<class 'pandas.core.frame.DataFrame'>\n",
                        "RangeIndex: 1426291 entries, 0 to 1426290\n",
                        "Data columns (total 8 columns):\n",
                        " #   Column                   Non-Null Count    Dtype  \n",
                        "---  ------                   --------------    -----  \n",
                        " 0   Unnamed: 0               1426291 non-null  int64  \n",
                        " 1   userId                   1426291 non-null  object \n",
                        " 2   history                  1426291 non-null  object \n",
                        " 3   numberOfClicksHistory    1426291 non-null  int64  \n",
                        " 4   timeOnPageHistory        1426291 non-null  int64  \n",
                        " 5   scrollPercentageHistory  1426291 non-null  float64\n",
                        " 6   pageVisitsCountHistory   1426291 non-null  int64  \n",
                        " 7   userType                 1426291 non-null  object \n",
                        "dtypes: float64(1), int64(4), object(3)\n",
                        "memory usage: 87.1+ MB\n"
                    ]
                }
            ],
            "source": [
                "df_ratings.info()"
            ]
        },
        {
            "cell_type": "code",
            "execution_count": 5,
            "metadata": {},
            "outputs": [],
            "source": [
                "#filtrar por noticias\n",
                "clicks_counts = pd.DataFrame(df_ratings[\"history\"].value_counts())\n",
                "rare_news = clicks_counts[df_ratings[\"history\"].value_counts() <= 0].index\n",
                "common_news = df_ratings[~df_ratings[\"history\"].isin(rare_news)]"
            ]
        },
        {
            "cell_type": "code",
            "execution_count": 6,
            "metadata": {},
            "outputs": [
                {
                    "data": {
                        "text/html": [
                            "<div>\n",
                            "<style scoped>\n",
                            "    .dataframe tbody tr th:only-of-type {\n",
                            "        vertical-align: middle;\n",
                            "    }\n",
                            "\n",
                            "    .dataframe tbody tr th {\n",
                            "        vertical-align: top;\n",
                            "    }\n",
                            "\n",
                            "    .dataframe thead th {\n",
                            "        text-align: right;\n",
                            "    }\n",
                            "</style>\n",
                            "<table border=\"1\" class=\"dataframe\">\n",
                            "  <thead>\n",
                            "    <tr style=\"text-align: right;\">\n",
                            "      <th></th>\n",
                            "      <th>Unnamed: 0</th>\n",
                            "      <th>userId</th>\n",
                            "      <th>history</th>\n",
                            "      <th>numberOfClicksHistory</th>\n",
                            "      <th>timeOnPageHistory</th>\n",
                            "      <th>scrollPercentageHistory</th>\n",
                            "      <th>pageVisitsCountHistory</th>\n",
                            "      <th>userType</th>\n",
                            "    </tr>\n",
                            "  </thead>\n",
                            "  <tbody>\n",
                            "    <tr>\n",
                            "      <th>0</th>\n",
                            "      <td>0</td>\n",
                            "      <td>f98d1132f60d46883ce49583257104d15ce723b3bbda21...</td>\n",
                            "      <td>c8aab885-433d-4e46-8066-479f40ba7fb2</td>\n",
                            "      <td>76</td>\n",
                            "      <td>20380</td>\n",
                            "      <td>50.30</td>\n",
                            "      <td>2</td>\n",
                            "      <td>Non-Logged</td>\n",
                            "    </tr>\n",
                            "    <tr>\n",
                            "      <th>1</th>\n",
                            "      <td>1</td>\n",
                            "      <td>f98d1132f60d46883ce49583257104d15ce723b3bbda21...</td>\n",
                            "      <td>68d2039c-c9aa-456c-ac33-9b2e8677fba7</td>\n",
                            "      <td>38</td>\n",
                            "      <td>21184</td>\n",
                            "      <td>18.18</td>\n",
                            "      <td>1</td>\n",
                            "      <td>Non-Logged</td>\n",
                            "    </tr>\n",
                            "    <tr>\n",
                            "      <th>2</th>\n",
                            "      <td>2</td>\n",
                            "      <td>f98d1132f60d46883ce49583257104d15ce723b3bbda21...</td>\n",
                            "      <td>13e423ce-1d69-4c78-bc18-e8c8f7271964</td>\n",
                            "      <td>41</td>\n",
                            "      <td>35438</td>\n",
                            "      <td>16.46</td>\n",
                            "      <td>1</td>\n",
                            "      <td>Non-Logged</td>\n",
                            "    </tr>\n",
                            "    <tr>\n",
                            "      <th>3</th>\n",
                            "      <td>3</td>\n",
                            "      <td>2c1080975e257ed630e26679edbe4d5c850c65f3e09f65...</td>\n",
                            "      <td>3325b5a1-979a-4cb3-82b6-63905c9edbe8</td>\n",
                            "      <td>7</td>\n",
                            "      <td>6049</td>\n",
                            "      <td>25.35</td>\n",
                            "      <td>1</td>\n",
                            "      <td>Non-Logged</td>\n",
                            "    </tr>\n",
                            "    <tr>\n",
                            "      <th>4</th>\n",
                            "      <td>4</td>\n",
                            "      <td>2c1080975e257ed630e26679edbe4d5c850c65f3e09f65...</td>\n",
                            "      <td>fe856057-f97d-419f-ab1c-97c5c3e0719c</td>\n",
                            "      <td>80</td>\n",
                            "      <td>210489</td>\n",
                            "      <td>45.66</td>\n",
                            "      <td>1</td>\n",
                            "      <td>Non-Logged</td>\n",
                            "    </tr>\n",
                            "  </tbody>\n",
                            "</table>\n",
                            "</div>"
                        ],
                        "text/plain": [
                            "   Unnamed: 0                                             userId  \\\n",
                            "0           0  f98d1132f60d46883ce49583257104d15ce723b3bbda21...   \n",
                            "1           1  f98d1132f60d46883ce49583257104d15ce723b3bbda21...   \n",
                            "2           2  f98d1132f60d46883ce49583257104d15ce723b3bbda21...   \n",
                            "3           3  2c1080975e257ed630e26679edbe4d5c850c65f3e09f65...   \n",
                            "4           4  2c1080975e257ed630e26679edbe4d5c850c65f3e09f65...   \n",
                            "\n",
                            "                                history  numberOfClicksHistory  \\\n",
                            "0  c8aab885-433d-4e46-8066-479f40ba7fb2                     76   \n",
                            "1  68d2039c-c9aa-456c-ac33-9b2e8677fba7                     38   \n",
                            "2  13e423ce-1d69-4c78-bc18-e8c8f7271964                     41   \n",
                            "3  3325b5a1-979a-4cb3-82b6-63905c9edbe8                      7   \n",
                            "4  fe856057-f97d-419f-ab1c-97c5c3e0719c                     80   \n",
                            "\n",
                            "   timeOnPageHistory  scrollPercentageHistory  pageVisitsCountHistory  \\\n",
                            "0              20380                    50.30                       2   \n",
                            "1              21184                    18.18                       1   \n",
                            "2              35438                    16.46                       1   \n",
                            "3               6049                    25.35                       1   \n",
                            "4             210489                    45.66                       1   \n",
                            "\n",
                            "     userType  \n",
                            "0  Non-Logged  \n",
                            "1  Non-Logged  \n",
                            "2  Non-Logged  \n",
                            "3  Non-Logged  \n",
                            "4  Non-Logged  "
                        ]
                    },
                    "execution_count": 6,
                    "metadata": {},
                    "output_type": "execute_result"
                }
            ],
            "source": [
                "common_news.head()"
            ]
        },
        {
            "cell_type": "code",
            "execution_count": 8,
            "metadata": {},
            "outputs": [],
            "source": [
                "df_news = pd.read_csv(\"../data/noticias_final.csv\")"
            ]
        },
        {
            "cell_type": "code",
            "execution_count": 9,
            "metadata": {},
            "outputs": [
                {
                    "data": {
                        "text/html": [
                            "<div>\n",
                            "<style scoped>\n",
                            "    .dataframe tbody tr th:only-of-type {\n",
                            "        vertical-align: middle;\n",
                            "    }\n",
                            "\n",
                            "    .dataframe tbody tr th {\n",
                            "        vertical-align: top;\n",
                            "    }\n",
                            "\n",
                            "    .dataframe thead th {\n",
                            "        text-align: right;\n",
                            "    }\n",
                            "</style>\n",
                            "<table border=\"1\" class=\"dataframe\">\n",
                            "  <thead>\n",
                            "    <tr style=\"text-align: right;\">\n",
                            "      <th></th>\n",
                            "      <th>Unnamed: 0.1</th>\n",
                            "      <th>Unnamed: 0</th>\n",
                            "      <th>page</th>\n",
                            "      <th>url</th>\n",
                            "      <th>issued</th>\n",
                            "      <th>modified</th>\n",
                            "      <th>title</th>\n",
                            "      <th>body</th>\n",
                            "      <th>caption</th>\n",
                            "      <th>cleaned_title</th>\n",
                            "      <th>cleaned_caption</th>\n",
                            "      <th>combined_text</th>\n",
                            "      <th>cleaned_body</th>\n",
                            "      <th>cluster</th>\n",
                            "      <th>word_count</th>\n",
                            "      <th>data</th>\n",
                            "      <th>idade_em_dias</th>\n",
                            "      <th>peso</th>\n",
                            "      <th>peso_ajustado</th>\n",
                            "    </tr>\n",
                            "  </thead>\n",
                            "  <tbody>\n",
                            "    <tr>\n",
                            "      <th>0</th>\n",
                            "      <td>0</td>\n",
                            "      <td>0</td>\n",
                            "      <td>13db0ab1-eea2-4603-84c4-f40a876c7400</td>\n",
                            "      <td>http://g1.globo.com/am/amazonas/noticia/2022/0...</td>\n",
                            "      <td>2022-06-18 20:37:45+00:00</td>\n",
                            "      <td>2023-04-15 00:02:08+00:00</td>\n",
                            "      <td>Caso Bruno e Dom: 3º suspeito tem prisão tempo...</td>\n",
                            "      <td>Após audiência de custódia, a Justiça do Amazo...</td>\n",
                            "      <td>Jeferson da Silva Lima foi escoltado por agent...</td>\n",
                            "      <td>caso bruno dom suspeito prisão temporária decr...</td>\n",
                            "      <td>jeferson silva lima escoltado agentes polícia ...</td>\n",
                            "      <td>caso bruno dom suspeito prisão temporária decr...</td>\n",
                            "      <td>audiência custódia justiça amazonas decretou s...</td>\n",
                            "      <td>2</td>\n",
                            "      <td>704</td>\n",
                            "      <td>2022-06-18 20:37:45+00:00</td>\n",
                            "      <td>57</td>\n",
                            "      <td>1.495686e-01</td>\n",
                            "      <td>0.234612</td>\n",
                            "    </tr>\n",
                            "    <tr>\n",
                            "      <th>1</th>\n",
                            "      <td>1</td>\n",
                            "      <td>1</td>\n",
                            "      <td>92907b73-5cd3-4184-8d8c-e206aed2bf1c</td>\n",
                            "      <td>http://g1.globo.com/pa/santarem-regiao/noticia...</td>\n",
                            "      <td>2019-06-20 17:19:52+00:00</td>\n",
                            "      <td>2023-06-16 20:19:15+00:00</td>\n",
                            "      <td>Linguajar dos santarenos é diferenciado e chei...</td>\n",
                            "      <td>Vista aérea de Santarém\\nÁdrio Denner/ AD Prod...</td>\n",
                            "      <td>As expressões santarenas não significam apenas...</td>\n",
                            "      <td>linguajar santarenos diferenciado cheio identi...</td>\n",
                            "      <td>expressões santarenas significam significam co...</td>\n",
                            "      <td>linguajar santarenos diferenciado cheio identi...</td>\n",
                            "      <td>vista aérea santarém ádrio ad produções paraen...</td>\n",
                            "      <td>0</td>\n",
                            "      <td>728</td>\n",
                            "      <td>2019-06-20 17:19:52+00:00</td>\n",
                            "      <td>1151</td>\n",
                            "      <td>2.175547e-17</td>\n",
                            "      <td>0.100000</td>\n",
                            "    </tr>\n",
                            "    <tr>\n",
                            "      <th>2</th>\n",
                            "      <td>2</td>\n",
                            "      <td>2</td>\n",
                            "      <td>61e07f64-cddf-46f2-b50c-ea0a39c22050</td>\n",
                            "      <td>http://g1.globo.com/mundo/noticia/2022/07/08/e...</td>\n",
                            "      <td>2022-07-08 08:55:52+00:00</td>\n",
                            "      <td>2023-04-15 04:25:39+00:00</td>\n",
                            "      <td>Ex-premiê Shinzo Abe morre após ser baleado no...</td>\n",
                            "      <td>Novo vídeo mostra que assassino de Shinzo Abe ...</td>\n",
                            "      <td>Ex-primeiro-ministro foi atingido por tiros de...</td>\n",
                            "      <td>shinzo abe morre baleado japão</td>\n",
                            "      <td>atingido tiros espingarda caseira discursava c...</td>\n",
                            "      <td>shinzo abe morre baleado japão atingido tiros ...</td>\n",
                            "      <td>vídeo mostra assassino shinzo abe atirou costa...</td>\n",
                            "      <td>2</td>\n",
                            "      <td>1315</td>\n",
                            "      <td>2022-07-08 08:55:52+00:00</td>\n",
                            "      <td>37</td>\n",
                            "      <td>2.913199e-01</td>\n",
                            "      <td>0.362188</td>\n",
                            "    </tr>\n",
                            "    <tr>\n",
                            "      <th>3</th>\n",
                            "      <td>3</td>\n",
                            "      <td>3</td>\n",
                            "      <td>30e2e6c5-554a-48ed-a35f-6c6691c8ac9b</td>\n",
                            "      <td>http://g1.globo.com/politica/noticia/2021/09/0...</td>\n",
                            "      <td>2021-09-09 19:06:46+00:00</td>\n",
                            "      <td>2023-06-07 17:44:54+00:00</td>\n",
                            "      <td>Relator no STF, Fachin vota contra marco tempo...</td>\n",
                            "      <td>Relator no STF, Fachin vota contra marco tempo...</td>\n",
                            "      <td>Ministro defendeu que posse indígena é diferen...</td>\n",
                            "      <td>relator stf fachin vota marco temporal demarca...</td>\n",
                            "      <td>ministro defendeu posse indígena diferente pos...</td>\n",
                            "      <td>relator stf fachin vota marco temporal demarca...</td>\n",
                            "      <td>relator stf fachin vota marco temporal demarca...</td>\n",
                            "      <td>0</td>\n",
                            "      <td>611</td>\n",
                            "      <td>2021-09-09 19:06:46+00:00</td>\n",
                            "      <td>339</td>\n",
                            "      <td>1.237292e-05</td>\n",
                            "      <td>0.100011</td>\n",
                            "    </tr>\n",
                            "    <tr>\n",
                            "      <th>4</th>\n",
                            "      <td>4</td>\n",
                            "      <td>4</td>\n",
                            "      <td>9dff71eb-b681-40c7-ac8d-68017ac36675</td>\n",
                            "      <td>http://g1.globo.com/politica/noticia/2021/09/1...</td>\n",
                            "      <td>2021-09-15 19:16:13+00:00</td>\n",
                            "      <td>2023-06-07 17:43:39+00:00</td>\n",
                            "      <td>\\nApós 2 votos, pedido de vista suspende julga...</td>\n",
                            "      <td>Após um pedido de vista (mais tempo para análi...</td>\n",
                            "      <td>Pelo marco temporal, índios só podem reivindic...</td>\n",
                            "      <td>votos pedido vista suspende julgamento stf dem...</td>\n",
                            "      <td>marco temporal índios reivindicar demarcação t...</td>\n",
                            "      <td>votos pedido vista suspende julgamento stf dem...</td>\n",
                            "      <td>pedido vista análise processo ministro alexand...</td>\n",
                            "      <td>0</td>\n",
                            "      <td>506</td>\n",
                            "      <td>2021-09-15 19:16:13+00:00</td>\n",
                            "      <td>333</td>\n",
                            "      <td>1.511232e-05</td>\n",
                            "      <td>0.100014</td>\n",
                            "    </tr>\n",
                            "  </tbody>\n",
                            "</table>\n",
                            "</div>"
                        ],
                        "text/plain": [
                            "   Unnamed: 0.1  Unnamed: 0                                  page  \\\n",
                            "0             0           0  13db0ab1-eea2-4603-84c4-f40a876c7400   \n",
                            "1             1           1  92907b73-5cd3-4184-8d8c-e206aed2bf1c   \n",
                            "2             2           2  61e07f64-cddf-46f2-b50c-ea0a39c22050   \n",
                            "3             3           3  30e2e6c5-554a-48ed-a35f-6c6691c8ac9b   \n",
                            "4             4           4  9dff71eb-b681-40c7-ac8d-68017ac36675   \n",
                            "\n",
                            "                                                 url  \\\n",
                            "0  http://g1.globo.com/am/amazonas/noticia/2022/0...   \n",
                            "1  http://g1.globo.com/pa/santarem-regiao/noticia...   \n",
                            "2  http://g1.globo.com/mundo/noticia/2022/07/08/e...   \n",
                            "3  http://g1.globo.com/politica/noticia/2021/09/0...   \n",
                            "4  http://g1.globo.com/politica/noticia/2021/09/1...   \n",
                            "\n",
                            "                      issued                   modified  \\\n",
                            "0  2022-06-18 20:37:45+00:00  2023-04-15 00:02:08+00:00   \n",
                            "1  2019-06-20 17:19:52+00:00  2023-06-16 20:19:15+00:00   \n",
                            "2  2022-07-08 08:55:52+00:00  2023-04-15 04:25:39+00:00   \n",
                            "3  2021-09-09 19:06:46+00:00  2023-06-07 17:44:54+00:00   \n",
                            "4  2021-09-15 19:16:13+00:00  2023-06-07 17:43:39+00:00   \n",
                            "\n",
                            "                                               title  \\\n",
                            "0  Caso Bruno e Dom: 3º suspeito tem prisão tempo...   \n",
                            "1  Linguajar dos santarenos é diferenciado e chei...   \n",
                            "2  Ex-premiê Shinzo Abe morre após ser baleado no...   \n",
                            "3  Relator no STF, Fachin vota contra marco tempo...   \n",
                            "4  \\nApós 2 votos, pedido de vista suspende julga...   \n",
                            "\n",
                            "                                                body  \\\n",
                            "0  Após audiência de custódia, a Justiça do Amazo...   \n",
                            "1  Vista aérea de Santarém\\nÁdrio Denner/ AD Prod...   \n",
                            "2  Novo vídeo mostra que assassino de Shinzo Abe ...   \n",
                            "3  Relator no STF, Fachin vota contra marco tempo...   \n",
                            "4  Após um pedido de vista (mais tempo para análi...   \n",
                            "\n",
                            "                                             caption  \\\n",
                            "0  Jeferson da Silva Lima foi escoltado por agent...   \n",
                            "1  As expressões santarenas não significam apenas...   \n",
                            "2  Ex-primeiro-ministro foi atingido por tiros de...   \n",
                            "3  Ministro defendeu que posse indígena é diferen...   \n",
                            "4  Pelo marco temporal, índios só podem reivindic...   \n",
                            "\n",
                            "                                       cleaned_title  \\\n",
                            "0  caso bruno dom suspeito prisão temporária decr...   \n",
                            "1  linguajar santarenos diferenciado cheio identi...   \n",
                            "2                     shinzo abe morre baleado japão   \n",
                            "3  relator stf fachin vota marco temporal demarca...   \n",
                            "4  votos pedido vista suspende julgamento stf dem...   \n",
                            "\n",
                            "                                     cleaned_caption  \\\n",
                            "0  jeferson silva lima escoltado agentes polícia ...   \n",
                            "1  expressões santarenas significam significam co...   \n",
                            "2  atingido tiros espingarda caseira discursava c...   \n",
                            "3  ministro defendeu posse indígena diferente pos...   \n",
                            "4  marco temporal índios reivindicar demarcação t...   \n",
                            "\n",
                            "                                       combined_text  \\\n",
                            "0  caso bruno dom suspeito prisão temporária decr...   \n",
                            "1  linguajar santarenos diferenciado cheio identi...   \n",
                            "2  shinzo abe morre baleado japão atingido tiros ...   \n",
                            "3  relator stf fachin vota marco temporal demarca...   \n",
                            "4  votos pedido vista suspende julgamento stf dem...   \n",
                            "\n",
                            "                                        cleaned_body  cluster  word_count  \\\n",
                            "0  audiência custódia justiça amazonas decretou s...        2         704   \n",
                            "1  vista aérea santarém ádrio ad produções paraen...        0         728   \n",
                            "2  vídeo mostra assassino shinzo abe atirou costa...        2        1315   \n",
                            "3  relator stf fachin vota marco temporal demarca...        0         611   \n",
                            "4  pedido vista análise processo ministro alexand...        0         506   \n",
                            "\n",
                            "                        data  idade_em_dias          peso  peso_ajustado  \n",
                            "0  2022-06-18 20:37:45+00:00             57  1.495686e-01       0.234612  \n",
                            "1  2019-06-20 17:19:52+00:00           1151  2.175547e-17       0.100000  \n",
                            "2  2022-07-08 08:55:52+00:00             37  2.913199e-01       0.362188  \n",
                            "3  2021-09-09 19:06:46+00:00            339  1.237292e-05       0.100011  \n",
                            "4  2021-09-15 19:16:13+00:00            333  1.511232e-05       0.100014  "
                        ]
                    },
                    "execution_count": 9,
                    "metadata": {},
                    "output_type": "execute_result"
                }
            ],
            "source": [
                "df_news.head()"
            ]
        },
        {
            "cell_type": "code",
            "execution_count": 10,
            "metadata": {},
            "outputs": [],
            "source": [
                "df_merged = pd.merge(common_news,df_news, left_on='history', right_on='page', how='left')"
            ]
        },
        {
            "cell_type": "code",
            "execution_count": 11,
            "metadata": {},
            "outputs": [
                {
                    "data": {
                        "text/html": [
                            "<div>\n",
                            "<style scoped>\n",
                            "    .dataframe tbody tr th:only-of-type {\n",
                            "        vertical-align: middle;\n",
                            "    }\n",
                            "\n",
                            "    .dataframe tbody tr th {\n",
                            "        vertical-align: top;\n",
                            "    }\n",
                            "\n",
                            "    .dataframe thead th {\n",
                            "        text-align: right;\n",
                            "    }\n",
                            "</style>\n",
                            "<table border=\"1\" class=\"dataframe\">\n",
                            "  <thead>\n",
                            "    <tr style=\"text-align: right;\">\n",
                            "      <th></th>\n",
                            "      <th>Unnamed: 0_x</th>\n",
                            "      <th>userId</th>\n",
                            "      <th>history</th>\n",
                            "      <th>numberOfClicksHistory</th>\n",
                            "      <th>timeOnPageHistory</th>\n",
                            "      <th>scrollPercentageHistory</th>\n",
                            "      <th>pageVisitsCountHistory</th>\n",
                            "      <th>userType</th>\n",
                            "      <th>Unnamed: 0.1</th>\n",
                            "      <th>Unnamed: 0_y</th>\n",
                            "      <th>...</th>\n",
                            "      <th>cleaned_title</th>\n",
                            "      <th>cleaned_caption</th>\n",
                            "      <th>combined_text</th>\n",
                            "      <th>cleaned_body</th>\n",
                            "      <th>cluster</th>\n",
                            "      <th>word_count</th>\n",
                            "      <th>data</th>\n",
                            "      <th>idade_em_dias</th>\n",
                            "      <th>peso</th>\n",
                            "      <th>peso_ajustado</th>\n",
                            "    </tr>\n",
                            "  </thead>\n",
                            "  <tbody>\n",
                            "    <tr>\n",
                            "      <th>0</th>\n",
                            "      <td>0</td>\n",
                            "      <td>f98d1132f60d46883ce49583257104d15ce723b3bbda21...</td>\n",
                            "      <td>c8aab885-433d-4e46-8066-479f40ba7fb2</td>\n",
                            "      <td>76</td>\n",
                            "      <td>20380</td>\n",
                            "      <td>50.30</td>\n",
                            "      <td>2</td>\n",
                            "      <td>Non-Logged</td>\n",
                            "      <td>193275</td>\n",
                            "      <td>193275</td>\n",
                            "      <td>...</td>\n",
                            "      <td>viu musa estradas vídeo pé primo salvou crianç...</td>\n",
                            "      <td>caminhoneira aline füchter ficou pé frente câm...</td>\n",
                            "      <td>viu musa estradas vídeo pé primo salvou crianç...</td>\n",
                            "      <td>caminhoneira aline füchter pé casa reprodução ...</td>\n",
                            "      <td>0</td>\n",
                            "      <td>384</td>\n",
                            "      <td>2022-03-19 21:03:21+00:00</td>\n",
                            "      <td>148</td>\n",
                            "      <td>0.007202</td>\n",
                            "      <td>0.106482</td>\n",
                            "    </tr>\n",
                            "    <tr>\n",
                            "      <th>1</th>\n",
                            "      <td>1</td>\n",
                            "      <td>f98d1132f60d46883ce49583257104d15ce723b3bbda21...</td>\n",
                            "      <td>68d2039c-c9aa-456c-ac33-9b2e8677fba7</td>\n",
                            "      <td>38</td>\n",
                            "      <td>21184</td>\n",
                            "      <td>18.18</td>\n",
                            "      <td>1</td>\n",
                            "      <td>Non-Logged</td>\n",
                            "      <td>158881</td>\n",
                            "      <td>158881</td>\n",
                            "      <td>...</td>\n",
                            "      <td>proibida entrar maré esposa chefe tráfico desc...</td>\n",
                            "      <td>luana rabello polícia famosa baile disney comp...</td>\n",
                            "      <td>proibida entrar maré esposa chefe tráfico desc...</td>\n",
                            "      <td>polícia civil rio prende apontada amante chefe...</td>\n",
                            "      <td>2</td>\n",
                            "      <td>844</td>\n",
                            "      <td>2021-11-01 03:01:20+00:00</td>\n",
                            "      <td>286</td>\n",
                            "      <td>0.000072</td>\n",
                            "      <td>0.100065</td>\n",
                            "    </tr>\n",
                            "    <tr>\n",
                            "      <th>2</th>\n",
                            "      <td>2</td>\n",
                            "      <td>f98d1132f60d46883ce49583257104d15ce723b3bbda21...</td>\n",
                            "      <td>13e423ce-1d69-4c78-bc18-e8c8f7271964</td>\n",
                            "      <td>41</td>\n",
                            "      <td>35438</td>\n",
                            "      <td>16.46</td>\n",
                            "      <td>1</td>\n",
                            "      <td>Non-Logged</td>\n",
                            "      <td>203270</td>\n",
                            "      <td>203270</td>\n",
                            "      <td>...</td>\n",
                            "      <td>caminhoneira musa estradas mostra rosto aciden...</td>\n",
                            "      <td>aline füchter chegou tubarão mora sul catarine...</td>\n",
                            "      <td>caminhoneira musa estradas mostra rosto aciden...</td>\n",
                            "      <td>caminhoneira musa estradas mostra rosto aciden...</td>\n",
                            "      <td>2</td>\n",
                            "      <td>1006</td>\n",
                            "      <td>2022-02-01 18:33:21+00:00</td>\n",
                            "      <td>194</td>\n",
                            "      <td>0.001554</td>\n",
                            "      <td>0.101399</td>\n",
                            "    </tr>\n",
                            "    <tr>\n",
                            "      <th>3</th>\n",
                            "      <td>3</td>\n",
                            "      <td>2c1080975e257ed630e26679edbe4d5c850c65f3e09f65...</td>\n",
                            "      <td>3325b5a1-979a-4cb3-82b6-63905c9edbe8</td>\n",
                            "      <td>7</td>\n",
                            "      <td>6049</td>\n",
                            "      <td>25.35</td>\n",
                            "      <td>1</td>\n",
                            "      <td>Non-Logged</td>\n",
                            "      <td>236644</td>\n",
                            "      <td>236644</td>\n",
                            "      <td>...</td>\n",
                            "      <td>agosto lilás itapetininga promove palestras co...</td>\n",
                            "      <td>prefeitura durante agosto palestras serão real...</td>\n",
                            "      <td>agosto lilás itapetininga promove palestras co...</td>\n",
                            "      <td>itapetininga promove palestras conscientização...</td>\n",
                            "      <td>0</td>\n",
                            "      <td>198</td>\n",
                            "      <td>2022-08-14 20:17:10+00:00</td>\n",
                            "      <td>0</td>\n",
                            "      <td>1.000000</td>\n",
                            "      <td>1.000000</td>\n",
                            "    </tr>\n",
                            "    <tr>\n",
                            "      <th>4</th>\n",
                            "      <td>4</td>\n",
                            "      <td>2c1080975e257ed630e26679edbe4d5c850c65f3e09f65...</td>\n",
                            "      <td>fe856057-f97d-419f-ab1c-97c5c3e0719c</td>\n",
                            "      <td>80</td>\n",
                            "      <td>210489</td>\n",
                            "      <td>45.66</td>\n",
                            "      <td>1</td>\n",
                            "      <td>Non-Logged</td>\n",
                            "      <td>186368</td>\n",
                            "      <td>186368</td>\n",
                            "      <td>...</td>\n",
                            "      <td>designer sobrancelhas viraliza web pegadinha c...</td>\n",
                            "      <td>vídeo publicado geizielle ferreira mendes mora...</td>\n",
                            "      <td>designer sobrancelhas viraliza web pegadinha c...</td>\n",
                            "      <td>designer sobrancelhas viraliza web pegadinha c...</td>\n",
                            "      <td>0</td>\n",
                            "      <td>389</td>\n",
                            "      <td>2022-08-14 11:39:11+00:00</td>\n",
                            "      <td>0</td>\n",
                            "      <td>1.000000</td>\n",
                            "      <td>1.000000</td>\n",
                            "    </tr>\n",
                            "  </tbody>\n",
                            "</table>\n",
                            "<p>5 rows × 27 columns</p>\n",
                            "</div>"
                        ],
                        "text/plain": [
                            "   Unnamed: 0_x                                             userId  \\\n",
                            "0             0  f98d1132f60d46883ce49583257104d15ce723b3bbda21...   \n",
                            "1             1  f98d1132f60d46883ce49583257104d15ce723b3bbda21...   \n",
                            "2             2  f98d1132f60d46883ce49583257104d15ce723b3bbda21...   \n",
                            "3             3  2c1080975e257ed630e26679edbe4d5c850c65f3e09f65...   \n",
                            "4             4  2c1080975e257ed630e26679edbe4d5c850c65f3e09f65...   \n",
                            "\n",
                            "                                history  numberOfClicksHistory  \\\n",
                            "0  c8aab885-433d-4e46-8066-479f40ba7fb2                     76   \n",
                            "1  68d2039c-c9aa-456c-ac33-9b2e8677fba7                     38   \n",
                            "2  13e423ce-1d69-4c78-bc18-e8c8f7271964                     41   \n",
                            "3  3325b5a1-979a-4cb3-82b6-63905c9edbe8                      7   \n",
                            "4  fe856057-f97d-419f-ab1c-97c5c3e0719c                     80   \n",
                            "\n",
                            "   timeOnPageHistory  scrollPercentageHistory  pageVisitsCountHistory  \\\n",
                            "0              20380                    50.30                       2   \n",
                            "1              21184                    18.18                       1   \n",
                            "2              35438                    16.46                       1   \n",
                            "3               6049                    25.35                       1   \n",
                            "4             210489                    45.66                       1   \n",
                            "\n",
                            "     userType  Unnamed: 0.1  Unnamed: 0_y  ...  \\\n",
                            "0  Non-Logged        193275        193275  ...   \n",
                            "1  Non-Logged        158881        158881  ...   \n",
                            "2  Non-Logged        203270        203270  ...   \n",
                            "3  Non-Logged        236644        236644  ...   \n",
                            "4  Non-Logged        186368        186368  ...   \n",
                            "\n",
                            "                                       cleaned_title  \\\n",
                            "0  viu musa estradas vídeo pé primo salvou crianç...   \n",
                            "1  proibida entrar maré esposa chefe tráfico desc...   \n",
                            "2  caminhoneira musa estradas mostra rosto aciden...   \n",
                            "3  agosto lilás itapetininga promove palestras co...   \n",
                            "4  designer sobrancelhas viraliza web pegadinha c...   \n",
                            "\n",
                            "                                     cleaned_caption  \\\n",
                            "0  caminhoneira aline füchter ficou pé frente câm...   \n",
                            "1  luana rabello polícia famosa baile disney comp...   \n",
                            "2  aline füchter chegou tubarão mora sul catarine...   \n",
                            "3  prefeitura durante agosto palestras serão real...   \n",
                            "4  vídeo publicado geizielle ferreira mendes mora...   \n",
                            "\n",
                            "                                       combined_text  \\\n",
                            "0  viu musa estradas vídeo pé primo salvou crianç...   \n",
                            "1  proibida entrar maré esposa chefe tráfico desc...   \n",
                            "2  caminhoneira musa estradas mostra rosto aciden...   \n",
                            "3  agosto lilás itapetininga promove palestras co...   \n",
                            "4  designer sobrancelhas viraliza web pegadinha c...   \n",
                            "\n",
                            "                                        cleaned_body cluster word_count  \\\n",
                            "0  caminhoneira aline füchter pé casa reprodução ...       0        384   \n",
                            "1  polícia civil rio prende apontada amante chefe...       2        844   \n",
                            "2  caminhoneira musa estradas mostra rosto aciden...       2       1006   \n",
                            "3  itapetininga promove palestras conscientização...       0        198   \n",
                            "4  designer sobrancelhas viraliza web pegadinha c...       0        389   \n",
                            "\n",
                            "                        data idade_em_dias      peso peso_ajustado  \n",
                            "0  2022-03-19 21:03:21+00:00           148  0.007202      0.106482  \n",
                            "1  2021-11-01 03:01:20+00:00           286  0.000072      0.100065  \n",
                            "2  2022-02-01 18:33:21+00:00           194  0.001554      0.101399  \n",
                            "3  2022-08-14 20:17:10+00:00             0  1.000000      1.000000  \n",
                            "4  2022-08-14 11:39:11+00:00             0  1.000000      1.000000  \n",
                            "\n",
                            "[5 rows x 27 columns]"
                        ]
                    },
                    "execution_count": 11,
                    "metadata": {},
                    "output_type": "execute_result"
                }
            ],
            "source": [
                "df_merged.head()"
            ]
        },
        {
            "cell_type": "code",
            "execution_count": 12,
            "metadata": {},
            "outputs": [],
            "source": [
                "df_merged = df_merged[[\"userId\",\"history\",\"numberOfClicksHistory\",\"userType\",\"peso_ajustado\"]]"
            ]
        },
        {
            "cell_type": "code",
            "execution_count": 13,
            "metadata": {},
            "outputs": [
                {
                    "data": {
                        "text/html": [
                            "<div>\n",
                            "<style scoped>\n",
                            "    .dataframe tbody tr th:only-of-type {\n",
                            "        vertical-align: middle;\n",
                            "    }\n",
                            "\n",
                            "    .dataframe tbody tr th {\n",
                            "        vertical-align: top;\n",
                            "    }\n",
                            "\n",
                            "    .dataframe thead th {\n",
                            "        text-align: right;\n",
                            "    }\n",
                            "</style>\n",
                            "<table border=\"1\" class=\"dataframe\">\n",
                            "  <thead>\n",
                            "    <tr style=\"text-align: right;\">\n",
                            "      <th></th>\n",
                            "      <th>userId</th>\n",
                            "      <th>history</th>\n",
                            "      <th>numberOfClicksHistory</th>\n",
                            "      <th>userType</th>\n",
                            "      <th>peso_ajustado</th>\n",
                            "    </tr>\n",
                            "  </thead>\n",
                            "  <tbody>\n",
                            "    <tr>\n",
                            "      <th>0</th>\n",
                            "      <td>f98d1132f60d46883ce49583257104d15ce723b3bbda21...</td>\n",
                            "      <td>c8aab885-433d-4e46-8066-479f40ba7fb2</td>\n",
                            "      <td>76</td>\n",
                            "      <td>Non-Logged</td>\n",
                            "      <td>0.106482</td>\n",
                            "    </tr>\n",
                            "    <tr>\n",
                            "      <th>1</th>\n",
                            "      <td>f98d1132f60d46883ce49583257104d15ce723b3bbda21...</td>\n",
                            "      <td>68d2039c-c9aa-456c-ac33-9b2e8677fba7</td>\n",
                            "      <td>38</td>\n",
                            "      <td>Non-Logged</td>\n",
                            "      <td>0.100065</td>\n",
                            "    </tr>\n",
                            "    <tr>\n",
                            "      <th>2</th>\n",
                            "      <td>f98d1132f60d46883ce49583257104d15ce723b3bbda21...</td>\n",
                            "      <td>13e423ce-1d69-4c78-bc18-e8c8f7271964</td>\n",
                            "      <td>41</td>\n",
                            "      <td>Non-Logged</td>\n",
                            "      <td>0.101399</td>\n",
                            "    </tr>\n",
                            "    <tr>\n",
                            "      <th>3</th>\n",
                            "      <td>2c1080975e257ed630e26679edbe4d5c850c65f3e09f65...</td>\n",
                            "      <td>3325b5a1-979a-4cb3-82b6-63905c9edbe8</td>\n",
                            "      <td>7</td>\n",
                            "      <td>Non-Logged</td>\n",
                            "      <td>1.000000</td>\n",
                            "    </tr>\n",
                            "    <tr>\n",
                            "      <th>4</th>\n",
                            "      <td>2c1080975e257ed630e26679edbe4d5c850c65f3e09f65...</td>\n",
                            "      <td>fe856057-f97d-419f-ab1c-97c5c3e0719c</td>\n",
                            "      <td>80</td>\n",
                            "      <td>Non-Logged</td>\n",
                            "      <td>1.000000</td>\n",
                            "    </tr>\n",
                            "  </tbody>\n",
                            "</table>\n",
                            "</div>"
                        ],
                        "text/plain": [
                            "                                              userId  \\\n",
                            "0  f98d1132f60d46883ce49583257104d15ce723b3bbda21...   \n",
                            "1  f98d1132f60d46883ce49583257104d15ce723b3bbda21...   \n",
                            "2  f98d1132f60d46883ce49583257104d15ce723b3bbda21...   \n",
                            "3  2c1080975e257ed630e26679edbe4d5c850c65f3e09f65...   \n",
                            "4  2c1080975e257ed630e26679edbe4d5c850c65f3e09f65...   \n",
                            "\n",
                            "                                history  numberOfClicksHistory    userType  \\\n",
                            "0  c8aab885-433d-4e46-8066-479f40ba7fb2                     76  Non-Logged   \n",
                            "1  68d2039c-c9aa-456c-ac33-9b2e8677fba7                     38  Non-Logged   \n",
                            "2  13e423ce-1d69-4c78-bc18-e8c8f7271964                     41  Non-Logged   \n",
                            "3  3325b5a1-979a-4cb3-82b6-63905c9edbe8                      7  Non-Logged   \n",
                            "4  fe856057-f97d-419f-ab1c-97c5c3e0719c                     80  Non-Logged   \n",
                            "\n",
                            "   peso_ajustado  \n",
                            "0       0.106482  \n",
                            "1       0.100065  \n",
                            "2       0.101399  \n",
                            "3       1.000000  \n",
                            "4       1.000000  "
                        ]
                    },
                    "execution_count": 13,
                    "metadata": {},
                    "output_type": "execute_result"
                }
            ],
            "source": [
                "df_merged.head()"
            ]
        },
        {
            "cell_type": "markdown",
            "metadata": {},
            "source": [
                "### Prepare data"
            ]
        },
        {
            "cell_type": "markdown",
            "metadata": {},
            "source": [
                "Before fitting the LightFM model, we need to create an instance of `Dataset` which holds the interaction matrix."
            ]
        },
        {
            "cell_type": "code",
            "execution_count": 15,
            "metadata": {},
            "outputs": [],
            "source": [
                "dataset = Dataset()\n",
                "\n",
                "# Get unique values for users, items, and user features\n",
                "unique_users = df_merged[\"userId\"].unique()\n",
                "unique_items = df_merged[\"history\"].unique()\n",
                "unique_user_features = df_merged[\"userType\"].unique().tolist() \n",
                "\n",
                "# Fit dataset with users, items, and user feature names\n",
                "dataset.fit(\n",
                "    users=unique_users,\n",
                "    items=unique_items,\n",
                "    user_features=unique_user_features  # Register user features\n",
                ")\n"
            ]
        },
        {
            "cell_type": "code",
            "execution_count": 16,
            "metadata": {},
            "outputs": [],
            "source": [
                "(interactions, weights) = dataset.build_interactions([\n",
                "    (row.userId, row.history, row.peso_ajustado) \n",
                "    for _, row in df_merged.iterrows()\n",
                "])\n"
            ]
        },
        {
            "cell_type": "code",
            "execution_count": 17,
            "metadata": {},
            "outputs": [],
            "source": [
                "user_features_list = [\n",
                "    (row.userId, [row.userType])  \n",
                "    for _, row in df_merged.iterrows()\n",
                "]\n",
                "\n",
                "user_features = dataset.build_user_features(user_features_list)\n"
            ]
        },
        {
            "cell_type": "markdown",
            "metadata": {},
            "source": [
                "LightLM works slightly differently compared to other packages as it expects the train and test sets to have same dimension. Therefore the conventional train test split will not work.\n",
                "\n",
                "The package has included the `cross_validation.random_train_test_split` method to split the interaction data and splits it into two disjoint training and test sets. \n",
                "\n",
                "However, note that **it does not validate the interactions in the test set to guarantee all items and users have historical interactions in the training set**. Therefore this may result into a partial cold-start problem in the test set."
            ]
        },
        {
            "cell_type": "code",
            "execution_count": 18,
            "metadata": {},
            "outputs": [],
            "source": [
                "# Split train and test sets (80/20 split)\n",
                "train, test = cross_validation.random_train_test_split(interactions, test_percentage=0.2, random_state=SEED)\n",
                "train_weights, test_weights  = cross_validation.random_train_test_split(weights, test_percentage=0.2, random_state=SEED)\n"
            ]
        },
        {
            "cell_type": "markdown",
            "metadata": {},
            "source": [
                "Double check the size of both the train and test sets."
            ]
        },
        {
            "cell_type": "code",
            "execution_count": 19,
            "metadata": {},
            "outputs": [
                {
                    "name": "stdout",
                    "output_type": "stream",
                    "text": [
                        "Shape of train interactions: (100000, 108573)\n",
                        "Shape of test interactions: (100000, 108573)\n"
                    ]
                }
            ],
            "source": [
                "print(f\"Shape of train interactions: {train.shape}\")\n",
                "print(f\"Shape of test interactions: {test.shape}\")"
            ]
        },
        {
            "cell_type": "markdown",
            "metadata": {},
            "source": [
                "### Fit the LightFM model"
            ]
        },
        {
            "cell_type": "markdown",
            "metadata": {},
            "source": [
                "In this notebook, the LightFM model will be using the weighted Approximate-Rank Pairwise (WARP) as the loss. Further explanation on the topic can be found [here](https://making.lyst.com/lightfm/docs/examples/warp_loss.html#learning-to-rank-using-the-warp-loss).\n",
                "\n",
                "\n",
                "In general, it maximises the rank of positive examples by repeatedly sampling negative examples until a rank violation has been located. This approach is recommended when only positive interactions are present."
            ]
        },
        {
            "cell_type": "markdown",
            "metadata": {},
            "source": [
                "The LightFM model can be fitted with the following code:"
            ]
        },
        {
            "cell_type": "code",
            "execution_count": 20,
            "metadata": {
                "scrolled": true
            },
            "outputs": [
                {
                    "data": {
                        "text/plain": [
                            "<lightfm.lightfm.LightFM at 0x75919f187d30>"
                        ]
                    },
                    "execution_count": 20,
                    "metadata": {},
                    "output_type": "execute_result"
                }
            ],
            "source": [
                "model = LightFM(loss=\"warp\",learning_rate=LEARNING_RATE,random_state=np.random.RandomState(SEED))  # Weighted Approximate-Rank Pairwise (WARP) loss\n",
                "model.fit(train, sample_weight=train_weights, epochs=NO_EPOCHS, num_threads=4, user_features=user_features)\n"
            ]
        },
        {
            "cell_type": "markdown",
            "metadata": {},
            "source": [
                "### Evaluate model"
            ]
        },
        {
            "cell_type": "code",
            "execution_count": 21,
            "metadata": {},
            "outputs": [
                {
                    "name": "stdout",
                    "output_type": "stream",
                    "text": [
                        "AUC test Score: 0.7865\n",
                        "AUC train Score: 0.9370\n"
                    ]
                }
            ],
            "source": [
                "# Import the evaluation routines\n",
                "from lightfm.evaluation import auc_score\n",
                "\n",
                "# Compute evaluation metrics\n",
                "auc_test = auc_score(model, test, user_features=user_features).mean()\n",
                "auc_train = auc_score(model, train, user_features=user_features).mean()\n",
                "\n",
                "# Print evaluation results\n",
                "print(f\"AUC test Score: {auc_test:.4f}\")\n",
                "print(f\"AUC train Score: {auc_train:.4f}\")\n"
            ]
        },
        {
            "cell_type": "markdown",
            "metadata": {},
            "source": [
                "### Save pkls to serve model"
            ]
        },
        {
            "cell_type": "code",
            "execution_count": 22,
            "metadata": {},
            "outputs": [],
            "source": [
                "user_id_map, user_feature_map, item_id_map, item_feature_map = dataset.mapping()"
            ]
        },
        {
            "cell_type": "code",
            "execution_count": 23,
            "metadata": {},
            "outputs": [],
            "source": [
                "item_id_map_reverse = {v: k for k, v in item_id_map.items()}"
            ]
        },
        {
            "cell_type": "code",
            "execution_count": 24,
            "metadata": {},
            "outputs": [],
            "source": [
                "import pickle\n",
                "\n",
                "pickle.dump(model, open('artifacts/lightfm_model.pkl', 'wb'))\n",
                "pickle.dump(user_id_map, open('artifacts/user_id_map.pkl', 'wb'))\n",
                "pickle.dump(item_id_map_reverse, open('artifacts/item_id_map_reverse.pkl', 'wb'))\n",
                "pickle.dump(user_feature_map, open('artifacts/user_feature_map.pkl', 'wb'))"
            ]
        },
        {
            "cell_type": "code",
            "execution_count": 25,
            "metadata": {},
            "outputs": [],
            "source": [
                "loaded_model = pickle.load(open('artifacts/lightfm_model.pkl', 'rb'))\n",
                "loaded_user_id_map = pickle.load(open('artifacts/user_id_map.pkl', 'rb'))\n",
                "loaded_item_id_map_reverse = pickle.load(open('artifacts/item_id_map_reverse.pkl', 'rb'))\n",
                "loaded_user_feature_map = pickle.load(open('artifacts/user_feature_map.pkl', 'rb'))"
            ]
        },
        {
            "cell_type": "markdown",
            "metadata": {},
            "source": [
                "### Make predictions to known and unknowm on same recommendation function with pkls"
            ]
        },
        {
            "cell_type": "code",
            "execution_count": 26,
            "metadata": {},
            "outputs": [
                {
                    "data": {
                        "text/plain": [
                            "108573"
                        ]
                    },
                    "execution_count": 26,
                    "metadata": {},
                    "output_type": "execute_result"
                }
            ],
            "source": [
                "\n",
                "_, n_items = interactions.shape # no of users * no of items\n",
                "\n",
                "n_items"
            ]
        },
        {
            "cell_type": "code",
            "execution_count": 27,
            "metadata": {},
            "outputs": [],
            "source": [
                "def format_newuser_input(user_feature_map, user_feature_list):\n",
                "  normalised_val = 1.0 \n",
                "  target_indices = []\n",
                "  for feature in user_feature_list:\n",
                "    try:\n",
                "        target_indices.append(user_feature_map[feature])\n",
                "    except KeyError:\n",
                "        print(\"new user feature encountered '{}'\".format(feature))\n",
                "        pass\n",
                "  #print(\"target indices: {}\".format(target_indices))\n",
                "  new_user_features = np.zeros(len(user_feature_map.keys()))\n",
                "  for i in target_indices:\n",
                "    new_user_features[i] = normalised_val\n",
                "  new_user_features = sparse.csr_matrix(new_user_features)\n",
                "  return(new_user_features)"
            ]
        },
        {
            "cell_type": "code",
            "execution_count": 28,
            "metadata": {},
            "outputs": [],
            "source": [
                "def sample_recommendation(user_hash,df_news,user_feature_list,item_id_map_reverse,user_feature_map,user_id_map,model):\n",
                "    try:\n",
                "        user_x = user_id_map[user_hash]\n",
                "        scores = model.predict(user_x, np.arange(108573)) # means predict for all\n",
                "    except:\n",
                "        new_user_features = format_newuser_input(user_feature_map, user_feature_list)\n",
                "        scores = model.predict(0, np.arange(108573), user_features=new_user_features)\n",
                "    \n",
                "    top_5_indices = np.argsort(-scores)[:5]  # Sort scores in descending order and take the top 5\n",
                "    top_5_items = [item_id_map_reverse[i] for i in top_5_indices]\n",
                "\n",
                "    print(\"Top 5 recommended items:\")\n",
                "\n",
                "    for x in top_5_items:\n",
                "        row = df_news[df_news[\"page\"] == x]\n",
                "        print(\"        %s\" % row[\"title\"].values[0])\n"
            ]
        },
        {
            "cell_type": "code",
            "execution_count": 29,
            "metadata": {},
            "outputs": [
                {
                    "name": "stdout",
                    "output_type": "stream",
                    "text": [
                        "Top 5 recommended items:\n",
                        "        De Pombagira, Paolla Oliveira investe em look ousado para desfilar como rainha de bateria da Grande Rio\n",
                        "        Auxílio caminhoneiro: não recebeu as duas primeiras parcelas do benefício? Veja como fazer a autodeclaração\n",
                        "        Motorista é preso após ser flagrado com uma tonelada de maconha em rodovia do interior de SP\n",
                        "        Por que os bebês suam tanto na cabeça?\n",
                        "        Novo trecho da Avenida Mozart Pinheiro de Lucena, em Fortaleza, é bloqueado para obras; veja desvios\n"
                    ]
                }
            ],
            "source": [
                "# predict for known user\n",
                "user_feature_list = ['userType:Logged']\n",
                "user_hash = '5f5e17781fc2ec0ddcfb2e9356e61c5d3d4b0b3c8fabd20917feb9e807463856'\n",
                "sample_recommendation(user_hash,df_news,user_feature_list,loaded_item_id_map_reverse,loaded_user_feature_map,loaded_user_id_map,loaded_model)"
            ]
        },
        {
            "cell_type": "code",
            "execution_count": 30,
            "metadata": {},
            "outputs": [
                {
                    "name": "stdout",
                    "output_type": "stream",
                    "text": [
                        "new user feature encountered 'userType:Non-Logged'\n",
                        "Top 5 recommended items:\n",
                        "        Jô Soares, ícone do humor e da TV, morre em São Paulo aos 84 anos\n",
                        "        Campeão mundial de jiu-jítsu, Leandro Lo é baleado na cabeça durante show em clube da Zona Sul de SP\n",
                        "        Menina de 10 anos que estava desaparecida após ir a padaria na Grande BH é encontrada morta\n",
                        "        PM preso por matar lutador Leandro Lo em show em SP já foi condenado na Justiça Militar por agredir policiais em boate em 2017\n",
                        "        WhatsApp vai deixar você esconder que está 'online'; veja como fazer\n"
                    ]
                }
            ],
            "source": [
                "# predict for unknown user\n",
                "user_feature_list = ['userType:Non-Logged']\n",
                "user_hash = ''\n",
                "sample_recommendation(user_hash,df_news,user_feature_list,loaded_item_id_map_reverse,loaded_user_feature_map,loaded_user_id_map,loaded_model)"
            ]
        }
    ],
    "metadata": {
        "kernelspec": {
            "display_name": "Python 3",
            "language": "python",
            "name": "python3"
        },
        "language_info": {
            "codemirror_mode": {
                "name": "ipython",
                "version": 3
            },
            "file_extension": ".py",
            "mimetype": "text/x-python",
            "name": "python",
            "nbconvert_exporter": "python",
            "pygments_lexer": "ipython3",
            "version": "3.10.12"
        }
    },
    "nbformat": 4,
    "nbformat_minor": 4
}
