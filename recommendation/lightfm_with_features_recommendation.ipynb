{
    "cells": [
        {
            "cell_type": "markdown",
            "metadata": {},
            "source": [
                "### 2.1 Import libraries"
            ]
        },
        {
            "cell_type": "code",
            "execution_count": 2,
            "metadata": {},
            "outputs": [],
            "source": [
                "import os\n",
                "import sys\n",
                "import itertools\n",
                "import pandas as pd\n",
                "import numpy as np\n",
                "import matplotlib.pyplot as plt\n",
                "import seaborn as sns\n",
                "\n",
                "import scipy\n",
                "import numpy as np\n",
                "import pandas as pd\n",
                "from lightfm import LightFM\n",
                "from lightfm.data import Dataset\n",
                "from lightfm.evaluation import precision_at_k, recall_at_k\n",
                "from lightfm.cross_validation import random_train_test_split\n",
                "from sklearn.metrics.pairwise import cosine_similarity\n",
                "from sklearn.feature_extraction.text import CountVectorizer\n",
                "from lightfm import cross_validation"
            ]
        },
        {
            "cell_type": "markdown",
            "metadata": {},
            "source": [
                "### 2.2 Defining variables"
            ]
        },
        {
            "cell_type": "code",
            "execution_count": 3,
            "metadata": {
                "tags": [
                    "parameters"
                ]
            },
            "outputs": [],
            "source": [
                "# Select MovieLens data size\n",
                "MOVIELENS_DATA_SIZE = '100k'\n",
                "\n",
                "# default number of recommendations\n",
                "K = 10\n",
                "# percentage of data used for testing\n",
                "TEST_PERCENTAGE = 0.25\n",
                "# model learning rate\n",
                "LEARNING_RATE = 0.25\n",
                "# no of latent factors\n",
                "NO_COMPONENTS = 20\n",
                "# no of epochs to fit model\n",
                "NO_EPOCHS = 20\n",
                "# no of threads to fit model\n",
                "NO_THREADS = 32\n",
                "# regularisation for both user and item features\n",
                "ITEM_ALPHA = 1e-6\n",
                "USER_ALPHA = 1e-6\n",
                "\n",
                "# seed for pseudonumber generations\n",
                "SEED = 42"
            ]
        },
        {
            "cell_type": "markdown",
            "metadata": {},
            "source": [
                "### 2.2 Retrieve data"
            ]
        },
        {
            "cell_type": "code",
            "execution_count": 4,
            "metadata": {},
            "outputs": [],
            "source": [
                "import pandas as pd\n",
                "# path config\n",
                "data_path = '/home/raiane/Documentos/Projetos/tech_challenge_5/data/training_data_v2.csv'\n",
                "df_ratings = pd.read_csv(\n",
                "    data_path)"
            ]
        },
        {
            "cell_type": "code",
            "execution_count": 5,
            "metadata": {},
            "outputs": [
                {
                    "name": "stdout",
                    "output_type": "stream",
                    "text": [
                        "<class 'pandas.core.frame.DataFrame'>\n",
                        "RangeIndex: 1426291 entries, 0 to 1426290\n",
                        "Data columns (total 7 columns):\n",
                        " #   Column                   Non-Null Count    Dtype  \n",
                        "---  ------                   --------------    -----  \n",
                        " 0   Unnamed: 0               1426291 non-null  int64  \n",
                        " 1   userId                   1426291 non-null  object \n",
                        " 2   history                  1426291 non-null  object \n",
                        " 3   numberOfClicksHistory    1426291 non-null  int64  \n",
                        " 4   timeOnPageHistory        1426291 non-null  int64  \n",
                        " 5   scrollPercentageHistory  1426291 non-null  float64\n",
                        " 6   pageVisitsCountHistory   1426291 non-null  int64  \n",
                        "dtypes: float64(1), int64(4), object(2)\n",
                        "memory usage: 76.2+ MB\n"
                    ]
                }
            ],
            "source": [
                "df_ratings.info()"
            ]
        },
        {
            "cell_type": "code",
            "execution_count": 6,
            "metadata": {},
            "outputs": [],
            "source": [
                "#considerando apenas noticias com mais de 30 cliques\n",
                "clicks_counts = pd.DataFrame(df_ratings[\"history\"].value_counts())\n",
                "rare_news = clicks_counts[df_ratings[\"history\"].value_counts() <= 500].index\n",
                "common_news = df_ratings[~df_ratings[\"history\"].isin(rare_news)]"
            ]
        },
        {
            "cell_type": "code",
            "execution_count": 8,
            "metadata": {},
            "outputs": [
                {
                    "data": {
                        "text/html": [
                            "<div>\n",
                            "<style scoped>\n",
                            "    .dataframe tbody tr th:only-of-type {\n",
                            "        vertical-align: middle;\n",
                            "    }\n",
                            "\n",
                            "    .dataframe tbody tr th {\n",
                            "        vertical-align: top;\n",
                            "    }\n",
                            "\n",
                            "    .dataframe thead th {\n",
                            "        text-align: right;\n",
                            "    }\n",
                            "</style>\n",
                            "<table border=\"1\" class=\"dataframe\">\n",
                            "  <thead>\n",
                            "    <tr style=\"text-align: right;\">\n",
                            "      <th></th>\n",
                            "      <th>Unnamed: 0</th>\n",
                            "      <th>userId</th>\n",
                            "      <th>history</th>\n",
                            "      <th>numberOfClicksHistory</th>\n",
                            "      <th>timeOnPageHistory</th>\n",
                            "      <th>scrollPercentageHistory</th>\n",
                            "      <th>pageVisitsCountHistory</th>\n",
                            "    </tr>\n",
                            "  </thead>\n",
                            "  <tbody>\n",
                            "    <tr>\n",
                            "      <th>4</th>\n",
                            "      <td>1</td>\n",
                            "      <td>2c1080975e257ed630e26679edbe4d5c850c65f3e09f65...</td>\n",
                            "      <td>fe856057-f97d-419f-ab1c-97c5c3e0719c</td>\n",
                            "      <td>80</td>\n",
                            "      <td>210489</td>\n",
                            "      <td>45.66</td>\n",
                            "      <td>1</td>\n",
                            "    </tr>\n",
                            "    <tr>\n",
                            "      <th>33</th>\n",
                            "      <td>1</td>\n",
                            "      <td>2c1080975e257ed630e26679edbe4d5c850c65f3e09f65...</td>\n",
                            "      <td>e3cdb277-ad80-4025-b5de-cd98cc67d23d</td>\n",
                            "      <td>16</td>\n",
                            "      <td>59188</td>\n",
                            "      <td>42.53</td>\n",
                            "      <td>1</td>\n",
                            "    </tr>\n",
                            "    <tr>\n",
                            "      <th>64</th>\n",
                            "      <td>2</td>\n",
                            "      <td>0adffd7450d3b9840d8c6215f0569ad942e782fb19b805...</td>\n",
                            "      <td>29b6b142-4173-4ec4-832f-7d0a32255c10</td>\n",
                            "      <td>0</td>\n",
                            "      <td>140000</td>\n",
                            "      <td>47.22</td>\n",
                            "      <td>1</td>\n",
                            "    </tr>\n",
                            "    <tr>\n",
                            "      <th>66</th>\n",
                            "      <td>2</td>\n",
                            "      <td>0adffd7450d3b9840d8c6215f0569ad942e782fb19b805...</td>\n",
                            "      <td>1f32787b-de2b-49be-8c20-ddaeae34cc22</td>\n",
                            "      <td>0</td>\n",
                            "      <td>157018</td>\n",
                            "      <td>63.09</td>\n",
                            "      <td>1</td>\n",
                            "    </tr>\n",
                            "    <tr>\n",
                            "      <th>71</th>\n",
                            "      <td>2</td>\n",
                            "      <td>0adffd7450d3b9840d8c6215f0569ad942e782fb19b805...</td>\n",
                            "      <td>a36c98b5-f159-48f8-9f5a-1fc6ea9956c8</td>\n",
                            "      <td>2</td>\n",
                            "      <td>166793</td>\n",
                            "      <td>44.52</td>\n",
                            "      <td>2</td>\n",
                            "    </tr>\n",
                            "  </tbody>\n",
                            "</table>\n",
                            "</div>"
                        ],
                        "text/plain": [
                            "    Unnamed: 0                                             userId  \\\n",
                            "4            1  2c1080975e257ed630e26679edbe4d5c850c65f3e09f65...   \n",
                            "33           1  2c1080975e257ed630e26679edbe4d5c850c65f3e09f65...   \n",
                            "64           2  0adffd7450d3b9840d8c6215f0569ad942e782fb19b805...   \n",
                            "66           2  0adffd7450d3b9840d8c6215f0569ad942e782fb19b805...   \n",
                            "71           2  0adffd7450d3b9840d8c6215f0569ad942e782fb19b805...   \n",
                            "\n",
                            "                                 history  numberOfClicksHistory  \\\n",
                            "4   fe856057-f97d-419f-ab1c-97c5c3e0719c                     80   \n",
                            "33  e3cdb277-ad80-4025-b5de-cd98cc67d23d                     16   \n",
                            "64  29b6b142-4173-4ec4-832f-7d0a32255c10                      0   \n",
                            "66  1f32787b-de2b-49be-8c20-ddaeae34cc22                      0   \n",
                            "71  a36c98b5-f159-48f8-9f5a-1fc6ea9956c8                      2   \n",
                            "\n",
                            "    timeOnPageHistory  scrollPercentageHistory  pageVisitsCountHistory  \n",
                            "4              210489                    45.66                       1  \n",
                            "33              59188                    42.53                       1  \n",
                            "64             140000                    47.22                       1  \n",
                            "66             157018                    63.09                       1  \n",
                            "71             166793                    44.52                       2  "
                        ]
                    },
                    "execution_count": 8,
                    "metadata": {},
                    "output_type": "execute_result"
                }
            ],
            "source": [
                "common_news.head()"
            ]
        },
        {
            "cell_type": "code",
            "execution_count": 9,
            "metadata": {},
            "outputs": [],
            "source": [
                "df_news = pd.read_csv(\"../data/noticias_final.csv\")"
            ]
        },
        {
            "cell_type": "code",
            "execution_count": 10,
            "metadata": {},
            "outputs": [
                {
                    "data": {
                        "text/html": [
                            "<div>\n",
                            "<style scoped>\n",
                            "    .dataframe tbody tr th:only-of-type {\n",
                            "        vertical-align: middle;\n",
                            "    }\n",
                            "\n",
                            "    .dataframe tbody tr th {\n",
                            "        vertical-align: top;\n",
                            "    }\n",
                            "\n",
                            "    .dataframe thead th {\n",
                            "        text-align: right;\n",
                            "    }\n",
                            "</style>\n",
                            "<table border=\"1\" class=\"dataframe\">\n",
                            "  <thead>\n",
                            "    <tr style=\"text-align: right;\">\n",
                            "      <th></th>\n",
                            "      <th>Unnamed: 0.1</th>\n",
                            "      <th>Unnamed: 0</th>\n",
                            "      <th>page</th>\n",
                            "      <th>url</th>\n",
                            "      <th>issued</th>\n",
                            "      <th>modified</th>\n",
                            "      <th>title</th>\n",
                            "      <th>body</th>\n",
                            "      <th>caption</th>\n",
                            "      <th>cleaned_title</th>\n",
                            "      <th>cleaned_caption</th>\n",
                            "      <th>combined_text</th>\n",
                            "      <th>cleaned_body</th>\n",
                            "      <th>cluster</th>\n",
                            "      <th>word_count</th>\n",
                            "      <th>data</th>\n",
                            "      <th>idade_em_dias</th>\n",
                            "      <th>peso</th>\n",
                            "      <th>peso_ajustado</th>\n",
                            "    </tr>\n",
                            "  </thead>\n",
                            "  <tbody>\n",
                            "    <tr>\n",
                            "      <th>0</th>\n",
                            "      <td>0</td>\n",
                            "      <td>0</td>\n",
                            "      <td>13db0ab1-eea2-4603-84c4-f40a876c7400</td>\n",
                            "      <td>http://g1.globo.com/am/amazonas/noticia/2022/0...</td>\n",
                            "      <td>2022-06-18 20:37:45+00:00</td>\n",
                            "      <td>2023-04-15 00:02:08+00:00</td>\n",
                            "      <td>Caso Bruno e Dom: 3º suspeito tem prisão tempo...</td>\n",
                            "      <td>Após audiência de custódia, a Justiça do Amazo...</td>\n",
                            "      <td>Jeferson da Silva Lima foi escoltado por agent...</td>\n",
                            "      <td>caso bruno dom suspeito prisão temporária decr...</td>\n",
                            "      <td>jeferson silva lima escoltado agentes polícia ...</td>\n",
                            "      <td>caso bruno dom suspeito prisão temporária decr...</td>\n",
                            "      <td>audiência custódia justiça amazonas decretou s...</td>\n",
                            "      <td>2</td>\n",
                            "      <td>704</td>\n",
                            "      <td>2022-06-18 20:37:45+00:00</td>\n",
                            "      <td>57</td>\n",
                            "      <td>1.495686e-01</td>\n",
                            "      <td>0.234612</td>\n",
                            "    </tr>\n",
                            "    <tr>\n",
                            "      <th>1</th>\n",
                            "      <td>1</td>\n",
                            "      <td>1</td>\n",
                            "      <td>92907b73-5cd3-4184-8d8c-e206aed2bf1c</td>\n",
                            "      <td>http://g1.globo.com/pa/santarem-regiao/noticia...</td>\n",
                            "      <td>2019-06-20 17:19:52+00:00</td>\n",
                            "      <td>2023-06-16 20:19:15+00:00</td>\n",
                            "      <td>Linguajar dos santarenos é diferenciado e chei...</td>\n",
                            "      <td>Vista aérea de Santarém\\nÁdrio Denner/ AD Prod...</td>\n",
                            "      <td>As expressões santarenas não significam apenas...</td>\n",
                            "      <td>linguajar santarenos diferenciado cheio identi...</td>\n",
                            "      <td>expressões santarenas significam significam co...</td>\n",
                            "      <td>linguajar santarenos diferenciado cheio identi...</td>\n",
                            "      <td>vista aérea santarém ádrio ad produções paraen...</td>\n",
                            "      <td>0</td>\n",
                            "      <td>728</td>\n",
                            "      <td>2019-06-20 17:19:52+00:00</td>\n",
                            "      <td>1151</td>\n",
                            "      <td>2.175547e-17</td>\n",
                            "      <td>0.100000</td>\n",
                            "    </tr>\n",
                            "    <tr>\n",
                            "      <th>2</th>\n",
                            "      <td>2</td>\n",
                            "      <td>2</td>\n",
                            "      <td>61e07f64-cddf-46f2-b50c-ea0a39c22050</td>\n",
                            "      <td>http://g1.globo.com/mundo/noticia/2022/07/08/e...</td>\n",
                            "      <td>2022-07-08 08:55:52+00:00</td>\n",
                            "      <td>2023-04-15 04:25:39+00:00</td>\n",
                            "      <td>Ex-premiê Shinzo Abe morre após ser baleado no...</td>\n",
                            "      <td>Novo vídeo mostra que assassino de Shinzo Abe ...</td>\n",
                            "      <td>Ex-primeiro-ministro foi atingido por tiros de...</td>\n",
                            "      <td>shinzo abe morre baleado japão</td>\n",
                            "      <td>atingido tiros espingarda caseira discursava c...</td>\n",
                            "      <td>shinzo abe morre baleado japão atingido tiros ...</td>\n",
                            "      <td>vídeo mostra assassino shinzo abe atirou costa...</td>\n",
                            "      <td>2</td>\n",
                            "      <td>1315</td>\n",
                            "      <td>2022-07-08 08:55:52+00:00</td>\n",
                            "      <td>37</td>\n",
                            "      <td>2.913199e-01</td>\n",
                            "      <td>0.362188</td>\n",
                            "    </tr>\n",
                            "    <tr>\n",
                            "      <th>3</th>\n",
                            "      <td>3</td>\n",
                            "      <td>3</td>\n",
                            "      <td>30e2e6c5-554a-48ed-a35f-6c6691c8ac9b</td>\n",
                            "      <td>http://g1.globo.com/politica/noticia/2021/09/0...</td>\n",
                            "      <td>2021-09-09 19:06:46+00:00</td>\n",
                            "      <td>2023-06-07 17:44:54+00:00</td>\n",
                            "      <td>Relator no STF, Fachin vota contra marco tempo...</td>\n",
                            "      <td>Relator no STF, Fachin vota contra marco tempo...</td>\n",
                            "      <td>Ministro defendeu que posse indígena é diferen...</td>\n",
                            "      <td>relator stf fachin vota marco temporal demarca...</td>\n",
                            "      <td>ministro defendeu posse indígena diferente pos...</td>\n",
                            "      <td>relator stf fachin vota marco temporal demarca...</td>\n",
                            "      <td>relator stf fachin vota marco temporal demarca...</td>\n",
                            "      <td>0</td>\n",
                            "      <td>611</td>\n",
                            "      <td>2021-09-09 19:06:46+00:00</td>\n",
                            "      <td>339</td>\n",
                            "      <td>1.237292e-05</td>\n",
                            "      <td>0.100011</td>\n",
                            "    </tr>\n",
                            "    <tr>\n",
                            "      <th>4</th>\n",
                            "      <td>4</td>\n",
                            "      <td>4</td>\n",
                            "      <td>9dff71eb-b681-40c7-ac8d-68017ac36675</td>\n",
                            "      <td>http://g1.globo.com/politica/noticia/2021/09/1...</td>\n",
                            "      <td>2021-09-15 19:16:13+00:00</td>\n",
                            "      <td>2023-06-07 17:43:39+00:00</td>\n",
                            "      <td>\\nApós 2 votos, pedido de vista suspende julga...</td>\n",
                            "      <td>Após um pedido de vista (mais tempo para análi...</td>\n",
                            "      <td>Pelo marco temporal, índios só podem reivindic...</td>\n",
                            "      <td>votos pedido vista suspende julgamento stf dem...</td>\n",
                            "      <td>marco temporal índios reivindicar demarcação t...</td>\n",
                            "      <td>votos pedido vista suspende julgamento stf dem...</td>\n",
                            "      <td>pedido vista análise processo ministro alexand...</td>\n",
                            "      <td>0</td>\n",
                            "      <td>506</td>\n",
                            "      <td>2021-09-15 19:16:13+00:00</td>\n",
                            "      <td>333</td>\n",
                            "      <td>1.511232e-05</td>\n",
                            "      <td>0.100014</td>\n",
                            "    </tr>\n",
                            "  </tbody>\n",
                            "</table>\n",
                            "</div>"
                        ],
                        "text/plain": [
                            "   Unnamed: 0.1  Unnamed: 0                                  page  \\\n",
                            "0             0           0  13db0ab1-eea2-4603-84c4-f40a876c7400   \n",
                            "1             1           1  92907b73-5cd3-4184-8d8c-e206aed2bf1c   \n",
                            "2             2           2  61e07f64-cddf-46f2-b50c-ea0a39c22050   \n",
                            "3             3           3  30e2e6c5-554a-48ed-a35f-6c6691c8ac9b   \n",
                            "4             4           4  9dff71eb-b681-40c7-ac8d-68017ac36675   \n",
                            "\n",
                            "                                                 url  \\\n",
                            "0  http://g1.globo.com/am/amazonas/noticia/2022/0...   \n",
                            "1  http://g1.globo.com/pa/santarem-regiao/noticia...   \n",
                            "2  http://g1.globo.com/mundo/noticia/2022/07/08/e...   \n",
                            "3  http://g1.globo.com/politica/noticia/2021/09/0...   \n",
                            "4  http://g1.globo.com/politica/noticia/2021/09/1...   \n",
                            "\n",
                            "                      issued                   modified  \\\n",
                            "0  2022-06-18 20:37:45+00:00  2023-04-15 00:02:08+00:00   \n",
                            "1  2019-06-20 17:19:52+00:00  2023-06-16 20:19:15+00:00   \n",
                            "2  2022-07-08 08:55:52+00:00  2023-04-15 04:25:39+00:00   \n",
                            "3  2021-09-09 19:06:46+00:00  2023-06-07 17:44:54+00:00   \n",
                            "4  2021-09-15 19:16:13+00:00  2023-06-07 17:43:39+00:00   \n",
                            "\n",
                            "                                               title  \\\n",
                            "0  Caso Bruno e Dom: 3º suspeito tem prisão tempo...   \n",
                            "1  Linguajar dos santarenos é diferenciado e chei...   \n",
                            "2  Ex-premiê Shinzo Abe morre após ser baleado no...   \n",
                            "3  Relator no STF, Fachin vota contra marco tempo...   \n",
                            "4  \\nApós 2 votos, pedido de vista suspende julga...   \n",
                            "\n",
                            "                                                body  \\\n",
                            "0  Após audiência de custódia, a Justiça do Amazo...   \n",
                            "1  Vista aérea de Santarém\\nÁdrio Denner/ AD Prod...   \n",
                            "2  Novo vídeo mostra que assassino de Shinzo Abe ...   \n",
                            "3  Relator no STF, Fachin vota contra marco tempo...   \n",
                            "4  Após um pedido de vista (mais tempo para análi...   \n",
                            "\n",
                            "                                             caption  \\\n",
                            "0  Jeferson da Silva Lima foi escoltado por agent...   \n",
                            "1  As expressões santarenas não significam apenas...   \n",
                            "2  Ex-primeiro-ministro foi atingido por tiros de...   \n",
                            "3  Ministro defendeu que posse indígena é diferen...   \n",
                            "4  Pelo marco temporal, índios só podem reivindic...   \n",
                            "\n",
                            "                                       cleaned_title  \\\n",
                            "0  caso bruno dom suspeito prisão temporária decr...   \n",
                            "1  linguajar santarenos diferenciado cheio identi...   \n",
                            "2                     shinzo abe morre baleado japão   \n",
                            "3  relator stf fachin vota marco temporal demarca...   \n",
                            "4  votos pedido vista suspende julgamento stf dem...   \n",
                            "\n",
                            "                                     cleaned_caption  \\\n",
                            "0  jeferson silva lima escoltado agentes polícia ...   \n",
                            "1  expressões santarenas significam significam co...   \n",
                            "2  atingido tiros espingarda caseira discursava c...   \n",
                            "3  ministro defendeu posse indígena diferente pos...   \n",
                            "4  marco temporal índios reivindicar demarcação t...   \n",
                            "\n",
                            "                                       combined_text  \\\n",
                            "0  caso bruno dom suspeito prisão temporária decr...   \n",
                            "1  linguajar santarenos diferenciado cheio identi...   \n",
                            "2  shinzo abe morre baleado japão atingido tiros ...   \n",
                            "3  relator stf fachin vota marco temporal demarca...   \n",
                            "4  votos pedido vista suspende julgamento stf dem...   \n",
                            "\n",
                            "                                        cleaned_body  cluster  word_count  \\\n",
                            "0  audiência custódia justiça amazonas decretou s...        2         704   \n",
                            "1  vista aérea santarém ádrio ad produções paraen...        0         728   \n",
                            "2  vídeo mostra assassino shinzo abe atirou costa...        2        1315   \n",
                            "3  relator stf fachin vota marco temporal demarca...        0         611   \n",
                            "4  pedido vista análise processo ministro alexand...        0         506   \n",
                            "\n",
                            "                        data  idade_em_dias          peso  peso_ajustado  \n",
                            "0  2022-06-18 20:37:45+00:00             57  1.495686e-01       0.234612  \n",
                            "1  2019-06-20 17:19:52+00:00           1151  2.175547e-17       0.100000  \n",
                            "2  2022-07-08 08:55:52+00:00             37  2.913199e-01       0.362188  \n",
                            "3  2021-09-09 19:06:46+00:00            339  1.237292e-05       0.100011  \n",
                            "4  2021-09-15 19:16:13+00:00            333  1.511232e-05       0.100014  "
                        ]
                    },
                    "execution_count": 10,
                    "metadata": {},
                    "output_type": "execute_result"
                }
            ],
            "source": [
                "df_news.head()"
            ]
        },
        {
            "cell_type": "code",
            "execution_count": 11,
            "metadata": {},
            "outputs": [],
            "source": [
                "df_merged = pd.merge(common_news,df_news, left_on='history', right_on='page', how='left')"
            ]
        },
        {
            "cell_type": "code",
            "execution_count": 12,
            "metadata": {},
            "outputs": [
                {
                    "data": {
                        "text/html": [
                            "<div>\n",
                            "<style scoped>\n",
                            "    .dataframe tbody tr th:only-of-type {\n",
                            "        vertical-align: middle;\n",
                            "    }\n",
                            "\n",
                            "    .dataframe tbody tr th {\n",
                            "        vertical-align: top;\n",
                            "    }\n",
                            "\n",
                            "    .dataframe thead th {\n",
                            "        text-align: right;\n",
                            "    }\n",
                            "</style>\n",
                            "<table border=\"1\" class=\"dataframe\">\n",
                            "  <thead>\n",
                            "    <tr style=\"text-align: right;\">\n",
                            "      <th></th>\n",
                            "      <th>Unnamed: 0_x</th>\n",
                            "      <th>userId</th>\n",
                            "      <th>history</th>\n",
                            "      <th>numberOfClicksHistory</th>\n",
                            "      <th>timeOnPageHistory</th>\n",
                            "      <th>scrollPercentageHistory</th>\n",
                            "      <th>pageVisitsCountHistory</th>\n",
                            "      <th>Unnamed: 0.1</th>\n",
                            "      <th>Unnamed: 0_y</th>\n",
                            "      <th>page</th>\n",
                            "      <th>...</th>\n",
                            "      <th>cleaned_title</th>\n",
                            "      <th>cleaned_caption</th>\n",
                            "      <th>combined_text</th>\n",
                            "      <th>cleaned_body</th>\n",
                            "      <th>cluster</th>\n",
                            "      <th>word_count</th>\n",
                            "      <th>data</th>\n",
                            "      <th>idade_em_dias</th>\n",
                            "      <th>peso</th>\n",
                            "      <th>peso_ajustado</th>\n",
                            "    </tr>\n",
                            "  </thead>\n",
                            "  <tbody>\n",
                            "    <tr>\n",
                            "      <th>0</th>\n",
                            "      <td>1</td>\n",
                            "      <td>2c1080975e257ed630e26679edbe4d5c850c65f3e09f65...</td>\n",
                            "      <td>fe856057-f97d-419f-ab1c-97c5c3e0719c</td>\n",
                            "      <td>80</td>\n",
                            "      <td>210489</td>\n",
                            "      <td>45.66</td>\n",
                            "      <td>1</td>\n",
                            "      <td>186368</td>\n",
                            "      <td>186368</td>\n",
                            "      <td>fe856057-f97d-419f-ab1c-97c5c3e0719c</td>\n",
                            "      <td>...</td>\n",
                            "      <td>designer sobrancelhas viraliza web pegadinha c...</td>\n",
                            "      <td>vídeo publicado geizielle ferreira mendes mora...</td>\n",
                            "      <td>designer sobrancelhas viraliza web pegadinha c...</td>\n",
                            "      <td>designer sobrancelhas viraliza web pegadinha c...</td>\n",
                            "      <td>0</td>\n",
                            "      <td>389</td>\n",
                            "      <td>2022-08-14 11:39:11+00:00</td>\n",
                            "      <td>0</td>\n",
                            "      <td>1.000000</td>\n",
                            "      <td>1.000000</td>\n",
                            "    </tr>\n",
                            "    <tr>\n",
                            "      <th>1</th>\n",
                            "      <td>1</td>\n",
                            "      <td>2c1080975e257ed630e26679edbe4d5c850c65f3e09f65...</td>\n",
                            "      <td>e3cdb277-ad80-4025-b5de-cd98cc67d23d</td>\n",
                            "      <td>16</td>\n",
                            "      <td>59188</td>\n",
                            "      <td>42.53</td>\n",
                            "      <td>1</td>\n",
                            "      <td>199434</td>\n",
                            "      <td>199434</td>\n",
                            "      <td>e3cdb277-ad80-4025-b5de-cd98cc67d23d</td>\n",
                            "      <td>...</td>\n",
                            "      <td>instrutor academia araras morre baleado pai es...</td>\n",
                            "      <td>nelson ré soares anos resistiu ferimentos auto...</td>\n",
                            "      <td>instrutor academia araras morre baleado pai es...</td>\n",
                            "      <td>instrutor nelson ré soares anos resistiu ferim...</td>\n",
                            "      <td>2</td>\n",
                            "      <td>528</td>\n",
                            "      <td>2022-07-23 16:17:25+00:00</td>\n",
                            "      <td>22</td>\n",
                            "      <td>0.480305</td>\n",
                            "      <td>0.532275</td>\n",
                            "    </tr>\n",
                            "    <tr>\n",
                            "      <th>2</th>\n",
                            "      <td>2</td>\n",
                            "      <td>0adffd7450d3b9840d8c6215f0569ad942e782fb19b805...</td>\n",
                            "      <td>29b6b142-4173-4ec4-832f-7d0a32255c10</td>\n",
                            "      <td>0</td>\n",
                            "      <td>140000</td>\n",
                            "      <td>47.22</td>\n",
                            "      <td>1</td>\n",
                            "      <td>105647</td>\n",
                            "      <td>105647</td>\n",
                            "      <td>29b6b142-4173-4ec4-832f-7d0a32255c10</td>\n",
                            "      <td>...</td>\n",
                            "      <td>sabine boghici presa golpe milionário mãe herd...</td>\n",
                            "      <td>mulher contratou pessoas passaram videntes mãe...</td>\n",
                            "      <td>sabine boghici presa golpe milionário mãe herd...</td>\n",
                            "      <td>sabine boghici sabine boghici mulher presa gol...</td>\n",
                            "      <td>2</td>\n",
                            "      <td>908</td>\n",
                            "      <td>2022-08-10 21:21:02+00:00</td>\n",
                            "      <td>4</td>\n",
                            "      <td>0.875173</td>\n",
                            "      <td>0.887656</td>\n",
                            "    </tr>\n",
                            "    <tr>\n",
                            "      <th>3</th>\n",
                            "      <td>2</td>\n",
                            "      <td>0adffd7450d3b9840d8c6215f0569ad942e782fb19b805...</td>\n",
                            "      <td>1f32787b-de2b-49be-8c20-ddaeae34cc22</td>\n",
                            "      <td>0</td>\n",
                            "      <td>157018</td>\n",
                            "      <td>63.09</td>\n",
                            "      <td>1</td>\n",
                            "      <td>60121</td>\n",
                            "      <td>60121</td>\n",
                            "      <td>1f32787b-de2b-49be-8c20-ddaeae34cc22</td>\n",
                            "      <td>...</td>\n",
                            "      <td>filha presa golpe estimado milhões mãe quadros...</td>\n",
                            "      <td>investigações filha contratou pessoas passaram...</td>\n",
                            "      <td>filha presa golpe estimado milhões mãe quadros...</td>\n",
                            "      <td>filha presa golpe estimado milhões mãe atriz h...</td>\n",
                            "      <td>0</td>\n",
                            "      <td>889</td>\n",
                            "      <td>2022-08-10 09:55:29+00:00</td>\n",
                            "      <td>4</td>\n",
                            "      <td>0.875173</td>\n",
                            "      <td>0.887656</td>\n",
                            "    </tr>\n",
                            "    <tr>\n",
                            "      <th>4</th>\n",
                            "      <td>2</td>\n",
                            "      <td>0adffd7450d3b9840d8c6215f0569ad942e782fb19b805...</td>\n",
                            "      <td>a36c98b5-f159-48f8-9f5a-1fc6ea9956c8</td>\n",
                            "      <td>2</td>\n",
                            "      <td>166793</td>\n",
                            "      <td>44.52</td>\n",
                            "      <td>2</td>\n",
                            "      <td>116040</td>\n",
                            "      <td>116040</td>\n",
                            "      <td>a36c98b5-f159-48f8-9f5a-1fc6ea9956c8</td>\n",
                            "      <td>...</td>\n",
                            "      <td>campeão mundial leandro lo baleado cabeça dura...</td>\n",
                            "      <td>advogado família confirmada morte cerebral atl...</td>\n",
                            "      <td>campeão mundial leandro lo baleado cabeça dura...</td>\n",
                            "      <td>campeão mundial leandro lo baleado cabeça paul...</td>\n",
                            "      <td>2</td>\n",
                            "      <td>640</td>\n",
                            "      <td>2022-08-07 12:37:58+00:00</td>\n",
                            "      <td>7</td>\n",
                            "      <td>0.791890</td>\n",
                            "      <td>0.812701</td>\n",
                            "    </tr>\n",
                            "  </tbody>\n",
                            "</table>\n",
                            "<p>5 rows × 26 columns</p>\n",
                            "</div>"
                        ],
                        "text/plain": [
                            "   Unnamed: 0_x                                             userId  \\\n",
                            "0             1  2c1080975e257ed630e26679edbe4d5c850c65f3e09f65...   \n",
                            "1             1  2c1080975e257ed630e26679edbe4d5c850c65f3e09f65...   \n",
                            "2             2  0adffd7450d3b9840d8c6215f0569ad942e782fb19b805...   \n",
                            "3             2  0adffd7450d3b9840d8c6215f0569ad942e782fb19b805...   \n",
                            "4             2  0adffd7450d3b9840d8c6215f0569ad942e782fb19b805...   \n",
                            "\n",
                            "                                history  numberOfClicksHistory  \\\n",
                            "0  fe856057-f97d-419f-ab1c-97c5c3e0719c                     80   \n",
                            "1  e3cdb277-ad80-4025-b5de-cd98cc67d23d                     16   \n",
                            "2  29b6b142-4173-4ec4-832f-7d0a32255c10                      0   \n",
                            "3  1f32787b-de2b-49be-8c20-ddaeae34cc22                      0   \n",
                            "4  a36c98b5-f159-48f8-9f5a-1fc6ea9956c8                      2   \n",
                            "\n",
                            "   timeOnPageHistory  scrollPercentageHistory  pageVisitsCountHistory  \\\n",
                            "0             210489                    45.66                       1   \n",
                            "1              59188                    42.53                       1   \n",
                            "2             140000                    47.22                       1   \n",
                            "3             157018                    63.09                       1   \n",
                            "4             166793                    44.52                       2   \n",
                            "\n",
                            "   Unnamed: 0.1  Unnamed: 0_y                                  page  ...  \\\n",
                            "0        186368        186368  fe856057-f97d-419f-ab1c-97c5c3e0719c  ...   \n",
                            "1        199434        199434  e3cdb277-ad80-4025-b5de-cd98cc67d23d  ...   \n",
                            "2        105647        105647  29b6b142-4173-4ec4-832f-7d0a32255c10  ...   \n",
                            "3         60121         60121  1f32787b-de2b-49be-8c20-ddaeae34cc22  ...   \n",
                            "4        116040        116040  a36c98b5-f159-48f8-9f5a-1fc6ea9956c8  ...   \n",
                            "\n",
                            "                                       cleaned_title  \\\n",
                            "0  designer sobrancelhas viraliza web pegadinha c...   \n",
                            "1  instrutor academia araras morre baleado pai es...   \n",
                            "2  sabine boghici presa golpe milionário mãe herd...   \n",
                            "3  filha presa golpe estimado milhões mãe quadros...   \n",
                            "4  campeão mundial leandro lo baleado cabeça dura...   \n",
                            "\n",
                            "                                     cleaned_caption  \\\n",
                            "0  vídeo publicado geizielle ferreira mendes mora...   \n",
                            "1  nelson ré soares anos resistiu ferimentos auto...   \n",
                            "2  mulher contratou pessoas passaram videntes mãe...   \n",
                            "3  investigações filha contratou pessoas passaram...   \n",
                            "4  advogado família confirmada morte cerebral atl...   \n",
                            "\n",
                            "                                       combined_text  \\\n",
                            "0  designer sobrancelhas viraliza web pegadinha c...   \n",
                            "1  instrutor academia araras morre baleado pai es...   \n",
                            "2  sabine boghici presa golpe milionário mãe herd...   \n",
                            "3  filha presa golpe estimado milhões mãe quadros...   \n",
                            "4  campeão mundial leandro lo baleado cabeça dura...   \n",
                            "\n",
                            "                                        cleaned_body cluster word_count  \\\n",
                            "0  designer sobrancelhas viraliza web pegadinha c...       0        389   \n",
                            "1  instrutor nelson ré soares anos resistiu ferim...       2        528   \n",
                            "2  sabine boghici sabine boghici mulher presa gol...       2        908   \n",
                            "3  filha presa golpe estimado milhões mãe atriz h...       0        889   \n",
                            "4  campeão mundial leandro lo baleado cabeça paul...       2        640   \n",
                            "\n",
                            "                        data idade_em_dias      peso peso_ajustado  \n",
                            "0  2022-08-14 11:39:11+00:00             0  1.000000      1.000000  \n",
                            "1  2022-07-23 16:17:25+00:00            22  0.480305      0.532275  \n",
                            "2  2022-08-10 21:21:02+00:00             4  0.875173      0.887656  \n",
                            "3  2022-08-10 09:55:29+00:00             4  0.875173      0.887656  \n",
                            "4  2022-08-07 12:37:58+00:00             7  0.791890      0.812701  \n",
                            "\n",
                            "[5 rows x 26 columns]"
                        ]
                    },
                    "execution_count": 12,
                    "metadata": {},
                    "output_type": "execute_result"
                }
            ],
            "source": [
                "df_merged.head()"
            ]
        },
        {
            "cell_type": "code",
            "execution_count": 13,
            "metadata": {},
            "outputs": [],
            "source": [
                "import numpy as np\n",
                "import pandas as pd\n",
                "from lightfm import LightFM\n",
                "from lightfm.data import Dataset\n",
                "\n",
                "# Convert to strings for LightFM compatibility\n",
                "df_merged[\"cluster\"] = \"cluster:\" + df_merged[\"cluster\"].astype(str)  # Convert cluster to string feature\n",
                "\n",
                "# Bin word_count into categories (as per previous request)\n",
                "df_merged[\"word_count_bin\"] = pd.cut(\n",
                "    df_merged[\"word_count\"],\n",
                "    bins=[0, 100, 500, 1000, np.inf],  \n",
                "    labels=[\"low\", \"medium\", \"high\", \"very_high\"]\n",
                ").astype(str)  # Convert to string\n",
                "df_merged[\"word_count_bin\"] = \"word_count:\" + df_merged[\"word_count_bin\"]\n"
            ]
        },
        {
            "cell_type": "code",
            "execution_count": 77,
            "metadata": {},
            "outputs": [],
            "source": [
                "df_merged = df_merged[[\"userId\",\"history\",\"numberOfClicksHistory\",\"cluster\",\"word_count_bin\",\"peso_ajustado\"]]"
            ]
        },
        {
            "cell_type": "code",
            "execution_count": 78,
            "metadata": {},
            "outputs": [
                {
                    "data": {
                        "text/html": [
                            "<div>\n",
                            "<style scoped>\n",
                            "    .dataframe tbody tr th:only-of-type {\n",
                            "        vertical-align: middle;\n",
                            "    }\n",
                            "\n",
                            "    .dataframe tbody tr th {\n",
                            "        vertical-align: top;\n",
                            "    }\n",
                            "\n",
                            "    .dataframe thead th {\n",
                            "        text-align: right;\n",
                            "    }\n",
                            "</style>\n",
                            "<table border=\"1\" class=\"dataframe\">\n",
                            "  <thead>\n",
                            "    <tr style=\"text-align: right;\">\n",
                            "      <th></th>\n",
                            "      <th>userId</th>\n",
                            "      <th>history</th>\n",
                            "      <th>numberOfClicksHistory</th>\n",
                            "      <th>cluster</th>\n",
                            "      <th>word_count_bin</th>\n",
                            "      <th>peso_ajustado</th>\n",
                            "    </tr>\n",
                            "  </thead>\n",
                            "  <tbody>\n",
                            "    <tr>\n",
                            "      <th>0</th>\n",
                            "      <td>2c1080975e257ed630e26679edbe4d5c850c65f3e09f65...</td>\n",
                            "      <td>fe856057-f97d-419f-ab1c-97c5c3e0719c</td>\n",
                            "      <td>80</td>\n",
                            "      <td>cluster:0</td>\n",
                            "      <td>word_count:medium</td>\n",
                            "      <td>1.000000</td>\n",
                            "    </tr>\n",
                            "    <tr>\n",
                            "      <th>1</th>\n",
                            "      <td>2c1080975e257ed630e26679edbe4d5c850c65f3e09f65...</td>\n",
                            "      <td>e3cdb277-ad80-4025-b5de-cd98cc67d23d</td>\n",
                            "      <td>16</td>\n",
                            "      <td>cluster:2</td>\n",
                            "      <td>word_count:high</td>\n",
                            "      <td>0.532275</td>\n",
                            "    </tr>\n",
                            "    <tr>\n",
                            "      <th>2</th>\n",
                            "      <td>0adffd7450d3b9840d8c6215f0569ad942e782fb19b805...</td>\n",
                            "      <td>29b6b142-4173-4ec4-832f-7d0a32255c10</td>\n",
                            "      <td>0</td>\n",
                            "      <td>cluster:2</td>\n",
                            "      <td>word_count:high</td>\n",
                            "      <td>0.887656</td>\n",
                            "    </tr>\n",
                            "    <tr>\n",
                            "      <th>3</th>\n",
                            "      <td>0adffd7450d3b9840d8c6215f0569ad942e782fb19b805...</td>\n",
                            "      <td>1f32787b-de2b-49be-8c20-ddaeae34cc22</td>\n",
                            "      <td>0</td>\n",
                            "      <td>cluster:0</td>\n",
                            "      <td>word_count:high</td>\n",
                            "      <td>0.887656</td>\n",
                            "    </tr>\n",
                            "    <tr>\n",
                            "      <th>4</th>\n",
                            "      <td>0adffd7450d3b9840d8c6215f0569ad942e782fb19b805...</td>\n",
                            "      <td>a36c98b5-f159-48f8-9f5a-1fc6ea9956c8</td>\n",
                            "      <td>2</td>\n",
                            "      <td>cluster:2</td>\n",
                            "      <td>word_count:high</td>\n",
                            "      <td>0.812701</td>\n",
                            "    </tr>\n",
                            "  </tbody>\n",
                            "</table>\n",
                            "</div>"
                        ],
                        "text/plain": [
                            "                                              userId  \\\n",
                            "0  2c1080975e257ed630e26679edbe4d5c850c65f3e09f65...   \n",
                            "1  2c1080975e257ed630e26679edbe4d5c850c65f3e09f65...   \n",
                            "2  0adffd7450d3b9840d8c6215f0569ad942e782fb19b805...   \n",
                            "3  0adffd7450d3b9840d8c6215f0569ad942e782fb19b805...   \n",
                            "4  0adffd7450d3b9840d8c6215f0569ad942e782fb19b805...   \n",
                            "\n",
                            "                                history  numberOfClicksHistory    cluster  \\\n",
                            "0  fe856057-f97d-419f-ab1c-97c5c3e0719c                     80  cluster:0   \n",
                            "1  e3cdb277-ad80-4025-b5de-cd98cc67d23d                     16  cluster:2   \n",
                            "2  29b6b142-4173-4ec4-832f-7d0a32255c10                      0  cluster:2   \n",
                            "3  1f32787b-de2b-49be-8c20-ddaeae34cc22                      0  cluster:0   \n",
                            "4  a36c98b5-f159-48f8-9f5a-1fc6ea9956c8                      2  cluster:2   \n",
                            "\n",
                            "      word_count_bin  peso_ajustado  \n",
                            "0  word_count:medium       1.000000  \n",
                            "1    word_count:high       0.532275  \n",
                            "2    word_count:high       0.887656  \n",
                            "3    word_count:high       0.887656  \n",
                            "4    word_count:high       0.812701  "
                        ]
                    },
                    "execution_count": 78,
                    "metadata": {},
                    "output_type": "execute_result"
                }
            ],
            "source": [
                "df_merged.head()"
            ]
        },
        {
            "cell_type": "markdown",
            "metadata": {},
            "source": [
                "### 2.3 Prepare data"
            ]
        },
        {
            "cell_type": "markdown",
            "metadata": {},
            "source": [
                "Before fitting the LightFM model, we need to create an instance of `Dataset` which holds the interaction matrix."
            ]
        },
        {
            "cell_type": "code",
            "execution_count": 14,
            "metadata": {},
            "outputs": [],
            "source": [
                "dataset = Dataset()\n",
                "\n",
                "# Get unique values for users, items, and user features\n",
                "unique_users = df_merged[\"userId\"].unique()\n",
                "unique_items = df_merged[\"history\"].unique()\n",
                "unique_user_features = df_merged[\"cluster\"].unique().tolist() + df_merged[\"word_count_bin\"].unique().tolist()\n",
                "\n",
                "# Fit dataset with users, items, and user feature names\n",
                "dataset.fit(\n",
                "    users=unique_users,\n",
                "    items=unique_items,\n",
                "    user_features=unique_user_features  # Register user features (cluster & word_count_bin)\n",
                ")\n"
            ]
        },
        {
            "cell_type": "code",
            "execution_count": 16,
            "metadata": {},
            "outputs": [],
            "source": [
                "(interactions, weights) = dataset.build_interactions([\n",
                "    (row.userId, row.history, row.peso_ajustado) \n",
                "    for _, row in df_merged.iterrows()\n",
                "])\n"
            ]
        },
        {
            "cell_type": "code",
            "execution_count": 20,
            "metadata": {},
            "outputs": [],
            "source": [
                "user_features_list = [\n",
                "    (row.userId, [row.cluster, row.word_count_bin])  \n",
                "    for _, row in df_merged.iterrows()\n",
                "]\n",
                "\n",
                "user_features = dataset.build_user_features(user_features_list)\n"
            ]
        },
        {
            "cell_type": "markdown",
            "metadata": {},
            "source": [
                "LightLM works slightly differently compared to other packages as it expects the train and test sets to have same dimension. Therefore the conventional train test split will not work.\n",
                "\n",
                "The package has included the `cross_validation.random_train_test_split` method to split the interaction data and splits it into two disjoint training and test sets. \n",
                "\n",
                "However, note that **it does not validate the interactions in the test set to guarantee all items and users have historical interactions in the training set**. Therefore this may result into a partial cold-start problem in the test set."
            ]
        },
        {
            "cell_type": "code",
            "execution_count": 21,
            "metadata": {},
            "outputs": [],
            "source": [
                "import scipy.sparse as sp\n",
                "# Split train and test sets (80/20 split)\n",
                "train, test = random_train_test_split(interactions, test_percentage=0.2, random_state=42)\n",
                "\n",
                "train_weights, test_weights  = random_train_test_split(weights, test_percentage=0.2, random_state=42)\n"
            ]
        },
        {
            "cell_type": "code",
            "execution_count": 22,
            "metadata": {},
            "outputs": [
                {
                    "data": {
                        "text/plain": [
                            "(34107, 536)"
                        ]
                    },
                    "execution_count": 22,
                    "metadata": {},
                    "output_type": "execute_result"
                }
            ],
            "source": [
                "train_weights.shape"
            ]
        },
        {
            "cell_type": "markdown",
            "metadata": {},
            "source": [
                "Double check the size of both the train and test sets."
            ]
        },
        {
            "cell_type": "code",
            "execution_count": 23,
            "metadata": {},
            "outputs": [
                {
                    "name": "stdout",
                    "output_type": "stream",
                    "text": [
                        "Shape of train interactions: (34107, 536)\n",
                        "Shape of test interactions: (34107, 536)\n"
                    ]
                }
            ],
            "source": [
                "print(f\"Shape of train interactions: {train.shape}\")\n",
                "print(f\"Shape of test interactions: {test.shape}\")"
            ]
        },
        {
            "cell_type": "markdown",
            "metadata": {},
            "source": [
                "### 2.4 Fit the LightFM model"
            ]
        },
        {
            "cell_type": "markdown",
            "metadata": {},
            "source": [
                "In this notebook, the LightFM model will be using the weighted Approximate-Rank Pairwise (WARP) as the loss. Further explanation on the topic can be found [here](https://making.lyst.com/lightfm/docs/examples/warp_loss.html#learning-to-rank-using-the-warp-loss).\n",
                "\n",
                "\n",
                "In general, it maximises the rank of positive examples by repeatedly sampling negative examples until a rank violation has been located. This approach is recommended when only positive interactions are present."
            ]
        },
        {
            "cell_type": "markdown",
            "metadata": {},
            "source": [
                "The LightFM model can be fitted with the following code:"
            ]
        },
        {
            "cell_type": "code",
            "execution_count": 24,
            "metadata": {
                "scrolled": true
            },
            "outputs": [
                {
                    "data": {
                        "text/plain": [
                            "<lightfm.lightfm.LightFM at 0x71f50a383970>"
                        ]
                    },
                    "execution_count": 24,
                    "metadata": {},
                    "output_type": "execute_result"
                }
            ],
            "source": [
                "# model = LightFM(loss='warp', no_components=NO_COMPONENTS, \n",
                "#                  learning_rate=LEARNING_RATE,                 \n",
                "                 \n",
                "#                  random_state=np.random.RandomState(SEED))\n",
                "\n",
                "model = LightFM(loss=\"warp\",learning_rate=LEARNING_RATE)  # Weighted Approximate-Rank Pairwise (WARP) loss\n",
                "model.fit(train, sample_weight=train_weights, epochs=NO_EPOCHS, num_threads=4, user_features=user_features)\n"
            ]
        },
        {
            "cell_type": "markdown",
            "metadata": {},
            "source": [
                "### 2.4 Evaluate model"
            ]
        },
        {
            "cell_type": "code",
            "execution_count": 25,
            "metadata": {},
            "outputs": [
                {
                    "name": "stdout",
                    "output_type": "stream",
                    "text": [
                        "AUC test Score: 0.7170\n",
                        "AUC train Score: 0.8343\n"
                    ]
                }
            ],
            "source": [
                "# Import the evaluation routines\n",
                "from lightfm.evaluation import auc_score\n",
                "\n",
                "# Compute evaluation metrics\n",
                "auc_test = auc_score(model, test, user_features=user_features).mean()\n",
                "auc_train = auc_score(model, train, user_features=user_features).mean()\n",
                "\n",
                "# Print evaluation results\n",
                "print(f\"AUC test Score: {auc_test:.4f}\")\n",
                "print(f\"AUC train Score: {auc_train:.4f}\")\n"
            ]
        },
        {
            "cell_type": "markdown",
            "metadata": {},
            "source": [
                "### 2.6 Make predictions known users"
            ]
        },
        {
            "cell_type": "code",
            "execution_count": 30,
            "metadata": {},
            "outputs": [],
            "source": [
                "user_id_map, user_feature_map, item_id_map, item_feature_map = dataset.mapping()"
            ]
        },
        {
            "cell_type": "code",
            "execution_count": 47,
            "metadata": {},
            "outputs": [],
            "source": [
                "item_id_map_reverse = {v: k for k, v in item_id_map.items()}\n"
            ]
        },
        {
            "cell_type": "code",
            "execution_count": 73,
            "metadata": {},
            "outputs": [],
            "source": [
                "def sample_recommendation(user_x,n_items,df_news):\n",
                "    scores = model.predict(user_x, np.arange(n_items)) # means predict for all\n",
                "    top_5_indices = np.argsort(-scores)[:5]  # Sort scores in descending order and take the top 5\n",
                "    top_5_items = [item_id_map_reverse[i] for i in top_5_indices]\n",
                "\n",
                "    print(\"Top 5 recommended items:\")\n",
                "\n",
                "    for x in top_5_items:\n",
                "        row = df_news[df_news[\"page\"] == x]\n",
                "        print(\"        %s\" % row[\"title\"].values[0])"
            ]
        },
        {
            "cell_type": "code",
            "execution_count": 79,
            "metadata": {},
            "outputs": [
                {
                    "name": "stdout",
                    "output_type": "stream",
                    "text": [
                        "Top 5 recommended items:\n",
                        "        Onda atinge grupo que observava surfistas e deixa 8 feridos em Itacoatiara, Niterói\n",
                        "        Google vai distribuir 500 mil bolsas de estudos para cursos em tecnologia; veja como se candidatar\n",
                        "        Celulares com 5G: veja a lista de aparelhos homologados pela Anatel\n",
                        "        Datafolha: Lula tem 47% no primeiro turno, contra 29% de Bolsonaro\n",
                        "        IBGE lança novo concurso com 15 mil vagas para recenseador\n"
                    ]
                }
            ],
            "source": [
                "# predict for existing user\n",
                "user_x = user_id_map['5f5e17781fc2ec0ddcfb2e9356e61c5d3d4b0b3c8fabd20917feb9e807463856']\n",
                "_, n_items = interactions.shape # no of users * no of items\n",
                "\n",
                "sample_recommendation(user_x,n_items,df_news)"
            ]
        },
        {
            "cell_type": "markdown",
            "metadata": {},
            "source": [
                "### 2.6 Make predictions unknown users"
            ]
        },
        {
            "cell_type": "code",
            "execution_count": 38,
            "metadata": {},
            "outputs": [],
            "source": [
                "from scipy import sparse\n",
                "\n",
                "def format_newuser_input(user_feature_map, user_feature_list):\n",
                "  #user_feature_map = user_feature_map  \n",
                "  num_features = len(user_feature_list)\n",
                "  normalised_val = 1.0 \n",
                "  target_indices = []\n",
                "  for feature in user_feature_list:\n",
                "    try:\n",
                "        target_indices.append(user_feature_map[feature])\n",
                "    except KeyError:\n",
                "        print(\"new user feature encountered '{}'\".format(feature))\n",
                "        pass\n",
                "  #print(\"target indices: {}\".format(target_indices))\n",
                "  new_user_features = np.zeros(len(user_feature_map.keys()))\n",
                "  for i in target_indices:\n",
                "    new_user_features[i] = normalised_val\n",
                "  new_user_features = sparse.csr_matrix(new_user_features)\n",
                "  return(new_user_features)"
            ]
        },
        {
            "cell_type": "code",
            "execution_count": 39,
            "metadata": {},
            "outputs": [],
            "source": [
                "# predict for new user\n",
                "user_feature_list = ['cluster:0', 'word_count_bin:high']"
            ]
        },
        {
            "cell_type": "code",
            "execution_count": 40,
            "metadata": {},
            "outputs": [
                {
                    "name": "stdout",
                    "output_type": "stream",
                    "text": [
                        "new user feature encountered 'word_count_bin:high'\n"
                    ]
                }
            ],
            "source": [
                "new_user_features = format_newuser_input(user_feature_map, user_feature_list)"
            ]
        },
        {
            "cell_type": "code",
            "execution_count": 75,
            "metadata": {},
            "outputs": [
                {
                    "data": {
                        "text/plain": [
                            "<Compressed Sparse Row sparse matrix of dtype 'float64'\n",
                            "\twith 1 stored elements and shape (1, 34113)>"
                        ]
                    },
                    "execution_count": 75,
                    "metadata": {},
                    "output_type": "execute_result"
                }
            ],
            "source": [
                "new_user_features"
            ]
        },
        {
            "cell_type": "code",
            "execution_count": 61,
            "metadata": {},
            "outputs": [
                {
                    "data": {
                        "text/plain": [
                            "array([-1240.7048, -1243.9634, -1240.8347, -1238.1718, -1241.3679,\n",
                            "       -1243.3411, -1245.6151, -1244.4965, -1244.4512, -1243.4095,\n",
                            "       -1240.3734, -1240.0743, -1249.2484, -1240.5262, -1235.3912,\n",
                            "       -1243.042 , -1246.784 , -1246.8486, -1235.9092, -1239.4435,\n",
                            "       -1237.7383, -1242.7742, -1242.5287, -1236.6522, -1237.8728,\n",
                            "       -1245.5396, -1235.3964, -1237.065 , -1247.5812, -1238.6405,\n",
                            "       -1239.5883, -1239.3997, -1243.0555, -1241.3712, -1243.3131,\n",
                            "       -1237.2103, -1237.5797, -1241.3918, -1243.6853, -1239.8214,\n",
                            "       -1243.6676, -1246.6827, -1241.0176, -1242.148 , -1239.2128,\n",
                            "       -1242.9564, -1246.3877, -1237.1011, -1242.9227, -1240.4587,\n",
                            "       -1243.6687, -1241.1655, -1243.1774, -1240.904 , -1240.4133,\n",
                            "       -1242.0392, -1241.7694, -1238.1925, -1238.4968, -1244.7991,\n",
                            "       -1242.5426, -1242.4398, -1238.0922, -1242.7742, -1246.7732,\n",
                            "       -1239.1377, -1243.3821, -1234.4337, -1241.1188, -1235.9014,\n",
                            "       -1236.7063, -1238.6431, -1235.0616, -1237.855 , -1239.9069,\n",
                            "       -1244.0641, -1244.8179, -1244.8933, -1241.3761, -1241.0027,\n",
                            "       -1241.8115, -1246.972 , -1242.7778, -1237.6038, -1240.2007,\n",
                            "       -1240.7185, -1241.6073, -1237.9844, -1243.1306, -1246.4625,\n",
                            "       -1244.9471, -1245.1285, -1245.6085, -1235.5142, -1243.8217,\n",
                            "       -1245.7843, -1242.179 , -1244.9169, -1247.6339, -1247.4207,\n",
                            "       -1234.2805, -1240.0927, -1244.7728, -1244.0404, -1247.5013,\n",
                            "       -1242.6707, -1240.807 , -1239.2745, -1237.6976, -1247.8816,\n",
                            "       -1247.157 , -1237.3838, -1240.6981, -1243.5391, -1243.7367,\n",
                            "       -1246.2869, -1244.2488, -1239.8523, -1236.3248, -1241.245 ,\n",
                            "       -1238.2689, -1245.8411, -1244.0535, -1246.8477, -1246.7072,\n",
                            "       -1245.0273, -1238.9438, -1243.7349, -1238.4543, -1245.8937,\n",
                            "       -1244.0175, -1238.4265, -1245.6387, -1239.0868, -1244.2808,\n",
                            "       -1235.3337, -1242.8368, -1241.8105, -1241.645 , -1243.2593,\n",
                            "       -1245.8002, -1247.1248, -1243.7203, -1239.4159, -1239.8591,\n",
                            "       -1243.9799, -1243.9172, -1245.2559, -1239.1538, -1239.8036,\n",
                            "       -1243.5042, -1241.9132, -1242.604 , -1243.2063, -1235.8386,\n",
                            "       -1241.6707, -1240.8981, -1240.2324, -1239.3762, -1242.262 ,\n",
                            "       -1243.9021, -1245.2207, -1240.9547, -1245.0364, -1241.6335,\n",
                            "       -1237.1423, -1244.6521, -1244.2135, -1241.6925, -1238.1484,\n",
                            "       -1244.9594, -1241.6927, -1241.0059, -1248.0167, -1236.7408,\n",
                            "       -1243.2651, -1236.0481, -1243.2404, -1238.7844, -1244.877 ,\n",
                            "       -1239.007 , -1238.2576, -1243.7604, -1237.8278, -1241.9178,\n",
                            "       -1247.0538, -1245.9749, -1241.9949, -1244.249 , -1241.5614,\n",
                            "       -1239.6238, -1240.4685, -1245.4155, -1244.6895, -1245.53  ,\n",
                            "       -1239.3794, -1246.1233, -1245.2562, -1234.9183, -1241.2566,\n",
                            "       -1240.4639, -1241.0586, -1235.0125, -1234.0878, -1241.9757,\n",
                            "       -1236.304 , -1244.2607, -1236.7593, -1238.4506, -1245.9456,\n",
                            "       -1240.223 , -1242.8981, -1237.699 , -1238.186 , -1245.92  ,\n",
                            "       -1238.7924, -1242.215 , -1240.2727, -1238.804 , -1234.7437,\n",
                            "       -1245.7893, -1238.0486, -1244.7261, -1241.9778, -1235.1238,\n",
                            "       -1234.0444, -1235.812 , -1236.6165, -1238.6243, -1235.8842,\n",
                            "       -1241.3157, -1235.9882, -1241.5526, -1241.3405, -1237.9963,\n",
                            "       -1241.7511, -1239.6195, -1244.5212, -1244.1537, -1242.2758,\n",
                            "       -1244.195 , -1242.6934, -1241.1039, -1240.0155, -1246.0066,\n",
                            "       -1245.1665, -1236.7473, -1237.124 , -1234.543 , -1241.9565,\n",
                            "       -1242.5752, -1235.3146, -1243.217 , -1240.6376, -1240.9882,\n",
                            "       -1236.217 , -1246.5946, -1237.6375, -1234.8398, -1240.792 ,\n",
                            "       -1245.2933, -1245.1011, -1238.4861, -1238.1553, -1246.3569,\n",
                            "       -1233.8025, -1242.5829, -1246.3982, -1247.565 , -1246.946 ,\n",
                            "       -1235.4954, -1241.5516, -1246.3639, -1237.7372, -1237.7936,\n",
                            "       -1237.984 , -1246.6011, -1246.0931, -1237.585 , -1246.7772,\n",
                            "       -1236.3754, -1245.8881, -1242.09  , -1245.7687, -1242.4921,\n",
                            "       -1245.0502, -1246.5397, -1239.5345, -1236.277 , -1236.3965,\n",
                            "       -1236.2343, -1236.9924, -1240.8531, -1242.0276, -1244.7601,\n",
                            "       -1238.2711, -1249.816 , -1241.4973, -1239.7329, -1239.5938,\n",
                            "       -1245.7949, -1239.846 , -1240.6823, -1248.1466, -1245.3025,\n",
                            "       -1238.0425, -1247.7057, -1238.4069, -1246.6962, -1241.594 ,\n",
                            "       -1242.3972, -1240.6324, -1236.9056, -1234.4043, -1245.029 ,\n",
                            "       -1244.2372, -1240.8346, -1246.4794, -1236.6283, -1240.8898,\n",
                            "       -1244.9015, -1239.7493, -1237.3772, -1238.8754, -1244.3763,\n",
                            "       -1242.9551, -1244.4685, -1245.5476, -1244.313 , -1239.6354,\n",
                            "       -1238.3641, -1238.6049, -1233.136 , -1244.4819, -1239.426 ,\n",
                            "       -1237.0317, -1244.078 , -1245.889 , -1237.7284, -1245.0468,\n",
                            "       -1246.127 , -1240.1592, -1242.4443, -1241.9661, -1240.2251,\n",
                            "       -1245.5695, -1240.6089, -1240.6326, -1244.1171, -1245.6829,\n",
                            "       -1241.3931, -1240.7615, -1237.7545, -1235.1655, -1242.6028,\n",
                            "       -1239.1514, -1242.5804, -1243.57  , -1239.0227, -1240.1289,\n",
                            "       -1238.0583, -1243.9517, -1245.625 , -1245.8269, -1241.0359,\n",
                            "       -1246.5681, -1239.7063, -1236.5731, -1241.4124, -1243.798 ,\n",
                            "       -1236.9658, -1243.2155, -1239.2483, -1238.6937, -1243.4019,\n",
                            "       -1237.5859, -1240.347 , -1239.033 , -1241.306 , -1241.4143,\n",
                            "       -1241.5206, -1246.1464, -1244.4232, -1240.413 , -1241.475 ,\n",
                            "       -1241.2762, -1239.0883, -1248.0791, -1236.503 , -1245.2506,\n",
                            "       -1246.9861, -1247.6163, -1243.589 , -1241.0281, -1239.6829,\n",
                            "       -1239.5559, -1247.7476, -1246.7283, -1239.6316, -1247.7539,\n",
                            "       -1243.2897, -1245.2985, -1242.3596, -1245.0847, -1240.8042,\n",
                            "       -1238.8531, -1246.5756, -1244.736 , -1236.5413, -1240.6013,\n",
                            "       -1243.4608, -1236.9885, -1245.6094, -1240.9791, -1238.6909,\n",
                            "       -1242.0803, -1239.4681, -1239.0319, -1237.2993, -1246.8029,\n",
                            "       -1238.4559, -1238.961 , -1239.7982, -1238.1818, -1242.2925,\n",
                            "       -1237.5447, -1241.3098, -1237.918 , -1241.4962, -1239.883 ,\n",
                            "       -1237.6997, -1246.5852, -1240.6423, -1238.6752, -1244.8397,\n",
                            "       -1242.3126, -1244.8097, -1240.5502, -1239.895 , -1241.7045,\n",
                            "       -1241.2786, -1240.9294, -1240.71  , -1236.9388, -1237.1982,\n",
                            "       -1234.7601, -1241.0345, -1242.3411, -1236.4355, -1245.8063,\n",
                            "       -1245.5227, -1241.5057, -1238.8953, -1241.1512, -1247.2805,\n",
                            "       -1247.3721, -1239.8411, -1240.0275, -1240.292 , -1237.4562,\n",
                            "       -1236.8068, -1237.6697, -1244.48  , -1241.5867, -1242.3337,\n",
                            "       -1246.0989, -1240.3347, -1245.8665, -1245.1143, -1245.9231,\n",
                            "       -1241.2938, -1238.9203, -1243.6624, -1245.5625, -1240.3887,\n",
                            "       -1246.3   , -1240.3011, -1238.3966, -1243.1211, -1245.8525,\n",
                            "       -1236.974 , -1243.1307, -1244.8214, -1244.0328, -1246.3984,\n",
                            "       -1240.8773, -1239.5369, -1235.2607, -1236.9329, -1236.4393,\n",
                            "       -1236.9891, -1238.2705, -1237.5835, -1237.4835, -1245.1748,\n",
                            "       -1238.1652, -1240.2217, -1243.9169, -1237.8103, -1244.204 ,\n",
                            "       -1244.1953, -1248.0918, -1239.7251, -1242.4435, -1239.8514,\n",
                            "       -1247.021 , -1248.8799, -1238.3302, -1243.9381, -1244.5454,\n",
                            "       -1243.0634, -1236.789 , -1237.014 , -1241.7012, -1236.8684,\n",
                            "       -1243.603 , -1238.3247, -1239.9438, -1244.97  , -1242.4197,\n",
                            "       -1238.6212, -1243.5754, -1244.503 , -1237.4746, -1238.0934,\n",
                            "       -1244.2031, -1243.4792, -1246.2427, -1238.449 , -1237.2734,\n",
                            "       -1238.0844, -1241.5084, -1247.7921, -1241.0382, -1241.8872,\n",
                            "       -1239.8833], dtype=float32)"
                        ]
                    },
                    "execution_count": 61,
                    "metadata": {},
                    "output_type": "execute_result"
                }
            ],
            "source": [
                "\n",
                "model.predict(0, np.arange(n_items), user_features=new_user_features) # Here 0 means pick the first row of the user_features sparse matrix"
            ]
        }
    ],
    "metadata": {
        "kernelspec": {
            "display_name": "venv",
            "language": "python",
            "name": "python3"
        },
        "language_info": {
            "codemirror_mode": {
                "name": "ipython",
                "version": 3
            },
            "file_extension": ".py",
            "mimetype": "text/x-python",
            "name": "python",
            "nbconvert_exporter": "python",
            "pygments_lexer": "ipython3",
            "version": "3.10.12"
        }
    },
    "nbformat": 4,
    "nbformat_minor": 4
}
