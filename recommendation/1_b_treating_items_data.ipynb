{
 "cells": [
  {
   "cell_type": "code",
   "execution_count": 1,
   "metadata": {},
   "outputs": [],
   "source": [
    "import json\n",
    "\n",
    "with open('config.json', 'r') as f:\n",
    "    config = json.load(f)"
   ]
  },
  {
   "cell_type": "code",
   "execution_count": 2,
   "metadata": {},
   "outputs": [],
   "source": [
    "from utils.custom_treat_data_funcs import read_all_csvs_into_pandas"
   ]
  },
  {
   "cell_type": "code",
   "execution_count": 3,
   "metadata": {},
   "outputs": [],
   "source": [
    "dtype_df_items = {\n",
    "\"page\" : 'string',\n",
    "\"url\" : 'string',\n",
    "\"issued\" : 'string',\n",
    "\"modified\" : 'string',\n",
    "\"title\" : 'string',\n",
    "\"body\" : 'string',\n",
    "\"caption\" : 'string'\n",
    "}"
   ]
  },
  {
   "cell_type": "code",
   "execution_count": 4,
   "metadata": {},
   "outputs": [],
   "source": [
    "df_items = read_all_csvs_into_pandas(config[\"FPATH_ITEMS\"], dtype=dtype_df_items)"
   ]
  },
  {
   "cell_type": "code",
   "execution_count": 5,
   "metadata": {},
   "outputs": [
    {
     "data": {
      "text/html": [
       "<div>\n",
       "<style scoped>\n",
       "    .dataframe tbody tr th:only-of-type {\n",
       "        vertical-align: middle;\n",
       "    }\n",
       "\n",
       "    .dataframe tbody tr th {\n",
       "        vertical-align: top;\n",
       "    }\n",
       "\n",
       "    .dataframe thead th {\n",
       "        text-align: right;\n",
       "    }\n",
       "</style>\n",
       "<table border=\"1\" class=\"dataframe\">\n",
       "  <thead>\n",
       "    <tr style=\"text-align: right;\">\n",
       "      <th></th>\n",
       "      <th>page</th>\n",
       "      <th>url</th>\n",
       "      <th>issued</th>\n",
       "      <th>modified</th>\n",
       "      <th>title</th>\n",
       "      <th>body</th>\n",
       "      <th>caption</th>\n",
       "    </tr>\n",
       "  </thead>\n",
       "  <tbody>\n",
       "    <tr>\n",
       "      <th>count</th>\n",
       "      <td>255603</td>\n",
       "      <td>255603</td>\n",
       "      <td>255603</td>\n",
       "      <td>255603</td>\n",
       "      <td>255603</td>\n",
       "      <td>255603</td>\n",
       "      <td>255603</td>\n",
       "    </tr>\n",
       "    <tr>\n",
       "      <th>unique</th>\n",
       "      <td>255603</td>\n",
       "      <td>255529</td>\n",
       "      <td>253864</td>\n",
       "      <td>253929</td>\n",
       "      <td>254865</td>\n",
       "      <td>255220</td>\n",
       "      <td>251510</td>\n",
       "    </tr>\n",
       "    <tr>\n",
       "      <th>top</th>\n",
       "      <td>5cc3bd27-80c7-457d-a807-2e8e7fddf031</td>\n",
       "      <td>http://especiais.g1.globo.com/</td>\n",
       "      <td>2018-10-07 20:00:00+00:00</td>\n",
       "      <td>2018-10-07 20:00:00+00:00</td>\n",
       "      <td>Eleições 2018 no G1 - Pesquisas, Apuração de V...</td>\n",
       "      <td>Mapa de apuração por zona eleitoral do município</td>\n",
       "      <td>Mapa de apuração por zona eleitoral do município</td>\n",
       "    </tr>\n",
       "    <tr>\n",
       "      <th>freq</th>\n",
       "      <td>1</td>\n",
       "      <td>50</td>\n",
       "      <td>248</td>\n",
       "      <td>248</td>\n",
       "      <td>50</td>\n",
       "      <td>202</td>\n",
       "      <td>202</td>\n",
       "    </tr>\n",
       "  </tbody>\n",
       "</table>\n",
       "</div>"
      ],
      "text/plain": [
       "                                        page                             url  \\\n",
       "count                                 255603                          255603   \n",
       "unique                                255603                          255529   \n",
       "top     5cc3bd27-80c7-457d-a807-2e8e7fddf031  http://especiais.g1.globo.com/   \n",
       "freq                                       1                              50   \n",
       "\n",
       "                           issued                   modified  \\\n",
       "count                      255603                     255603   \n",
       "unique                     253864                     253929   \n",
       "top     2018-10-07 20:00:00+00:00  2018-10-07 20:00:00+00:00   \n",
       "freq                          248                        248   \n",
       "\n",
       "                                                    title  \\\n",
       "count                                              255603   \n",
       "unique                                             254865   \n",
       "top     Eleições 2018 no G1 - Pesquisas, Apuração de V...   \n",
       "freq                                                   50   \n",
       "\n",
       "                                                    body  \\\n",
       "count                                             255603   \n",
       "unique                                            255220   \n",
       "top     Mapa de apuração por zona eleitoral do município   \n",
       "freq                                                 202   \n",
       "\n",
       "                                                 caption  \n",
       "count                                             255603  \n",
       "unique                                            251510  \n",
       "top     Mapa de apuração por zona eleitoral do município  \n",
       "freq                                                 202  "
      ]
     },
     "execution_count": 5,
     "metadata": {},
     "output_type": "execute_result"
    }
   ],
   "source": [
    "df_items.describe()"
   ]
  },
  {
   "cell_type": "code",
   "execution_count": 6,
   "metadata": {},
   "outputs": [
    {
     "name": "stdout",
     "output_type": "stream",
     "text": [
      "<class 'pandas.core.frame.DataFrame'>\n",
      "RangeIndex: 255603 entries, 0 to 255602\n",
      "Data columns (total 7 columns):\n",
      " #   Column    Non-Null Count   Dtype \n",
      "---  ------    --------------   ----- \n",
      " 0   page      255603 non-null  string\n",
      " 1   url       255603 non-null  string\n",
      " 2   issued    255603 non-null  string\n",
      " 3   modified  255603 non-null  string\n",
      " 4   title     255603 non-null  string\n",
      " 5   body      255603 non-null  string\n",
      " 6   caption   255603 non-null  string\n",
      "dtypes: string(7)\n",
      "memory usage: 13.7 MB\n"
     ]
    }
   ],
   "source": [
    "df_items.info()"
   ]
  },
  {
   "cell_type": "code",
   "execution_count": 7,
   "metadata": {},
   "outputs": [],
   "source": [
    "df_items.to_csv(config[\"TREATED_ITEMS_CSV\"])"
   ]
  }
 ],
 "metadata": {
  "kernelspec": {
   "display_name": ".venv",
   "language": "python",
   "name": "python3"
  },
  "language_info": {
   "codemirror_mode": {
    "name": "ipython",
    "version": 3
   },
   "file_extension": ".py",
   "mimetype": "text/x-python",
   "name": "python",
   "nbconvert_exporter": "python",
   "pygments_lexer": "ipython3",
   "version": "3.10.16"
  }
 },
 "nbformat": 4,
 "nbformat_minor": 2
}
